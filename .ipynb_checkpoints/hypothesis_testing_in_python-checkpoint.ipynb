{
 "cells": [
  {
   "cell_type": "markdown",
   "id": "168df560-d7c9-4758-94ea-6a1a1f1ecff6",
   "metadata": {},
   "source": [
    "# Hypothesis tests and z-scores\n",
    "- z-scores\n",
    "  - standardized value = value-mean/standard deviation\n",
    "  - sample stat - hypoth.param.value/standard error\n",
    "- hypothesis testing use case:\n",
    "  - determine whether sample statistics are close to or far away from expected (of 'hypothesized' values)\n",
    "- standard normal (z) distribution : normal distribution with mean = 0+standard deviation =1 "
   ]
  },
  {
   "cell_type": "code",
   "execution_count": 83,
   "id": "cacda479-2826-498f-b8a4-e1f4afdd9ad2",
   "metadata": {},
   "outputs": [],
   "source": [
    "import pandas as pd\n",
    "late_shipments = pd.read_feather('late_shipments.feather')\n",
    "stack_overflow = pd.read_feather('stack_overflow.feather')\n",
    "sample_dem_data = pd.read_feather('dem_votes_potus_12_16.feather')\n",
    "us_rep_vote_08_12 = pd.read_feather('repub_votes_potus_08_12.feather')\n"
   ]
  },
  {
   "cell_type": "code",
   "execution_count": 2,
   "id": "93e5c92c-5aa6-4d2f-808b-a1d118b9a6b6",
   "metadata": {},
   "outputs": [
    {
     "name": "stdout",
     "output_type": "stream",
     "text": [
      "          id       country managed_by  fulfill_via vendor_inco_term   \n",
      "0    36203.0       Nigeria   PMO - US  Direct Drop              EXW  \\\n",
      "1    30998.0      Botswana   PMO - US  Direct Drop              EXW   \n",
      "2    69871.0       Vietnam   PMO - US  Direct Drop              EXW   \n",
      "3    17648.0  South Africa   PMO - US  Direct Drop              DDP   \n",
      "4     5647.0        Uganda   PMO - US  Direct Drop              EXW   \n",
      "..       ...           ...        ...          ...              ...   \n",
      "995  13608.0        Uganda   PMO - US  Direct Drop              DDP   \n",
      "996  80394.0    Congo, DRC   PMO - US  Direct Drop              EXW   \n",
      "997  61675.0        Zambia   PMO - US  Direct Drop              EXW   \n",
      "998  39182.0  South Africa   PMO - US  Direct Drop              DDP   \n",
      "999   5645.0      Botswana   PMO - US  Direct Drop              EXW   \n",
      "\n",
      "    shipment_mode  late_delivery late product_group    sub_classification   \n",
      "0             Air            1.0  Yes          HRDT              HIV test  \\\n",
      "1             Air            0.0   No          HRDT              HIV test   \n",
      "2             Air            0.0   No           ARV                 Adult   \n",
      "3           Ocean            0.0   No           ARV                 Adult   \n",
      "4             Air            0.0   No          HRDT  HIV test - Ancillary   \n",
      "..            ...            ...  ...           ...                   ...   \n",
      "995           Air            0.0   No           ARV                 Adult   \n",
      "996           Air            0.0   No          HRDT              HIV test   \n",
      "997           Air            1.0  Yes          HRDT              HIV test   \n",
      "998         Ocean            0.0   No           ARV                 Adult   \n",
      "999           Air            0.0   No          HRDT              HIV test   \n",
      "\n",
      "     ... line_item_quantity line_item_value pack_price unit_price   \n",
      "0    ...             2996.0       266644.00      89.00       0.89  \\\n",
      "1    ...               25.0          800.00      32.00       1.60   \n",
      "2    ...            22925.0       110040.00       4.80       0.08   \n",
      "3    ...           152535.0       361507.95       2.37       0.04   \n",
      "4    ...              850.0            8.50       0.01       0.00   \n",
      "..   ...                ...             ...        ...        ...   \n",
      "995  ...              121.0         9075.00      75.00       0.62   \n",
      "996  ...              292.0         9344.00      32.00       1.60   \n",
      "997  ...             2127.0       170160.00      80.00       0.80   \n",
      "998  ...           191011.0       861459.61       4.51       0.15   \n",
      "999  ...              200.0        14398.00      71.99       0.72   \n",
      "\n",
      "               manufacturing_site first_line_designation  weight_kilograms   \n",
      "0         Alere Medical Co., Ltd.                    Yes            1426.0  \\\n",
      "1            Trinity Biotech, Plc                    Yes              10.0   \n",
      "2    Hetero Unit III Hyderabad IN                    Yes            3723.0   \n",
      "3       Aurobindo Unit III, India                    Yes            7698.0   \n",
      "4                 Inverness Japan                    Yes              56.0   \n",
      "..                            ...                    ...               ...   \n",
      "995     Janssen-Cilag, Latina, IT                    Yes              43.0   \n",
      "996          Trinity Biotech, Plc                    Yes              99.0   \n",
      "997       Alere Medical Co., Ltd.                    Yes             881.0   \n",
      "998     Aurobindo Unit III, India                    Yes           16234.0   \n",
      "999               Inverness Japan                    Yes              46.0   \n",
      "\n",
      "     freight_cost_usd  freight_cost_groups  line_item_insurance_usd  \n",
      "0            33279.83            expensive                   373.83  \n",
      "1              559.89           reasonable                     1.72  \n",
      "2            19056.13            expensive                   181.57  \n",
      "3            11372.23            expensive                   779.41  \n",
      "4              360.00           reasonable                     0.01  \n",
      "..                ...                  ...                      ...  \n",
      "995            199.00           reasonable                    12.72  \n",
      "996           2162.55           reasonable                    13.10  \n",
      "997          14019.38            expensive                   210.49  \n",
      "998          14439.17            expensive                  1421.41  \n",
      "999           1028.18           reasonable                    23.04  \n",
      "\n",
      "[1000 rows x 27 columns]\n",
      "0.061\n"
     ]
    }
   ],
   "source": [
    "# Print the late_shipments dataset\n",
    "print(late_shipments)\n",
    "\n",
    "# Calculate the proportion of late shipments\n",
    "late_prop_samp = (late_shipments['late']=='Yes').mean()\n",
    "\n",
    "# Print the results\n",
    "print(late_prop_samp)"
   ]
  },
  {
   "cell_type": "code",
   "execution_count": 3,
   "id": "8eb9b564-b99e-46b5-9aae-6e5d6dffe5e8",
   "metadata": {},
   "outputs": [
    {
     "name": "stdout",
     "output_type": "stream",
     "text": [
      "0.12977340558825973\n"
     ]
    }
   ],
   "source": [
    "import numpy as np \n",
    "# Hypothesize that the proportion is 6%\n",
    "late_prop_hyp = 0.06\n",
    "\n",
    "late_shipments_boot_distn = []\n",
    "for i in range(1000): \n",
    "    late_shipments_boot_distn.append(\n",
    "        np.mean((late_shipments.sample(n=500)['late']=='Yes').sample(n=500,replace=False))\n",
    "    )\n",
    "\n",
    "# Calculate the standard error\n",
    "std_error = np.std(late_shipments_boot_distn,ddof=1)\n",
    "\n",
    "# Find z-score of late_prop_samp\n",
    "z_score = (late_prop_samp-late_prop_hyp)/std_error\n",
    "\n",
    "# Print z_score\n",
    "print(z_score)\n"
   ]
  },
  {
   "cell_type": "markdown",
   "id": "dd2f8edf-e909-4cc6-8e96-7b072798bde4",
   "metadata": {},
   "source": [
    "# p - values \n",
    "- Hypothesis alternative or null hypothesis is true(not both)\n",
    "- initially H0 is assumed to be truethe test ends in either \"reject H0\" or \"fail to reject H0\" \n",
    "- if the evidence from the sample is significant that HA is true, reject H0, else choose Ho\n",
    "- Significance level is \"beyond a reasonable doubt\" for hypothesis testing\n",
    "- hypothesis tests check if the sample statistics lie in the tails of the null distribution\n",
    "  1. alternative different from null == two-tailed\n",
    "  2. alternative greater than null == right-tailed\n",
    "  3. alternative less than null == left-tailed\n",
    "- p-values: probability of obtaining a result, assuming the null hypothesis is true\n",
    "- large p-values, large support for H0, statistic likely not in the tail of the null distribution\n",
    "- small p-values, strong evidence against H0, statistic likely in the tail of the null distribution\n",
    "- small means close to zero, p meaning probability\n",
    "- how to calculate p-value?\n",
    "  1. calculate z-score\n",
    "  2. norm.cdf() is normal cdf from scipy.stats\n",
    "     - left-tailed test --> use norm.cdf()\n",
    "     - right-tailed test --> use 1 - norm.cdf()\n",
    "     - two_tailed(\"not equal\") --> use norm.cdf(-z_score)+1-norm.cdf(z_score) or 2*(1-norm.cdf(z_score))\n",
    "     - from scipy.stats import norm\n",
    "     - 1-norm.cdf(z_score, loc=0, scale=1) "
   ]
  },
  {
   "cell_type": "code",
   "execution_count": 4,
   "id": "38bc06bb-558d-4dbb-9999-e01dfa54723c",
   "metadata": {},
   "outputs": [
    {
     "name": "stdout",
     "output_type": "stream",
     "text": [
      "0.4483728521106498\n"
     ]
    }
   ],
   "source": [
    "from scipy.stats import norm\n",
    "# Calculate the z-score of late_prop_samp\n",
    "z_score = (late_prop_samp-late_prop_hyp)/std_error\n",
    "\n",
    "# Calculate the p-value\n",
    "p_value = 1-norm.cdf(z_score,loc=0,scale=1)\n",
    "                 \n",
    "# Print the p-value\n",
    "print(p_value) "
   ]
  },
  {
   "cell_type": "markdown",
   "id": "9c4374e2-c32e-47a1-9d71-7c8eebd150aa",
   "metadata": {},
   "source": [
    "# p-value recap \n",
    "- p-values quantify evidence for the null hypothesis\n",
    "- large p-value --> fail to reject null hypothesis >> not enough data to prove HA \n",
    "- small p-value --> reject null hypothesis >> enough data to prove HA\n",
    "- where is the cutoff point?\n",
    "  - the significance level of a hypothesis test (alpha) is the threshold point for \"beyond a reasonable doubt\"\n",
    "  - common values of alpha --> 0.2, 0.1, 0.05, 0.01 --5% is the most common\n",
    "- if p-value <= alpha then reject H0 else reject H1\n",
    "\n",
    "- milestone\n",
    "  - alpha need to be decided at the very first time before calculating p-value\n",
    "  - alpha = 0.05\n",
    "  - prop_child_samp = (stack_overflow['age_first_code_cut']=='child').mean()\n",
    "  - prop_child_hyp = 0.35\n",
    "  - std_error = np.std(first_code_boot_distn, ddof=1)\n",
    "  - z_score = (prop_child_samp - prop_child_hyp)/std_error\n",
    "  - p_value = 1-norm.cdf(z_score, loc=0, scale =1 )\n",
    "  - P_value <= alpha then True >> reject null evidence\n",
    "\n",
    "- confidence interval level of 1-alpha 95%\n",
    "  - import numpy as np\n",
    "  - lower = np.quantile(first_code_boot_distn,0.025)\n",
    "  - upper = np.quantile(first_code_boot_distn,0.975)\n",
    "  - print((lower,upper))"
   ]
  },
  {
   "cell_type": "markdown",
   "id": "5cb0a8e1-23d7-4e64-ac08-f329f80a683e",
   "metadata": {},
   "source": [
    "# Types of Errors \n",
    "1. Chosesn H0 == actual H0 --> Correct\n",
    "2. Chosen H0 == actual HA --> False Negative (Type II Error) \n",
    "3. Chosen HA == actual H0 --> False Positive (type I Error) \n",
    "4. Chosen HA == actual HA --> Correct "
   ]
  },
  {
   "cell_type": "code",
   "execution_count": 5,
   "id": "fe15034d-fb98-4277-a46d-eb0ff896ce18",
   "metadata": {},
   "outputs": [
    {
     "name": "stdout",
     "output_type": "stream",
     "text": [
      "(0.046, 0.076)\n"
     ]
    }
   ],
   "source": [
    "# Calculate 95% confidence interval using quantile method\n",
    "lower = np.quantile(late_shipments_boot_distn,0.025)\n",
    "upper = np.quantile(late_shipments_boot_distn,0.975)\n",
    "\n",
    "# Print the confidence interval\n",
    "print((lower, upper))"
   ]
  },
  {
   "cell_type": "markdown",
   "id": "68887240-66d8-46da-ae29-d0f53e043a1f",
   "metadata": {},
   "source": [
    "# Performing t-tests \n",
    "- two-sample problems\n",
    "- H0: the mean compensation (in USD) is the same for those that coded first as a child and those that coded first as an adult H0: Mchild - Madult = 0\n",
    "- HA: the mean compensation (in USD) is greater for those that coded first as a child compared to those that coded first as an adult HA: Mchild - Madult > 0\n",
    "- how?\n",
    "  - calculating groupwise summary statistics\n",
    "  - xbar= stack_overflow.groupby('age_first_code_cut')['converted_comp'].mean()\n",
    "  - n= stack_overflow.groupby('age_first_code_cut')['converted_comp'].count()\n",
    "  - s= stack_overflow.groupby('age_first_code_cut')['converted_comp'].std()\n",
    "  - calculate test statistics\n",
    "    - sample mean estimates the population mean\n",
    "    - xchild - xadult = a test statistic\n",
    "    - t = (difference in sample stats - difference in population parameters) /standard error\n",
    "    - import numpy as np\n",
    "    - numerator = xbar_child - xbar_adult\n",
    "    - denominator = np.sqrt(s_child **2/n_child + s_adult **2/n_adult)\n",
    "    - t_stat = numerator/denominator \n",
    "- "
   ]
  },
  {
   "cell_type": "code",
   "execution_count": 78,
   "id": "0fa7b17e-6d8d-473d-9da4-c395b4430db9",
   "metadata": {},
   "outputs": [
    {
     "name": "stdout",
     "output_type": "stream",
     "text": [
      "-2.3936661778766433\n"
     ]
    }
   ],
   "source": [
    "n = late_shipments.groupby('late')['id'].count().reset_index()\n",
    "x = late_shipments.groupby('late')['weight_kilograms'].mean().reset_index()\n",
    "s = late_shipments.groupby('late')['weight_kilograms'].std().reset_index()\n",
    "xbar_no = x[x['late'] =='No'].iloc[0,1]\n",
    "xbar_yes = x[x['late'] =='Yes'].iloc[0,1]\n",
    "s_no = s[s['late']=='No'].iloc[0,1]\n",
    "s_yes = s[s['late'] == 'Yes'].iloc[0,1]\n",
    "n_no= n[n['late'] == 'No'].iloc[0,1]\n",
    "n_yes = n[n['late'] == 'Yes'].iloc[0,1]\n",
    "\n",
    "# Calculate the numerator of the test statistic\n",
    "numerator = xbar_no-xbar_yes\n",
    "\n",
    "# Calculate the denominator of the test statistic\n",
    "denominator = np.sqrt(s_no**2/n_no+s_yes**2/n_yes)\n",
    "\n",
    "# # Calculate the test statistic\n",
    "t_stat = numerator/denominator\n",
    "\n",
    "# # Print the test statistic\n",
    "print(t_stat)"
   ]
  },
  {
   "cell_type": "markdown",
   "id": "8a97660e-e856-41c7-b4d0-894e79822f26",
   "metadata": {},
   "source": [
    "# Calculating p-values from t-statistics \n",
    "- t-distributions\n",
    "  - t statistic follows a t-distribution\n",
    "  - have a parameter named degrees of freedom or df\n",
    "  - look like normal distributions, with fatter tails\n",
    "  - larger degrees of freedom --> t-distribution gets closer to the normal distribution\n",
    "  - normal distribution --> t-distribution with infinite df\n",
    "  - degrees of freedom : maximum number of logically independent values in the data sample\n",
    "     - how to calculate df? df = n_child - n_adult -2 since there are 2 observation here\n",
    "  - use t-distribution CDF not normal CDF to calculate p-values \n",
    "     - from scipy.stats import t\n",
    "     - 1-t.cdf(t_stat, df = degrees_of_fredom) \n",
    "\n",
    "- z-statistic needed when using one sample statistic to estimate a population parameter\n",
    "- t-statistic needed when using multiple sample statistics to estimate a population parameter\n"
   ]
  },
  {
   "cell_type": "code",
   "execution_count": 80,
   "id": "3f54902c-dd5d-4210-9670-efaf7eaab9e8",
   "metadata": {},
   "outputs": [
    {
     "name": "stdout",
     "output_type": "stream",
     "text": [
      "0.008432382146249523\n"
     ]
    }
   ],
   "source": [
    "from scipy.stats import t \n",
    "# Calculate the degrees of freedom\n",
    "degrees_of_freedom = n_no+n_yes-2\n",
    "\n",
    "# Calculate the p-value from the test stat\n",
    "p_value = t.cdf(t_stat,df=degrees_of_freedom)\n",
    "\n",
    "# Print the p_value\n",
    "print(p_value)"
   ]
  },
  {
   "cell_type": "markdown",
   "id": "17c59668-53a7-4e7a-a1a0-c99592097bee",
   "metadata": {},
   "source": [
    "# Paired t-tests \n",
    "- hypotheses : was the percentage of Republican candidate votes lower in 2008 than 2012\n",
    "- H0 : M2008 -M2012 = 0\n",
    "- HA : M2008 - M2012 <0\n",
    "- Set alpha = 0.05\n",
    "- Data is paired --> each voter percentage refers to the same county\n",
    "- How?\n",
    "  - from two sample to one\n",
    "  - sample data['diff'] = sample_data['repub_percent_08'] - sample_data['repub_percent_12']\n",
    "  - xbar_diff = sample_data['diff'].mean()\n",
    "  - s_diff = sample_data['diff'].std()\n",
    "  - n_diff = len(sample_data) \n",
    "  - df = n_diff -1\n",
    "  - calculating the p-value\n",
    "     - t_stat =(xbar_diff - 0)/np.sqrt(s_diff**2/n_diff)\n",
    "     - p_value = t.cdf(t_stat,df=n_diff-1)\n",
    "\n",
    "- easy way to testing differences between two means using ttest()\n",
    "- import pingouin\n",
    "- pingouin.ttest(x=sample_data['diff'],y=0, >> null hypotheses equal to zero alternative='less') >> HA less than \n",
    "  - ttest() with paired = True\n",
    "  - pingouin.ttest(x=sample_data['repub_percent_08'], y=sample_data['repub_percent_12'], paired = True,>> (default false , performing unpaired t-test on paired data increases the chances of false negatives errors)alternative = 'less')\n"
   ]
  },
  {
   "cell_type": "code",
   "execution_count": 86,
   "id": "97a6f935-d124-4844-afc4-e55527ef2c25",
   "metadata": {},
   "outputs": [
    {
     "data": {
      "image/png": "[encoded data removed]",
      "text/plain": [
       "<Figure size 432x288 with 1 Axes>"
      ]
     },
     "metadata": {
      "needs_background": "light"
     },
     "output_type": "display_data"
    }
   ],
   "source": [
    "import matplotlib.pyplot as plt\n",
    "# Calculate the differences from 2012 to 2016\n",
    "sample_dem_data['diff'] = sample_dem_data['dem_percent_12'] - sample_dem_data['dem_percent_16']\n",
    "\n",
    "# Find the mean of the diff column\n",
    "xbar_diff = sample_dem_data['diff'].mean()\n",
    "\n",
    "# Find the standard deviation of the diff column\n",
    "s_diff = sample_dem_data['diff'].std()\n",
    "\n",
    "# Plot a histogram of diff with 20 bins\n",
    "sample_dem_data['diff'].hist(bins=20)\n",
    "plt.show()"
   ]
  },
  {
   "cell_type": "code",
   "execution_count": null,
   "id": "6e79259f-30a5-448d-8b18-5b9bbcce9e42",
   "metadata": {},
   "outputs": [],
   "source": [
    "# !pip install pingouin\n",
    "# import pingouin"
   ]
  },
  {
   "cell_type": "code",
   "execution_count": 93,
   "id": "1433020d-b022-4f3d-a209-5f8d5e427ea0",
   "metadata": {},
   "outputs": [
    {
     "name": "stdout",
     "output_type": "stream",
     "text": [
      "                T  dof alternative          p-val         CI95%   cohen-d   \n",
      "T-test  30.298384  499   two-sided  3.600634e-115  [6.39, 7.27]  1.354985  \\\n",
      "\n",
      "              BF10  power  \n",
      "T-test  2.246e+111    1.0  \n",
      "               T  dof alternative         p-val        CI95%   cohen-d   \n",
      "T-test  7.181565  998   two-sided  1.345737e-12  [4.96, 8.7]  0.454202  \\\n",
      "\n",
      "             BF10  power  \n",
      "T-test  4.308e+09    1.0  \n"
     ]
    }
   ],
   "source": [
    "# Conduct a t-test on diff\n",
    "test_results = pingouin.ttest(x=sample_dem_data['diff'],\n",
    "y=0,\n",
    "alternative='two-sided')\n",
    "print(test_results)\n",
    "\n",
    "# Conduct a t-test on diff unpaired\n",
    "test_results = pingouin.ttest(x=sample_dem_data['dem_percent_12'],\n",
    "y=sample_dem_data['dem_percent_16'],\n",
    "alternative='two-sided')\n",
    "print(test_results)"
   ]
  },
  {
   "cell_type": "markdown",
   "id": "7f33959e-efc0-4915-9699-6060d00efe90",
   "metadata": {},
   "source": [
    "# Anova Tests (Analysis of variance) \n",
    "- a test for differences between groups \n",
    "- more than 2 parameter\n",
    "- visualizing multiple distributions\n",
    "  - is mean annual compensation different for different level of job satisfaction?\n",
    "  - import seaborn as sns\n",
    "  - import matplotlib.pyplot as plt\n",
    "  - sns.boxplot(x='converted_comp',y='job_sat',data=stack_overflow)\n",
    "  - plt.show()\n",
    "- how to do anova\n",
    "  - alpha = 0.2\n",
    "  - pingouin.anova(data=stack_overflow, dv='converted_comp', between = 'job_sat') --> dv is dependant variable\n",
    "  - pairwise tests\n",
    "    - pingouin.pairwise_tests(data=stack_overflow, dv='converted_comp', between = 'job_sat', padjust = 'none')\n",
    "    - pingouin.pairwise_tests(data=stack_overflow, dv='converted_comp', between = 'job_sat', padjust = 'bonf') --> bonf stands for bonferroni correction to minimize false positive\n",
    "       - padjust is p adjust consist of several methods as listed below:\n",
    "         1. 'none': no correction [default]\n",
    "         2. 'bonf': one-step Bonferroni correction\n",
    "         3. 'sidak': one-step Sidak correction\n",
    "         4. 'holm': step-down method using Bonferroni adjustments\n",
    "         5. 'fdr_bh': Benjamini/Hochberg FDR correction\n",
    "         6. 'fdr_by': Benjamini/Yekutieli FDR correction\n"
   ]
  },
  {
   "cell_type": "code",
   "execution_count": 95,
   "id": "c8e6071f-617e-4aa8-bc4e-93b6e04df20c",
   "metadata": {},
   "outputs": [
    {
     "data": {
      "image/png": "[encoded data removed]",
      "text/plain": [
       "<Figure size 432x288 with 1 Axes>"
      ]
     },
     "metadata": {
      "needs_background": "light"
     },
     "output_type": "display_data"
    }
   ],
   "source": [
    "import seaborn as sns\n",
    "# Calculate the mean pack_price for each shipment_mode\n",
    "xbar_pack_by_mode = late_shipments.groupby(\"shipment_mode\")['pack_price'].mean()\n",
    "\n",
    "# Calculate the standard deviation of the pack_price for each shipment_mode\n",
    "s_pack_by_mode = late_shipments.groupby(\"shipment_mode\")['pack_price'].std()\n",
    "\n",
    "# Boxplot of shipment_mode vs. pack_price\n",
    "sns.boxplot(data=late_shipments, x='pack_price',y='shipment_mode')\n",
    "plt.show()"
   ]
  },
  {
   "cell_type": "code",
   "execution_count": 98,
   "id": "49b688ab-80d3-4ca2-aca3-7eeb83c2faa1",
   "metadata": {},
   "outputs": [
    {
     "name": "stdout",
     "output_type": "stream",
     "text": [
      "          Source  ddof1  ddof2        F         p-unc       np2\n",
      "0  shipment_mode      2    997  21.8646  5.089479e-10  0.042018\n"
     ]
    }
   ],
   "source": [
    "# Run an ANOVA for pack_price across shipment_mode\n",
    "anova_results = pingouin.anova(data=late_shipments, dv='pack_price',between = 'shipment_mode')\n",
    "\n",
    "\n",
    "\n",
    "# Print anova_results\n",
    "print(anova_results)"
   ]
  },
  {
   "cell_type": "code",
   "execution_count": 100,
   "id": "5f5a7dd4-2110-44e6-b60e-1013ccf00067",
   "metadata": {},
   "outputs": [
    {
     "name": "stdout",
     "output_type": "stream",
     "text": [
      "        Contrast            A            B  Paired  Parametric          T   \n",
      "0  shipment_mode          Air  Air Charter   False        True  21.179625  \\\n",
      "1  shipment_mode          Air        Ocean   False        True  19.335760   \n",
      "2  shipment_mode  Air Charter        Ocean   False        True  -3.170654   \n",
      "\n",
      "          dof alternative         p-unc       BF10    hedges  \n",
      "0  600.685682   two-sided  8.748346e-75  5.809e+76  0.726592  \n",
      "1  986.979785   two-sided  6.934555e-71  1.129e+67  0.711119  \n",
      "2   35.615026   two-sided  3.123012e-03     15.277 -0.423775  \n",
      "        Contrast            A            B  Paired  Parametric          T   \n",
      "0  shipment_mode          Air  Air Charter   False        True  21.179625  \\\n",
      "1  shipment_mode          Air        Ocean   False        True  19.335760   \n",
      "2  shipment_mode  Air Charter        Ocean   False        True  -3.170654   \n",
      "\n",
      "          dof alternative         p-unc        p-corr p-adjust       BF10   \n",
      "0  600.685682   two-sided  8.748346e-75  2.624504e-74     bonf  5.809e+76  \\\n",
      "1  986.979785   two-sided  6.934555e-71  2.080367e-70     bonf  1.129e+67   \n",
      "2   35.615026   two-sided  3.123012e-03  9.369037e-03     bonf     15.277   \n",
      "\n",
      "     hedges  \n",
      "0  0.726592  \n",
      "1  0.711119  \n",
      "2 -0.423775  \n"
     ]
    }
   ],
   "source": [
    "# Perform a pairwise t-test on pack price, grouped by shipment mode\n",
    "pairwise_results = pingouin.pairwise_tests(data=late_shipments, dv='pack_price',between ='shipment_mode',padjust='none' ) \n",
    "\n",
    "# Perform a pairwise t-test on pack price, grouped by shipment mode\n",
    "pairwise_results_bonf = pingouin.pairwise_tests(data=late_shipments, dv='pack_price',between ='shipment_mode',padjust='bonf' ) \n",
    "\n",
    "# Print pairwise_results\n",
    "print(pairwise_results)\n",
    "print(pairwise_results_bonf)"
   ]
  },
  {
   "cell_type": "markdown",
   "id": "ae31865c-4245-4281-a3f0-8c40bbabc3d8",
   "metadata": {},
   "source": [
    "# one-sample proportion tests \n",
    "- chapter 1 recap:\n",
    "  - is a claim about an unknown population proportion feasible?\n",
    "    1. standard error of sample statistic from bootstrap distribution\n",
    "    2. compute a standardized test statistic\n",
    "    3. calculate a p-value\n",
    "    4. decide which hypothesis made most sense\n",
    "- lest's calculate the statistic without using the bootstrap distribution\n",
    "  - p: population proportion(unknown population parameter\n",
    "  - phat: sample proportion(sample statistic)\n",
    "  - p0: hypothesized population proportion\n",
    "  - t-distribution - fatter tails than a normal distribution\n",
    "- bootstrapping can be used to estimate the standard error of any statistic, it is computationally intensive. For proportions, using a simple equation of the hypothesized proportion and sanmple size is easier to compute\n",
    "- z_score =p_hat - p_0/np.sqrt(p_0*(1-p_0)/n)"
   ]
  },
  {
   "cell_type": "code",
   "execution_count": 101,
   "id": "a927288b-91c4-4a9e-b90d-b81d5054b5c4",
   "metadata": {},
   "outputs": [
    {
     "name": "stdout",
     "output_type": "stream",
     "text": [
      "0.061 1000\n"
     ]
    }
   ],
   "source": [
    "# Hypothesize that the proportion of late shipments is 6%\n",
    "p_0 = 0.06\n",
    "\n",
    "# Calculate the sample proportion of late shipments\n",
    "p_hat = (late_shipments['late']=='Yes').mean()\n",
    "\n",
    "# Calculate the sample size\n",
    "n = len(late_shipments)\n",
    "\n",
    "# Print p_hat and n\n",
    "print(p_hat, n)"
   ]
  },
  {
   "cell_type": "code",
   "execution_count": 102,
   "id": "cc8e4dd2-7e7d-4b50-b5ba-5eedf70a9cce",
   "metadata": {},
   "outputs": [
    {
     "name": "stdout",
     "output_type": "stream",
     "text": [
      "0.13315591032282698\n"
     ]
    }
   ],
   "source": [
    "# Hypothesize that the proportion of late shipments is 6%\n",
    "p_0 = 0.06\n",
    "\n",
    "# Calculate the sample proportion of late shipments\n",
    "p_hat = (late_shipments['late'] == \"Yes\").mean()\n",
    "\n",
    "# Calculate the sample size\n",
    "n = len(late_shipments)\n",
    "\n",
    "# Calculate the numerator and denominator of the test statistic\n",
    "numerator = p_hat-p_0\n",
    "denominator = np.sqrt(p_0*(1-p_0)/n)\n",
    "\n",
    "# Calculate the test statistic\n",
    "z_score = numerator/denominator\n",
    "\n",
    "# Print the result\n",
    "print(z_score)"
   ]
  },
  {
   "cell_type": "code",
   "execution_count": 103,
   "id": "cedaae43-ecab-40e7-b4d7-dca9b63a0ffb",
   "metadata": {},
   "outputs": [
    {
     "name": "stdout",
     "output_type": "stream",
     "text": [
      "0.44703503936503364\n"
     ]
    }
   ],
   "source": [
    "# Hypothesize that the proportion of late shipments is 6%\n",
    "p_0 = 0.06\n",
    "\n",
    "# Calculate the sample proportion of late shipments\n",
    "p_hat = (late_shipments['late'] == \"Yes\").mean()\n",
    "\n",
    "# Calculate the sample size\n",
    "n = len(late_shipments)\n",
    "\n",
    "# Calculate the numerator and denominator of the test statistic\n",
    "numerator = p_hat - p_0\n",
    "denominator = np.sqrt(p_0 * (1 - p_0) / n)\n",
    "\n",
    "# Calculate the test statistic\n",
    "z_score = numerator / denominator\n",
    "\n",
    "# Calculate the p-value from the z-score\n",
    "p_value = 1-norm.cdf(z_score,loc=0,scale=1)\n",
    "\n",
    "# Print the p-value\n",
    "print(p_value)"
   ]
  },
  {
   "cell_type": "markdown",
   "id": "902fd673-a998-42b6-8500-24771a88ac5b",
   "metadata": {},
   "source": [
    "# Two-sample proportion tests \n",
    "- comparing two proportions\n",
    "  - H0: proportion of hobbyist users is the same for those under thirty as those at least thirty H0: p>=30 - p<30 = 0\n",
    "  - HA: proportion of hobbyist users is different for those under thirty as those at least thirty HA: p>=30 - p<30 != 0\n",
    "- only require phat>=30, phat<30, n>=30, n<30\n",
    "  1. p_hats = stack_overflow.groupby('age_cat')['hobbyist'].value_counts(normalize=True)\n",
    "  2. n = stack_overflow.groupby('age_cat')['hobbyist'].count()\n",
    "  3. p_hat_at_least_30 = p_hats[('At least 30','Yes')]\n",
    "  4. p_hat_under_30=p_hats[\"under 30\",'Yes')]\n",
    "  5. n_at_least_30 = n['At least 30']\n",
    "  6. n_under_30 = n['Under 30']\n",
    "  7. p_hat (n_at_least30 x p_hat_at_least_30 +n_under_30 xp_hat_under_30)/(n_at_least_30 + n_under_30)\n",
    "  8. std_error = np.sqrt(p_hat*(1-p_hat)/n_at_least_30+p_hat*(1-p_hat)/n_under_30)\n",
    "  9. z_score=p_hat_at_least_30-p_hat_under_30)/std_error\n",
    " \n",
    "-- OR \n",
    "  1. stack_overflow.groupby('age_cat')['hobbyist'].value_counts()\n",
    "  2. n_hobbyists = np.array([812,1021])\n",
    "  3. n_rows = np_array([812+238,1021+190])\n",
    "  4. from statsmodels.stats.proportion import proportions_ztest\n",
    "  5. zscore,p_value = proportions_ztest(count=n_hobbyists, nobs=n_rows, alternative = 'two-sided') "
   ]
  },
  {
   "cell_type": "code",
   "execution_count": 155,
   "id": "d423daa1-12b4-4052-bea9-cb48703fcf7e",
   "metadata": {},
   "outputs": [
    {
     "name": "stdout",
     "output_type": "stream",
     "text": [
      "0.0017353400023595311\n"
     ]
    }
   ],
   "source": [
    "p_hats = late_shipments.groupby('freight_cost_groups')['late'].value_counts(normalize=True)\n",
    "\n",
    "ns= late_shipments.groupby('freight_cost_groups')['id'].count()\n",
    "# Calculate the pooled estimate of the population proportion\n",
    "p_hat = (p_hats[(\"reasonable\",\"Yes\")] * ns[\"reasonable\"] + p_hats[(\"expensive\",\"Yes\")] * ns[\"expensive\"]) / (ns[\"reasonable\"] + ns[\"expensive\"])\n",
    "\n",
    "# Calculate p_hat one minus p_hat\n",
    "p_hat_times_not_p_hat = p_hat * (1 - p_hat)\n",
    "\n",
    "# Divide this by each of the sample sizes and then sum\n",
    "p_hat_times_not_p_hat_over_ns = p_hat_times_not_p_hat / ns[\"expensive\"] + p_hat_times_not_p_hat / ns[\"reasonable\"]\n",
    "\n",
    "# Calculate the standard error\n",
    "std_error = np.sqrt(p_hat_times_not_p_hat_over_ns)\n",
    "\n",
    "# Print the result\n",
    "# print(std_error)\n",
    "\n",
    "# Calculate the standard error\n",
    "std_error = np.sqrt(p_hat_times_not_p_hat_over_ns)\n",
    "\n",
    "# Calculate the z-score\n",
    "z_score = (p_hats[(\"expensive\",\"Yes\")] - p_hats[(\"reasonable\",\"Yes\")]) / std_error\n",
    "\n",
    "# Calculate the p-value from the z-score\n",
    "p_value = 1-norm.cdf(z_score,loc=0,scale=1)\n",
    "\n",
    "# Print p_value\n",
    "print(p_value)\n"
   ]
  },
  {
   "cell_type": "code",
   "execution_count": null,
   "id": "37b8661b-9624-4e9f-88aa-63b780879b88",
   "metadata": {},
   "outputs": [],
   "source": [
    "# !pip install statsmodels\n",
    "# from statsmodels.stats.proportion import proportions_ztest \n"
   ]
  },
  {
   "cell_type": "code",
   "execution_count": 161,
   "id": "0e5ffa30-b1e7-45b4-9283-df547d806027",
   "metadata": {},
   "outputs": [
    {
     "name": "stdout",
     "output_type": "stream",
     "text": [
      "3.1190401865206128 0.0009072060637051224\n"
     ]
    }
   ],
   "source": [
    "# Count the late column values for each freight_cost_group\n",
    "late_by_freight_cost_group = late_shipments.groupby(\"freight_cost_groups\")['late'].value_counts()\n",
    "\n",
    "# Create an array of the \"Yes\" counts for each freight_cost_group\n",
    "success_counts = np.array([45, 16])\n",
    "\n",
    "# Create an array of the total number of rows in each freight_cost_group\n",
    "n = np.array([545, 439+16])\n",
    "\n",
    "# Run a z-test on the two proportions\n",
    "stat, p_value = proportions_ztest(count=success_counts, nobs=n, alternative = 'larger')\n",
    "\n",
    "\n",
    "# Print the results\n",
    "print(stat, p_value)"
   ]
  },
  {
   "cell_type": "markdown",
   "id": "69d78608-2b69-400b-b7e2-ddf89b1bdb40",
   "metadata": {},
   "source": [
    "# Chi-Square test of independence \n",
    "- The chi-square independence test compares proportions of successes of one categorical variable across the categories of another categorical variable.\n",
    "- statistical independence - proportion of sucesses in the response variable is the same across all categories of the explanatory variable\n",
    "- how?\n",
    "  - import pingouin\n",
    "  - expected, observed, stats = pingouin.chi2_independence(data=stack_overflow, x='hobbbyist', y='age_cat', correction = False) --> the correction argument specifies whether or not to apply Yates' continuity correction whic is a fudge factor for when the sample size is very small and the degrees of freedom is one\n",
    "- example of hypothesis:\n",
    "  1. H0: age categories are independent of job satisfaction levels\n",
    "  2. HA: age categories are not independent of job satisfaction levels\n",
    "  3. alpha = 0.1\n",
    "  4. assuming independence, how far away are the observed results from the expected values?\n",
    "  5. props = stack_overflow.groupby('job_sat')['age_cat'].value_counts(normalize=True)\n",
    "  6. wide_props=props.unstack()\n",
    "  7. wide_props.plot(kind='bar',stacked=True)\n",
    "  8. import pingouin\n",
    "  9. expected, observed, stats = pingouin.chi2_independence(data=stack_overflow, x='jo_sat', y = 'age_cat')\n",
    "  10. degrees of freedom : (no of response categories -1) x(no of explanatory categories -1) = 4\n",
    "\n",
    "- chi square observed and expected counts squared must be non-negative\n",
    "- chi-square tests are almost always right-tailed because not negative "
   ]
  },
  {
   "cell_type": "code",
   "execution_count": 165,
   "id": "32f07115-0d2b-4490-8fa9-e908c44a2854",
   "metadata": {},
   "outputs": [
    {
     "data": {
      "image/png": "[encoded data removed]",
      "text/plain": [
       "<Figure size 432x288 with 1 Axes>"
      ]
     },
     "metadata": {
      "needs_background": "light"
     },
     "output_type": "display_data"
    },
    {
     "name": "stdout",
     "output_type": "stream",
     "text": [
      "      test  lambda       chi2  dof          pval    cramer     power\n",
      "0  pearson     1.0  34.805072  4.0  5.093922e-07  0.186561  0.999235\n"
     ]
    },
    {
     "name": "stderr",
     "output_type": "stream",
     "text": [
      "/Users/tiatitisari/opt/anaconda3/lib/python3.8/site-packages/pingouin/contingency.py:150: UserWarning: Low count on observed frequencies.\n",
      "  warnings.warn(\"Low count on {} frequencies.\".format(name))\n",
      "/Users/tiatitisari/opt/anaconda3/lib/python3.8/site-packages/pingouin/contingency.py:150: UserWarning: Low count on expected frequencies.\n",
      "  warnings.warn(\"Low count on {} frequencies.\".format(name))\n",
      "/Users/tiatitisari/opt/anaconda3/lib/python3.8/site-packages/scipy/stats/_stats_py.py:7416: RuntimeWarning: divide by zero encountered in power\n",
      "  terms = f_obs * ((f_obs / f_exp)**lambda_ - 1)\n",
      "/Users/tiatitisari/opt/anaconda3/lib/python3.8/site-packages/scipy/stats/_stats_py.py:7416: RuntimeWarning: invalid value encountered in multiply\n",
      "  terms = f_obs * ((f_obs / f_exp)**lambda_ - 1)\n",
      "/Users/tiatitisari/opt/anaconda3/lib/python3.8/site-packages/scipy/stats/_stats_py.py:7413: RuntimeWarning: divide by zero encountered in divide\n",
      "  terms = 2.0 * special.xlogy(f_exp, f_exp / f_obs)\n"
     ]
    }
   ],
   "source": [
    "# Proportion of freight_cost_group grouped by vendor_inco_term\n",
    "props = late_shipments.groupby('vendor_inco_term')['freight_cost_groups'].value_counts(normalize=True)\n",
    "\n",
    "# Convert props to wide format\n",
    "wide_props = props.unstack()\n",
    "\n",
    "# Proportional stacked bar plot of freight_cost_group vs. vendor_inco_term\n",
    "wide_props.plot(kind='bar', stacked=True)\n",
    "plt.show()\n",
    "\n",
    "# Determine if freight_cost_group and vendor_inco_term are independent\n",
    "expected, observed, stats = pingouin.chi2_independence(data=late_shipments, x='freight_cost_groups', y='vendor_inco_term')\n",
    "\n",
    "# Print results\n",
    "print(stats[stats['test'] == 'pearson']) "
   ]
  },
  {
   "cell_type": "markdown",
   "id": "7468058b-6d66-40ed-af46-33e84b417526",
   "metadata": {},
   "source": [
    "# chi-square goodness of fit tests \n"
   ]
  }
 ],
 "metadata": {
  "kernelspec": {
   "display_name": "Python 3",
   "language": "python",
   "name": "python3"
  },
  "language_info": {
   "codemirror_mode": {
    "name": "ipython",
    "version": 3
   },
   "file_extension": ".py",
   "mimetype": "text/x-python",
   "name": "python",
   "nbconvert_exporter": "python",
   "pygments_lexer": "ipython3",
   "version": "3.8.3"
  }
 },
 "nbformat": 4,
 "nbformat_minor": 5
}
