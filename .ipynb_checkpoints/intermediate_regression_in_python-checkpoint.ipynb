{
 "cells": [
  {
   "cell_type": "markdown",
   "id": "97eb3159-d3bd-4c67-8b12-0a70d7111074",
   "metadata": {},
   "source": [
    "# Parallel slopes linear regression \n",
    "- Multiple regression is a regression model with more than one explanatory variable\n",
    "- More explanatory variables can give more insight and better predictions.\n",
    "- how to calculate:\n",
    "  - both variables at the same time\n",
    "  - mdl_mass_vs_both = ols('mass_g ~ length_cm +species +0', data=fish).fit()\n",
    "  - print(mdl_mass_vs_both.params)\n",
    "  - visualize:\n",
    "    - sns.boxplot(x='species', y='mass_g', data=fish, showmeans=True) OR\n",
    "    - coeffs = mdl_mas_vs_both.params\n",
    "    - ic_bream, ic_perch,ic_pike, ic_roach, sl = coeffs\n",
    "    - sns.scatterplot(x='length_cm', y='mass_g', hue='species', data=fish)\n",
    "    - plt.axline(xy1=(0,ic_bream), slope=sl, color='blue')\n",
    "    - plt.axline(xy1=(0,ic_perch), slope=sl, color='green')\n",
    "    - plt.axline(xy1=(0,ic_pike), slope=sl, color='red')\n",
    "    - plt.axline(xy1=(0,ic_roach), slope=sl, color='orange')\n",
    "      "
   ]
  },
  {
   "cell_type": "code",
   "execution_count": 1,
   "id": "f0610969-179c-4682-98fe-aa78850ea8f1",
   "metadata": {},
   "outputs": [
    {
     "name": "stderr",
     "output_type": "stream",
     "text": [
      "/Users/tiatitisari/opt/anaconda3/lib/python3.8/site-packages/pandas/core/computation/expressions.py:20: UserWarning: Pandas requires version '2.7.3' or newer of 'numexpr' (version '2.7.1' currently installed).\n",
      "  from pandas.core.computation.check import NUMEXPR_INSTALLED\n"
     ]
    }
   ],
   "source": [
    "import pandas as pd\n",
    "# import all data sources \n",
    "churn = pd.read_csv('churn.csv') \n",
    "taiwan_real_estate=pd.read_csv('taiwan_real_estate2.csv')\n",
    "ad_conversion = pd.read_csv('ad_conversion.csv')\n",
    "sp500_yearly_returns= pd.read_csv('sp500_yearly_returns.csv')\n",
    "fish = pd.read_csv('fish.csv')"
   ]
  },
  {
   "cell_type": "code",
   "execution_count": 2,
   "id": "7cee220a-602a-4562-ae9d-351547c1f328",
   "metadata": {},
   "outputs": [
    {
     "name": "stdout",
     "output_type": "stream",
     "text": [
      "Intercept        8.224237\n",
      "n_convenience    0.798080\n",
      "dtype: float64\n"
     ]
    }
   ],
   "source": [
    "# Import ols from statsmodels.formula.api\n",
    "from statsmodels.formula.api import ols \n",
    "\n",
    "# Fit a linear regression of price_twd_msq vs. n_convenience\n",
    "mdl_price_vs_conv = ols('price_twd_msq~n_convenience',data=taiwan_real_estate).fit()\n",
    "\n",
    "# Print the coefficients\n",
    "print(mdl_price_vs_conv.params)"
   ]
  },
  {
   "cell_type": "code",
   "execution_count": 3,
   "id": "b01be6cb-5230-4707-ab53-35b20c81d088",
   "metadata": {},
   "outputs": [
    {
     "name": "stdout",
     "output_type": "stream",
     "text": [
      "house_age_years[0 to 15]     12.637471\n",
      "house_age_years[15 to 30]     9.876743\n",
      "house_age_years[30 to 45]    11.393264\n",
      "dtype: float64\n"
     ]
    }
   ],
   "source": [
    "# Import ols from statsmodels.formula.api\n",
    "from statsmodels.formula.api import ols\n",
    "\n",
    "# Fit a linear regression of price_twd_msq vs. n_convenience\n",
    "mdl_price_vs_conv = ols(\"price_twd_msq ~ n_convenience\",\n",
    "                        data=taiwan_real_estate).fit()\n",
    "\n",
    "# Fit a linear regression of price_twd_msq vs. house_age_years, no intercept\n",
    "mdl_price_vs_age = ols(\"price_twd_msq ~ house_age_years+0\",\n",
    "                        data=taiwan_real_estate).fit()\n",
    "\n",
    "# Print the coefficients\n",
    "print(mdl_price_vs_age.params)"
   ]
  },
  {
   "cell_type": "code",
   "execution_count": 4,
   "id": "c63b744b-4da8-4b37-ae4e-7fe48f016df9",
   "metadata": {},
   "outputs": [
    {
     "name": "stdout",
     "output_type": "stream",
     "text": [
      "house_age_years[0 to 15]     9.413325\n",
      "house_age_years[15 to 30]    7.085169\n",
      "house_age_years[30 to 45]    7.510958\n",
      "n_convenience                0.791457\n",
      "dtype: float64\n"
     ]
    }
   ],
   "source": [
    "# Import ols from statsmodels.formula.api\n",
    "from statsmodels.formula.api import ols\n",
    "\n",
    "# Fit a linear regression of price_twd_msq vs. n_convenience\n",
    "mdl_price_vs_conv = ols(\"price_twd_msq ~ n_convenience\",\n",
    "                        data=taiwan_real_estate).fit()\n",
    "\n",
    "# Fit a linear regression of price_twd_msq vs. house_age_years, no intercept\n",
    "mdl_price_vs_age = ols(\"price_twd_msq ~ house_age_years + 0\", data=taiwan_real_estate).fit()\n",
    "\n",
    "# Fit a linear regression of price_twd_msq vs. n_convenience plus house_age_years, no intercept\n",
    "mdl_price_vs_both = ols(\"price_twd_msq ~ n_convenience + house_age_years+0\", data=taiwan_real_estate).fit()\n",
    "\n",
    "# Print the coefficients\n",
    "print(mdl_price_vs_both.params)"
   ]
  },
  {
   "cell_type": "markdown",
   "id": "f3776b9f-3b5b-47b7-af15-dc61d54d3067",
   "metadata": {},
   "source": [
    "- for each additional nearby convenience store, the expected house price, in TWD per square meter, increases by 0.79\n",
    "- for a house aged 0 - 15 with zero nearby convenience stores, the expected house price is 9.41 TWD per square meter. "
   ]
  },
  {
   "cell_type": "code",
   "execution_count": 5,
   "id": "6582ed8a-f887-415f-880d-ad9b2d888309",
   "metadata": {},
   "outputs": [
    {
     "data": {
      "image/png": "[encoded data removed]",
      "text/plain": [
       "<Figure size 432x288 with 1 Axes>"
      ]
     },
     "metadata": {
      "needs_background": "light"
     },
     "output_type": "display_data"
    }
   ],
   "source": [
    "# Import matplotlib.pyplot and seaborn\n",
    "import matplotlib.pyplot as plt \n",
    "import seaborn as sns \n",
    "\n",
    "# Create a scatter plot with linear trend line of price_twd_msq vs. n_convenience\n",
    "sns.regplot(data=taiwan_real_estate, x='n_convenience', y='price_twd_msq', ci=None)\n",
    "\n",
    "# Show the plot\n",
    "plt.show()"
   ]
  },
  {
   "cell_type": "code",
   "execution_count": 6,
   "id": "7e128c30-9a76-4026-81a4-4eea8512fd38",
   "metadata": {},
   "outputs": [
    {
     "data": {
      "image/png": "[encoded data removed]",
      "text/plain": [
       "<Figure size 432x288 with 1 Axes>"
      ]
     },
     "metadata": {
      "needs_background": "light"
     },
     "output_type": "display_data"
    }
   ],
   "source": [
    "# Import matplotlib.pyplot and seaborn\n",
    "import matplotlib.pyplot as plt\n",
    "import seaborn as sns\n",
    "\n",
    "# Create a boxplot of price_twd_msq vs. house_age_years\n",
    "sns.boxplot(data=taiwan_real_estate,x='house_age_years', y='price_twd_msq')\n",
    "\n",
    "# Show the plot\n",
    "plt.show()"
   ]
  },
  {
   "cell_type": "code",
   "execution_count": 9,
   "id": "0c4ea9ee-3132-47dc-9350-8f38f7acb7db",
   "metadata": {},
   "outputs": [
    {
     "name": "stdout",
     "output_type": "stream",
     "text": [
      "9.413324749053615\n"
     ]
    }
   ],
   "source": [
    "# Extract the model coefficients, coeffs\n",
    "coeffs = mdl_price_vs_both.params\n",
    "\n",
    "# Print coeffs\n",
    "print(coeffs)\n",
    "\n",
    "# Assign each of the coeffs\n",
    "ic_0_15,ic_15_30, ic_30_45, slope,  = coeffs"
   ]
  },
  {
   "cell_type": "code",
   "execution_count": 8,
   "id": "943852f1-4e05-4079-9bb6-66f46452ae6e",
   "metadata": {},
   "outputs": [
    {
     "data": {
      "image/png": "[encoded data removed]",
      "text/plain": [
       "<Figure size 432x288 with 1 Axes>"
      ]
     },
     "metadata": {
      "needs_background": "light"
     },
     "output_type": "display_data"
    }
   ],
   "source": [
    "\n",
    "# Draw a scatter plot of price_twd_msq vs. n_convenience colored by house_age_years\n",
    "sns.scatterplot(data=taiwan_real_estate, x='n_convenience',y='price_twd_msq',hue='house_age_years')\n",
    "\n",
    "# Show the plot\n",
    "plt.show()"
   ]
  },
  {
   "cell_type": "code",
   "execution_count": 10,
   "id": "25247557-a496-4fbb-aad8-faa70d9d97a8",
   "metadata": {},
   "outputs": [
    {
     "data": {
      "image/png": "[encoded data removed]",
      "text/plain": [
       "<Figure size 432x288 with 1 Axes>"
      ]
     },
     "metadata": {
      "needs_background": "light"
     },
     "output_type": "display_data"
    }
   ],
   "source": [
    "# Extract the model coefficients, coeffs\n",
    "coeffs = mdl_price_vs_both.params\n",
    "\n",
    "# Assign each of the coeffs\n",
    "ic_0_15, ic_15_30, ic_30_45, slope = coeffs\n",
    "\n",
    "# Draw a scatter plot of price_twd_msq vs. n_convenience, colored by house_age_years\n",
    "sns.scatterplot(x=\"n_convenience\",\n",
    "                y=\"price_twd_msq\",\n",
    "                hue=\"house_age_years\",\n",
    "                data=taiwan_real_estate)\n",
    "\n",
    "# Add three parallel lines for each category of house_age_years\n",
    "# Color the line for ic_0_15 blue\n",
    "plt.axline(xy1=(0,ic_0_15) ,slope=slope, color='blue')\n",
    "# Color the line for ic_15_30 orange\n",
    "plt.axline(xy1=(0, ic_15_30), slope=slope, color=\"orange\")\n",
    "# Color the line for ic_30_45 green\n",
    "plt.axline(xy1=(0, ic_30_45), slope=slope, color=\"green\")\n",
    "\n",
    "# Show the plot\n",
    "plt.show()"
   ]
  },
  {
   "cell_type": "markdown",
   "id": "2ccb2c3c-dd1c-4bc5-9ccd-97eb0639939f",
   "metadata": {},
   "source": [
    "# Predicting parallel slopes \n",
    "- prediction workflow\n",
    "  - import pandas as pd\n",
    "  - import numpy as np\n",
    "  - expl_data_length=pd.DataFrame({'length_cm':np.arange(5,61,5)})\n",
    "  - print(expl_data_length)\n",
    "  - from itertools import product\n",
    "  - product(['A','B','C'],[1,2])\n",
    "  - length_cm = np.arange(5,61,5)\n",
    "  - species = fish['species'].unique()\n",
    "  - p = product(length_cm, species)\n",
    "  - expl_data_both = pd.DataFrame(p, columns=['length+cm', 'species'])\n",
    "  - print(expl_data_both)\n",
    "  - prediction_data_both = expl_data_both.assign(mass_g = mdl_mass_vs_both.predict(expl_data))\n",
    "  - visuzlize the prediction\n",
    "    - sns.scatterplot(x='length_cm', y='mass_g', hue='species', data=fish)\n",
    "    - sns.scatterplot(x='length_cm', y='mass_g', color ='black', data=prediction_data)\n",
    "  - manually calculating predictions for multiple regression\n",
    "    - coeffs = mdl_mass_vs_both.params\n",
    "    - print(coeffs)\n",
    "    - ic_bream, ic_perch, ic_pike, ic_roach, slope = coeffs\n",
    "    - np.select()\n",
    "    - conditions = [ explanatory_data['species'] =='Bream',explanatory_data['species'] =='Perch',explanatory_data['species'] =='Pike',explanatory_data['species'] =='Roach']\n",
    "    - choices = [ic_bream, ic_perch, ic_pike, ic_roach]\n",
    "    - intercept = np.select(conditions, choices)\n",
    "    - The final prediction step\n",
    "      - explanatory_data.assign(intercept = np.select(condition, choices), mass_g = intercept + slope*explanatory_data['length_cm'])\n",
    "      - print(prediction_data)\n",
    "      - mdl_mass_vs_both.predict(explanatory_data) "
   ]
  },
  {
   "cell_type": "code",
   "execution_count": 12,
   "id": "b26ff7f9-2123-4a56-b0e0-ec62d62f354c",
   "metadata": {},
   "outputs": [
    {
     "name": "stdout",
     "output_type": "stream",
     "text": [
      "    n_convenience house_age_years\n",
      "0               0        30 to 45\n",
      "1               0        15 to 30\n",
      "2               0         0 to 15\n",
      "3               1        30 to 45\n",
      "4               1        15 to 30\n",
      "5               1         0 to 15\n",
      "6               2        30 to 45\n",
      "7               2        15 to 30\n",
      "8               2         0 to 15\n",
      "9               3        30 to 45\n",
      "10              3        15 to 30\n",
      "11              3         0 to 15\n",
      "12              4        30 to 45\n",
      "13              4        15 to 30\n",
      "14              4         0 to 15\n",
      "15              5        30 to 45\n",
      "16              5        15 to 30\n",
      "17              5         0 to 15\n",
      "18              6        30 to 45\n",
      "19              6        15 to 30\n",
      "20              6         0 to 15\n",
      "21              7        30 to 45\n",
      "22              7        15 to 30\n",
      "23              7         0 to 15\n",
      "24              8        30 to 45\n",
      "25              8        15 to 30\n",
      "26              8         0 to 15\n",
      "27              9        30 to 45\n",
      "28              9        15 to 30\n",
      "29              9         0 to 15\n"
     ]
    }
   ],
   "source": [
    "import numpy as np \n",
    "import pandas as pd \n",
    "from itertools import product\n",
    "# Create n_convenience as an array of numbers from 0 to 10\n",
    "n_convenience = np.arange(0,10,1)\n",
    "\n",
    "# Extract the unique values of house_age_years\n",
    "house_age_years = taiwan_real_estate['house_age_years'].unique()\n",
    "\n",
    "# Create p as all combinations of values of n_convenience and house_age_years\n",
    "p = product(n_convenience, house_age_years)\n",
    "\n",
    "# Transform p to a DataFrame and name the columns\n",
    "explanatory_data = pd.DataFrame(p,columns=['n_convenience','house_age_years'])\n",
    "\n",
    "print(explanatory_data)\n"
   ]
  },
  {
   "cell_type": "code",
   "execution_count": 13,
   "id": "95709883-23d8-4897-a5e4-eccd10b710b6",
   "metadata": {},
   "outputs": [
    {
     "name": "stdout",
     "output_type": "stream",
     "text": [
      "    n_convenience house_age_years  price_twd_msq\n",
      "0               0        30 to 45       7.510958\n",
      "1               0        15 to 30       7.085169\n",
      "2               0         0 to 15       9.413325\n",
      "3               1        30 to 45       8.302415\n",
      "4               1        15 to 30       7.876627\n",
      "5               1         0 to 15      10.204782\n",
      "6               2        30 to 45       9.093873\n",
      "7               2        15 to 30       8.668084\n",
      "8               2         0 to 15      10.996239\n",
      "9               3        30 to 45       9.885330\n",
      "10              3        15 to 30       9.459541\n",
      "11              3         0 to 15      11.787696\n",
      "12              4        30 to 45      10.676787\n",
      "13              4        15 to 30      10.250998\n",
      "14              4         0 to 15      12.579153\n",
      "15              5        30 to 45      11.468244\n",
      "16              5        15 to 30      11.042455\n",
      "17              5         0 to 15      13.370610\n",
      "18              6        30 to 45      12.259701\n",
      "19              6        15 to 30      11.833912\n",
      "20              6         0 to 15      14.162067\n",
      "21              7        30 to 45      13.051158\n",
      "22              7        15 to 30      12.625369\n",
      "23              7         0 to 15      14.953525\n",
      "24              8        30 to 45      13.842615\n",
      "25              8        15 to 30      13.416826\n",
      "26              8         0 to 15      15.744982\n",
      "27              9        30 to 45      14.634072\n",
      "28              9        15 to 30      14.208284\n",
      "29              9         0 to 15      16.536439\n",
      "30             10        30 to 45      15.425530\n",
      "31             10        15 to 30      14.999741\n",
      "32             10         0 to 15      17.327896\n"
     ]
    }
   ],
   "source": [
    "# Create n_convenience as a range of numbers from 0 to 10\n",
    "n_convenience = np.arange(0, 11)\n",
    "\n",
    "# Extract the unique values of house_age_years\n",
    "house_age_years = taiwan_real_estate[\"house_age_years\"].unique()\n",
    "\n",
    "# Create p as all combinations of values of n_convenience and house_age_years\n",
    "p = product(n_convenience, house_age_years)\n",
    "\n",
    "# Transform p to a DataFrame and name the columns\n",
    "explanatory_data = pd.DataFrame(p, columns=['n_convenience', 'house_age_years'])\n",
    "\n",
    "# Add predictions to the DataFrame\n",
    "prediction_data = explanatory_data.assign(price_twd_msq=mdl_price_vs_both.predict(explanatory_data))\n",
    "\n",
    "print(prediction_data)"
   ]
  },
  {
   "cell_type": "code",
   "execution_count": 14,
   "id": "b0081e5d-4249-46bc-abcb-ee6ce6c975d5",
   "metadata": {},
   "outputs": [
    {
     "name": "stdout",
     "output_type": "stream",
     "text": [
      "house_age_years[0 to 15]     9.413325\n",
      "house_age_years[15 to 30]    7.085169\n",
      "house_age_years[30 to 45]    7.510958\n",
      "n_convenience                0.791457\n",
      "dtype: float64\n"
     ]
    }
   ],
   "source": [
    "# Extract the model coefficients, coeffs\n",
    "coeffs = mdl_price_vs_both.params\n",
    "\n",
    "# Print coeffs\n",
    "print(coeffs)\n",
    "\n",
    "# Assign each of the coeffs\n",
    "ic_0_15, ic_15_30, ic_30_45, slope  = coeffs"
   ]
  },
  {
   "cell_type": "code",
   "execution_count": 15,
   "id": "9373f65f-2362-4528-a4b7-041d11c52eca",
   "metadata": {},
   "outputs": [
    {
     "data": {
      "image/png": "[encoded data removed]",
      "text/plain": [
       "<Figure size 432x288 with 1 Axes>"
      ]
     },
     "metadata": {
      "needs_background": "light"
     },
     "output_type": "display_data"
    }
   ],
   "source": [
    "# Extract the model coefficients, coeffs\n",
    "coeffs = mdl_price_vs_both.params\n",
    "\n",
    "# Assign each of the coeffs\n",
    "ic_0_15, ic_15_30, ic_30_45, slope = coeffs\n",
    "\n",
    "# Create the parallel slopes plot\n",
    "plt.axline(xy1=(0, ic_0_15), slope=slope, color=\"green\")\n",
    "plt.axline(xy1=(0, ic_15_30), slope=slope, color=\"orange\")\n",
    "plt.axline(xy1=(0, ic_30_45), slope=slope, color=\"blue\")\n",
    "sns.scatterplot(x=\"n_convenience\",\n",
    "                y=\"price_twd_msq\",\n",
    "                hue=\"house_age_years\",\n",
    "                data=taiwan_real_estate)\n",
    "\n",
    "# Add the predictions in black\n",
    "sns.scatterplot(x='n_convenience',hue='house_age_years',y='price_twd_msq',color='black',data=prediction_data)\n",
    "\n",
    "plt.show()"
   ]
  },
  {
   "cell_type": "code",
   "execution_count": 16,
   "id": "0f8a8d2f-bb2a-406b-aea7-95042ab68cd7",
   "metadata": {},
   "outputs": [
    {
     "data": {
      "text/html": [
       "<div>\n",
       "<style scoped>\n",
       "    .dataframe tbody tr th:only-of-type {\n",
       "        vertical-align: middle;\n",
       "    }\n",
       "\n",
       "    .dataframe tbody tr th {\n",
       "        vertical-align: top;\n",
       "    }\n",
       "\n",
       "    .dataframe thead th {\n",
       "        text-align: right;\n",
       "    }\n",
       "</style>\n",
       "<table border=\"1\" class=\"dataframe\">\n",
       "  <thead>\n",
       "    <tr style=\"text-align: right;\">\n",
       "      <th></th>\n",
       "      <th>n_convenience</th>\n",
       "      <th>house_age_years</th>\n",
       "    </tr>\n",
       "  </thead>\n",
       "  <tbody>\n",
       "    <tr>\n",
       "      <th>0</th>\n",
       "      <td>0</td>\n",
       "      <td>30 to 45</td>\n",
       "    </tr>\n",
       "    <tr>\n",
       "      <th>1</th>\n",
       "      <td>0</td>\n",
       "      <td>15 to 30</td>\n",
       "    </tr>\n",
       "    <tr>\n",
       "      <th>2</th>\n",
       "      <td>0</td>\n",
       "      <td>0 to 15</td>\n",
       "    </tr>\n",
       "    <tr>\n",
       "      <th>3</th>\n",
       "      <td>1</td>\n",
       "      <td>30 to 45</td>\n",
       "    </tr>\n",
       "    <tr>\n",
       "      <th>4</th>\n",
       "      <td>1</td>\n",
       "      <td>15 to 30</td>\n",
       "    </tr>\n",
       "    <tr>\n",
       "      <th>5</th>\n",
       "      <td>1</td>\n",
       "      <td>0 to 15</td>\n",
       "    </tr>\n",
       "    <tr>\n",
       "      <th>6</th>\n",
       "      <td>2</td>\n",
       "      <td>30 to 45</td>\n",
       "    </tr>\n",
       "    <tr>\n",
       "      <th>7</th>\n",
       "      <td>2</td>\n",
       "      <td>15 to 30</td>\n",
       "    </tr>\n",
       "    <tr>\n",
       "      <th>8</th>\n",
       "      <td>2</td>\n",
       "      <td>0 to 15</td>\n",
       "    </tr>\n",
       "    <tr>\n",
       "      <th>9</th>\n",
       "      <td>3</td>\n",
       "      <td>30 to 45</td>\n",
       "    </tr>\n",
       "    <tr>\n",
       "      <th>10</th>\n",
       "      <td>3</td>\n",
       "      <td>15 to 30</td>\n",
       "    </tr>\n",
       "    <tr>\n",
       "      <th>11</th>\n",
       "      <td>3</td>\n",
       "      <td>0 to 15</td>\n",
       "    </tr>\n",
       "    <tr>\n",
       "      <th>12</th>\n",
       "      <td>4</td>\n",
       "      <td>30 to 45</td>\n",
       "    </tr>\n",
       "    <tr>\n",
       "      <th>13</th>\n",
       "      <td>4</td>\n",
       "      <td>15 to 30</td>\n",
       "    </tr>\n",
       "    <tr>\n",
       "      <th>14</th>\n",
       "      <td>4</td>\n",
       "      <td>0 to 15</td>\n",
       "    </tr>\n",
       "    <tr>\n",
       "      <th>15</th>\n",
       "      <td>5</td>\n",
       "      <td>30 to 45</td>\n",
       "    </tr>\n",
       "    <tr>\n",
       "      <th>16</th>\n",
       "      <td>5</td>\n",
       "      <td>15 to 30</td>\n",
       "    </tr>\n",
       "    <tr>\n",
       "      <th>17</th>\n",
       "      <td>5</td>\n",
       "      <td>0 to 15</td>\n",
       "    </tr>\n",
       "    <tr>\n",
       "      <th>18</th>\n",
       "      <td>6</td>\n",
       "      <td>30 to 45</td>\n",
       "    </tr>\n",
       "    <tr>\n",
       "      <th>19</th>\n",
       "      <td>6</td>\n",
       "      <td>15 to 30</td>\n",
       "    </tr>\n",
       "    <tr>\n",
       "      <th>20</th>\n",
       "      <td>6</td>\n",
       "      <td>0 to 15</td>\n",
       "    </tr>\n",
       "    <tr>\n",
       "      <th>21</th>\n",
       "      <td>7</td>\n",
       "      <td>30 to 45</td>\n",
       "    </tr>\n",
       "    <tr>\n",
       "      <th>22</th>\n",
       "      <td>7</td>\n",
       "      <td>15 to 30</td>\n",
       "    </tr>\n",
       "    <tr>\n",
       "      <th>23</th>\n",
       "      <td>7</td>\n",
       "      <td>0 to 15</td>\n",
       "    </tr>\n",
       "    <tr>\n",
       "      <th>24</th>\n",
       "      <td>8</td>\n",
       "      <td>30 to 45</td>\n",
       "    </tr>\n",
       "    <tr>\n",
       "      <th>25</th>\n",
       "      <td>8</td>\n",
       "      <td>15 to 30</td>\n",
       "    </tr>\n",
       "    <tr>\n",
       "      <th>26</th>\n",
       "      <td>8</td>\n",
       "      <td>0 to 15</td>\n",
       "    </tr>\n",
       "    <tr>\n",
       "      <th>27</th>\n",
       "      <td>9</td>\n",
       "      <td>30 to 45</td>\n",
       "    </tr>\n",
       "    <tr>\n",
       "      <th>28</th>\n",
       "      <td>9</td>\n",
       "      <td>15 to 30</td>\n",
       "    </tr>\n",
       "    <tr>\n",
       "      <th>29</th>\n",
       "      <td>9</td>\n",
       "      <td>0 to 15</td>\n",
       "    </tr>\n",
       "    <tr>\n",
       "      <th>30</th>\n",
       "      <td>10</td>\n",
       "      <td>30 to 45</td>\n",
       "    </tr>\n",
       "    <tr>\n",
       "      <th>31</th>\n",
       "      <td>10</td>\n",
       "      <td>15 to 30</td>\n",
       "    </tr>\n",
       "    <tr>\n",
       "      <th>32</th>\n",
       "      <td>10</td>\n",
       "      <td>0 to 15</td>\n",
       "    </tr>\n",
       "  </tbody>\n",
       "</table>\n",
       "</div>"
      ],
      "text/plain": [
       "    n_convenience house_age_years\n",
       "0               0        30 to 45\n",
       "1               0        15 to 30\n",
       "2               0         0 to 15\n",
       "3               1        30 to 45\n",
       "4               1        15 to 30\n",
       "5               1         0 to 15\n",
       "6               2        30 to 45\n",
       "7               2        15 to 30\n",
       "8               2         0 to 15\n",
       "9               3        30 to 45\n",
       "10              3        15 to 30\n",
       "11              3         0 to 15\n",
       "12              4        30 to 45\n",
       "13              4        15 to 30\n",
       "14              4         0 to 15\n",
       "15              5        30 to 45\n",
       "16              5        15 to 30\n",
       "17              5         0 to 15\n",
       "18              6        30 to 45\n",
       "19              6        15 to 30\n",
       "20              6         0 to 15\n",
       "21              7        30 to 45\n",
       "22              7        15 to 30\n",
       "23              7         0 to 15\n",
       "24              8        30 to 45\n",
       "25              8        15 to 30\n",
       "26              8         0 to 15\n",
       "27              9        30 to 45\n",
       "28              9        15 to 30\n",
       "29              9         0 to 15\n",
       "30             10        30 to 45\n",
       "31             10        15 to 30\n",
       "32             10         0 to 15"
      ]
     },
     "execution_count": 16,
     "metadata": {},
     "output_type": "execute_result"
    }
   ],
   "source": [
    "explanatory_data"
   ]
  },
  {
   "cell_type": "code",
   "execution_count": 17,
   "id": "ca005362-765c-45e1-a50f-a5db0a27dca7",
   "metadata": {},
   "outputs": [
    {
     "name": "stdout",
     "output_type": "stream",
     "text": [
      "    n_convenience house_age_years  intercept  price_twd_msq\n",
      "0               0        30 to 45   7.510958       7.510958\n",
      "1               0        15 to 30   7.085169       7.085169\n",
      "2               0         0 to 15   9.413325       9.413325\n",
      "3               1        30 to 45   7.510958       8.302415\n",
      "4               1        15 to 30   7.085169       7.876627\n",
      "5               1         0 to 15   9.413325      10.204782\n",
      "6               2        30 to 45   7.510958       9.093873\n",
      "7               2        15 to 30   7.085169       8.668084\n",
      "8               2         0 to 15   9.413325      10.996239\n",
      "9               3        30 to 45   7.510958       9.885330\n",
      "10              3        15 to 30   7.085169       9.459541\n",
      "11              3         0 to 15   9.413325      11.787696\n",
      "12              4        30 to 45   7.510958      10.676787\n",
      "13              4        15 to 30   7.085169      10.250998\n",
      "14              4         0 to 15   9.413325      12.579153\n",
      "15              5        30 to 45   7.510958      11.468244\n",
      "16              5        15 to 30   7.085169      11.042455\n",
      "17              5         0 to 15   9.413325      13.370610\n",
      "18              6        30 to 45   7.510958      12.259701\n",
      "19              6        15 to 30   7.085169      11.833912\n",
      "20              6         0 to 15   9.413325      14.162067\n",
      "21              7        30 to 45   7.510958      13.051158\n",
      "22              7        15 to 30   7.085169      12.625369\n",
      "23              7         0 to 15   9.413325      14.953525\n",
      "24              8        30 to 45   7.510958      13.842615\n",
      "25              8        15 to 30   7.085169      13.416826\n",
      "26              8         0 to 15   9.413325      15.744982\n",
      "27              9        30 to 45   7.510958      14.634072\n",
      "28              9        15 to 30   7.085169      14.208284\n",
      "29              9         0 to 15   9.413325      16.536439\n",
      "30             10        30 to 45   7.510958      15.425530\n",
      "31             10        15 to 30   7.085169      14.999741\n",
      "32             10         0 to 15   9.413325      17.327896\n"
     ]
    }
   ],
   "source": [
    "# Define conditions\n",
    "conditions = [explanatory_data['house_age_years']=='0 to 15',\n",
    "explanatory_data['house_age_years']=='15 to 30',\n",
    "explanatory_data['house_age_years']=='30 to 45']\n",
    "\n",
    "# Define choices\n",
    "choices = [ic_0_15,ic_15_30,ic_30_45]\n",
    "\n",
    "# Create array of intercepts for each house_age_year category\n",
    "intercept = np.select(conditions, choices)\n",
    "\n",
    "# Create prediction_data with columns intercept and price_twd_msq\n",
    "prediction_data = explanatory_data.assign(\n",
    "\t\t\t      intercept = np.select(conditions, choices),\n",
    "  \t\t\t      price_twd_msq = intercept + slope*explanatory_data['n_convenience'] )\n",
    "\n",
    "print(prediction_data)"
   ]
  },
  {
   "cell_type": "markdown",
   "id": "84719239-2691-4464-9ba4-1612c966a814",
   "metadata": {},
   "source": [
    "# Assessing model performance \n",
    "- MODEL PERFORMANCE METRICS\n",
    "1. coefficient of determination (R-Squared): how well the linear regression line fit the observed values. larger is better\n",
    "2. RSE residual standard error. the typical size of the residuals. small better\n",
    "\n",
    "- getting the coefficient of determination\n",
    "- print(mdl_mass_vs_length.rsquared)\n",
    "- More explanatory variables increases Rsquared\n",
    "- Too many explanatory variables causes overfitting\n",
    "- Adjusted coefficient of determination penalizes more explnatory variables\n",
    "- Penalty is noticeable when Rsquared is small, or Nvar is large fraction of Nobs\n",
    "- in statsmodels, it's contained in the rsquared_adj attribute\n",
    "\n",
    "- print('rsq_length:',mdl_mass_vs_length.rsquared_adj) larger is better \n",
    "- rse_length=np.sqrt(mdl_mass_vs_length.mse_resid)\n",
    "- RSE lower is better "
   ]
  }
 ],
 "metadata": {
  "kernelspec": {
   "display_name": "Python 3",
   "language": "python",
   "name": "python3"
  },
  "language_info": {
   "codemirror_mode": {
    "name": "ipython",
    "version": 3
   },
   "file_extension": ".py",
   "mimetype": "text/x-python",
   "name": "python",
   "nbconvert_exporter": "python",
   "pygments_lexer": "ipython3",
   "version": "3.8.3"
  }
 },
 "nbformat": 4,
 "nbformat_minor": 5
}
