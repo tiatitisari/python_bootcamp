{
 "cells": [
  {
   "cell_type": "markdown",
   "id": "602cc4be-f020-4bcc-b9a9-bf074d842ec0",
   "metadata": {},
   "source": [
    "# Intermediate Python\n",
    "1. Basic plots with matplotlib\n",
    "2. Dictionaries & Pandas\n",
    "3. Logic, Control Flow and Filtering\n",
    "4. Loops\n",
    "5. Case Study: Hacker Statistics "
   ]
  },
  {
   "cell_type": "code",
   "execution_count": null,
   "id": "2c273c8c-7a73-4865-b797-1584a77f6258",
   "metadata": {},
   "outputs": [],
   "source": []
  }
 ],
 "metadata": {
  "kernelspec": {
   "display_name": "Python 3",
   "language": "python",
   "name": "python3"
  },
  "language_info": {
   "codemirror_mode": {
    "name": "ipython",
    "version": 3
   },
   "file_extension": ".py",
   "mimetype": "text/x-python",
   "name": "python",
   "nbconvert_exporter": "python",
   "pygments_lexer": "ipython3",
   "version": "3.8.3"
  }
 },
 "nbformat": 4,
 "nbformat_minor": 5
}
