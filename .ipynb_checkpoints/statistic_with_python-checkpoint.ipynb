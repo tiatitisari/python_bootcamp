{
 "cells": [
  {
   "cell_type": "markdown",
   "id": "18d59593-f24c-4e23-a089-1a32821b9c29",
   "metadata": {},
   "source": [
    "# Introduction to Statistic in Python \n",
    "What can statistics do? to answer this question \n",
    "1. How likely is someone to purchase a product? Are people more likely to purchase it if they can use a different payment system?\n",
    "2. How many occupants will your hotel have? How can you optimize occupancy?\n",
    "3. How many sizes of jeans need to be manufactured so they can fit 95% of the population? Should the same number of each size be produced?\n",
    "4. A/B tests: which ad is more effective in getting people to purchase a product?\n",
    "   \n",
    "- the Field of statistic : collecting and analyzing data\n",
    "- a summary statistic - a fact about or summary of some data "
   ]
  },
  {
   "cell_type": "markdown",
   "id": "39b46065-8db9-4055-a6fa-93ed12cb00c3",
   "metadata": {},
   "source": [
    "# Type of statistics \n",
    "1. Descriptive statistics\n",
    "   - Describe and summarize data\n",
    "3. Inferential statistics\n",
    "   - Use a sample of data to make inferences about a larger population\n",
    "\n",
    "# Types of Data \n",
    "1. Numeric (Quantitative) >> usually visualize or calculate using mean and plots \n",
    "   - Discrete (Count) >> number of pets\n",
    "   - Continuous (Measured) >> Time, hour\n",
    "3. Categorical (Qualitative) >> usually visualize as bar chart \n",
    "   - Nominal (Unordered) >> married/unmarried, country of residence \n",
    "   - Ordinal (Ordered) >> like agreed or disagreed"
   ]
  },
  {
   "cell_type": "markdown",
   "id": "9de84228-b5f6-4b2e-966c-9f5fe5351b2b",
   "metadata": {},
   "source": [
    "# Measures of Center \n",
    "- Median/Mean/Mode\n",
    "- Mean is more suitable to symmetrical data or normal distribution\n",
    "- Median is more suitable if the data is more skewed to another pole\n",
    "- Mode as additional summary to support the data "
   ]
  },
  {
   "cell_type": "code",
   "execution_count": 1,
   "id": "61afbdc7-da3d-4953-8f76-d4cf2ff5b00d",
   "metadata": {},
   "outputs": [
    {
     "name": "stderr",
     "output_type": "stream",
     "text": [
      "/Users/tiatitisari/opt/anaconda3/lib/python3.8/site-packages/pandas/core/computation/expressions.py:20: UserWarning: Pandas requires version '2.7.3' or newer of 'numexpr' (version '2.7.1' currently installed).\n",
      "  from pandas.core.computation.check import NUMEXPR_INSTALLED\n"
     ]
    }
   ],
   "source": [
    "import pandas as pd\n",
    "# Convert all data to DataFrame \n",
    "food_consumption= pd.read_csv('food_consumption.csv')\n",
    "world_happiness = pd.read_csv('world_happiness.csv')\n",
    "amir_deals=pd.read_csv('amir_deals.csv')"
   ]
  },
  {
   "cell_type": "code",
   "execution_count": 2,
   "id": "d9009b5b-4928-4bcc-9dcb-ae1cb1e240a3",
   "metadata": {},
   "outputs": [
    {
     "name": "stdout",
     "output_type": "stream",
     "text": [
      "42.13272727272727\n",
      "12.59\n",
      "44.650000000000006\n",
      "14.58\n"
     ]
    }
   ],
   "source": [
    "# Import numpy with alias np\n",
    "import numpy as np\n",
    "\n",
    "# Filter for Belgium\n",
    "be_consumption = food_consumption[food_consumption['country']=='Belgium']\n",
    "\n",
    "# Filter for USA\n",
    "usa_consumption = food_consumption[food_consumption['country']=='USA']\n",
    "\n",
    "# Calculate mean and median consumption in Belgium\n",
    "print(np.mean(be_consumption['consumption']))\n",
    "print(np.median(be_consumption['consumption']))\n",
    "\n",
    "# Calculate mean and median consumption in USA\n",
    "print(np.mean(usa_consumption['consumption']))\n",
    "print(np.median(usa_consumption['consumption']))"
   ]
  },
  {
   "cell_type": "code",
   "execution_count": 3,
   "id": "dc3e74e3-e69c-40b7-8085-7f7554349862",
   "metadata": {},
   "outputs": [
    {
     "name": "stdout",
     "output_type": "stream",
     "text": [
      "              mean  median\n",
      "country                   \n",
      "Belgium  42.132727   12.59\n",
      "USA      44.650000   14.58\n"
     ]
    }
   ],
   "source": [
    "# Import numpy as np\n",
    "import numpy as np\n",
    "\n",
    "# Subset for Belgium and USA only\n",
    "be_and_usa = food_consumption[(food_consumption['country']=='Belgium') | (food_consumption['country']=='USA')]\n",
    "\n",
    "# Group by country, select consumption column, and compute mean and median\n",
    "print(be_and_usa.groupby('country')['consumption'].agg([np.mean,np.median]))"
   ]
  },
  {
   "cell_type": "code",
   "execution_count": 4,
   "id": "64227cb4-a755-4c05-b1d9-5c3b823acede",
   "metadata": {},
   "outputs": [
    {
     "data": {
      "image/png": "[encoded data removed]",
      "text/plain": [
       "<Figure size 432x288 with 1 Axes>"
      ]
     },
     "metadata": {
      "needs_background": "light"
     },
     "output_type": "display_data"
    }
   ],
   "source": [
    "# Import matplotlib.pyplot with alias plt\n",
    "import matplotlib.pyplot as plt\n",
    "\n",
    "# Subset for food_category equals rice\n",
    "rice_consumption = food_consumption[food_consumption['food_category']=='rice']\n",
    "\n",
    "# Histogram of co2_emission for rice and show plot\n",
    "rice_consumption['co2_emission'].hist(bins=20)\n",
    "plt.show()"
   ]
  },
  {
   "cell_type": "code",
   "execution_count": 5,
   "id": "da1aea28-f933-4937-bfb5-d5f2aa19e136",
   "metadata": {},
   "outputs": [
    {
     "name": "stdout",
     "output_type": "stream",
     "text": [
      "15.2\n",
      "37.59161538461538\n"
     ]
    }
   ],
   "source": [
    "# Subset for food_category equals rice\n",
    "rice_consumption = food_consumption[food_consumption['food_category'] == 'rice']\n",
    "\n",
    "# Calculate mean and median of co2_emission with .agg()\n",
    "print(np.median(rice_consumption['co2_emission']))\n",
    "\n",
    "print(np.mean(rice_consumption['co2_emission']))"
   ]
  },
  {
   "cell_type": "markdown",
   "id": "e4398c9a-b9c6-4358-8fe9-b3d60fd63477",
   "metadata": {},
   "source": [
    "# Measure of Spread \n",
    "1. Variance = distance all data point to mean\n",
    "  - Substract mean from each data point\n",
    "         - dists = msleep['sleep_total']-np.mean(msleep['sleep_total'])\n",
    "  - Square each distance\n",
    "         - sq_dists = dists ** 2\n",
    "  - Add them all together\n",
    "         - sum_sq_dists = np.sum(sq_dists)\n",
    "  - Divide by number of data points -1\n",
    "         - variance = sum_sq_dists/(83-1)\n",
    "  - The higher the variance, the more spread out the data is\n",
    "  - The unit of variance is square\n",
    "  - OR np.var(ddof = 1) , if we don't specify ddof=1, population variance is calculated instead of sample variance\n",
    "\n",
    "2. Standar Deviation\n",
    " - Standar deviation is square root of np\n",
    "       - np.sqrt(np.var()\n",
    "       - OR np.std(ddof=1) >> sample/population\n",
    " - the unit is not square\n",
    " - Standard deviation squares distance, penalizing longer distances more than shorter ones\n",
    "   \n",
    "3. Mean Absolute Deviation\n",
    " - Mean absolute deviation penalizes each distance equally\n",
    " - SD isn't better than the MAD, but SD is more common than MAD\n",
    " - dists = msleep['sleep_total']-mean(msleep$sleep_total)\n",
    "       np.mean(np.abs(dists))\n",
    "\n",
    "4. Quantiles/Quartiles \n",
    "   - np.quantile(column,0.5) == median\n",
    "   - np.quantile(column, [0,0.25,0.5,0.75,1])\n",
    "   - Boxplots use quartiles >> plt.boxplot()\n",
    "   - OR np.linspace(start,stop,num) to calculate quartiles  >> starting at 0,\n",
    "     \n",
    "6. Interquartile Range(IQR)\n",
    "   - the distance between 75th and 25th percentile == the height of the box in a boxplot\n",
    "   - np.quantile 75 - np.quantile 25 OR\n",
    "   - from scipy.stats import iqr >> iqr()\n",
    "\n",
    "7. Outliers : data point that is substantially different from others\n",
    "   - How do we know what a substantial difference is? A data point is an outlier if data < Q1 -1.5*IQR or\n",
    "   - data > Q3 + 1.5* IQR\n",
    "   - How to find outliers?\n",
    "         - calculate the iqr iqr = iqr(column) \n",
    "         - lower_threshold = np.quantile(column, 0.25)-1.5*iqr\n",
    "         - upper_threshold = np.quantile(column, 0.75)+1.5*iqr\n",
    "\n",
    "8. Many of them can be coverd using .describe()"
   ]
  },
  {
   "cell_type": "code",
   "execution_count": 6,
   "id": "b3a73fbf-ec9b-452d-bb0e-68fc74023d91",
   "metadata": {},
   "outputs": [
    {
     "name": "stdout",
     "output_type": "stream",
     "text": [
      "[   0.        5.21     16.53     62.5975 1712.    ]\n"
     ]
    }
   ],
   "source": [
    "# Calculate the quartiles of co2_emission\n",
    "print(np.quantile(food_consumption['co2_emission'],[0,0.25,0.5,0.75,1]))"
   ]
  },
  {
   "cell_type": "code",
   "execution_count": 7,
   "id": "54db2f96-6887-4bed-83fb-0e6ce64dff55",
   "metadata": {},
   "outputs": [
    {
     "name": "stdout",
     "output_type": "stream",
     "text": [
      "[   0.       3.54    11.026   25.59    99.978 1712.   ]\n"
     ]
    }
   ],
   "source": [
    "# Calculate the quintiles of co2_emission\n",
    "print(np.quantile(food_consumption['co2_emission'],np.linspace(0,1,6)))"
   ]
  },
  {
   "cell_type": "code",
   "execution_count": 8,
   "id": "024b22d6-974d-4733-8c8e-acb523e0ce77",
   "metadata": {},
   "outputs": [
    {
     "name": "stdout",
     "output_type": "stream",
     "text": [
      "[0.00000e+00 6.68000e-01 3.54000e+00 7.04000e+00 1.10260e+01 1.65300e+01\n",
      " 2.55900e+01 4.42710e+01 9.99780e+01 2.03629e+02 1.71200e+03]\n"
     ]
    }
   ],
   "source": [
    "# Calculate the quintiles of co2_emission\n",
    "print(np.quantile(food_consumption['co2_emission'],np.linspace(0,1,11)))"
   ]
  },
  {
   "cell_type": "code",
   "execution_count": 9,
   "id": "ebcf3b47-718e-4bc7-9c1d-3aacc3463b4b",
   "metadata": {},
   "outputs": [
    {
     "name": "stdout",
     "output_type": "stream",
     "text": [
      "                        var         std\n",
      "food_category                          \n",
      "beef           88748.408132  297.906710\n",
      "dairy          17671.891985  132.935669\n",
      "eggs              21.371819    4.622966\n",
      "fish             921.637349   30.358481\n",
      "lamb_goat      16475.518363  128.356996\n",
      "nuts              35.639652    5.969895\n",
      "pork            3094.963537   55.632396\n",
      "poultry          245.026801   15.653332\n",
      "rice            2281.376243   47.763754\n",
      "soybeans           0.879882    0.938020\n",
      "wheat             71.023937    8.427570\n"
     ]
    },
    {
     "data": {
      "image/png": "[encoded data removed]",
      "text/plain": [
       "<Figure size 432x288 with 1 Axes>"
      ]
     },
     "metadata": {
      "needs_background": "light"
     },
     "output_type": "display_data"
    },
    {
     "data": {
      "image/png": "[encoded data removed]",
      "text/plain": [
       "<Figure size 432x288 with 1 Axes>"
      ]
     },
     "metadata": {
      "needs_background": "light"
     },
     "output_type": "display_data"
    }
   ],
   "source": [
    "# Print variance and sd of co2_emission for each food_category\n",
    "print(food_consumption.groupby('food_category')['co2_emission'].agg([np.var,np.std]))\n",
    "\n",
    "# Import matplotlib.pyplot with alias plt\n",
    "import matplotlib.pyplot as plt \n",
    "\n",
    "# Create histogram of co2_emission for food_category 'beef'\n",
    "food_consumption[food_consumption['food_category']=='beef']['co2_emission'].hist()\n",
    "# Show plot\n",
    "plt.show()\n",
    "\n",
    "# Create histogram of co2_emission for food_category 'eggs'\n",
    "food_consumption[food_consumption['food_category']=='eggs']['co2_emission'].hist()\n",
    "# Show plot\n",
    "plt.show()"
   ]
  },
  {
   "cell_type": "code",
   "execution_count": 10,
   "id": "d4c5193a-46f6-43c8-beaa-580832f1c092",
   "metadata": {},
   "outputs": [
    {
     "name": "stdout",
     "output_type": "stream",
     "text": [
      "country\n",
      "Argentina    2172.4\n",
      "Name: co2_emission, dtype: float64\n"
     ]
    }
   ],
   "source": [
    "# Calculate total co2_emission per country: emissions_by_country\n",
    "emissions_by_country = food_consumption.groupby('country')['co2_emission'].sum()\n",
    "\n",
    "# Compute the first and third quantiles and IQR of emissions_by_country\n",
    "q1 = np.quantile(emissions_by_country, 0.25)\n",
    "q3 = np.quantile(emissions_by_country, 0.75)\n",
    "iqr = q3 - q1\n",
    "\n",
    "# Calculate the lower and upper cutoffs for outliers\n",
    "lower = q1 - 1.5 * iqr\n",
    "upper = q3 + 1.5 * iqr\n",
    "\n",
    "# Subset emissions_by_country to find outliers\n",
    "outliers = emissions_by_country[(emissions_by_country<lower)|(emissions_by_country>upper)]\n",
    "print(outliers)"
   ]
  },
  {
   "cell_type": "markdown",
   "id": "8f6dabf3-5373-4065-b347-2ce41c672d16",
   "metadata": {},
   "source": [
    "# Measuring chance \n",
    "1. Probability P(event) = # ways event can happen/total # of possible outcomes\n",
    "2. impossible to most likely\n",
    "3. Sample method >> .sample()\n",
    "    - setting a random seed >> np.random.seed()\n",
    "    - Sample without replacement\n",
    "       - if the sample is 4 you can put .sample(4)\n",
    "    - Sample with replacement\n",
    "       - .sample(5, replace=True)\n",
    "       "
   ]
  },
  {
   "cell_type": "code",
   "execution_count": 11,
   "id": "a3ad3645-e4f7-463d-a7af-5c5831be571a",
   "metadata": {},
   "outputs": [
    {
     "data": {
      "text/html": [
       "<div>\n",
       "<style scoped>\n",
       "    .dataframe tbody tr th:only-of-type {\n",
       "        vertical-align: middle;\n",
       "    }\n",
       "\n",
       "    .dataframe tbody tr th {\n",
       "        vertical-align: top;\n",
       "    }\n",
       "\n",
       "    .dataframe thead th {\n",
       "        text-align: right;\n",
       "    }\n",
       "</style>\n",
       "<table border=\"1\" class=\"dataframe\">\n",
       "  <thead>\n",
       "    <tr style=\"text-align: right;\">\n",
       "      <th></th>\n",
       "      <th>Unnamed: 0</th>\n",
       "      <th>product</th>\n",
       "      <th>client</th>\n",
       "      <th>status</th>\n",
       "      <th>amount</th>\n",
       "      <th>num_users</th>\n",
       "    </tr>\n",
       "  </thead>\n",
       "  <tbody>\n",
       "    <tr>\n",
       "      <th>0</th>\n",
       "      <td>1</td>\n",
       "      <td>Product F</td>\n",
       "      <td>Current</td>\n",
       "      <td>Won</td>\n",
       "      <td>7389.52</td>\n",
       "      <td>19</td>\n",
       "    </tr>\n",
       "    <tr>\n",
       "      <th>1</th>\n",
       "      <td>2</td>\n",
       "      <td>Product C</td>\n",
       "      <td>New</td>\n",
       "      <td>Won</td>\n",
       "      <td>4493.01</td>\n",
       "      <td>43</td>\n",
       "    </tr>\n",
       "    <tr>\n",
       "      <th>2</th>\n",
       "      <td>3</td>\n",
       "      <td>Product B</td>\n",
       "      <td>New</td>\n",
       "      <td>Won</td>\n",
       "      <td>5738.09</td>\n",
       "      <td>87</td>\n",
       "    </tr>\n",
       "    <tr>\n",
       "      <th>3</th>\n",
       "      <td>4</td>\n",
       "      <td>Product I</td>\n",
       "      <td>Current</td>\n",
       "      <td>Won</td>\n",
       "      <td>2591.24</td>\n",
       "      <td>83</td>\n",
       "    </tr>\n",
       "    <tr>\n",
       "      <th>4</th>\n",
       "      <td>5</td>\n",
       "      <td>Product E</td>\n",
       "      <td>Current</td>\n",
       "      <td>Won</td>\n",
       "      <td>6622.97</td>\n",
       "      <td>17</td>\n",
       "    </tr>\n",
       "  </tbody>\n",
       "</table>\n",
       "</div>"
      ],
      "text/plain": [
       "   Unnamed: 0    product   client status   amount  num_users\n",
       "0           1  Product F  Current    Won  7389.52         19\n",
       "1           2  Product C      New    Won  4493.01         43\n",
       "2           3  Product B      New    Won  5738.09         87\n",
       "3           4  Product I  Current    Won  2591.24         83\n",
       "4           5  Product E  Current    Won  6622.97         17"
      ]
     },
     "execution_count": 11,
     "metadata": {},
     "output_type": "execute_result"
    }
   ],
   "source": [
    "amir_deals.head()"
   ]
  },
  {
   "cell_type": "code",
   "execution_count": 12,
   "id": "91b664f9-5503-491e-a5f4-f8fe631e38ba",
   "metadata": {},
   "outputs": [
    {
     "name": "stdout",
     "output_type": "stream",
     "text": [
      "product\n",
      "Product B    0.348315\n",
      "Product D    0.224719\n",
      "Product A    0.129213\n",
      "Product C    0.084270\n",
      "Product F    0.061798\n",
      "Product H    0.044944\n",
      "Product I    0.039326\n",
      "Product E    0.028090\n",
      "Product N    0.016854\n",
      "Product G    0.011236\n",
      "Product J    0.011236\n",
      "Name: count, dtype: float64\n"
     ]
    }
   ],
   "source": [
    "# Count the deals for each product\n",
    "counts = amir_deals['product'].value_counts()\n",
    "\n",
    "# Calculate probability of picking a deal with each product\n",
    "probs = counts/sum(counts)\n",
    "print(probs)"
   ]
  },
  {
   "cell_type": "code",
   "execution_count": 13,
   "id": "65f15db3-f2c3-4eb3-90cc-2658112dbd3f",
   "metadata": {},
   "outputs": [
    {
     "name": "stdout",
     "output_type": "stream",
     "text": [
      "     Unnamed: 0    product   client status   amount  num_users\n",
      "127         128  Product B  Current    Won  2070.25          7\n",
      "148         149  Product D  Current    Won  3485.48         52\n",
      "77           78  Product B  Current    Won  6252.30         27\n",
      "104         105  Product D  Current    Won  4110.98         39\n",
      "166         167  Product C      New   Lost  3779.86         11\n"
     ]
    }
   ],
   "source": [
    "# Set random seed\n",
    "np.random.seed(24)\n",
    "\n",
    "# Sample 5 deals without replacement\n",
    "sample_without_replacement = amir_deals.sample(5)\n",
    "print(sample_without_replacement)"
   ]
  },
  {
   "cell_type": "code",
   "execution_count": 14,
   "id": "f8c35420-35c3-4f95-bd6c-68e17f9b00e3",
   "metadata": {},
   "outputs": [
    {
     "name": "stdout",
     "output_type": "stream",
     "text": [
      "     Unnamed: 0    product   client status   amount  num_users\n",
      "162         163  Product D  Current    Won  6755.66         59\n",
      "131         132  Product B  Current    Won  6872.29         25\n",
      "87           88  Product C  Current    Won  3579.63          3\n",
      "145         146  Product A  Current    Won  4682.94         63\n",
      "145         146  Product A  Current    Won  4682.94         63\n"
     ]
    }
   ],
   "source": [
    "# Set random seed\n",
    "np.random.seed(24)\n",
    "\n",
    "# Sample 5 deals with replacement\n",
    "sample_with_replacement = amir_deals.sample(5, replace =True)\n",
    "print(sample_with_replacement)"
   ]
  },
  {
   "cell_type": "markdown",
   "id": "618f3c26-f64c-4c5f-bb9a-49dc77334f98",
   "metadata": {},
   "source": [
    "# Discrete Distributions \n",
    "- probability distribution : describes the probability of each possible outcome in a scenario\n",
    "- Expected value: mean of a probability distribution\n",
    "- fair die = discrete uniform distribution\n",
    "- Law of large numbers : As the size of your sample increases, the sample mean will approach the expected value. Expected value in here can be considered as normal distribution or discrete uniform distribution in fair die or theoretical mean "
   ]
  },
  {
   "cell_type": "code",
   "execution_count": 15,
   "id": "7630c57d-c3e6-49d3-b798-a610cedf419f",
   "metadata": {},
   "outputs": [
    {
     "data": {
      "image/png": "[encoded data removed]",
      "text/plain": [
       "<Figure size 432x288 with 1 Axes>"
      ]
     },
     "metadata": {
      "needs_background": "light"
     },
     "output_type": "display_data"
    }
   ],
   "source": [
    "# create dataset \n",
    "dict ={'group_id':['A','B','C','D','E','F','G','H','I','J'],'group_size':[2,4,6,2,2,2,3,2,4,2]}\n",
    "restaurant_groups = pd.DataFrame(dict)\n",
    "\n",
    "# Create a histogram of restaurant_groups and show plot\n",
    "restaurant_groups['group_size'].hist(bins =[2,3,4,5,6])\n",
    "plt.show()"
   ]
  },
  {
   "cell_type": "code",
   "execution_count": 16,
   "id": "65ec2b63-f9b2-4630-b611-27546864d1d3",
   "metadata": {},
   "outputs": [
    {
     "name": "stdout",
     "output_type": "stream",
     "text": [
      "   group_size      prob\n",
      "0           0  0.068966\n",
      "1           1  0.137931\n",
      "2           2  0.206897\n",
      "3           3  0.068966\n",
      "4           4  0.068966\n",
      "5           5  0.068966\n",
      "6           6  0.103448\n",
      "7           7  0.068966\n",
      "8           8  0.137931\n",
      "9           9  0.068966\n"
     ]
    }
   ],
   "source": [
    "# Create probability distribution\n",
    "size_dist = restaurant_groups['group_size']/ restaurant_groups['group_size'].sum()\n",
    "\n",
    "\n",
    "# Reset index and rename columns\n",
    "size_dist = size_dist.reset_index()\n",
    "\n",
    "size_dist.columns = ['group_size', 'prob']\n",
    "\n",
    "print(size_dist)"
   ]
  },
  {
   "cell_type": "code",
   "execution_count": 17,
   "id": "65c8ae92-b7d2-477a-a85b-24e805a869a7",
   "metadata": {},
   "outputs": [
    {
     "name": "stdout",
     "output_type": "stream",
     "text": [
      "2.9000000000000004\n"
     ]
    }
   ],
   "source": [
    "# Create probability distribution\n",
    "size_dist = restaurant_groups['group_size'].value_counts() / restaurant_groups.shape[0]\n",
    "# Reset index and rename columns\n",
    "size_dist = size_dist.reset_index()\n",
    "size_dist.columns = ['group_size', 'prob']\n",
    "\n",
    "# Calculate expected value\n",
    "expected_value = sum(size_dist['group_size']*size_dist['prob'])\n",
    "print(expected_value)"
   ]
  },
  {
   "cell_type": "code",
   "execution_count": 18,
   "id": "9b49062a-1f55-41f7-b646-47b05fdd4334",
   "metadata": {},
   "outputs": [
    {
     "name": "stdout",
     "output_type": "stream",
     "text": [
      "0.30000000000000004\n"
     ]
    }
   ],
   "source": [
    "# Create probability distribution\n",
    "size_dist = restaurant_groups['group_size'].value_counts() / restaurant_groups.shape[0]\n",
    "# Reset index and rename columns\n",
    "size_dist = size_dist.reset_index()\n",
    "size_dist.columns = ['group_size', 'prob']\n",
    "\n",
    "# Expected value\n",
    "expected_value = np.sum(size_dist['group_size'] * size_dist['prob'])\n",
    "\n",
    "# Subset groups of size 4 or more\n",
    "groups_4_or_more = size_dist[size_dist['group_size']>=4]\n",
    "\n",
    "# Sum the probabilities of groups_4_or_more\n",
    "prob_4_or_more = groups_4_or_more['prob'].sum()\n",
    "print(prob_4_or_more)"
   ]
  },
  {
   "cell_type": "markdown",
   "id": "a889bf4f-033a-488e-87e0-b807729dec45",
   "metadata": {},
   "source": [
    "# Continuous Distributions\n",
    "1. Continuous uniform distribution == expected value in discrete or same as discrete uniform distribution. Same probability within time of length or any measurement\n",
    "2. calculate using python:\n",
    "   - from scipy.stats import uniform >> uniform.cdf(7,0,12)\n",
    "   - Generating random numbers according to uniform distribution >> uniform.rvs(min_value, max_value, size) "
   ]
  },
  {
   "cell_type": "code",
   "execution_count": 19,
   "id": "1dbe5e31-8e6c-4821-8e0b-93f1201f87e1",
   "metadata": {},
   "outputs": [
    {
     "name": "stdout",
     "output_type": "stream",
     "text": [
      "0.25000000000000006\n",
      "0.25\n"
     ]
    }
   ],
   "source": [
    "from scipy.stats import uniform \n",
    "test_1 = uniform.cdf(7,0,12)-uniform.cdf(4,0,12)\n",
    "test_2 = uniform.cdf(7,4,12)\n",
    "print(test_1) \n",
    "print(test_2)"
   ]
  },
  {
   "cell_type": "code",
   "execution_count": 20,
   "id": "b02145ae-5279-44f9-b4b6-719de667be36",
   "metadata": {},
   "outputs": [
    {
     "name": "stdout",
     "output_type": "stream",
     "text": [
      "0.16666666666666666\n"
     ]
    }
   ],
   "source": [
    "# Min and max wait times for back-up that happens every 30 min\n",
    "min_time = 0\n",
    "max_time = 30\n",
    "\n",
    "# Import uniform from scipy.stats\n",
    "from scipy.stats import uniform\n",
    "\n",
    "# Calculate probability of waiting less than 5 mins\n",
    "prob_less_than_5 = uniform.cdf(5,0,30)\n",
    "print(prob_less_than_5)"
   ]
  },
  {
   "cell_type": "code",
   "execution_count": 21,
   "id": "4f572961-0fd0-4f3f-b524-b027cb0f1ae2",
   "metadata": {},
   "outputs": [
    {
     "name": "stdout",
     "output_type": "stream",
     "text": [
      "0.8333333333333334\n"
     ]
    }
   ],
   "source": [
    "# Min and max wait times for back-up that happens every 30 min\n",
    "min_time = 0\n",
    "max_time = 30\n",
    "\n",
    "# Import uniform from scipy.stats\n",
    "from scipy.stats import uniform\n",
    "\n",
    "# Calculate probability of waiting more than 5 mins\n",
    "prob_greater_than_5 = uniform.cdf(30,5,30)\n",
    "print(prob_greater_than_5)"
   ]
  },
  {
   "cell_type": "code",
   "execution_count": 22,
   "id": "01f9202e-1a70-4dbc-8284-b5fe27e06f80",
   "metadata": {},
   "outputs": [
    {
     "name": "stdout",
     "output_type": "stream",
     "text": [
      "0.3333333333333333\n"
     ]
    }
   ],
   "source": [
    "# Min and max wait times for back-up that happens every 30 min\n",
    "min_time = 0\n",
    "max_time = 30\n",
    "\n",
    "# Import uniform from scipy.stats\n",
    "from scipy.stats import uniform\n",
    "\n",
    "# Calculate probability of waiting 10-20 mins\n",
    "prob_between_10_and_20 = uniform.cdf(20,10,30)\n",
    "print(prob_between_10_and_20)"
   ]
  },
  {
   "cell_type": "code",
   "execution_count": 23,
   "id": "1192626e-eb6c-47a7-94c3-bf995d1f11a2",
   "metadata": {},
   "outputs": [
    {
     "data": {
      "image/png": "[encoded data removed]",
      "text/plain": [
       "<Figure size 432x288 with 1 Axes>"
      ]
     },
     "metadata": {
      "needs_background": "light"
     },
     "output_type": "display_data"
    }
   ],
   "source": [
    "# Set random seed to 334\n",
    "np.random.seed(334)\n",
    "\n",
    "# Import uniform\n",
    "from scipy.stats import uniform\n",
    "\n",
    "# Generate 1000 wait times between 0 and 30 mins\n",
    "wait_times = uniform.rvs(0, 30, size=1000)\n",
    "\n",
    "# Create a histogram of simulated times and show plot\n",
    "plt.hist(x=wait_times)\n",
    "plt.show()"
   ]
  },
  {
   "cell_type": "markdown",
   "id": "53f2d7e8-4fbd-42d3-aee5-cbbda7aa1d03",
   "metadata": {},
   "source": [
    "# Binomial Distribution \n",
    "from scipy.stats import binom \n",
    "\n",
    "binom.rvs(# of coins, probability of success, size = # of trials) \n",
    "- probability distribution of the number of successes in a sequence of independent trials\n",
    "- described by n and p\n",
    "  - n: total number of trials\n",
    "  - p: probability of success\n",
    "- binom.cdf() >> probability of getting a number of successes less than or equal to the first argument. for greater number then\n",
    "    - 1 - binom.cdf()\n",
    "- binom.pmf(num heads, num trials, prob of heads in population) >> probability of getting a number of successes equal to argument. let's say how much the probability you want to get if you throw coin 10 times as result 7 head? binomial.pmf(num of heads? 7, num of trials 10 times, probability of head? 50%) \n",
    "- Expected value = n * p\n",
    "- Independence : The binomial distribution is a probability distribution of the number of successes in a sequence of independent trials. If trials are not independent, the binomial distribution does not apply!\n",
    "  \n",
    "  \n"
   ]
  },
  {
   "cell_type": "code",
   "execution_count": 24,
   "id": "c0af2929-adf1-4adf-8433-4ca4d8a20277",
   "metadata": {},
   "outputs": [
    {
     "name": "stdout",
     "output_type": "stream",
     "text": [
      "[1]\n"
     ]
    }
   ],
   "source": [
    "# Import binom from scipy.stats\n",
    "from scipy.stats import binom\n",
    "\n",
    "# Set random seed to 10\n",
    "np.random.seed(10)\n",
    "\n",
    "# Simulate a single deal\n",
    "print(binom.rvs(1, 0.3, size=1))"
   ]
  },
  {
   "cell_type": "code",
   "execution_count": 25,
   "id": "1c54d0b4-09c9-4761-9877-d3ad6dd96171",
   "metadata": {},
   "outputs": [
    {
     "name": "stdout",
     "output_type": "stream",
     "text": [
      "[1]\n"
     ]
    }
   ],
   "source": [
    "# Import binom from scipy.stats\n",
    "from scipy.stats import binom\n",
    "\n",
    "# Set random seed to 10\n",
    "np.random.seed(10)\n",
    "\n",
    "# Simulate 1 week of 3 deals\n",
    "print(binom.rvs(3,0.3, size=1))"
   ]
  },
  {
   "cell_type": "code",
   "execution_count": 26,
   "id": "755ae06b-f324-49d5-b0cd-c40251700d67",
   "metadata": {},
   "outputs": [
    {
     "name": "stdout",
     "output_type": "stream",
     "text": [
      "0.8269230769230769\n"
     ]
    }
   ],
   "source": [
    "# Import binom from scipy.stats\n",
    "from scipy.stats import binom\n",
    "\n",
    "# Set random seed to 10\n",
    "np.random.seed(10)\n",
    "\n",
    "# Simulate 52 weeks of 3 deals\n",
    "deals = binom.rvs(3,0.3,size=52)\n",
    "\n",
    "# Print mean deals won per week\n",
    "print(np.mean(deals))"
   ]
  },
  {
   "cell_type": "code",
   "execution_count": 27,
   "id": "eff8fbc4-eac1-410e-af76-bc829b00dcaa",
   "metadata": {},
   "outputs": [
    {
     "name": "stdout",
     "output_type": "stream",
     "text": [
      "0.8999999999999999\n",
      "0.75\n",
      "1.0499999999999998\n"
     ]
    }
   ],
   "source": [
    "# Expected number won with 30% win rate\n",
    "won_30pct = 3 * 0.3\n",
    "print(won_30pct)\n",
    "\n",
    "# Expected number won with 25% win rate\n",
    "won_25pct = 3 *0.25\n",
    "print(won_25pct)\n",
    "\n",
    "# Expected number won with 35% win rate\n",
    "won_35pct = 3*0.35\n",
    "print(won_35pct)"
   ]
  },
  {
   "cell_type": "markdown",
   "id": "fc0f4760-24b1-4256-8273-b7f50a6d56e3",
   "metadata": {},
   "source": [
    "# The normal distribution \n",
    "- few important properties:\n",
    "  1. symmetrical -- Bell curved\n",
    "  2. area beneath the curve = 1\n",
    "  3. Curve never hits 0\n",
    "- Described by mean and standard deviation\n",
    "- When the distribution has mean = 0 and standard deviation as 1 then it called standard normal distribution\n",
    "- Areas under normal distribution\n",
    "  1. 68% of area falls within 1 standard deviation\n",
    "  2. 95% of area falls within 2 standard deviation\n",
    "  3. 99.7% of area falls within 3 standard deviation\n",
    "- how to calculate?\n",
    "  1. from scipy.stats import norm\n",
    "  2. norm.cdf(number being asked? ,mean,standard deviation)\n",
    "     1- norm.cdf() >> greater than\n",
    "  3. same as binom.pfm >> norm.ppf(area covered?90%?, mean, std) >> what height are 90% of women?\n",
    "  4. 90% of women taller than? norm.ppf((1-0.9),mean, std)\n",
    "- generating random numbers?\n",
    "  1. norm.rvs(mean, std, size?)\n",
    "     "
   ]
  },
  {
   "cell_type": "code",
   "execution_count": 28,
   "id": "9d358ae9-0e58-47ae-9b12-9d8ede8e34f5",
   "metadata": {},
   "outputs": [
    {
     "data": {
      "image/png": "[encoded data removed]",
      "text/plain": [
       "<Figure size 432x288 with 1 Axes>"
      ]
     },
     "metadata": {
      "needs_background": "light"
     },
     "output_type": "display_data"
    }
   ],
   "source": [
    "# Histogram of amount with 10 bins and show plot\n",
    "amir_deals['amount'].hist(bins=10)\n",
    "plt.show()"
   ]
  },
  {
   "cell_type": "code",
   "execution_count": 29,
   "id": "a02f191b-614a-43f3-a2cb-171d39151acf",
   "metadata": {},
   "outputs": [
    {
     "name": "stdout",
     "output_type": "stream",
     "text": [
      "0.9042258221229889\n"
     ]
    }
   ],
   "source": [
    "# Probability of deal < 7500\n",
    "from scipy.stats import norm\n",
    "prob_less_7500 = norm.cdf(7500,amir_deals['amount'].mean(),\n",
    "amir_deals['amount'].std())\n",
    "\n",
    "print(prob_less_7500)"
   ]
  },
  {
   "cell_type": "code",
   "execution_count": 30,
   "id": "8e9e7641-d612-42ba-9237-1b7cf43afae6",
   "metadata": {},
   "outputs": [
    {
     "name": "stdout",
     "output_type": "stream",
     "text": [
      "0.6826894921370859\n"
     ]
    }
   ],
   "source": [
    "# Probability of deal between 3000 and 7000\n",
    "prob_3000_to_7000 = norm.cdf(7000,5000,2000)-norm.cdf(3000,5000,2000)\n",
    "\n",
    "print(prob_3000_to_7000)"
   ]
  },
  {
   "cell_type": "code",
   "execution_count": 31,
   "id": "bf06a427-d159-4335-ad2f-2b8c4abb55e5",
   "metadata": {},
   "outputs": [
    {
     "name": "stdout",
     "output_type": "stream",
     "text": [
      "3651.0204996078364\n"
     ]
    }
   ],
   "source": [
    "# Calculate amount that 25% of deals will be less than\n",
    "pct_25 = norm.ppf(0.25,5000,2000)\n",
    "\n",
    "print(pct_25)"
   ]
  },
  {
   "cell_type": "code",
   "execution_count": 32,
   "id": "68a79d23-a2ae-44ee-9708-ac22b61b933c",
   "metadata": {},
   "outputs": [
    {
     "data": {
      "image/png": "[encoded data removed]",
      "text/plain": [
       "<Figure size 432x288 with 1 Axes>"
      ]
     },
     "metadata": {
      "needs_background": "light"
     },
     "output_type": "display_data"
    }
   ],
   "source": [
    "# Calculate new average amount\n",
    "new_mean = 1.2*5000\n",
    "\n",
    "# Calculate new standard deviation\n",
    "new_sd = 1.3*2000\n",
    "\n",
    "# Simulate 36 new sales\n",
    "new_sales = norm.rvs(new_mean,new_sd,size=36)\n",
    "\n",
    "# # Create histogram and show\n",
    "plt.hist(new_sales)\n",
    "plt.show()\n",
    "\n"
   ]
  },
  {
   "cell_type": "markdown",
   "id": "2487a727-781c-4cff-9f3f-2e414858075e",
   "metadata": {},
   "source": [
    "# The Central Limit Theorem (CLT)\n",
    "- sampling distribution\n",
    "  the sampling distribution of a statistic becomes closer to the normal distribution as the number of trials increases\n",
    "- central limit theorem only applied if the sample taken randomly and independent\n",
    "- estimate characteristics of unknown underlying distribution\n",
    "- More easily estimate characteristics of large populations\n"
   ]
  },
  {
   "cell_type": "code",
   "execution_count": 33,
   "id": "98e15a2d-d733-41d0-9fca-d0954f8d1255",
   "metadata": {},
   "outputs": [
    {
     "name": "stdout",
     "output_type": "stream",
     "text": [
      "32.0\n"
     ]
    }
   ],
   "source": [
    "# Set seed to 104\n",
    "np.random.seed(104)\n",
    "\n",
    "# Sample 20 num_users with replacement from amir_deals\n",
    "samp_20 =  amir_deals['num_users'].sample(20,replace = True)\n",
    "\n",
    "# Take mean of samp_20\n",
    "print(np.mean(samp_20))"
   ]
  },
  {
   "cell_type": "code",
   "execution_count": 34,
   "id": "68a6580e-ea43-4df1-9110-42090d7965df",
   "metadata": {},
   "outputs": [
    {
     "name": "stdout",
     "output_type": "stream",
     "text": [
      "[31.35, 45.05, 33.55, 38.15, 50.85, 31.85, 34.65, 36.25, 38.9, 44.05, 35.45, 37.6, 37.95, 28.85, 33.3, 31.65, 45.5, 43.2, 24.4, 41.05, 37.2, 39.3, 29.45, 33.55, 45.3, 45.1, 30.95, 36.25, 37.65, 42.55, 34.55, 41.1, 36.9, 42.45, 38.45, 45.9, 42.7, 38.4, 32.55, 30.25, 38.0, 38.75, 49.3, 39.55, 49.05, 42.05, 41.0, 40.6, 58.25, 34.55, 51.2, 34.15, 36.95, 42.45, 41.85, 33.2, 36.15, 37.55, 34.2, 29.75, 42.35, 43.75, 29.0, 32.05, 31.65, 44.6, 30.85, 29.6, 37.7, 33.1, 36.35, 40.65, 45.7, 33.8, 40.1, 39.9, 33.5, 32.65, 32.85, 42.85, 35.4, 31.7, 32.0, 33.85, 36.6, 44.35, 39.9, 37.0, 37.3, 42.5, 38.35, 42.8, 44.55, 30.3, 50.45, 42.35, 40.65, 29.85, 39.3, 33.1]\n"
     ]
    }
   ],
   "source": [
    "# Set seed to 104\n",
    "np.random.seed(104)\n",
    "\n",
    "# Sample 20 num_users with replacement from amir_deals and take mean\n",
    "samp_20 = amir_deals['num_users'].sample(20, replace=True)\n",
    "np.mean(samp_20)\n",
    "\n",
    "sample_means = []\n",
    "# Loop 100 times\n",
    "for i in range(100):\n",
    "  # Take sample of 20 num_users\n",
    "  samp_20 = amir_deals['num_users'].sample(20,replace=True)\n",
    "  # Calculate mean of samp_20\n",
    "  samp_20_mean = np.mean(samp_20)\n",
    "  # Append samp_20_mean to sample_means\n",
    "  sample_means.append(samp_20_mean)\n",
    "  \n",
    "print(sample_means)"
   ]
  },
  {
   "cell_type": "code",
   "execution_count": 35,
   "id": "2f014b9d-d4d1-49d2-858f-a132f1111123",
   "metadata": {},
   "outputs": [
    {
     "data": {
      "image/png": "[encoded data removed]",
      "text/plain": [
       "<Figure size 432x288 with 1 Axes>"
      ]
     },
     "metadata": {
      "needs_background": "light"
     },
     "output_type": "display_data"
    }
   ],
   "source": [
    "# Set seed to 104\n",
    "np.random.seed(104)\n",
    "\n",
    "sample_means = []\n",
    "# Loop 100 times\n",
    "for i in range(100):\n",
    "  # Take sample of 20 num_users\n",
    "  samp_20 = amir_deals['num_users'].sample(20, replace=True)\n",
    "  # Calculate mean of samp_20\n",
    "  samp_20_mean = np.mean(samp_20)\n",
    "  # Append samp_20_mean to sample_means\n",
    "  sample_means.append(samp_20_mean)\n",
    "  \n",
    "# Convert to Series and plot histogram\n",
    "sample_means_series = pd.Series(sample_means)\n",
    "sample_means_series.hist()\n",
    "# Show plot\n",
    "plt.show()"
   ]
  },
  {
   "cell_type": "code",
   "execution_count": 36,
   "id": "16205b1f-5e31-4f05-8a68-2a7fecadaf7c",
   "metadata": {},
   "outputs": [
    {
     "name": "stdout",
     "output_type": "stream",
     "text": [
      "38.821666666666665\n",
      "37.651685393258425\n"
     ]
    }
   ],
   "source": [
    "# Set seed to 321\n",
    "np.random.seed(321)\n",
    "\n",
    "sample_means = []\n",
    "# Loop 30 times to take 30 means\n",
    "for i in range(30):\n",
    "  # Take sample of size 20 from num_users col of all_deals with replacement\n",
    "  cur_sample = amir_deals['num_users'].sample(20,replace = True)\n",
    "  # Take mean of cur_sample\n",
    "  cur_mean = np.mean(cur_sample)\n",
    "  # Append cur_mean to sample_means\n",
    "  sample_means.append(cur_mean)\n",
    "\n",
    "# Print mean of sample_means\n",
    "print(np.mean(sample_means))\n",
    "\n",
    "# Print mean of num_users in amir_deals\n",
    "print(amir_deals['num_users'].mean())"
   ]
  },
  {
   "cell_type": "code",
   "execution_count": 37,
   "id": "fb8d879c-d3f0-43b0-83ae-ad0871b23b24",
   "metadata": {},
   "outputs": [
    {
     "name": "stdout",
     "output_type": "stream",
     "text": [
      "37.80716666666667\n",
      "37.651685393258425\n"
     ]
    }
   ],
   "source": [
    "\n",
    "sample_means = []\n",
    "# Loop 30 times to take 30 means\n",
    "for i in range(300):\n",
    "  # Take sample of size 20 from num_users col of all_deals with replacement\n",
    "  cur_sample = amir_deals['num_users'].sample(20,replace = True)\n",
    "  # Take mean of cur_sample\n",
    "  cur_mean = np.mean(cur_sample)\n",
    "  # Append cur_mean to sample_means\n",
    "  sample_means.append(cur_mean)\n",
    "\n",
    "# Print mean of sample_means\n",
    "print(np.mean(sample_means))\n",
    "\n",
    "# Print mean of num_users in amir_deals\n",
    "print(amir_deals['num_users'].mean())"
   ]
  },
  {
   "cell_type": "markdown",
   "id": "91f27cc4-f176-426d-9f82-98abed6043b1",
   "metadata": {},
   "source": [
    "# Poisson Distribution \n",
    "- Poisson process : Events appear to happen at a certain rate, but completely at random \n",
    "- Time unit is irrelevant, as long as you use the same unit when talking about the same situation\n",
    "- Probability of some # of events occuring over a fixed period of time\n",
    "- lambda: average number of events per time interval, peak distribution as poisson distribution logo\n",
    "- probability of a single value\n",
    "  - example: if the average number of adoptions per week is 8, what is probability (# of adoption a week = 5)\n",
    "    poisson.pmf(expected value,mean)\n",
    "- probability of less than or equal to\n",
    "  - example: if the average number of adoptions per week is 8, what is P(# of adoptions in a week <=5)?\n",
    "  - poisson.cdf(5,8)\n",
    "  - 10 poisson.cdf(5,8)\n",
    "- sampling of poisson distribution\n",
    "  - poisson.rvs(8, size = 10)\n",
    "- CLT still applied "
   ]
  },
  {
   "cell_type": "code",
   "execution_count": 38,
   "id": "18d018f0-1f53-408e-959e-126b79341847",
   "metadata": {},
   "outputs": [
    {
     "name": "stdout",
     "output_type": "stream",
     "text": [
      "0.1562934518505317\n"
     ]
    }
   ],
   "source": [
    "# Import poisson from scipy.stats\n",
    "from scipy.stats import poisson\n",
    "\n",
    "# Probability of 5 responses\n",
    "prob_5 = poisson.pmf(5,4)\n",
    "\n",
    "print(prob_5)"
   ]
  },
  {
   "cell_type": "code",
   "execution_count": 39,
   "id": "dc49163e-e590-4ddc-99a6-e68b88f27587",
   "metadata": {},
   "outputs": [
    {
     "name": "stdout",
     "output_type": "stream",
     "text": [
      "0.17140068409793663\n"
     ]
    }
   ],
   "source": [
    "# Import poisson from scipy.stats\n",
    "from scipy.stats import poisson\n",
    "\n",
    "# Probability of 5 responses\n",
    "prob_coworker = poisson.pmf(5, 5.5)\n",
    "\n",
    "print(prob_coworker)"
   ]
  },
  {
   "cell_type": "code",
   "execution_count": 40,
   "id": "152f0aa2-fc4d-4898-8f8b-544585aca91b",
   "metadata": {},
   "outputs": [
    {
     "name": "stdout",
     "output_type": "stream",
     "text": [
      "0.23810330555354436\n"
     ]
    }
   ],
   "source": [
    "# Import poisson from scipy.stats\n",
    "from scipy.stats import poisson\n",
    "\n",
    "# Probability of 2 or fewer responses\n",
    "prob_2_or_less = poisson.cdf(2,4)\n",
    "\n",
    "print(prob_2_or_less)"
   ]
  },
  {
   "cell_type": "code",
   "execution_count": 41,
   "id": "03e12556-40bf-45e0-b168-f0198538e1c1",
   "metadata": {},
   "outputs": [
    {
     "name": "stdout",
     "output_type": "stream",
     "text": [
      "0.0028397661205137315\n"
     ]
    }
   ],
   "source": [
    "# Import poisson from scipy.stats\n",
    "from scipy.stats import poisson\n",
    "\n",
    "# Probability of > 10 responses\n",
    "prob_over_10 = 1-poisson.cdf(10,4)\n",
    "\n",
    "print(prob_over_10)"
   ]
  },
  {
   "cell_type": "markdown",
   "id": "4cd896ff-b75c-492c-9d38-6b5740d9002e",
   "metadata": {},
   "source": [
    "# More Probability distribution \n",
    "-- Exponential Distribution : probability of time between Poisson events\n",
    "- Example :\n",
    "  1. Probability of > 1 day between adoption\n",
    "  2. Probability <10 minutes between restaurant arrivals\n",
    "  3. Probability of 6-8 months between earthquakes\n",
    "- Use lambda (rate) >> expected value, real value 1/lambda \n",
    "- Continuous(rate)\n",
    "- from scipy.stats import expon\n",
    "  expon.cdf(1,scale =2)  >> 1 is expected value , 2 is real value, so how much probability a wait time under 1 minutes\n",
    " \n",
    "-- T-distribution \n",
    "- similar shape as normal distribution but lower than normal distribution\n",
    "- has parameter degrees of freedom(df) which affects the thickness of the tails\n",
    "- lower df = thicker tails, higher standard deviation\n",
    "- higher df = closer to normal distribution\n",
    "\n",
    "-- Log-normal distribution \n",
    "- Variable whose logarithm is normally distributed\n",
    "- Examples :\n",
    "  - length of chess games\n",
    "  - Adult blood pressure\n",
    "  - Number of hospitalization in the 2003 Sars outbreak "
   ]
  },
  {
   "cell_type": "code",
   "execution_count": 42,
   "id": "806fb358-ea8d-42cd-b71b-510b643bd678",
   "metadata": {},
   "outputs": [
    {
     "name": "stdout",
     "output_type": "stream",
     "text": [
      "0.3296799539643607\n",
      "0.20189651799465536\n",
      "0.09929769391754684\n"
     ]
    }
   ],
   "source": [
    "# Import expon from scipy.stats\n",
    "from scipy.stats import expon \n",
    "\n",
    "# Print probability response takes < 1 hour\n",
    "print(expon.cdf(1, scale=2.5)) # on average, Amir responds to 1 request every 2.5 hours \n",
    "\n",
    "# Import expon from scipy.stats\n",
    "from scipy.stats import expon\n",
    "\n",
    "# Print probability response takes > 4 hours\n",
    "print(1-expon.cdf(4,scale=2.5))\n",
    "\n",
    "# Import expon from scipy.stats\n",
    "from scipy.stats import expon\n",
    "\n",
    "# Print probability response takes 3-4 hours\n",
    "print(expon.cdf(4,scale=2.5) - expon.cdf(3,scale = 2.5))"
   ]
  },
  {
   "cell_type": "markdown",
   "id": "90d1dfa2-63d9-4a1e-b5e5-3861a964a1fd",
   "metadata": {},
   "source": [
    "# Correlation \n",
    "- close to zero = no relationship\n",
    "- under 0.21 = weak relationship >> knowing the value of x (independent variable) doesn't tell us anything about the value of y (dependent variable) \n",
    "- 0.56 = moderate relationship\n",
    "- 0.99 = very strong relationship\n",
    "- 0.75 = strong relationship\n",
    "- positive correlation == linear, negative correlation == upside down\n",
    "- using matplotlib or seaborn\n",
    "- import seaborn as sns\n",
    "  - sns.scatterplot(x='column',y='column', data = df) \n",
    "  - plt.show()\n",
    "  - trendline\n",
    "    - sns.lmplot(x='column',y='column', data = df, ci=None) # ci = confidence interval margin around the line \n",
    "    - plt.show()\n",
    "- correlation coefficient\n",
    "  - df['columm'].corr(df['column']) >> Pearson product-moment correlation (r)\n",
    "  - other correlation : Kendall's tau or Spearman's rho"
   ]
  },
  {
   "cell_type": "code",
   "execution_count": 43,
   "id": "680cbbd5-a977-4a81-8af0-fbedca842573",
   "metadata": {},
   "outputs": [
    {
     "data": {
      "image/png": "[encoded data removed]",
      "text/plain": [
       "<Figure size 432x288 with 1 Axes>"
      ]
     },
     "metadata": {
      "needs_background": "light"
     },
     "output_type": "display_data"
    }
   ],
   "source": [
    "import seaborn as sns\n",
    "# Create a scatterplot of happiness_score vs. life_exp and show\n",
    "sns.scatterplot(x='life_exp', y = 'happiness_score', data = world_happiness)\n",
    "\n",
    "# Show plot\n",
    "plt.show()\n"
   ]
  },
  {
   "cell_type": "markdown",
   "id": "6bde5517-c115-4146-9af1-dbde8f24cbc9",
   "metadata": {},
   "source": [
    "# Correlation caveats \n",
    "- correlation usually stated as r\n",
    "- non linear relationship vs quadratic relationship is different\n",
    "- correlation coefficient only measure linear relationship and linear relationship only\n",
    "- Correlation shouldn't use blindly and always try to visualize it\n",
    "- when the data is highly skewed you can use log transformation >> np.log \n",
    "- other transformation to make relationship more linear without changin dataset:\n",
    "  1. log transformation (log(x))\n",
    "  2. square root transformation (sqrt(x))\n",
    "  3. reciprocal transformation (1/x)\n",
    "  4. combinations of these, eg:\n",
    "     - log(x) and log(y)\n",
    "     - sqrt(x) and 1/y\n",
    "- why need to do correlation : because certain statistics calculation expected data to be linear like if you want to calculate correlation coefficient and also if you wanna calculate linear regression\n",
    "- correlation does not imply causation : need to pay attention to cofounding variable, the why behind that high correlation. "
   ]
  },
  {
   "cell_type": "code",
   "execution_count": 46,
   "id": "cde45b59-7068-42b3-9dae-d0f22156b36d",
   "metadata": {},
   "outputs": [
    {
     "data": {
      "image/png": "[encoded data removed]",
      "text/plain": [
       "<Figure size 432x288 with 1 Axes>"
      ]
     },
     "metadata": {
      "needs_background": "light"
     },
     "output_type": "display_data"
    },
    {
     "name": "stdout",
     "output_type": "stream",
     "text": [
      "0.7019547642148012\n"
     ]
    }
   ],
   "source": [
    "# Scatterplot of gdp_per_cap and life_exp\n",
    "sns.scatterplot(x='gdp_per_cap',y='life_exp', data=world_happiness)\n",
    "\n",
    "# Show plot\n",
    "plt.show()\n",
    "\n",
    "# Correlation between gdp_per_cap and life_exp\n",
    "cor = world_happiness['gdp_per_cap'].corr(world_happiness['life_exp'])\n",
    "\n",
    "print(cor)\n",
    "# not a best one to use correlation coefficient here, because correlation only applied to linear relationship"
   ]
  },
  {
   "cell_type": "code",
   "execution_count": 47,
   "id": "73ca2e02-8579-4b99-86bb-419c4ef861fd",
   "metadata": {},
   "outputs": [
    {
     "data": {
      "image/png": "[encoded data removed]",
      "text/plain": [
       "<Figure size 432x288 with 1 Axes>"
      ]
     },
     "metadata": {
      "needs_background": "light"
     },
     "output_type": "display_data"
    },
    {
     "name": "stdout",
     "output_type": "stream",
     "text": [
      "0.727973301222298\n"
     ]
    },
    {
     "data": {
      "image/png": "[encoded data removed]",
      "text/plain": [
       "<Figure size 432x288 with 1 Axes>"
      ]
     },
     "metadata": {
      "needs_background": "light"
     },
     "output_type": "display_data"
    },
    {
     "name": "stdout",
     "output_type": "stream",
     "text": [
      "0.8043146004918288\n"
     ]
    }
   ],
   "source": [
    "# Scatterplot of happiness_score vs. gdp_per_cap\n",
    "sns.scatterplot(x='gdp_per_cap',y='happiness_score', data = world_happiness)\n",
    "plt.show()\n",
    "\n",
    "# Calculate correlation\n",
    "cor = world_happiness['gdp_per_cap'].corr(world_happiness['happiness_score'])\n",
    "print(cor)\n",
    "\n",
    "# Create log_gdp_per_cap column\n",
    "world_happiness['log_gdp_per_cap'] = np.log(world_happiness['gdp_per_cap'])\n",
    "\n",
    "# Scatterplot of happiness_score vs. log_gdp_per_cap\n",
    "sns.scatterplot(x='log_gdp_per_cap',y='happiness_score',data=world_happiness)\n",
    "plt.show()\n",
    "\n",
    "# Calculate correlation\n",
    "cor = world_happiness['log_gdp_per_cap'].corr(world_happiness['happiness_score'])\n",
    "print(cor)"
   ]
  },
  {
   "cell_type": "code",
   "execution_count": 49,
   "id": "f6bb7c8f-ffcc-4a9b-91c2-383029225b7f",
   "metadata": {},
   "outputs": [
    {
     "data": {
      "text/html": [
       "<div>\n",
       "<style scoped>\n",
       "    .dataframe tbody tr th:only-of-type {\n",
       "        vertical-align: middle;\n",
       "    }\n",
       "\n",
       "    .dataframe tbody tr th {\n",
       "        vertical-align: top;\n",
       "    }\n",
       "\n",
       "    .dataframe thead th {\n",
       "        text-align: right;\n",
       "    }\n",
       "</style>\n",
       "<table border=\"1\" class=\"dataframe\">\n",
       "  <thead>\n",
       "    <tr style=\"text-align: right;\">\n",
       "      <th></th>\n",
       "      <th>Unnamed: 0</th>\n",
       "      <th>country</th>\n",
       "      <th>social_support</th>\n",
       "      <th>freedom</th>\n",
       "      <th>corruption</th>\n",
       "      <th>generosity</th>\n",
       "      <th>gdp_per_cap</th>\n",
       "      <th>life_exp</th>\n",
       "      <th>happiness_score</th>\n",
       "      <th>log_gdp_per_cap</th>\n",
       "    </tr>\n",
       "  </thead>\n",
       "  <tbody>\n",
       "    <tr>\n",
       "      <th>0</th>\n",
       "      <td>1</td>\n",
       "      <td>Finland</td>\n",
       "      <td>2.0</td>\n",
       "      <td>5.0</td>\n",
       "      <td>4.0</td>\n",
       "      <td>47.0</td>\n",
       "      <td>42400</td>\n",
       "      <td>81.8</td>\n",
       "      <td>155</td>\n",
       "      <td>10.654904</td>\n",
       "    </tr>\n",
       "    <tr>\n",
       "      <th>1</th>\n",
       "      <td>2</td>\n",
       "      <td>Denmark</td>\n",
       "      <td>4.0</td>\n",
       "      <td>6.0</td>\n",
       "      <td>3.0</td>\n",
       "      <td>22.0</td>\n",
       "      <td>48300</td>\n",
       "      <td>81.0</td>\n",
       "      <td>154</td>\n",
       "      <td>10.785187</td>\n",
       "    </tr>\n",
       "    <tr>\n",
       "      <th>2</th>\n",
       "      <td>3</td>\n",
       "      <td>Norway</td>\n",
       "      <td>3.0</td>\n",
       "      <td>3.0</td>\n",
       "      <td>8.0</td>\n",
       "      <td>11.0</td>\n",
       "      <td>66300</td>\n",
       "      <td>82.6</td>\n",
       "      <td>153</td>\n",
       "      <td>11.101945</td>\n",
       "    </tr>\n",
       "    <tr>\n",
       "      <th>3</th>\n",
       "      <td>4</td>\n",
       "      <td>Iceland</td>\n",
       "      <td>1.0</td>\n",
       "      <td>7.0</td>\n",
       "      <td>45.0</td>\n",
       "      <td>3.0</td>\n",
       "      <td>47900</td>\n",
       "      <td>83.0</td>\n",
       "      <td>152</td>\n",
       "      <td>10.776871</td>\n",
       "    </tr>\n",
       "    <tr>\n",
       "      <th>4</th>\n",
       "      <td>5</td>\n",
       "      <td>Netherlands</td>\n",
       "      <td>15.0</td>\n",
       "      <td>19.0</td>\n",
       "      <td>12.0</td>\n",
       "      <td>7.0</td>\n",
       "      <td>50500</td>\n",
       "      <td>81.8</td>\n",
       "      <td>151</td>\n",
       "      <td>10.829729</td>\n",
       "    </tr>\n",
       "    <tr>\n",
       "      <th>...</th>\n",
       "      <td>...</td>\n",
       "      <td>...</td>\n",
       "      <td>...</td>\n",
       "      <td>...</td>\n",
       "      <td>...</td>\n",
       "      <td>...</td>\n",
       "      <td>...</td>\n",
       "      <td>...</td>\n",
       "      <td>...</td>\n",
       "      <td>...</td>\n",
       "    </tr>\n",
       "    <tr>\n",
       "      <th>138</th>\n",
       "      <td>139</td>\n",
       "      <td>Rwanda</td>\n",
       "      <td>144.0</td>\n",
       "      <td>21.0</td>\n",
       "      <td>2.0</td>\n",
       "      <td>90.0</td>\n",
       "      <td>2110</td>\n",
       "      <td>69.1</td>\n",
       "      <td>4</td>\n",
       "      <td>7.654443</td>\n",
       "    </tr>\n",
       "    <tr>\n",
       "      <th>139</th>\n",
       "      <td>140</td>\n",
       "      <td>Tanzania</td>\n",
       "      <td>131.0</td>\n",
       "      <td>78.0</td>\n",
       "      <td>34.0</td>\n",
       "      <td>49.0</td>\n",
       "      <td>2980</td>\n",
       "      <td>67.7</td>\n",
       "      <td>3</td>\n",
       "      <td>7.999679</td>\n",
       "    </tr>\n",
       "    <tr>\n",
       "      <th>140</th>\n",
       "      <td>141</td>\n",
       "      <td>Afghanistan</td>\n",
       "      <td>151.0</td>\n",
       "      <td>155.0</td>\n",
       "      <td>136.0</td>\n",
       "      <td>137.0</td>\n",
       "      <td>1760</td>\n",
       "      <td>64.1</td>\n",
       "      <td>2</td>\n",
       "      <td>7.473069</td>\n",
       "    </tr>\n",
       "    <tr>\n",
       "      <th>141</th>\n",
       "      <td>142</td>\n",
       "      <td>Central African Republic</td>\n",
       "      <td>155.0</td>\n",
       "      <td>133.0</td>\n",
       "      <td>122.0</td>\n",
       "      <td>113.0</td>\n",
       "      <td>794</td>\n",
       "      <td>52.9</td>\n",
       "      <td>1</td>\n",
       "      <td>6.677083</td>\n",
       "    </tr>\n",
       "    <tr>\n",
       "      <th>142</th>\n",
       "      <td>143</td>\n",
       "      <td>South Sudan</td>\n",
       "      <td>148.0</td>\n",
       "      <td>154.0</td>\n",
       "      <td>61.0</td>\n",
       "      <td>85.0</td>\n",
       "      <td>1860</td>\n",
       "      <td>59.7</td>\n",
       "      <td>0</td>\n",
       "      <td>7.528332</td>\n",
       "    </tr>\n",
       "  </tbody>\n",
       "</table>\n",
       "<p>143 rows × 10 columns</p>\n",
       "</div>"
      ],
      "text/plain": [
       "     Unnamed: 0                   country  social_support  freedom  \\\n",
       "0             1                   Finland             2.0      5.0   \n",
       "1             2                   Denmark             4.0      6.0   \n",
       "2             3                    Norway             3.0      3.0   \n",
       "3             4                   Iceland             1.0      7.0   \n",
       "4             5               Netherlands            15.0     19.0   \n",
       "..          ...                       ...             ...      ...   \n",
       "138         139                    Rwanda           144.0     21.0   \n",
       "139         140                  Tanzania           131.0     78.0   \n",
       "140         141               Afghanistan           151.0    155.0   \n",
       "141         142  Central African Republic           155.0    133.0   \n",
       "142         143               South Sudan           148.0    154.0   \n",
       "\n",
       "     corruption  generosity  gdp_per_cap  life_exp  happiness_score  \\\n",
       "0           4.0        47.0        42400      81.8              155   \n",
       "1           3.0        22.0        48300      81.0              154   \n",
       "2           8.0        11.0        66300      82.6              153   \n",
       "3          45.0         3.0        47900      83.0              152   \n",
       "4          12.0         7.0        50500      81.8              151   \n",
       "..          ...         ...          ...       ...              ...   \n",
       "138         2.0        90.0         2110      69.1                4   \n",
       "139        34.0        49.0         2980      67.7                3   \n",
       "140       136.0       137.0         1760      64.1                2   \n",
       "141       122.0       113.0          794      52.9                1   \n",
       "142        61.0        85.0         1860      59.7                0   \n",
       "\n",
       "     log_gdp_per_cap  \n",
       "0          10.654904  \n",
       "1          10.785187  \n",
       "2          11.101945  \n",
       "3          10.776871  \n",
       "4          10.829729  \n",
       "..               ...  \n",
       "138         7.654443  \n",
       "139         7.999679  \n",
       "140         7.473069  \n",
       "141         6.677083  \n",
       "142         7.528332  \n",
       "\n",
       "[143 rows x 10 columns]"
      ]
     },
     "execution_count": 49,
     "metadata": {},
     "output_type": "execute_result"
    }
   ],
   "source": [
    "# # Scatterplot of grams_sugar_per_day and happiness_score\n",
    "# sns.scatterplot(x='grams_sugar_per_day',y='happiness_score',data=world_happiness)\n",
    "# plt.show()\n",
    "\n",
    "# # Correlation between grams_sugar_per_day and happiness_score\n",
    "# cor = world_happiness['grams_sugar_per_day'].corr(world_happiness['happiness_score'])\n",
    "# print(cor)\n",
    "world_happiness"
   ]
  },
  {
   "cell_type": "markdown",
   "id": "c10059e4-9145-4364-ba22-e319caf77e9f",
   "metadata": {},
   "source": [
    "# Design of experiments \n",
    "- Experiment aims to answer : What is the effect of the treatment on the response?\n",
    "  1. treatment: explanatory/independent variable\n",
    "  2. response: response/dependent variable\n",
    "-- Controlled Experiment\n",
    "  1. participants are assigned by researchers to either treatment group or control group\n",
    "    - example: A/B test\n",
    "    - treatment group sees advertisement, the control group not\n",
    "    - groups should be comparable so that causation can be inferred\n",
    "    - if groups are not comparable, this could lead to confounding(bias), for example average age should be same\n",
    "- The gold standard of experiments will eliminate as much bias as possible by using controlled tools such as:\n",
    "  1. randomized controlled trial >> randomly assigned to group either treatment or control just by chance. choosing randomly helps ensure that group are comparable \n",
    "  2. placebo >> resembles treatment, but has no effect usually used in clinical trials\n",
    "  3. Double-blind trial >> all people who administering the treatment has no ide either treatment is real or placebo\n",
    "- Fewer opportunities for bias = more reliable conclusion about causation\n",
    "\n",
    "-- Observational Studies \n",
    "- participant assign themselves >> not conducive to a controlled experiment usually based on pre-existing characteristics \n",
    "- can't establish causation only association\n",
    "  1. Longitudinal study\n",
    "     - Participants are followed over a period of time to examine effect of treatment on response\n",
    "     - Effect of age on height is not confounded by generation\n",
    "     - More expensive and longer\n",
    "  3. Cross_sectional study \n",
    "     - Data on participants is collected from a single snapshot in time\n",
    "     - Effect of age on height is confounded by generation\n",
    "     - Faster and Cheaper"
   ]
  }
 ],
 "metadata": {
  "kernelspec": {
   "display_name": "Python 3",
   "language": "python",
   "name": "python3"
  },
  "language_info": {
   "codemirror_mode": {
    "name": "ipython",
    "version": 3
   },
   "file_extension": ".py",
   "mimetype": "text/x-python",
   "name": "python",
   "nbconvert_exporter": "python",
   "pygments_lexer": "ipython3",
   "version": "3.8.3"
  }
 },
 "nbformat": 4,
 "nbformat_minor": 5
}
