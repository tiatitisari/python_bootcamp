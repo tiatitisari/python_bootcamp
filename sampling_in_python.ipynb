{
 "cells": [
  {
   "cell_type": "markdown",
   "id": "0c301ede-7ac1-46e3-9ae1-290f69ef9f3c",
   "metadata": {},
   "source": [
    "# Sampling in Python \n",
    "- Census are really expensive! Cheaper to ask a small number of households and use statistics to estimate the population\n",
    "- Working with a subset of the whole population is called sampling\n",
    "- .sample()\n",
    "\n",
    "# Convenience Sampling \n",
    "- collecting data by the easiest method is called convenience sampling\n",
    "- convenience sampling is not reflecting the whole population\n",
    "- to see selection bias, is better to use histogram whether the histogram\n",
    "  - e.g coffee_sample['total_cup_points'].hist(bins=np.arange(59,93,2))\n",
    "  - plt.show()"
   ]
  },
  {
   "cell_type": "markdown",
   "id": "fc04910f-4310-45aa-9495-2b52dee5562c",
   "metadata": {},
   "source": [
    "# Pseudo-random number generation \n",
    "- random: made, done, happening or chosen without method or conscious decision\n",
    "- true random numbers: generated from physical processes, like flipping coins, true randomness is expensive\n",
    "- pseudo-random number generation: cheap and ast, next random number calculated from previous \"random\" number, the first \"random\" number calculated from a seed. the same seed value yields the same random numbers\n",
    "- random number generating functions:\n",
    "  - prepend with numpy.random,\n",
    "    - such as numpy.random.beta()\n",
    "    - np.random.normal(loc=2,scale=1.5,size=2) >> loc as mean, scale as median, size "
   ]
  },
  {
   "cell_type": "code",
   "execution_count": 1,
   "id": "a69438c7-f659-43be-845a-d54c522d9e19",
   "metadata": {},
   "outputs": [
    {
     "name": "stderr",
     "output_type": "stream",
     "text": [
      "/Users/tiatitisari/opt/anaconda3/lib/python3.8/site-packages/pandas/core/computation/expressions.py:20: UserWarning: Pandas requires version '2.7.3' or newer of 'numexpr' (version '2.7.1' currently installed).\n",
      "  from pandas.core.computation.check import NUMEXPR_INSTALLED\n"
     ]
    },
    {
     "name": "stdout",
     "output_type": "stream",
     "text": [
      "Requirement already satisfied: pyarrow in /Users/tiatitisari/opt/anaconda3/lib/python3.8/site-packages (13.0.0)\n",
      "Requirement already satisfied: numpy>=1.16.6 in /Users/tiatitisari/opt/anaconda3/lib/python3.8/site-packages (from pyarrow) (1.24.4)\n",
      "\u001b[33mDEPRECATION: pyodbc 4.0.0-unsupported has a non-standard version number. pip 23.3 will enforce this behaviour change. A possible replacement is to upgrade to a newer version of pyodbc or contact the author to suggest that they release a version with a conforming version number. Discussion can be found at https://github.com/pypa/pip/issues/12063\u001b[0m\u001b[33m\n",
      "\u001b[0m"
     ]
    }
   ],
   "source": [
    "import pandas as pd\n",
    "!pip install pyarrow"
   ]
  },
  {
   "cell_type": "code",
   "execution_count": 2,
   "id": "f01042d6-632a-40fd-a925-66c3f9cb030a",
   "metadata": {},
   "outputs": [],
   "source": [
    "attrition_pop = pd.read_feather('attrition.feather')\n",
    "coffee_rating= pd.read_feather('coffee_ratings_full.feather')\n",
    "spotify_population=pd.read_feather('spotify_2000_2020.feather')"
   ]
  },
  {
   "cell_type": "code",
   "execution_count": 3,
   "id": "5aa35f0c-f513-467b-882d-7afbec8b9110",
   "metadata": {},
   "outputs": [
    {
     "name": "stdout",
     "output_type": "stream",
     "text": [
      "<class 'pandas.core.frame.DataFrame'>\n",
      "Index: 1000 entries, 6526 to 8407\n",
      "Data columns (total 20 columns):\n",
      " #   Column            Non-Null Count  Dtype  \n",
      "---  ------            --------------  -----  \n",
      " 0   acousticness      1000 non-null   float64\n",
      " 1   artists           1000 non-null   object \n",
      " 2   danceability      1000 non-null   float64\n",
      " 3   duration_ms       1000 non-null   float64\n",
      " 4   duration_minutes  1000 non-null   float64\n",
      " 5   energy            1000 non-null   float64\n",
      " 6   explicit          1000 non-null   float64\n",
      " 7   id                1000 non-null   object \n",
      " 8   instrumentalness  1000 non-null   float64\n",
      " 9   key               1000 non-null   float64\n",
      " 10  liveness          1000 non-null   float64\n",
      " 11  loudness          1000 non-null   float64\n",
      " 12  mode              1000 non-null   float64\n",
      " 13  name              1000 non-null   object \n",
      " 14  popularity        1000 non-null   float64\n",
      " 15  release_date      1000 non-null   object \n",
      " 16  speechiness       1000 non-null   float64\n",
      " 17  tempo             1000 non-null   float64\n",
      " 18  valence           1000 non-null   float64\n",
      " 19  year              1000 non-null   float64\n",
      "dtypes: float64(16), object(4)\n",
      "memory usage: 164.1+ KB\n"
     ]
    }
   ],
   "source": [
    "# Sample 1000 rows from spotify_population\n",
    "spotify_sample = spotify_population.sample(1000)\n",
    "\n",
    "spotify_sample.info()"
   ]
  },
  {
   "cell_type": "code",
   "execution_count": 4,
   "id": "878d47ec-2878-484b-b893-a80d1bf6f9f3",
   "metadata": {},
   "outputs": [
    {
     "name": "stdout",
     "output_type": "stream",
     "text": [
      "       acousticness                               artists  danceability   \n",
      "15989       0.00387                 ['From Ashes to New']         0.446  \\\n",
      "39941       0.06540                       ['Terri Clark']         0.574   \n",
      "14782       0.27000                               ['D12']         0.700   \n",
      "19646       0.07610                             ['Usher']         0.723   \n",
      "21366       0.60700                      ['Jack Johnson']         0.816   \n",
      "...             ...                                   ...           ...   \n",
      "11261       0.15600            ['R.K.M & Ken-Y', 'Ken-Y']         0.512   \n",
      "2057        0.21500  ['Olivia Rodrigo', 'Joshua Bassett']         0.519   \n",
      "39119       0.01620                     ['Glass Animals']         0.550   \n",
      "30738       0.00257                       ['The Wombats']         0.515   \n",
      "28905       0.03250                   ['Kacey Musgraves']         0.725   \n",
      "\n",
      "       duration_ms  duration_minutes  energy  explicit   \n",
      "15989     234839.0          3.913983   0.985       0.0  \\\n",
      "39941     206400.0          3.440000   0.896       0.0   \n",
      "14782     259267.0          4.321117   0.790       1.0   \n",
      "19646     249920.0          4.165333   0.647       0.0   \n",
      "21366     191907.0          3.198450   0.375       0.0   \n",
      "...            ...               ...     ...       ...   \n",
      "11261     241387.0          4.023117   0.632       0.0   \n",
      "2057      197320.0          3.288667   0.503       0.0   \n",
      "39119     271673.0          4.527883   0.518       1.0   \n",
      "30738     209558.0          3.492633   0.869       0.0   \n",
      "28905     213693.0          3.561550   0.674       0.0   \n",
      "\n",
      "                           id  instrumentalness   key  liveness  loudness   \n",
      "15989  1aGZAitGPKHH2omwTZJRRT          0.000000   2.0    0.1260    -3.884  \\\n",
      "39941  3BcCqaxGznRqmB1BIerea2          0.000000  10.0    0.3100    -4.478   \n",
      "14782  1fQFC018fCafNhHbN4CNoO          0.000002  10.0    0.4210    -4.062   \n",
      "19646  5aWlIXGEDzqQdIDRNxDQVA          0.000000   0.0    0.2010    -5.786   \n",
      "21366  451GvHwY99NKV4zdKPRWmv          0.000009   7.0    0.0933    -8.053   \n",
      "...                       ...               ...   ...       ...       ...   \n",
      "11261  5bWPX3LKk53Yjh7lQAliGQ          0.000000   9.0    0.5910    -5.063   \n",
      "2057   5Yc2A0YtK6PaXT8J1MQ0Rd          0.000000   2.0    0.1480    -6.239   \n",
      "39119  6prvUr8l3t7x5GY7heQb5w          0.028600   1.0    0.1140    -8.949   \n",
      "30738  28C4nmrd7BTu0XbOmaTHZr          0.000002  11.0    0.2100    -4.732   \n",
      "28905  2U2Z1IXnmJIvlknWizFykZ          0.000004  11.0    0.0531    -5.254   \n",
      "\n",
      "       mode                                               name  popularity   \n",
      "15989   0.0                                      Stay This Way        54.0  \\\n",
      "39941   1.0                                I Just Wanna Be Mad        43.0   \n",
      "14782   0.0                                       Devils Night        43.0   \n",
      "19646   0.0                                 What's a Man to Do        48.0   \n",
      "21366   1.0                                    Banana Pancakes        70.0   \n",
      "...     ...                                                ...         ...   \n",
      "11261   1.0                                           Llorarás        52.0   \n",
      "2057    1.0  Just for a Moment - From \"High School Musical:...        68.0   \n",
      "39119   0.0                                              Agnes        59.0   \n",
      "30738   1.0                                      Greek Tragedy        58.0   \n",
      "28905   0.0                                         High Horse        69.0   \n",
      "\n",
      "      release_date  speechiness    tempo  valence    year  \n",
      "15989   2013-12-10       0.4140  155.051    0.131  2013.0  \n",
      "39941   2003-01-01       0.0393   99.974    0.731  2003.0  \n",
      "14782   2001-01-01       0.4630   85.802    0.246  2001.0  \n",
      "19646   2008-05-27       0.1250   98.002    0.566  2008.0  \n",
      "21366   2005-01-01       0.0996  114.303    0.615  2005.0  \n",
      "...            ...          ...      ...      ...     ...  \n",
      "11261   2007-04-03       0.0434   79.940    0.370  2007.0  \n",
      "2057    2020-01-01       0.0442   89.174    0.364  2020.0  \n",
      "39119   2016-08-26       0.0246  165.033    0.233  2016.0  \n",
      "30738   2015-04-14       0.0672   93.240    0.452  2015.0  \n",
      "28905   2018-03-30       0.0363  120.057    0.773  2018.0  \n",
      "\n",
      "[1000 rows x 20 columns]\n",
      "3.8521519140900073\n",
      "3.7921431333333335\n"
     ]
    }
   ],
   "source": [
    "# Sample 1000 rows from spotify_population\n",
    "spotify_sample = spotify_population.sample(n=1000)\n",
    "\n",
    "# Print the sample\n",
    "print(spotify_sample)\n",
    "\n",
    "# Calculate the mean duration in mins from spotify_population\n",
    "mean_dur_pop = spotify_population['duration_minutes'].mean()\n",
    "\n",
    "# Calculate the mean duration in mins from spotify_sample\n",
    "mean_dur_samp = spotify_sample['duration_minutes'].mean()\n",
    "\n",
    "\n",
    "# Print the means\n",
    "print(mean_dur_pop)\n",
    "print(mean_dur_samp)"
   ]
  },
  {
   "cell_type": "code",
   "execution_count": 5,
   "id": "bb50b74f-6789-4191-b636-e20b352ce5fc",
   "metadata": {},
   "outputs": [
    {
     "name": "stdout",
     "output_type": "stream",
     "text": [
      "-7.366856851353947\n",
      "-6.70645\n"
     ]
    }
   ],
   "source": [
    "import numpy as np\n",
    "# Create a pandas Series from the loudness column of spotify_population\n",
    "loudness_pop = spotify_population['loudness']\n",
    "\n",
    "# Sample 100 values of loudness_pop\n",
    "loudness_samp = loudness_pop.sample(n=100)\n",
    "\n",
    "# Calculate the mean of loudness_pop\n",
    "mean_loudness_pop = np.mean(loudness_pop)\n",
    "\n",
    "# Calculate the mean of loudness_samp\n",
    "mean_loudness_samp = np.mean(loudness_samp)\n",
    "\n",
    "print(mean_loudness_pop)\n",
    "print(mean_loudness_samp)"
   ]
  },
  {
   "cell_type": "code",
   "execution_count": 6,
   "id": "e73908f8-e4e3-4f94-989e-ef1dd2bda051",
   "metadata": {},
   "outputs": [
    {
     "data": {
      "image/png": "[encoded data removed]",
      "text/plain": [
       "<Figure size 432x288 with 1 Axes>"
      ]
     },
     "metadata": {
      "needs_background": "light"
     },
     "output_type": "display_data"
    },
    {
     "data": {
      "image/png": "[encoded data removed]",
      "text/plain": [
       "<Figure size 432x288 with 1 Axes>"
      ]
     },
     "metadata": {
      "needs_background": "light"
     },
     "output_type": "display_data"
    }
   ],
   "source": [
    "import matplotlib.pyplot as plt \n",
    "# Visualize the distribution of acousticness with a histogram\n",
    "spotify_population['acousticness'].hist(bins=np.arange(0,1.01,0.01))\n",
    "plt.show()\n",
    "\n",
    "# Update the histogram to use spotify_mysterious_sample\n",
    "spotify_sample['acousticness'].hist(bins=np.arange(0, 1.01, 0.01))\n",
    "plt.show()"
   ]
  },
  {
   "cell_type": "code",
   "execution_count": 7,
   "id": "7bb99d72-3181-4e3e-b034-0e280180d768",
   "metadata": {},
   "outputs": [
    {
     "data": {
      "image/png": "[encoded data removed]",
      "text/plain": [
       "<Figure size 432x288 with 1 Axes>"
      ]
     },
     "metadata": {
      "needs_background": "light"
     },
     "output_type": "display_data"
    }
   ],
   "source": [
    "# Visualize the distribution of duration_minutes as a histogram\n",
    "spotify_population['duration_minutes'].hist(bins=np.arange(0,15.5,0.5))\n",
    "plt.show()"
   ]
  },
  {
   "cell_type": "code",
   "execution_count": 8,
   "id": "9410f0e8-c2db-445e-bcc0-b28d3244cfb4",
   "metadata": {},
   "outputs": [
    {
     "data": {
      "image/png": "[encoded data removed]",
      "text/plain": [
       "<Figure size 432x288 with 1 Axes>"
      ]
     },
     "metadata": {
      "needs_background": "light"
     },
     "output_type": "display_data"
    }
   ],
   "source": [
    "# Update the histogram to use spotify_mysterious_sample2\n",
    "spotify_sample['duration_minutes'].hist(bins=np.arange(0, 15.5, 0.5))\n",
    "plt.show()"
   ]
  },
  {
   "cell_type": "code",
   "execution_count": 9,
   "id": "c13f306e-2cae-4744-8d5b-c2c74f8d7a8f",
   "metadata": {},
   "outputs": [
    {
     "name": "stdout",
     "output_type": "stream",
     "text": [
      "[0.92564354 3.85401178 3.77052357 ... 4.64610309 3.7685925  4.4941953 ]\n",
      "[-0.79305869 -0.52497513 -2.6798124  ...  0.80574789  1.79708309\n",
      " -2.46806988]\n"
     ]
    }
   ],
   "source": [
    "# Generate random numbers from a Uniform(-3, 3)\n",
    "uniforms = np.random.uniform(-3,3,size=5000)\n",
    "\n",
    "# Generate random numbers from a Normal(5, 2)\n",
    "normals = np.random.normal(loc=5,scale=2,size=5000)\n",
    "\n",
    "# Print normals\n",
    "print(normals)\n",
    "# Print uniforms\n",
    "print(uniforms)"
   ]
  },
  {
   "cell_type": "code",
   "execution_count": 10,
   "id": "3fc3bdfd-201e-41b8-967f-a29f567768aa",
   "metadata": {},
   "outputs": [
    {
     "data": {
      "image/png": "[encoded data removed]",
      "text/plain": [
       "<Figure size 432x288 with 1 Axes>"
      ]
     },
     "metadata": {
      "needs_background": "light"
     },
     "output_type": "display_data"
    }
   ],
   "source": [
    "# Generate random numbers from a Uniform(-3, 3)\n",
    "uniforms = np.random.uniform(low=-3, high=3, size=5000)\n",
    "\n",
    "# Plot a histogram of uniform values, binwidth 0.25\n",
    "plt.hist(x=uniforms,bins=np.arange(-3,3.25,0.25))\n",
    "plt.show()"
   ]
  },
  {
   "cell_type": "code",
   "execution_count": 11,
   "id": "57d155a6-d157-433b-a7d3-6e2f13267d6e",
   "metadata": {},
   "outputs": [
    {
     "data": {
      "image/png": "[encoded data removed]",
      "text/plain": [
       "<Figure size 432x288 with 1 Axes>"
      ]
     },
     "metadata": {
      "needs_background": "light"
     },
     "output_type": "display_data"
    }
   ],
   "source": [
    "# Generate random numbers from a Normal(5, 2)\n",
    "normals = np.random.normal(loc=5, scale=2, size=5000)\n",
    "\n",
    "# Plot a histogram of normal values, binwidth 0.5\n",
    "plt.hist(x=normals,bins=np.arange(-2,13.5,0.5))\n",
    "plt.show()"
   ]
  },
  {
   "cell_type": "code",
   "execution_count": 12,
   "id": "29db2a4c-9bef-4de8-9bb9-29aa79ad0c9b",
   "metadata": {},
   "outputs": [
    {
     "name": "stdout",
     "output_type": "stream",
     "text": [
      "[-1.0856306   0.99734545  0.2829785  -1.50629471 -0.57860025]\n",
      "[-1.0856306   0.99734545  0.2829785  -1.50629471 -0.57860025]\n"
     ]
    }
   ],
   "source": [
    "import numpy as np\n",
    "np.random.seed(123)\n",
    "x = np.random.normal(size=5)\n",
    "np.random.seed(123)\n",
    "y = np.random.normal(size=5)\n",
    "print(x)\n",
    "print(y)"
   ]
  },
  {
   "cell_type": "code",
   "execution_count": 13,
   "id": "ce710fb7-e513-488d-8a6f-09fad78c1004",
   "metadata": {},
   "outputs": [
    {
     "name": "stdout",
     "output_type": "stream",
     "text": [
      "[-1.0856306   0.99734545  0.2829785  -1.50629471 -0.57860025]\n",
      "[ 1.65143654 -2.42667924 -0.42891263  1.26593626 -0.8667404 ]\n"
     ]
    }
   ],
   "source": [
    "np.random.seed(123)\n",
    "x = np.random.normal(size=5)\n",
    "y = np.random.normal(size=5)\n",
    "print(x)\n",
    "print(y)"
   ]
  },
  {
   "cell_type": "code",
   "execution_count": 14,
   "id": "36dc5c36-f3b0-4386-86b8-66a9f970115e",
   "metadata": {},
   "outputs": [
    {
     "name": "stdout",
     "output_type": "stream",
     "text": [
      "[-1.0856306   0.99734545  0.2829785  -1.50629471 -0.57860025]\n",
      "[-0.6681285  -0.49820952  0.61857582  0.56869225  1.35050948]\n"
     ]
    }
   ],
   "source": [
    "import numpy as np\n",
    "np.random.seed(123)\n",
    "x = np.random.normal(size=5)\n",
    "np.random.seed(456)\n",
    "y = np.random.normal(size=5)\n",
    "print(x)\n",
    "print(y)"
   ]
  },
  {
   "cell_type": "markdown",
   "id": "de288aad-dc9b-48f0-a300-26deea33734c",
   "metadata": {},
   "source": [
    "# Simple random and systematic sampling \n",
    "- simple random sampling with pandas:\n",
    "  - coffee_ratings.sample(n=5, random_state=19000113)\n",
    "  - random_state = random.seed()\n",
    "  - by not setting random_state, the data gonna generate differently everytime\n",
    "- systematic sampling\n",
    "  - defining the interval for each row\n",
    "  - e.g sample size = 5\n",
    "    - population size = 1338\n",
    "    - interval = pop_size//sample_size >> divison but disregard any fractional part == 267\n",
    "    - .iloc[::interval] >> double colon tells panda to pick 267 from zero\n",
    "    - systematic sampling considered more bias than random sampling, if you want to use systematic sampling, you can use if after plotting the data there's no pattern just complete noice\n",
    "    - shuffling rows + systematic sampling == random sampling\n",
    "      - .sample(frac=1)\n",
    "      - .reset_index(drop=True) "
   ]
  },
  {
   "cell_type": "code",
   "execution_count": 15,
   "id": "c6b3bb3f-65d3-484d-9d99-2117a392647a",
   "metadata": {},
   "outputs": [
    {
     "name": "stdout",
     "output_type": "stream",
     "text": [
      "      Age  Attrition     BusinessTravel  DailyRate            Department   \n",
      "1134   35        0.0      Travel_Rarely        583  Research_Development  \\\n",
      "1150   52        0.0         Non-Travel        585                 Sales   \n",
      "531    33        0.0      Travel_Rarely        931  Research_Development   \n",
      "395    31        0.0      Travel_Rarely       1332  Research_Development   \n",
      "392    29        0.0      Travel_Rarely        942  Research_Development   \n",
      "...   ...        ...                ...        ...                   ...   \n",
      "361    27        0.0  Travel_Frequently       1410                 Sales   \n",
      "1180   36        0.0      Travel_Rarely        530                 Sales   \n",
      "230    26        0.0      Travel_Rarely       1443                 Sales   \n",
      "211    29        0.0  Travel_Frequently        410  Research_Development   \n",
      "890    30        0.0  Travel_Frequently       1312  Research_Development   \n",
      "\n",
      "      DistanceFromHome      Education    EducationField   \n",
      "1134                25         Master           Medical  \\\n",
      "1150                29         Master     Life_Sciences   \n",
      "531                 14       Bachelor           Medical   \n",
      "395                 11        College           Medical   \n",
      "392                 15  Below_College     Life_Sciences   \n",
      "...                ...            ...               ...   \n",
      "361                  3  Below_College           Medical   \n",
      "1180                 2         Master     Life_Sciences   \n",
      "230                 23       Bachelor         Marketing   \n",
      "211                  2  Below_College     Life_Sciences   \n",
      "890                  2         Master  Technical_Degree   \n",
      "\n",
      "     EnvironmentSatisfaction  Gender  ...  PerformanceRating   \n",
      "1134                    High  Female  ...          Excellent  \\\n",
      "1150                     Low    Male  ...          Excellent   \n",
      "531                Very_High  Female  ...          Excellent   \n",
      "395                     High    Male  ...          Excellent   \n",
      "392                   Medium  Female  ...          Excellent   \n",
      "...                      ...     ...  ...                ...   \n",
      "361                Very_High  Female  ...        Outstanding   \n",
      "1180                    High  Female  ...          Excellent   \n",
      "230                     High  Female  ...          Excellent   \n",
      "211                Very_High  Female  ...          Excellent   \n",
      "890                Very_High  Female  ...          Excellent   \n",
      "\n",
      "     RelationshipSatisfaction  StockOptionLevel TotalWorkingYears   \n",
      "1134                     High                 1                16  \\\n",
      "1150                   Medium                 2                16   \n",
      "531                 Very_High                 1                 8   \n",
      "395                 Very_High                 0                 6   \n",
      "392                       Low                 1                 6   \n",
      "...                       ...               ...               ...   \n",
      "361                    Medium                 2                 6   \n",
      "1180                     High                 0                17   \n",
      "230                      High                 1                 5   \n",
      "211                      High                 3                 4   \n",
      "890                 Very_High                 0                10   \n",
      "\n",
      "     TrainingTimesLastYear WorkLifeBalance  YearsAtCompany   \n",
      "1134                     3            Good              16  \\\n",
      "1150                     3            Good               9   \n",
      "531                      5          Better               8   \n",
      "395                      2            Good               6   \n",
      "392                      2            Good               5   \n",
      "...                    ...             ...             ...   \n",
      "361                      3          Better               6   \n",
      "1180                     2            Good              13   \n",
      "230                      2            Good               2   \n",
      "211                      3          Better               3   \n",
      "890                      2          Better               9   \n",
      "\n",
      "      YearsInCurrentRole  YearsSinceLastPromotion YearsWithCurrManager  \n",
      "1134                  10                       10                    1  \n",
      "1150                   8                        0                    0  \n",
      "531                    7                        1                    6  \n",
      "395                    5                        0                    1  \n",
      "392                    4                        1                    3  \n",
      "...                  ...                      ...                  ...  \n",
      "361                    5                        0                    4  \n",
      "1180                   7                        6                    7  \n",
      "230                    2                        0                    0  \n",
      "211                    2                        0                    2  \n",
      "890                    7                        0                    7  \n",
      "\n",
      "[70 rows x 31 columns]\n"
     ]
    }
   ],
   "source": [
    "# Sample 70 rows using simple random sampling and set the seed\n",
    "attrition_samp = attrition_pop.sample(n=70, random_state=(18900217))\n",
    "\n",
    "# Print the sample\n",
    "print(attrition_samp)"
   ]
  },
  {
   "cell_type": "code",
   "execution_count": 16,
   "id": "10b5d783-bb7d-469d-9405-89fc0b841f6f",
   "metadata": {},
   "outputs": [
    {
     "name": "stdout",
     "output_type": "stream",
     "text": [
      "      Age  Attrition BusinessTravel  DailyRate            Department   \n",
      "0      21        0.0  Travel_Rarely        391  Research_Development  \\\n",
      "21     19        0.0  Travel_Rarely       1181  Research_Development   \n",
      "42     45        0.0  Travel_Rarely        252  Research_Development   \n",
      "63     23        0.0  Travel_Rarely        373  Research_Development   \n",
      "84     30        1.0  Travel_Rarely        945                 Sales   \n",
      "...   ...        ...            ...        ...                   ...   \n",
      "1365   48        0.0  Travel_Rarely        715  Research_Development   \n",
      "1386   48        0.0  Travel_Rarely       1355  Research_Development   \n",
      "1407   50        0.0  Travel_Rarely        989  Research_Development   \n",
      "1428   50        0.0     Non-Travel        881  Research_Development   \n",
      "1449   52        0.0  Travel_Rarely        699  Research_Development   \n",
      "\n",
      "      DistanceFromHome      Education EducationField EnvironmentSatisfaction   \n",
      "0                   15        College  Life_Sciences                    High  \\\n",
      "21                   3  Below_College        Medical                  Medium   \n",
      "42                   2       Bachelor  Life_Sciences                  Medium   \n",
      "63                   1        College  Life_Sciences               Very_High   \n",
      "84                   9       Bachelor        Medical                  Medium   \n",
      "...                ...            ...            ...                     ...   \n",
      "1365                 1       Bachelor  Life_Sciences               Very_High   \n",
      "1386                 4         Master  Life_Sciences                    High   \n",
      "1407                 7        College        Medical                  Medium   \n",
      "1428                 2         Master  Life_Sciences                     Low   \n",
      "1449                 1         Master  Life_Sciences                    High   \n",
      "\n",
      "      Gender  ...  PerformanceRating RelationshipSatisfaction   \n",
      "0       Male  ...          Excellent                Very_High  \\\n",
      "21    Female  ...          Excellent                Very_High   \n",
      "42    Female  ...          Excellent                Very_High   \n",
      "63      Male  ...        Outstanding                Very_High   \n",
      "84      Male  ...          Excellent                     High   \n",
      "...      ...  ...                ...                      ...   \n",
      "1365    Male  ...          Excellent                     High   \n",
      "1386    Male  ...          Excellent                   Medium   \n",
      "1407  Female  ...          Excellent                Very_High   \n",
      "1428    Male  ...          Excellent                Very_High   \n",
      "1449    Male  ...          Excellent                      Low   \n",
      "\n",
      "      StockOptionLevel TotalWorkingYears TrainingTimesLastYear   \n",
      "0                    0                 0                     6  \\\n",
      "21                   0                 1                     3   \n",
      "42                   0                 1                     3   \n",
      "63                   1                 1                     2   \n",
      "84                   0                 1                     3   \n",
      "...                ...               ...                   ...   \n",
      "1365                 0                25                     3   \n",
      "1386                 0                27                     3   \n",
      "1407                 1                29                     2   \n",
      "1428                 1                31                     3   \n",
      "1449                 1                34                     5   \n",
      "\n",
      "     WorkLifeBalance  YearsAtCompany  YearsInCurrentRole   \n",
      "0             Better               0                   0  \\\n",
      "21            Better               1                   0   \n",
      "42            Better               1                   0   \n",
      "63            Better               1                   0   \n",
      "84              Good               1                   0   \n",
      "...              ...             ...                 ...   \n",
      "1365            Best               1                   0   \n",
      "1386          Better              15                  11   \n",
      "1407            Good              27                   3   \n",
      "1428          Better              31                   6   \n",
      "1449          Better              33                  18   \n",
      "\n",
      "      YearsSinceLastPromotion YearsWithCurrManager  \n",
      "0                           0                    0  \n",
      "21                          0                    0  \n",
      "42                          0                    0  \n",
      "63                          0                    1  \n",
      "84                          0                    0  \n",
      "...                       ...                  ...  \n",
      "1365                        0                    0  \n",
      "1386                        4                    8  \n",
      "1407                       13                    8  \n",
      "1428                       14                    7  \n",
      "1449                       11                    9  \n",
      "\n",
      "[70 rows x 31 columns]\n"
     ]
    }
   ],
   "source": [
    "# Set the sample size to 70\n",
    "sample_size = 70\n",
    "\n",
    "# Calculate the population size from attrition_pop\n",
    "pop_size = len(attrition_pop)\n",
    "\n",
    "# Calculate the interval\n",
    "interval = pop_size//sample_size\n",
    "\n",
    "\n",
    "# Systematically sample 70 rows\n",
    "attrition_sys_samp = attrition_pop.iloc[::interval]\n",
    "\n",
    "# Print the sample\n",
    "print(attrition_sys_samp)"
   ]
  },
  {
   "cell_type": "code",
   "execution_count": 17,
   "id": "8b447c05-fcb5-48ce-9379-de9b80b3bb7e",
   "metadata": {},
   "outputs": [
    {
     "name": "stdout",
     "output_type": "stream",
     "text": [
      "<class 'pandas.core.frame.DataFrame'>\n",
      "RangeIndex: 1470 entries, 0 to 1469\n",
      "Data columns (total 31 columns):\n",
      " #   Column                    Non-Null Count  Dtype   \n",
      "---  ------                    --------------  -----   \n",
      " 0   Age                       1470 non-null   int32   \n",
      " 1   Attrition                 1470 non-null   float64 \n",
      " 2   BusinessTravel            1470 non-null   category\n",
      " 3   DailyRate                 1470 non-null   int32   \n",
      " 4   Department                1470 non-null   category\n",
      " 5   DistanceFromHome          1470 non-null   int32   \n",
      " 6   Education                 1470 non-null   category\n",
      " 7   EducationField            1470 non-null   category\n",
      " 8   EnvironmentSatisfaction   1470 non-null   category\n",
      " 9   Gender                    1470 non-null   category\n",
      " 10  HourlyRate                1470 non-null   int32   \n",
      " 11  JobInvolvement            1470 non-null   category\n",
      " 12  JobLevel                  1470 non-null   int32   \n",
      " 13  JobRole                   1470 non-null   category\n",
      " 14  JobSatisfaction           1470 non-null   category\n",
      " 15  MaritalStatus             1470 non-null   category\n",
      " 16  MonthlyIncome             1470 non-null   int32   \n",
      " 17  MonthlyRate               1470 non-null   int32   \n",
      " 18  NumCompaniesWorked        1470 non-null   int32   \n",
      " 19  OverTime                  1470 non-null   category\n",
      " 20  PercentSalaryHike         1470 non-null   int32   \n",
      " 21  PerformanceRating         1470 non-null   category\n",
      " 22  RelationshipSatisfaction  1470 non-null   category\n",
      " 23  StockOptionLevel          1470 non-null   int32   \n",
      " 24  TotalWorkingYears         1470 non-null   int32   \n",
      " 25  TrainingTimesLastYear     1470 non-null   int32   \n",
      " 26  WorkLifeBalance           1470 non-null   category\n",
      " 27  YearsAtCompany            1470 non-null   int32   \n",
      " 28  YearsInCurrentRole        1470 non-null   int32   \n",
      " 29  YearsSinceLastPromotion   1470 non-null   int32   \n",
      " 30  YearsWithCurrManager      1470 non-null   int32   \n",
      "dtypes: category(14), float64(1), int32(16)\n",
      "memory usage: 126.2 KB\n"
     ]
    }
   ],
   "source": [
    "attrition_pop.info()"
   ]
  },
  {
   "cell_type": "code",
   "execution_count": 18,
   "id": "7b3bc829-d2d6-4efd-8e28-df8186251d69",
   "metadata": {},
   "outputs": [
    {
     "data": {
      "image/png": "[encoded data removed]",
      "text/plain": [
       "<Figure size 432x288 with 1 Axes>"
      ]
     },
     "metadata": {
      "needs_background": "light"
     },
     "output_type": "display_data"
    },
    {
     "data": {
      "image/png": "[encoded data removed]",
      "text/plain": [
       "<Figure size 432x288 with 1 Axes>"
      ]
     },
     "metadata": {
      "needs_background": "light"
     },
     "output_type": "display_data"
    }
   ],
   "source": [
    "# Add an index column to attrition_pop\n",
    "attrition_pop_id = attrition_pop.reset_index(drop=True)\n",
    "\n",
    "# Plot YearsAtCompany vs. index for attrition_pop_id\n",
    "plt.scatter(x=attrition_pop_id.index,y=attrition_pop_id['YearsAtCompany'])\n",
    "plt.show()\n",
    "\n",
    "# Add an index column to attrition_pop\n",
    "attrition_pop_id = attrition_pop.reset_index()\n",
    "\n",
    "# Plot YearsAtCompany vs. index for attrition_pop_id\n",
    "attrition_pop_id.plot(x=\"index\",y='YearsAtCompany', kind='scatter')\n",
    "plt.show()"
   ]
  },
  {
   "cell_type": "code",
   "execution_count": 19,
   "id": "d1da8bfc-b55e-431c-b313-2bb74335dc5a",
   "metadata": {},
   "outputs": [
    {
     "data": {
      "image/png": "[encoded data removed]",
      "text/plain": [
       "<Figure size 432x288 with 1 Axes>"
      ]
     },
     "metadata": {
      "needs_background": "light"
     },
     "output_type": "display_data"
    }
   ],
   "source": [
    "# Shuffle the rows of attrition_pop\n",
    "attrition_shuffled = attrition_pop.sample(frac=1)\n",
    "\n",
    "# Reset the row indexes and create an index column\n",
    "attrition_shuffled = attrition_shuffled.reset_index(drop = True).reset_index()\n",
    "\n",
    "# Plot YearsAtCompany vs. index for attrition_shuffled\n",
    "attrition_shuffled.plot(kind='scatter', x='index', y='YearsAtCompany')\n",
    "plt.show()"
   ]
  },
  {
   "cell_type": "markdown",
   "id": "4e835b69-0602-4049-9070-d56e7ff2ab65",
   "metadata": {},
   "source": [
    "# Stratified and weighted random sampling \n",
    "- Stratified random sampling\n",
    "  - if we care of the proportion of each country in the sample closely matching in the population, then we can group the data by country before taking the simple random sample \n",
    "    - e.g coffee_ratings_strat= coffee_ratings_top.groupby(\"country_of_origin\")\\.sample(frac=0.1,random_state=2021)\n",
    "- Weighted random sampling\n",
    "  - specify weights to adjust the relative probability of a row being sampled\n",
    "  - e.g import numpy as np\n",
    "  - coffee_ratings_weight = coffee_ratings_top\n",
    "  - condition = coffee_ratings_weight['country_of_origin']==\"Taiwan\"\n",
    "  - coffee_ratings_weight['weight']=np.where(condition,2,1)\n",
    "  - coffee_ratings_weight = coffee_ratings_weight.sample(frac=0.-, weights='weight')\n",
    "  - common in political polly "
   ]
  },
  {
   "cell_type": "code",
   "execution_count": 20,
   "id": "00004074-190e-4995-ae1d-5b1de8f3e279",
   "metadata": {},
   "outputs": [
    {
     "name": "stdout",
     "output_type": "stream",
     "text": [
      "Education\n",
      "Bachelor         0.389116\n",
      "Master           0.270748\n",
      "College          0.191837\n",
      "Below_College    0.115646\n",
      "Doctor           0.032653\n",
      "Name: proportion, dtype: float64\n",
      "Education\n",
      "Bachelor         0.389456\n",
      "Master           0.270408\n",
      "College          0.192177\n",
      "Below_College    0.115646\n",
      "Doctor           0.032313\n",
      "Name: proportion, dtype: float64\n"
     ]
    }
   ],
   "source": [
    "# Proportion of employees by Education level\n",
    "education_counts_pop = attrition_pop[\"Education\"].value_counts(normalize=True)\n",
    "\n",
    "# Print education_counts_pop\n",
    "print(education_counts_pop)\n",
    "\n",
    "# Proportional stratified sampling for 40% of each Education group\n",
    "attrition_strat = attrition_pop.groupby('Education').sample(frac=0.4, random_state=2022)\n",
    "\n",
    "\n",
    "# Calculate the Education level proportions from attrition_strat\n",
    "education_counts_strat = attrition_strat['Education'].value_counts(normalize=True)\n",
    "\n",
    "# Print education_counts_strat\n",
    "print(education_counts_strat)"
   ]
  },
  {
   "cell_type": "code",
   "execution_count": 21,
   "id": "a141cfe2-329b-4efd-a918-d665d7bc8907",
   "metadata": {},
   "outputs": [
    {
     "name": "stdout",
     "output_type": "stream",
     "text": [
      "Education\n",
      "Below_College    0.2\n",
      "College          0.2\n",
      "Bachelor         0.2\n",
      "Master           0.2\n",
      "Doctor           0.2\n",
      "Name: proportion, dtype: float64\n"
     ]
    }
   ],
   "source": [
    "# Get 30 employees from each Education group\n",
    "attrition_eq = attrition_pop.groupby('Education')\\\n",
    "\t.sample(n=30, random_state=2022)      \n",
    "\n",
    "# Get the proportions from attrition_eq\n",
    "education_counts_eq = attrition_eq['Education'].value_counts(normalize=True)\n",
    "\n",
    "# Print the results\n",
    "print(education_counts_eq)"
   ]
  },
  {
   "cell_type": "code",
   "execution_count": 22,
   "id": "9bbd673b-fa61-4f9d-8ceb-8381eb0a6642",
   "metadata": {},
   "outputs": [
    {
     "data": {
      "image/png": "[encoded data removed]",
      "text/plain": [
       "<Figure size 432x288 with 1 Axes>"
      ]
     },
     "metadata": {
      "needs_background": "light"
     },
     "output_type": "display_data"
    },
    {
     "name": "stdout",
     "output_type": "stream",
     "text": [
      "      Age  Attrition     BusinessTravel  DailyRate            Department   \n",
      "49     20        1.0      Travel_Rarely        129  Research_Development  \\\n",
      "1304   41        0.0      Travel_Rarely        334                 Sales   \n",
      "1019   37        0.0      Travel_Rarely       1319  Research_Development   \n",
      "323    36        0.0  Travel_Frequently       1195  Research_Development   \n",
      "932    31        0.0      Travel_Rarely       1232  Research_Development   \n",
      "...   ...        ...                ...        ...                   ...   \n",
      "536    33        1.0      Travel_Rarely        813  Research_Development   \n",
      "1160   38        0.0      Travel_Rarely        119                 Sales   \n",
      "1307   41        0.0      Travel_Rarely       1276                 Sales   \n",
      "870    45        0.0         Non-Travel        336                 Sales   \n",
      "380    33        0.0  Travel_Frequently        827  Research_Development   \n",
      "\n",
      "      DistanceFromHome Education    EducationField EnvironmentSatisfaction   \n",
      "49                   4  Bachelor  Technical_Degree                     Low  \\\n",
      "1304                 2    Master     Life_Sciences               Very_High   \n",
      "1019                 6  Bachelor           Medical                    High   \n",
      "323                 11  Bachelor     Life_Sciences                  Medium   \n",
      "932                  7    Master           Medical                    High   \n",
      "...                ...       ...               ...                     ...   \n",
      "536                 14  Bachelor           Medical                    High   \n",
      "1160                 3  Bachelor     Life_Sciences                     Low   \n",
      "1307                 2    Doctor     Life_Sciences                  Medium   \n",
      "870                 26  Bachelor         Marketing                     Low   \n",
      "380                  1    Master             Other                    High   \n",
      "\n",
      "      Gender  ...  PerformanceRating RelationshipSatisfaction   \n",
      "49      Male  ...          Excellent                   Medium  \\\n",
      "1304    Male  ...          Excellent                   Medium   \n",
      "1019    Male  ...          Excellent                      Low   \n",
      "323     Male  ...          Excellent                     High   \n",
      "932   Female  ...          Excellent                     High   \n",
      "...      ...  ...                ...                      ...   \n",
      "536     Male  ...          Excellent                     High   \n",
      "1160    Male  ...          Excellent                     High   \n",
      "1307  Female  ...          Excellent                   Medium   \n",
      "870     Male  ...          Excellent                      Low   \n",
      "380   Female  ...          Excellent                      Low   \n",
      "\n",
      "      StockOptionLevel TotalWorkingYears TrainingTimesLastYear   \n",
      "49                   0                 1                     2  \\\n",
      "1304                 0                22                     2   \n",
      "1019                 2                13                     2   \n",
      "323                  0                 6                     3   \n",
      "932                  0                11                     2   \n",
      "...                ...               ...                   ...   \n",
      "536                  1                 8                     2   \n",
      "1160                 2                17                     6   \n",
      "1307                 1                22                     2   \n",
      "870                  1                10                     2   \n",
      "380                  1                 6                     2   \n",
      "\n",
      "     WorkLifeBalance  YearsAtCompany  YearsInCurrentRole   \n",
      "49            Better               1                   0  \\\n",
      "1304          Better              22                  10   \n",
      "1019          Better               7                   7   \n",
      "323           Better               6                   5   \n",
      "932             Good              11                   9   \n",
      "...              ...             ...                 ...   \n",
      "536              Bad               5                   4   \n",
      "1160            Good              16                  10   \n",
      "1307          Better              18                  16   \n",
      "870           Better              10                   7   \n",
      "380           Better               6                   5   \n",
      "\n",
      "      YearsSinceLastPromotion YearsWithCurrManager  \n",
      "49                          0                    0  \n",
      "1304                        0                    4  \n",
      "1019                        6                    7  \n",
      "323                         0                    3  \n",
      "932                         4                   10  \n",
      "...                       ...                  ...  \n",
      "536                         0                    4  \n",
      "1160                        5                   13  \n",
      "1307                       11                    8  \n",
      "870                         4                    5  \n",
      "380                         1                    2  \n",
      "\n",
      "[400 rows x 31 columns]\n",
      "      Age  Attrition     BusinessTravel  DailyRate            Department   \n",
      "49     20        1.0      Travel_Rarely        129  Research_Development  \\\n",
      "1304   41        0.0      Travel_Rarely        334                 Sales   \n",
      "1019   37        0.0      Travel_Rarely       1319  Research_Development   \n",
      "323    36        0.0  Travel_Frequently       1195  Research_Development   \n",
      "932    31        0.0      Travel_Rarely       1232  Research_Development   \n",
      "...   ...        ...                ...        ...                   ...   \n",
      "536    33        1.0      Travel_Rarely        813  Research_Development   \n",
      "1160   38        0.0      Travel_Rarely        119                 Sales   \n",
      "1307   41        0.0      Travel_Rarely       1276                 Sales   \n",
      "870    45        0.0         Non-Travel        336                 Sales   \n",
      "380    33        0.0  Travel_Frequently        827  Research_Development   \n",
      "\n",
      "      DistanceFromHome Education    EducationField EnvironmentSatisfaction   \n",
      "49                   4  Bachelor  Technical_Degree                     Low  \\\n",
      "1304                 2    Master     Life_Sciences               Very_High   \n",
      "1019                 6  Bachelor           Medical                    High   \n",
      "323                 11  Bachelor     Life_Sciences                  Medium   \n",
      "932                  7    Master           Medical                    High   \n",
      "...                ...       ...               ...                     ...   \n",
      "536                 14  Bachelor           Medical                    High   \n",
      "1160                 3  Bachelor     Life_Sciences                     Low   \n",
      "1307                 2    Doctor     Life_Sciences                  Medium   \n",
      "870                 26  Bachelor         Marketing                     Low   \n",
      "380                  1    Master             Other                    High   \n",
      "\n",
      "      Gender  ...  PerformanceRating RelationshipSatisfaction   \n",
      "49      Male  ...          Excellent                   Medium  \\\n",
      "1304    Male  ...          Excellent                   Medium   \n",
      "1019    Male  ...          Excellent                      Low   \n",
      "323     Male  ...          Excellent                     High   \n",
      "932   Female  ...          Excellent                     High   \n",
      "...      ...  ...                ...                      ...   \n",
      "536     Male  ...          Excellent                     High   \n",
      "1160    Male  ...          Excellent                     High   \n",
      "1307  Female  ...          Excellent                   Medium   \n",
      "870     Male  ...          Excellent                      Low   \n",
      "380   Female  ...          Excellent                      Low   \n",
      "\n",
      "      StockOptionLevel TotalWorkingYears TrainingTimesLastYear   \n",
      "49                   0                 1                     2  \\\n",
      "1304                 0                22                     2   \n",
      "1019                 2                13                     2   \n",
      "323                  0                 6                     3   \n",
      "932                  0                11                     2   \n",
      "...                ...               ...                   ...   \n",
      "536                  1                 8                     2   \n",
      "1160                 2                17                     6   \n",
      "1307                 1                22                     2   \n",
      "870                  1                10                     2   \n",
      "380                  1                 6                     2   \n",
      "\n",
      "     WorkLifeBalance  YearsAtCompany  YearsInCurrentRole   \n",
      "49            Better               1                   0  \\\n",
      "1304          Better              22                  10   \n",
      "1019          Better               7                   7   \n",
      "323           Better               6                   5   \n",
      "932             Good              11                   9   \n",
      "...              ...             ...                 ...   \n",
      "536              Bad               5                   4   \n",
      "1160            Good              16                  10   \n",
      "1307          Better              18                  16   \n",
      "870           Better              10                   7   \n",
      "380           Better               6                   5   \n",
      "\n",
      "      YearsSinceLastPromotion YearsWithCurrManager  \n",
      "49                          0                    0  \n",
      "1304                        0                    4  \n",
      "1019                        6                    7  \n",
      "323                         0                    3  \n",
      "932                         4                   10  \n",
      "...                       ...                  ...  \n",
      "536                         0                    4  \n",
      "1160                        5                   13  \n",
      "1307                       11                    8  \n",
      "870                         4                    5  \n",
      "380                         1                    2  \n",
      "\n",
      "[400 rows x 31 columns]\n"
     ]
    }
   ],
   "source": [
    "# Plot YearsAtCompany from attrition_pop as a histogram\n",
    "attrition_pop['YearsAtCompany'].hist(bins=np.arange(0, 41, 1))\n",
    "plt.show()\n",
    "\n",
    "# Sample 400 employees weighted by YearsAtCompany\n",
    "attrition_weight = attrition_pop.sample(n=400, weights=\"YearsAtCompany\")\n",
    "\n",
    "# Print the sample\n",
    "print(attrition_weight)\n",
    "\n",
    "# Print the sample\n",
    "print(attrition_weight)"
   ]
  },
  {
   "cell_type": "code",
   "execution_count": 23,
   "id": "361f8723-0b2a-4bc5-abac-f2b67a924292",
   "metadata": {},
   "outputs": [
    {
     "data": {
      "image/png": "[encoded data removed]",
      "text/plain": [
       "<Figure size 432x288 with 1 Axes>"
      ]
     },
     "metadata": {
      "needs_background": "light"
     },
     "output_type": "display_data"
    },
    {
     "data": {
      "image/png": "[encoded data removed]",
      "text/plain": [
       "<Figure size 432x288 with 1 Axes>"
      ]
     },
     "metadata": {
      "needs_background": "light"
     },
     "output_type": "display_data"
    }
   ],
   "source": [
    "# Plot YearsAtCompany from attrition_pop as a histogram\n",
    "attrition_pop['YearsAtCompany'].hist(bins=np.arange(0, 41, 1))\n",
    "plt.show()\n",
    "\n",
    "# Sample 400 employees weighted by YearsAtCompany\n",
    "attrition_weight = attrition_pop.sample(n=400, weights=\"YearsAtCompany\")\n",
    "\n",
    "# Plot YearsAtCompany from attrition_weight as a histogram\n",
    "attrition_weight['YearsAtCompany'].hist(bins=np.arange(0,41,1))\n",
    "plt.show()"
   ]
  },
  {
   "cell_type": "markdown",
   "id": "1505480f-c192-444d-a1db-5eb4dc4dbf93",
   "metadata": {},
   "source": [
    "# Cluster Sampling \n",
    "- Stratified sampling vs cluster sampling\n",
    "  - stratified sampling\n",
    "    - split the population into subgroups\n",
    "    - use simple random sampling on every subgroup\n",
    "  - cluster sampling\n",
    "    - use simple random sampling to pick some subgroups\n",
    "    - use simple random sampling on only those subgroups\n",
    "    - e.g import random\n",
    "    - varieties_samp = list(random.sample(varieties_pop, k=3)) >> k is how many varieties you want to get\n",
    "    - variety_condition = coffee_ratings['variety'].isin(varieties_samp)\n",
    "    - coffee_ratings_cluster=coffee_ratings[variety_condition]\n",
    "    - coffee_ratings_cluster['variety']=coffee_ratings_cluster['variety'].cat.remove_unused_categories()\n",
    "    - coffee_ratings_cluster.groupby(\"variety\")\\.sample(n=5, random_state=2021)\n",
    "- We have two stages in the cluster sampling, we randomly choose subgroup to include and sampled row based on subgroup"
   ]
  },
  {
   "cell_type": "code",
   "execution_count": 24,
   "id": "c760c66c-0289-4eff-9cc4-81dbbe70543a",
   "metadata": {},
   "outputs": [
    {
     "name": "stdout",
     "output_type": "stream",
     "text": [
      "      Age  Attrition     BusinessTravel  DailyRate            Department   \n",
      "1124   36        0.0      Travel_Rarely       1396  Research_Development  \\\n",
      "576    45        0.0      Travel_Rarely        974  Research_Development   \n",
      "995    42        0.0  Travel_Frequently        748  Research_Development   \n",
      "1243   50        0.0      Travel_Rarely       1207  Research_Development   \n",
      "869    45        0.0      Travel_Rarely       1015  Research_Development   \n",
      "599    33        0.0      Travel_Rarely       1099  Research_Development   \n",
      "117    24        0.0      Travel_Rarely        350  Research_Development   \n",
      "472    30        0.0      Travel_Rarely        921  Research_Development   \n",
      "149    27        0.0         Non-Travel       1277  Research_Development   \n",
      "49     20        1.0      Travel_Rarely        129  Research_Development   \n",
      "1380   44        0.0      Travel_Rarely       1099                 Sales   \n",
      "1285   39        0.0      Travel_Rarely        412  Research_Development   \n",
      "1294   39        0.0         Non-Travel        105  Research_Development   \n",
      "1408   51        0.0      Travel_Rarely       1318                 Sales   \n",
      "1299   45        0.0         Non-Travel       1195  Research_Development   \n",
      "1280   42        0.0      Travel_Rarely        265                 Sales   \n",
      "1334   46        0.0      Travel_Rarely        228                 Sales   \n",
      "1387   48        0.0         Non-Travel       1262  Research_Development   \n",
      "1345   55        1.0      Travel_Rarely        725  Research_Development   \n",
      "1433   50        0.0      Travel_Rarely        854                 Sales   \n",
      "222    31        0.0         Non-Travel        976  Research_Development   \n",
      "1146   34        0.0  Travel_Frequently        735  Research_Development   \n",
      "1257   38        0.0  Travel_Frequently       1394  Research_Development   \n",
      "259    23        0.0      Travel_Rarely        885  Research_Development   \n",
      "370    34        0.0  Travel_Frequently        702  Research_Development   \n",
      "98     33        0.0      Travel_Rarely        832  Research_Development   \n",
      "485    45        0.0      Travel_Rarely       1457  Research_Development   \n",
      "231    35        0.0  Travel_Frequently        664  Research_Development   \n",
      "275    33        1.0      Travel_Rarely       1017  Research_Development   \n",
      "178    23        0.0      Travel_Rarely       1309  Research_Development   \n",
      "1180   36        0.0      Travel_Rarely        530                 Sales   \n",
      "23     19        1.0  Travel_Frequently        602                 Sales   \n",
      "101    29        0.0      Travel_Rarely       1090                 Sales   \n",
      "48     19        1.0      Travel_Rarely        419                 Sales   \n",
      "144    29        0.0  Travel_Frequently       1404                 Sales   \n",
      "47     25        1.0      Travel_Rarely        867                 Sales   \n",
      "4      18        1.0  Travel_Frequently       1306                 Sales   \n",
      "157    23        1.0      Travel_Rarely        427                 Sales   \n",
      "402    25        1.0      Travel_Rarely        383                 Sales   \n",
      "140    38        0.0      Travel_Rarely        395                 Sales   \n",
      "\n",
      "      DistanceFromHome      Education    EducationField   \n",
      "1124                 5        College     Life_Sciences  \\\n",
      "576                  1         Master           Medical   \n",
      "995                  9        College           Medical   \n",
      "1243                28  Below_College           Medical   \n",
      "869                  5         Doctor           Medical   \n",
      "599                  4         Master           Medical   \n",
      "117                 21        College  Technical_Degree   \n",
      "472                  1       Bachelor     Life_Sciences   \n",
      "149                  8         Doctor     Life_Sciences   \n",
      "49                   4       Bachelor  Technical_Degree   \n",
      "1380                 5       Bachelor         Marketing   \n",
      "1285                13         Master           Medical   \n",
      "1294                 9       Bachelor     Life_Sciences   \n",
      "1408                26         Master         Marketing   \n",
      "1299                 2        College           Medical   \n",
      "1280                 5        College         Marketing   \n",
      "1334                 3       Bachelor     Life_Sciences   \n",
      "1387                 1         Master           Medical   \n",
      "1345                 2       Bachelor           Medical   \n",
      "1433                 1         Master           Medical   \n",
      "222                  3        College           Medical   \n",
      "1146                22         Master             Other   \n",
      "1257                 8       Bachelor           Medical   \n",
      "259                  4       Bachelor           Medical   \n",
      "370                 16         Master     Life_Sciences   \n",
      "98                   5         Master     Life_Sciences   \n",
      "485                  7       Bachelor           Medical   \n",
      "231                  1       Bachelor           Medical   \n",
      "275                 25       Bachelor           Medical   \n",
      "178                 26  Below_College     Life_Sciences   \n",
      "1180                 2         Master     Life_Sciences   \n",
      "23                   1  Below_College  Technical_Degree   \n",
      "101                 10       Bachelor         Marketing   \n",
      "48                  21       Bachelor             Other   \n",
      "144                 20       Bachelor  Technical_Degree   \n",
      "47                  19        College         Marketing   \n",
      "4                    5       Bachelor         Marketing   \n",
      "157                  7       Bachelor     Life_Sciences   \n",
      "402                  9        College     Life_Sciences   \n",
      "140                  9       Bachelor         Marketing   \n",
      "\n",
      "     EnvironmentSatisfaction  Gender  ...  PerformanceRating   \n",
      "1124               Very_High    Male  ...          Excellent  \\\n",
      "576                Very_High  Female  ...          Excellent   \n",
      "995                      Low  Female  ...          Excellent   \n",
      "1243               Very_High    Male  ...          Excellent   \n",
      "869                     High  Female  ...          Excellent   \n",
      "599                      Low  Female  ...          Excellent   \n",
      "117                     High    Male  ...          Excellent   \n",
      "472                Very_High    Male  ...        Outstanding   \n",
      "149                      Low    Male  ...          Excellent   \n",
      "49                       Low    Male  ...          Excellent   \n",
      "1380                  Medium    Male  ...          Excellent   \n",
      "1285                    High  Female  ...          Excellent   \n",
      "1294               Very_High    Male  ...          Excellent   \n",
      "1408                     Low  Female  ...          Excellent   \n",
      "1299                     Low    Male  ...        Outstanding   \n",
      "1280               Very_High    Male  ...          Excellent   \n",
      "1334                    High  Female  ...          Excellent   \n",
      "1387                     Low    Male  ...        Outstanding   \n",
      "1345               Very_High    Male  ...          Excellent   \n",
      "1433               Very_High  Female  ...          Excellent   \n",
      "222                     High    Male  ...          Excellent   \n",
      "1146                    High    Male  ...          Excellent   \n",
      "1257               Very_High  Female  ...          Excellent   \n",
      "259                      Low    Male  ...          Excellent   \n",
      "370                     High  Female  ...          Excellent   \n",
      "98                      High  Female  ...          Excellent   \n",
      "485                      Low  Female  ...          Excellent   \n",
      "231                   Medium    Male  ...          Excellent   \n",
      "275                      Low    Male  ...        Outstanding   \n",
      "178                     High    Male  ...          Excellent   \n",
      "1180                    High  Female  ...          Excellent   \n",
      "23                      High  Female  ...        Outstanding   \n",
      "101                Very_High    Male  ...          Excellent   \n",
      "48                 Very_High    Male  ...          Excellent   \n",
      "144                     High  Female  ...          Excellent   \n",
      "47                      High    Male  ...          Excellent   \n",
      "4                     Medium    Male  ...          Excellent   \n",
      "157                     High    Male  ...        Outstanding   \n",
      "402                      Low    Male  ...          Excellent   \n",
      "140                   Medium    Male  ...          Excellent   \n",
      "\n",
      "     RelationshipSatisfaction  StockOptionLevel TotalWorkingYears   \n",
      "1124                Very_High                 0                16  \\\n",
      "576                 Very_High                 2                 8   \n",
      "995                      High                 0                12   \n",
      "1243                     High                 3                20   \n",
      "869                       Low                 0                10   \n",
      "599                 Very_High                 0                 8   \n",
      "117                    Medium                 3                 2   \n",
      "472                      High                 2                 7   \n",
      "149                 Very_High                 3                 3   \n",
      "49                     Medium                 0                 1   \n",
      "1380                     High                 1                26   \n",
      "1285                Very_High                 2                21   \n",
      "1294                     High                 0                21   \n",
      "1408                     High                 1                29   \n",
      "1299                Very_High                 1                22   \n",
      "1280                   Medium                 0                21   \n",
      "1334                Very_High                 1                23   \n",
      "1387                     High                 0                27   \n",
      "1345                Very_High                 1                24   \n",
      "1433                     High                 1                32   \n",
      "222                 Very_High                 1                 4   \n",
      "1146                   Medium                 0                16   \n",
      "1257                     High                 1                20   \n",
      "259                       Low                 1                 5   \n",
      "370                      High                 0                 6   \n",
      "98                       High                 1                 2   \n",
      "485                      High                 1                 7   \n",
      "231                 Very_High                 1                 5   \n",
      "275                    Medium                 0                 5   \n",
      "178                      High                 2                 4   \n",
      "1180                     High                 0                17   \n",
      "23                        Low                 0                 1   \n",
      "101                 Very_High                 2                 2   \n",
      "48                     Medium                 0                 1   \n",
      "144                    Medium                 1                 3   \n",
      "47                       High                 3                 1   \n",
      "4                   Very_High                 0                 0   \n",
      "157                    Medium                 1                 3   \n",
      "402                       Low                 0                 6   \n",
      "140                 Very_High                 1                 3   \n",
      "\n",
      "     TrainingTimesLastYear WorkLifeBalance  YearsAtCompany   \n",
      "1124                     3            Best              13  \\\n",
      "576                      2          Better               5   \n",
      "995                      3          Better              12   \n",
      "1243                     3          Better              20   \n",
      "869                      3          Better              10   \n",
      "599                      5          Better               5   \n",
      "117                      3          Better               1   \n",
      "472                      2          Better               2   \n",
      "149                      4          Better               3   \n",
      "49                       2          Better               1   \n",
      "1380                     5          Better              22   \n",
      "1285                     4          Better              19   \n",
      "1294                     3            Good               6   \n",
      "1408                     2            Good              20   \n",
      "1299                     1          Better              20   \n",
      "1280                     3            Best               1   \n",
      "1334                     2            Best              13   \n",
      "1387                     3            Good               5   \n",
      "1345                     2          Better               5   \n",
      "1433                     3            Good               7   \n",
      "222                      3            Best               4   \n",
      "1146                     3          Better              15   \n",
      "1257                     3          Better              20   \n",
      "259                      3            Best               3   \n",
      "370                      3          Better               5   \n",
      "98                       2            Good               2   \n",
      "485                      2            Good               3   \n",
      "231                      2            Good               3   \n",
      "275                      0          Better               2   \n",
      "178                      2            Good               4   \n",
      "1180                     2            Good              13   \n",
      "23                       5            Best               0   \n",
      "101                      2          Better               2   \n",
      "48                       3            Best               1   \n",
      "144                      5          Better               3   \n",
      "47                       2          Better               1   \n",
      "4                        3          Better               0   \n",
      "157                      2          Better               3   \n",
      "402                      2          Better               3   \n",
      "140                      3          Better               2   \n",
      "\n",
      "      YearsInCurrentRole  YearsSinceLastPromotion YearsWithCurrManager  \n",
      "1124                  11                        3                    7  \n",
      "576                    3                        0                    2  \n",
      "995                    9                        5                    8  \n",
      "1243                   8                        3                    8  \n",
      "869                    7                        1                    4  \n",
      "599                    4                        0                    2  \n",
      "117                    1                        0                    0  \n",
      "472                    2                        0                    2  \n",
      "149                    2                        1                    2  \n",
      "49                     0                        0                    0  \n",
      "1380                   9                        3                   10  \n",
      "1285                   9                       15                    2  \n",
      "1294                   0                        1                    3  \n",
      "1408                   6                        4                   17  \n",
      "1299                   8                       11                    8  \n",
      "1280                   0                        0                    0  \n",
      "1334                  12                        5                    1  \n",
      "1387                   4                        2                    1  \n",
      "1345                   2                        1                    4  \n",
      "1433                   0                        0                    6  \n",
      "222                    2                        2                    3  \n",
      "1146                  10                        6                   11  \n",
      "1257                  11                        0                    7  \n",
      "259                    2                        0                    2  \n",
      "370                    2                        1                    3  \n",
      "98                     2                        0                    2  \n",
      "485                    2                        0                    2  \n",
      "231                    2                        1                    2  \n",
      "275                    2                        2                    2  \n",
      "178                    2                        0                    2  \n",
      "1180                   7                        6                    7  \n",
      "23                     0                        0                    0  \n",
      "101                    2                        2                    2  \n",
      "48                     0                        0                    0  \n",
      "144                    1                        0                    2  \n",
      "47                     0                        0                    0  \n",
      "4                      0                        0                    0  \n",
      "157                    2                        0                    2  \n",
      "402                    2                        2                    2  \n",
      "140                    2                        1                    2  \n",
      "\n",
      "[40 rows x 31 columns]\n"
     ]
    },
    {
     "name": "stderr",
     "output_type": "stream",
     "text": [
      "<ipython-input-24-5e231da61147>:13: SettingWithCopyWarning: \n",
      "A value is trying to be set on a copy of a slice from a DataFrame.\n",
      "Try using .loc[row_indexer,col_indexer] = value instead\n",
      "\n",
      "See the caveats in the documentation: https://pandas.pydata.org/pandas-docs/stable/user_guide/indexing.html#returning-a-view-versus-a-copy\n",
      "  attrition_filtered['JobRole'] = attrition_filtered['JobRole'].cat.remove_unused_categories()\n"
     ]
    }
   ],
   "source": [
    "import random\n",
    "# Create a list of unique JobRole values\n",
    "job_roles_pop = list(attrition_pop['JobRole'].unique())\n",
    "\n",
    "# Randomly sample four JobRole values\n",
    "job_roles_samp = random.sample(job_roles_pop, k=4)\n",
    "\n",
    "# Filter for rows where JobRole is in job_roles_samp\n",
    "jobrole_condition = attrition_pop['JobRole'].isin(job_roles_samp)\n",
    "attrition_filtered = attrition_pop[jobrole_condition]\n",
    "\n",
    "# Remove categories with no rows\n",
    "attrition_filtered['JobRole'] = attrition_filtered['JobRole'].cat.remove_unused_categories()\n",
    "\n",
    "# Randomly sample 10 employees from each sampled job role\n",
    "attrition_clust = attrition_filtered.groupby('JobRole').sample(n=10,random_state=2022)\n",
    "\n",
    "\n",
    "# Print the sample\n",
    "print(attrition_clust)"
   ]
  },
  {
   "cell_type": "code",
   "execution_count": 25,
   "id": "e37016bb-629e-44e2-b53f-d93aeb89eebb",
   "metadata": {},
   "outputs": [
    {
     "name": "stderr",
     "output_type": "stream",
     "text": [
      "<ipython-input-25-a65b30ac212b>:12: SettingWithCopyWarning: \n",
      "A value is trying to be set on a copy of a slice from a DataFrame.\n",
      "Try using .loc[row_indexer,col_indexer] = value instead\n",
      "\n",
      "See the caveats in the documentation: https://pandas.pydata.org/pandas-docs/stable/user_guide/indexing.html#returning-a-view-versus-a-copy\n",
      "  attrition_filtered['JobRole'] = attrition_filtered['JobRole'].cat.remove_unused_categories()\n"
     ]
    },
    {
     "data": {
      "text/plain": [
       "['Laboratory_Technician', 'Sales_Executive', 'Research_Director', 'Manager']\n",
       "Categories (4, object): ['Laboratory_Technician', 'Manager', 'Research_Director', 'Sales_Executive']"
      ]
     },
     "execution_count": 25,
     "metadata": {},
     "output_type": "execute_result"
    }
   ],
   "source": [
    "# Create a list of unique JobRole values\n",
    "job_roles_pop = list(attrition_pop['JobRole'].unique())\n",
    "\n",
    "# Randomly sample four JobRole values\n",
    "job_roles_samp = random.sample(job_roles_pop, k=4)\n",
    "\n",
    "# Filter for rows where JobRole is in job_roles_samp\n",
    "jobrole_condition = attrition_pop['JobRole'].isin(job_roles_samp)\n",
    "attrition_filtered = attrition_pop[jobrole_condition]\n",
    "\n",
    "# Remove categories with no rows\n",
    "attrition_filtered['JobRole'] = attrition_filtered['JobRole'].cat.remove_unused_categories()\n",
    "attrition_filtered['JobRole'].unique()"
   ]
  },
  {
   "cell_type": "markdown",
   "id": "382ece4b-dcdb-446c-85aa-aa0f9ba2d93e",
   "metadata": {},
   "source": [
    "# Comparing sampling methods \n",
    "1. random sampling\n",
    "   - coffee_ratings_top.sample(frac=1/3, random_state=2021)\n",
    "2. stratified sampling\n",
    "   - coffee_ratings_top.groupby('country_of_origin').sample(frac=1/3, random_state=2021)\n",
    "3. cluster sampling\n",
    "   - top_countries_samp=random.sample(top_counted_countries,k=2)\n",
    "   - coffee_ratings_cluster = coffee_ratings_top[coffee_ratings_top['country_of_origin'].isin(top_countries_samp)]\n",
    "   - coffee_ratings_cluster['country_of_origin']=coffee_ratings_cluster['country_of_origin']\\.cat.remove_unused_categories()\n",
    "\n",
    "-- Mean as comparison to population \n",
    "1. Stratified sample and random sampling\n",
    "2. cluster sampling >> the usefull of cluster sampling giving information almost as good with using less data "
   ]
  },
  {
   "cell_type": "code",
   "execution_count": 29,
   "id": "b72bf94a-dea4-4d5a-aea6-7f910bc9621f",
   "metadata": {},
   "outputs": [
    {
     "name": "stderr",
     "output_type": "stream",
     "text": [
      "<ipython-input-29-9cb2d33ed048>:17: SettingWithCopyWarning: \n",
      "A value is trying to be set on a copy of a slice from a DataFrame.\n",
      "Try using .loc[row_indexer,col_indexer] = value instead\n",
      "\n",
      "See the caveats in the documentation: https://pandas.pydata.org/pandas-docs/stable/user_guide/indexing.html#returning-a-view-versus-a-copy\n",
      "  attrition_clust_prep['RelationshipSatisfaction'] = attrition_clust_prep['RelationshipSatisfaction'].cat.remove_unused_categories()\n"
     ]
    }
   ],
   "source": [
    "# Perform simple random sampling to get 0.25 of the population\n",
    "attrition_srs = attrition_pop.sample(frac=1/4, random_state=2022)\n",
    "\n",
    "# Perform stratified sampling to get 0.25 of each relationship group\n",
    "attrition_strat = attrition_pop.groupby('RelationshipSatisfaction').sample(frac=1/4,random_state=2022)\n",
    "\n",
    "# Cluster sampling \n",
    "# Create a list of unique RelationshipSatisfaction values\n",
    "satisfaction_unique = list(attrition_pop['RelationshipSatisfaction'].unique())\n",
    "\n",
    "# Randomly sample 2 unique satisfaction values\n",
    "satisfaction_samp = random.sample(satisfaction_unique,k=2)\n",
    "\n",
    "# Filter for satisfaction_samp and clear unused categories from RelationshipSatisfaction\n",
    "satis_condition = attrition_pop['RelationshipSatisfaction'].isin(satisfaction_samp)\n",
    "attrition_clust_prep = attrition_pop[satis_condition]\n",
    "attrition_clust_prep['RelationshipSatisfaction'] = attrition_clust_prep['RelationshipSatisfaction'].cat.remove_unused_categories()\n",
    "\n",
    "# Perform cluster sampling on the selected group, getting 0.25 of attrition_pop\n",
    "# attrition_clust = attrition_clust_prep.groupby('RelationshipSatisfaction').sample(n=len(attrition_pop)//4,random_state=2022)\n",
    "attrition_clust = attrition_clust_prep.groupby('RelationshipSatisfaction').sample(frac=1/4,random_state=2022)"
   ]
  },
  {
   "cell_type": "code",
   "execution_count": 30,
   "id": "6c75b243-13eb-479f-ab7d-c17afc32f5cc",
   "metadata": {},
   "outputs": [
    {
     "name": "stdout",
     "output_type": "stream",
     "text": [
      "RelationshipSatisfaction\n",
      "Low          0.206522\n",
      "Medium       0.148515\n",
      "High         0.154684\n",
      "Very_High    0.148148\n",
      "Name: Attrition, dtype: float64 RelationshipSatisfaction\n",
      "Low          0.134328\n",
      "Medium       0.164179\n",
      "High         0.160000\n",
      "Very_High    0.155963\n",
      "Name: Attrition, dtype: float64 RelationshipSatisfaction\n",
      "Low          0.134328\n",
      "Medium       0.164179\n",
      "High         0.160000\n",
      "Very_High    0.155963\n",
      "Name: Attrition, dtype: float64 RelationshipSatisfaction\n",
      "Low       0.144928\n",
      "Medium    0.078947\n",
      "Name: Attrition, dtype: float64\n"
     ]
    }
   ],
   "source": [
    "# Mean Attrition by RelationshipSatisfaction group\n",
    "mean_attrition_pop = attrition_pop.groupby('RelationshipSatisfaction')['Attrition'].mean()\n",
    "mean_attrition_srs = attrition_srs.groupby('RelationshipSatisfaction')['Attrition'].mean()\n",
    "mean_attrition_srat = attrition_srs.groupby('RelationshipSatisfaction')['Attrition'].mean()\n",
    "mean_attrition_clust = attrition_clust.groupby('RelationshipSatisfaction')['Attrition'].mean()\n",
    "\n",
    "# Print the result\n",
    "print(mean_attrition_pop,mean_attrition_srs,mean_attrition_srat,mean_attrition_clust)"
   ]
  },
  {
   "cell_type": "markdown",
   "id": "c978f23d-784d-47e4-83d7-1c94b71356d0",
   "metadata": {},
   "source": [
    "# Relative error of point estimates \n",
    "- larger sample will give more accurate results\n",
    "- the most common metric for assessing the difference between the population and sample mean is the relative error\n",
    "- relative error as a percentage: rel_error_pct=100*abs(population_mean-sample_mean)/population_mean\n",
    "- relative error will decrease as sample size increases\n",
    "- relative error decreases to zero(when the sample size=population) "
   ]
  },
  {
   "cell_type": "code",
   "execution_count": 31,
   "id": "c558f5cd-6611-4fce-b3cc-60c707e8383c",
   "metadata": {},
   "outputs": [
    {
     "name": "stdout",
     "output_type": "stream",
     "text": [
      "62.78481012658227\n"
     ]
    }
   ],
   "source": [
    "# Generate a simple random sample of 50 rows, with seed 2022\n",
    "attrition_srs50 = attrition_pop.sample(n=50, random_state=2022)\n",
    "\n",
    "# Calculate the mean employee attrition in the sample\n",
    "mean_attrition_srs50 = attrition_srs50['Attrition'].mean()\n",
    "\n",
    "# Calculate the relative error percentage\n",
    "rel_error_pct50 = 100*abs(attrition_pop['Attrition'].mean()-mean_attrition_srs50)/attrition_pop['Attrition'].mean()\n",
    "\n",
    "# # # Print rel_error_pct50\n",
    "print(rel_error_pct50)"
   ]
  },
  {
   "cell_type": "code",
   "execution_count": 32,
   "id": "e81e8e18-3fec-4a20-b183-c39b011f858e",
   "metadata": {},
   "outputs": [
    {
     "name": "stdout",
     "output_type": "stream",
     "text": [
      "6.962025316455695\n"
     ]
    }
   ],
   "source": [
    "# Generate a simple random sample of 100 rows, with seed 2022\n",
    "attrition_srs100 = attrition_pop.sample(n=100, random_state=2022)\n",
    "\n",
    "# Calculate the mean employee attrition in the sample\n",
    "mean_attrition_srs100= attrition_srs100['Attrition'].mean()\n",
    "\n",
    "# Calculate the relative error percentage\n",
    "rel_error_pct100 = 100*abs(attrition_pop['Attrition'].mean()-mean_attrition_srs100)/attrition_pop['Attrition'].mean()\n",
    "\n",
    "# # Print rel_error_pct100\n",
    "print(rel_error_pct100)"
   ]
  },
  {
   "cell_type": "markdown",
   "id": "05f367cc-b23d-4fa2-8551-6601f798a98e",
   "metadata": {},
   "source": [
    "# Creating a sampling distribution \n",
    "- replicating sample: When you calculate a point estimate such as a sample mean, the value you calculate depends on the rows that were included in the sample. That means that there is some randomness in the answer. In order to quantify the variation caused by this randomness, you can create many samples and calculate the sample mean (or another statistic) for each sample.\n",
    "- AS sample size increases, on average each sample mean has a lower relative error compared to the population mean, thus reducing the range of the distribution\n",
    "\n",
    "# Approximate sampling distribution \n",
    "- The distribution of a sample statistic is called the sampling distribution. When we can calculate this exactly, rather than using an approximation, it is known as the exact sampling distribution."
   ]
  },
  {
   "cell_type": "code",
   "execution_count": 33,
   "id": "4460465a-0384-412b-b246-953aeace7432",
   "metadata": {},
   "outputs": [
    {
     "data": {
      "image/png": "[encoded data removed]",
      "text/plain": [
       "<Figure size 432x288 with 1 Axes>"
      ]
     },
     "metadata": {
      "needs_background": "light"
     },
     "output_type": "display_data"
    }
   ],
   "source": [
    "# Create an empty list\n",
    "mean_attritions = []\n",
    "# Loop 500 times to create 500 sample means\n",
    "for i in range(500):\n",
    "\tmean_attritions.append(\n",
    "    \tattrition_pop.sample(n=60)['Attrition'].mean()\n",
    "\t)\n",
    "\n",
    "# Create a histogram of the 500 sample means\n",
    "plt.hist(mean_attritions,bins=16)\n",
    "plt.show()"
   ]
  },
  {
   "cell_type": "code",
   "execution_count": 34,
   "id": "8676e419-2a15-44af-a86d-edebaa2d29b9",
   "metadata": {},
   "outputs": [],
   "source": [
    "import itertools\n"
   ]
  },
  {
   "cell_type": "code",
   "execution_count": 35,
   "id": "d585f3d9-cbb6-46aa-892f-97844c43a776",
   "metadata": {},
   "outputs": [
    {
     "data": {
      "image/png": "[encoded data removed]",
      "text/plain": [
       "<Figure size 432x288 with 1 Axes>"
      ]
     },
     "metadata": {
      "needs_background": "light"
     },
     "output_type": "display_data"
    }
   ],
   "source": [
    "def expand_grid(data_dict):\n",
    "    rows = itertools.product(*data_dict.values())\n",
    "    return pd.DataFrame.from_records(rows, columns=data_dict.keys())\n",
    "\n",
    "# Expand a grid representing 5 8-sided dice\n",
    "dice = expand_grid(\n",
    "  {'die1': [1, 2, 3, 4, 5, 6, 7, 8],\n",
    "   'die2': [1, 2, 3, 4, 5, 6, 7, 8],\n",
    "   'die3': [1, 2, 3, 4, 5, 6, 7, 8],\n",
    "   'die4': [1, 2, 3, 4, 5, 6, 7, 8],\n",
    "   'die5': [1, 2, 3, 4, 5, 6, 7, 8]\n",
    "  })\n",
    "\n",
    "# Add a column of mean rolls and convert to a categorical\n",
    "dice['mean_roll'] = (dice['die1'] + dice['die2'] + \n",
    "                     dice['die3'] + dice['die4'] + \n",
    "                     dice['die5']) / 5\n",
    "dice['mean_roll'] = dice['mean_roll'].astype('category')\n",
    "\n",
    "# Draw a bar plot of mean_roll\n",
    "dice['mean_roll'].value_counts(sort=False).plot(kind='bar')\n",
    "plt.show()\n"
   ]
  },
  {
   "cell_type": "code",
   "execution_count": 37,
   "id": "215eba22-5aae-47ca-9402-610a6ba4e62c",
   "metadata": {},
   "outputs": [
    {
     "name": "stdout",
     "output_type": "stream",
     "text": [
      "6.0\n",
      "[3.2, 4.4, 4.0, 4.4, 5.0, 5.0, 3.8, 4.4, 5.2, 3.4]\n"
     ]
    },
    {
     "data": {
      "image/png": "[encoded data removed]",
      "text/plain": [
       "<Figure size 432x288 with 1 Axes>"
      ]
     },
     "metadata": {
      "needs_background": "light"
     },
     "output_type": "display_data"
    }
   ],
   "source": [
    "# Sample one to eight, five times, with replacement\n",
    "five_rolls = np.random.choice(list(range(1, 9)), size=5, replace=True)\n",
    "\n",
    "# Print the mean of five_rolls\n",
    "print(five_rolls.mean())\n",
    "\n",
    "# Replicate the sampling code 1000 times\n",
    "sample_means_1000 = []\n",
    "for i in range(1000):\n",
    "    sample_means_1000.append(\n",
    "  \t\tnp.random.choice(list(range(1, 9)), size=5, replace=True).mean()\n",
    "    )\n",
    "    \n",
    "# Print the first 10 entries of the result\n",
    "print(sample_means_1000[0:10])\n",
    "\n",
    "# Draw a histogram of sample_means_1000 with 20 bins\n",
    "plt.hist(sample_means_1000,bins=20)\n",
    "plt.show()"
   ]
  },
  {
   "cell_type": "markdown",
   "id": "cfe22689-acea-46cc-8c27-0cfb3293f5e7",
   "metadata": {},
   "source": [
    "# Standard errors and the central Limit Theorem \n",
    "- the width of distribution shrink as the sample size increases\n",
    "- consequences of the central limit theorem\n",
    "  - averages of independent samples have approximately normal distributions\n",
    "  - as the sample increases the distribution of the averages getw closer to beaing normally distributed and the width of the sampling distribution gets narrower\n",
    "- the more sample the lower std dev sample mean\n",
    "  - specify ddof = 0 when calling .std() on population\n",
    "- standard error : standar deviation of the sampling distribution, is important tool in understanding sampling variability\n",
    "- the mean of the sampling distribution is a good approximation of the population mean\n",
    "- the satandard deviation of the sampling distribution is approximately equal to the population standard deviation divided by the square root of the sample size"
   ]
  },
  {
   "cell_type": "code",
   "execution_count": 39,
   "id": "c1c52681-1eaa-44c5-96d4-362f682ddab9",
   "metadata": {},
   "outputs": [
    {
     "name": "stdout",
     "output_type": "stream",
     "text": [
      "0.0\n",
      "0.16\n",
      "0.166\n"
     ]
    }
   ],
   "source": [
    "sampling_distribution_5 = attrition_pop['Attrition'].sample(n=5)\n",
    "sampling_distribution_50 =attrition_pop['Attrition'].sample(n=50)\n",
    "sampling_distribution_500 =attrition_pop['Attrition'].sample(n=500)\n",
    "\n",
    "# Calculate the mean of the mean attritions for each sampling distribution\n",
    "mean_of_means_5 = np.mean(sampling_distribution_5)\n",
    "mean_of_means_50 = np.mean(sampling_distribution_50)\n",
    "mean_of_means_500 = np.mean(sampling_distribution_500)\n",
    "\n",
    "# Print the results\n",
    "print(mean_of_means_5)\n",
    "print(mean_of_means_50)\n",
    "print(mean_of_means_500)"
   ]
  },
  {
   "cell_type": "code",
   "execution_count": 40,
   "id": "bda60c7e-c49f-4fdd-8b0d-72d88de08714",
   "metadata": {},
   "outputs": [
    {
     "name": "stdout",
     "output_type": "stream",
     "text": [
      "0.0\n",
      "0.37032803990902036\n",
      "0.3724532761109387\n"
     ]
    }
   ],
   "source": [
    "# Calculate the std. dev. of the mean attritions for each sampling distribution\n",
    "sd_of_means_5 = np.std(sampling_distribution_5,ddof = 1)\n",
    "\n",
    "sd_of_means_50 = np.std(sampling_distribution_50,ddof = 1)\n",
    "sd_of_means_500 = np.std(sampling_distribution_500,ddof = 1)\n",
    "\n",
    "# Print the results\n",
    "print(sd_of_means_5)\n",
    "print(sd_of_means_50)\n",
    "print(sd_of_means_500)"
   ]
  },
  {
   "cell_type": "markdown",
   "id": "d4595dd7-3da4-4e35-ad4e-fa1a983826bd",
   "metadata": {},
   "source": [
    "# Introduction to bootstrapping \n",
    "- opposite of sampling from population\n",
    "- sampling : going from a population to a smaller sample\n",
    "- bootstrapping: building up a theoretical population from the sample\n",
    "   - understanding the variety of population\n",
    "- Bootstrapping process:\n",
    "  1. make a resample of th esame size as the original sample\n",
    "  2. calculate the statistic of interest for this bootstrap sample\n",
    "  3. Repeat steps 1 and 2 many times\n",
    "  4. the resulting statistics are bootstrap statistics, and they form a bootstrap distribution"
   ]
  },
  {
   "cell_type": "code",
   "execution_count": 42,
   "id": "e473cf74-59a2-459a-8c23-455f2dbb6962",
   "metadata": {},
   "outputs": [
    {
     "data": {
      "text/plain": [
       "Index(['acousticness', 'artists', 'danceability', 'duration_ms',\n",
       "       'duration_minutes', 'energy', 'explicit', 'id', 'instrumentalness',\n",
       "       'key', 'liveness', 'loudness', 'mode', 'name', 'popularity',\n",
       "       'release_date', 'speechiness', 'tempo', 'valence', 'year'],\n",
       "      dtype='object')"
      ]
     },
     "execution_count": 42,
     "metadata": {},
     "output_type": "execute_result"
    }
   ],
   "source": [
    "spotify_population.columns"
   ]
  },
  {
   "cell_type": "code",
   "execution_count": 44,
   "id": "aa109039-3d43-4b49-be79-9059ece1016a",
   "metadata": {},
   "outputs": [
    {
     "name": "stdout",
     "output_type": "stream",
     "text": [
      "0.6022763\n"
     ]
    },
    {
     "data": {
      "image/png": "[encoded data removed]",
      "text/plain": [
       "<Figure size 432x288 with 1 Axes>"
      ]
     },
     "metadata": {
      "needs_background": "light"
     },
     "output_type": "display_data"
    }
   ],
   "source": [
    "# Generate 1 bootstrap resample\n",
    "spotify_1_resample = spotify_sample.sample(frac=1, replace=True)\n",
    "\n",
    "# Calculate of the danceability column of spotify_1_resample\n",
    "mean_danceability_1 = np.mean(spotify_1_resample['danceability'])\n",
    "\n",
    "# Print the result\n",
    "print(mean_danceability_1)\n",
    "# spotify_sample.column\n",
    "\n",
    "# Replicate this 1000 times\n",
    "mean_danceability_1000 = []\n",
    "for i in range(1000):\n",
    "\tmean_danceability_1000.append(\n",
    "        np.mean(spotify_sample.sample(frac=1, replace=True)['danceability'])\n",
    "\t)\n",
    "  \n",
    "# Draw a histogram of the resample means\n",
    "plt.hist(x=mean_danceability_1000)\n",
    "plt.show()"
   ]
  },
  {
   "cell_type": "markdown",
   "id": "dc31983a-b5f4-4ad9-9e73-6cadf0db8756",
   "metadata": {},
   "source": [
    "# Comparing sampling and bootstrap distributions \n",
    "- the bootstrap of mean coffee flavors\n",
    "  - import numpy as np\n",
    "  - mean_flavors_5000=[]\n",
    "  - for i in range(5000):\n",
    "  -     mean_flavors_5000.append(\n",
    "  -            np.mean(cofee_sample.sample(frac=1, replace=True)['flavor'])\n",
    "  - bootstrap_distn = mean_flavors_5000\n",
    "\n",
    "- sample mean()\n",
    "  - coffee_sample['flavor'].mean()\n",
    "  - estimated_population_mean np.mean(bootstrap_distn)\n",
    "\n",
    "- bootstrap distribution mean:\n",
    "  - usually close to the sample mean\n",
    "  - may not be a good estimate of the population mean\n",
    "  - bootstrapping cannot correct biases from sampling\n",
    "\n",
    "- sample sd vs bootstrap distribution sd\n",
    "  - coffee_sample['flavor'].std()\n",
    "  - np.std(bootstrap_distn, ddof=1)\n",
    "\n",
    "- one goal of bootstrapping is to quantify what variability we might expect to sample statistic between one and antoher\n",
    "- standard error or bootstrap std times square root of sample size estimates the population standard deviation\n",
    "\n",
    "- interpreting the standard errors\n",
    "  1. estimated standard error >> standard deviation of th ebootstrap distribution for a sample statistic\n",
    "  2. population std.dev = std.error x square root of sample size"
   ]
  },
  {
   "cell_type": "markdown",
   "id": "ecad0e21-9b08-485e-b345-c3b61042a02a",
   "metadata": {},
   "source": [
    "# conclusion of sampling \n",
    "- sampling distribution is the closest to population mean\n",
    "- bootstrap distribution is the closest to sample mean\n",
    "- the std of bootstrap distribution is the closest to population std "
   ]
  },
  {
   "cell_type": "code",
   "execution_count": 60,
   "id": "6b44b43b-8add-469f-9e8c-3527dea7bff4",
   "metadata": {},
   "outputs": [],
   "source": [
    "mean_popularity_2000_samp = []\n",
    "\n",
    "# Generate a sampling distribution of 2000 replicates\n",
    "for i in range(5000):\n",
    "    mean_popularity_2000_samp.append(\n",
    "    \t# Sample 500 rows and calculate the mean popularity \n",
    "    \tnp.mean(spotify_population['popularity'].sample(n=5000,replace=False))\n",
    "    )\n",
    "\n",
    "# Print the sampling distribution results\n",
    "# print(mean_popularity_2000_samp)"
   ]
  },
  {
   "cell_type": "code",
   "execution_count": 61,
   "id": "672517f4-5751-4e5b-aeb5-6a0c5a253e20",
   "metadata": {},
   "outputs": [],
   "source": [
    "mean_popularity_2000_boot = []\n",
    "\n",
    "# Generate a bootstrap distribution of 2000 replicates\n",
    "for i in range (5000):\n",
    "    mean_popularity_2000_boot.append(\n",
    "    \t# Resample 500 rows and calculate the mean popularity     \n",
    "    \tnp.mean(spotify_sample['popularity'].sample(n=5000,replace=True))\n",
    "    )\n",
    "\n",
    "# Print the bootstrap distribution results\n",
    "# print(mean_popularity_2000_boot)"
   ]
  },
  {
   "cell_type": "code",
   "execution_count": 62,
   "id": "9617379c-4a2e-4d60-8734-bf5df0fa37c0",
   "metadata": {},
   "outputs": [
    {
     "name": "stdout",
     "output_type": "stream",
     "text": [
      "[54.837142308430955, 54.816, 54.8350234, 54.81548196000001]\n"
     ]
    }
   ],
   "source": [
    "sampling_distribution = mean_popularity_2000_samp\n",
    "bootstrap_distribution = mean_popularity_2000_boot\n",
    "# Calculate the population mean popularity\n",
    "pop_mean = spotify_population['popularity'].mean()\n",
    "\n",
    "# Calculate the original sample mean popularity\n",
    "samp_mean = spotify_sample['popularity'].mean()\n",
    "\n",
    "# Calculate the sampling dist'n estimate of mean popularity\n",
    "samp_distn_mean = np.mean(sampling_distribution)\n",
    "\n",
    "# Calculate the bootstrap dist'n estimate of mean popularity\n",
    "boot_distn_mean = np.mean(bootstrap_distribution)\n",
    "\n",
    "# Print the means\n",
    "print([pop_mean, samp_mean, samp_distn_mean, boot_distn_mean])"
   ]
  },
  {
   "cell_type": "code",
   "execution_count": 65,
   "id": "eeb4a8ba-6feb-48d4-b2be-c3e26753db77",
   "metadata": {},
   "outputs": [
    {
     "name": "stdout",
     "output_type": "stream",
     "text": [
      "[10.880065274257204, 11.07315486926643, 10.199521760897921, 11.022071757430963]\n"
     ]
    }
   ],
   "source": [
    "# Calculate the population std dev popularity\n",
    "pop_sd = spotify_population['popularity'].std(ddof=0)\n",
    "\n",
    "# Calculate the original sample std dev popularity\n",
    "samp_sd = spotify_sample['popularity'].std()\n",
    "\n",
    "# Calculate the sampling dist'n estimate of std dev popularity\n",
    "samp_distn_sd = np.std(sampling_distribution,ddof=1)*np.sqrt(5000)\n",
    "\n",
    "# Calculate the bootstrap dist'n estimate of std dev popularity\n",
    "boot_distn_sd = np.std(bootstrap_distribution, ddof=1)*np.sqrt(5000)\n",
    "\n",
    "# Print the standard deviations\n",
    "print([pop_sd, samp_sd, samp_distn_sd, boot_distn_sd])"
   ]
  },
  {
   "cell_type": "markdown",
   "id": "68782415-8412-4bf2-a908-1ee1e37f349c",
   "metadata": {},
   "source": [
    "# Confidence intervals \n",
    "- values within one standard eviation of the mean, include a larger number of values from each of these distributions\n",
    "- how to get confidence interval: \n",
    "1. mean plus or minus one standard deviation\n",
    "  - np.mean(coffee_boot_distn)\n",
    "  - np.mean(coffee_boot_distn)-np.std(coffee_boot_distn,ddof=1)\n",
    "  - np.mean(coffee_boot_distn)+np.std(coffee_boot_distn,ddof=1)\n",
    "2. Quantile method for confidence intervals\n",
    "  - using quantile\n",
    "  - np.quantile(coffee_boot_distn, 0.025)\n",
    "  - np.quantile(coffee_boot_distn, 0.975)\n",
    "  - 0.975-0.025== 0,95\n",
    "3. inverse cumulative distribution function\n",
    "  - PDF : the bell curve\n",
    "  - CDF : integrate to get area under bell curve\n",
    "  - Inv. CDF: flip x and y axes\n",
    "  - from sipy.stats import norm\n",
    "  - norm.ppf(quantile, loc=0, scale =1)\n",
    "4. Standard error method for confidence interval\n",
    "  - point_estimate = np.mean(coffee_boot_distn)\n",
    "  - std_error = np.std(coffee_boot_distn, ddof=1)\n",
    "  - from scipy.stats import norm\n",
    "  - lower = norm.ppf(0.025, loc=point_estimate, scale = std_error)\n",
    "  - upper = norm.ppf(0.975, loc=point_estimate, scale = std_error)\n",
    "  - print(upper, lower) "
   ]
  },
  {
   "cell_type": "code",
   "execution_count": 66,
   "id": "39b2ada2-1d46-4a34-9304-41bbd2f1a9fa",
   "metadata": {},
   "outputs": [
    {
     "name": "stdout",
     "output_type": "stream",
     "text": [
      "(54.5068, 55.12362)\n"
     ]
    }
   ],
   "source": [
    "# Generate a 95% confidence interval using the quantile method\n",
    "lower_quant = np.quantile(bootstrap_distribution,0.025)\n",
    "upper_quant = np.quantile(bootstrap_distribution,0.975)\n",
    "\n",
    "# Print quantile method confidence interval\n",
    "print((lower_quant, upper_quant))"
   ]
  },
  {
   "cell_type": "code",
   "execution_count": 71,
   "id": "54c46220-9611-4eef-a7ce-32eab13a827e",
   "metadata": {},
   "outputs": [
    {
     "name": "stdout",
     "output_type": "stream",
     "text": [
      "(54.509971331982406, 55.12099258801761)\n"
     ]
    }
   ],
   "source": [
    "from scipy.stats import norm\n",
    "# Find the mean and std dev of the bootstrap distribution\n",
    "point_estimate = np.mean(bootstrap_distribution)\n",
    "standard_error = np.std(bootstrap_distribution,ddof=1)\n",
    "\n",
    "# Find the lower limit of the confidence interval\n",
    "lower_se = norm.ppf(0.025,loc=point_estimate,scale=standard_error)\n",
    "\n",
    "# Find the upper limit of the confidence interval\n",
    "upper_se = norm.ppf(0.975,loc=point_estimate,scale=standard_error)\n",
    "\n",
    "# Print standard error method confidence interval\n",
    "print((lower_se, upper_se))"
   ]
  }
 ],
 "metadata": {
  "kernelspec": {
   "display_name": "Python 3",
   "language": "python",
   "name": "python3"
  },
  "language_info": {
   "codemirror_mode": {
    "name": "ipython",
    "version": 3
   },
   "file_extension": ".py",
   "mimetype": "text/x-python",
   "name": "python",
   "nbconvert_exporter": "python",
   "pygments_lexer": "ipython3",
   "version": "3.8.3"
  }
 },
 "nbformat": 4,
 "nbformat_minor": 5
}
