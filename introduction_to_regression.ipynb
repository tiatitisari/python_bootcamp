{
 "cells": [
  {
   "cell_type": "markdown",
   "id": "c5f5fc32-24df-4702-9233-c4a81ba223dc",
   "metadata": {},
   "source": [
    "# Introduction to Regression with stats models in Python \n",
    "- regression?\n",
    "  1. statistical models to explore the relationship a response variable and some explanatory variable\n",
    "  2. given values of explanatory variables, you can predict the values of the response variable\n",
    "- response variable (aka dependent variable/y) >> the want to predict\n",
    "- explanatory variable (aka independent variable) >> the variable that explain how the response variable will change\n",
    "\n",
    "- type of regression\n",
    "  1. Linear regression : the response variable is numeric\n",
    "  2. Logistic regression: the response variable is logical (True or False values)\n",
    "  3. Simple linear/Logistic regression : only have single explanatory variable\n",
    " \n",
    "- visualizing pairs of variable ( scatterplot/heatmap/jointplot/regplot/lmplot)\n",
    "- trendline a line that follow data point\n",
    "\n",
    "- python packages for regression\n",
    "  1. statsmodel :focus on insight\n",
    "  2. scikit-learn: focus to prediction \n"
   ]
  },
  {
   "cell_type": "code",
   "execution_count": 1,
   "id": "ec28fcd2-0494-4ccf-9adb-197954516612",
   "metadata": {
    "scrolled": true
   },
   "outputs": [
    {
     "name": "stderr",
     "output_type": "stream",
     "text": [
      "/Users/tiatitisari/opt/anaconda3/lib/python3.8/site-packages/pandas/core/computation/expressions.py:20: UserWarning: Pandas requires version '2.7.3' or newer of 'numexpr' (version '2.7.1' currently installed).\n",
      "  from pandas.core.computation.check import NUMEXPR_INSTALLED\n"
     ]
    }
   ],
   "source": [
    "import pandas as pd\n",
    "# import all data sources \n",
    "churn = pd.read_csv('churn.csv') \n",
    "taiwan_real_estate=pd.read_csv('taiwan_real_estate2.csv')\n",
    "ad_conversion = pd.read_csv('ad_conversion.csv')\n",
    "sp500_yearly_returns= pd.read_csv('sp500_yearly_returns.csv')\n",
    "fish = pd.read_csv('fish.csv')"
   ]
  },
  {
   "cell_type": "code",
   "execution_count": 2,
   "id": "df861c75-3927-46bd-90c9-2cf1d9b8a756",
   "metadata": {},
   "outputs": [
    {
     "data": {
      "image/png": "[encoded data removed]",
      "text/plain": [
       "<Figure size 432x288 with 1 Axes>"
      ]
     },
     "metadata": {
      "needs_background": "light"
     },
     "output_type": "display_data"
    }
   ],
   "source": [
    "# Import seaborn with alias sns\n",
    "import seaborn as sns \n",
    "\n",
    "# Import matplotlib.pyplot with alias plt\n",
    "import matplotlib.pyplot as plt \n",
    "\n",
    "sns.set_context('paper')\n",
    "sns.set_style('white')\n",
    "sns.set_palette(\"icefire\")\n",
    "# Draw the scatter plot\n",
    "sns.scatterplot(x='n_convenience', y='price_twd_msq',data=taiwan_real_estate)\n",
    "\n",
    "# Draw a trend line on the scatter plot of price_twd_msq vs. n_convenience\n",
    "sns.regplot(x='n_convenience',\n",
    "         y='price_twd_msq',\n",
    "         data=taiwan_real_estate,\n",
    "         ci=None,\n",
    "         scatter_kws={'alpha': 0.5})\n",
    "\n",
    "# Show the plot\n",
    "plt.show()\n",
    "\n"
   ]
  },
  {
   "cell_type": "markdown",
   "id": "b09b96e6-396f-45a8-b7f1-ac2ecfebb7b3",
   "metadata": {},
   "source": [
    "# Fitting a linear regression \n",
    "- Straight lines are defined by two things\n",
    "1. Intercept : the y value at the point when x is zero\n",
    "2. Slope : The amount the y value increases if you increase x by one\n",
    "3. Equation: y = intercept + slope*x, slope == coefficient \n",
    "4. Estimating the slope\n",
    "   - one point in y - one point in y --> got y diff\n",
    "   - one point in x - one point in x --> got x diff\n",
    "   - slope = y(diff)/x(diff)  \n",
    "6. Running amodel\n",
    "   - from statsmodels.formula.api import ols\n",
    "   - mdl_payment_vs_claims = ols('total_payment_sek ~ n_claims\",data=swedish_motor_insurance)>> the explanatory is in the right while the response variable is on the left \n",
    "   - mdl_payment_vs_claims = mdl_payment_vs_claims.fit()\n",
    "   - print(mdl_payment_vs_claims.params) "
   ]
  },
  {
   "cell_type": "code",
   "execution_count": 3,
   "id": "7b78fd48-f64d-4531-8fe6-91194659a9a2",
   "metadata": {},
   "outputs": [
    {
     "name": "stdout",
     "output_type": "stream",
     "text": [
      "Intercept        8.224237\n",
      "n_convenience    0.798080\n",
      "dtype: float64\n"
     ]
    }
   ],
   "source": [
    "# Import the ols function\n",
    "from statsmodels.formula.api import ols\n",
    "\n",
    "# Create the model object\n",
    "mdl_price_vs_conv = ols('price_twd_msq~n_convenience', data=taiwan_real_estate)\n",
    "\n",
    "# Fit the model\n",
    "mdl_price_vs_conv = mdl_price_vs_conv.fit()\n",
    "\n",
    "# Print the parameters of the fitted model\n",
    "print(mdl_price_vs_conv.params)"
   ]
  },
  {
   "cell_type": "markdown",
   "id": "b329d193-f1ec-4dea-a576-7e52a9a56a3e",
   "metadata": {},
   "source": [
    "# Categorical Explanatory Variables \n",
    "- visualizing 1 numeric and 1 categorical variable\n",
    "- sns.displot(data=fixh, x='mass_g', col='species', col_wrap=2, bins=9)\n",
    "- Summary  statistics\n",
    "- call linear regression same as above\n",
    "  1. from statsmodels.formula.api import ols\n",
    "  2. mdl_mass_vs_species=ols('mass_g~species+0',data=fish).fit() >> +0 specify that all the coefficients should be given relative to zero \n",
    "  3. print(mdl_mass_vs_species.params)\n",
    "- In case of a single, categorical variable, coefficients == means "
   ]
  },
  {
   "cell_type": "code",
   "execution_count": 4,
   "id": "dd9d9cef-6334-4c4d-ae8b-45073db88cc7",
   "metadata": {},
   "outputs": [
    {
     "name": "stderr",
     "output_type": "stream",
     "text": [
      "/Users/tiatitisari/opt/anaconda3/lib/python3.8/site-packages/seaborn/axisgrid.py:118: UserWarning: The figure layout has changed to tight\n",
      "  self._figure.tight_layout(*args, **kwargs)\n"
     ]
    },
    {
     "data": {
      "image/png": "[encoded data removed]",
      "text/plain": [
       "<Figure size 1080x360 with 3 Axes>"
      ]
     },
     "metadata": {
      "needs_background": "light"
     },
     "output_type": "display_data"
    }
   ],
   "source": [
    "# Histograms of price_twd_msq with 10 bins, split by the age of each house\n",
    "sns.displot(data=taiwan_real_estate,\n",
    "         x='price_twd_msq',\n",
    "         bins=10,\n",
    "         col='house_age_years',\n",
    "         col_wrap=3)\n",
    "\n",
    "# Show the plot\n",
    "plt.show()"
   ]
  },
  {
   "cell_type": "code",
   "execution_count": 5,
   "id": "84e3c99a-472e-4dba-8ca4-4dc14892b197",
   "metadata": {},
   "outputs": [
    {
     "name": "stdout",
     "output_type": "stream",
     "text": [
      "house_age_years\n",
      "0 to 15     12.637471\n",
      "15 to 30     9.876743\n",
      "30 to 45    11.393264\n",
      "Name: price_twd_msq, dtype: float64\n"
     ]
    }
   ],
   "source": [
    "# Calculate the mean of price_twd_msq, grouped by house age\n",
    "mean_price_by_age = taiwan_real_estate.groupby('house_age_years')['price_twd_msq'].mean()\n",
    "\n",
    "# Print the result\n",
    "print(mean_price_by_age)"
   ]
  },
  {
   "cell_type": "code",
   "execution_count": 6,
   "id": "66ebd88f-fb9f-4f43-a70e-f680923c8437",
   "metadata": {},
   "outputs": [
    {
     "name": "stdout",
     "output_type": "stream",
     "text": [
      "house_age_years[0 to 15]     12.637471\n",
      "house_age_years[15 to 30]     9.876743\n",
      "house_age_years[30 to 45]    11.393264\n",
      "dtype: float64\n"
     ]
    }
   ],
   "source": [
    "# Create the model, fit it\n",
    "mdl_price_vs_age = ols('price_twd_msq~house_age_years+0', data=taiwan_real_estate).fit()\n",
    "\n",
    "# Print the parameters of the fitted model\n",
    "print(mdl_price_vs_age.params)"
   ]
  },
  {
   "cell_type": "markdown",
   "id": "ae55495e-55af-4cfc-bec3-b43bbebad6af",
   "metadata": {},
   "source": [
    "# Making Predictions \n",
    "- step by step \n",
    "    1. visualize correlation\n",
    "    2. running the model and fitting the model\n",
    "    3. remember the equation ~~ y = intercept+slope*x >> so if you got the intercept,and slope, you only need x, in this situation x is known and y value will be predicted\n",
    "       - e.g explanatory_data = pd.DataFrame({'length_cm':np.arange(20,41)}) >> end of interval not include this value\n",
    "       - call predict on the model >> print(mdl_mass_vs_length.predict(explanatory_data)) or prediction_data = explanatory_data.assign(mass_g=mdl_mass_vs_length.predict(explanatory_data))\n",
    "    4. Showing predictions\n",
    "       - import matplotlib.pyplot as plt\n",
    "       - import seaborn as sns\n",
    "       - fig = plt.figure() >> to show multiple plot \n",
    "       - sns.regplot(x='length_cm',y='mass_g', ci=None, data=bream)\n",
    "       - sns.scatterplot(x='length_cm', y='mass_g', data=prediction_data, color='red',marker='s')\n",
    "       - plt.show()\n",
    "- Extrapolating : making predictions outside the range of observed data. sometimess appropriate, but it can lead to misleading or ridiculous results\n",
    "- Linear models don't know what is possible or not in real life. That means that they can give you predictions that don't make any sense when applied to your data. You need to understand what your data means in order to determine wheter a prediction is nonsense or not"
   ]
  },
  {
   "cell_type": "code",
   "execution_count": 7,
   "id": "8931d853-008e-470b-9c2a-fa8f6a2b92c6",
   "metadata": {},
   "outputs": [
    {
     "name": "stdout",
     "output_type": "stream",
     "text": [
      "    n_convenience  price_twd_msq\n",
      "0               0       8.224237\n",
      "1               1       9.022317\n",
      "2               2       9.820397\n",
      "3               3      10.618477\n",
      "4               4      11.416556\n",
      "5               5      12.214636\n",
      "6               6      13.012716\n",
      "7               7      13.810795\n",
      "8               8      14.608875\n",
      "9               9      15.406955\n",
      "10             10      16.205035\n"
     ]
    },
    {
     "data": {
      "image/png": "[encoded data removed]",
      "text/plain": [
       "<Figure size 432x288 with 1 Axes>"
      ]
     },
     "metadata": {
      "needs_background": "light"
     },
     "output_type": "display_data"
    }
   ],
   "source": [
    "# Import numpy with alias np\n",
    "import numpy as np\n",
    "\n",
    "# Create explanatory_data \n",
    "explanatory_data = pd.DataFrame({'n_convenience': np.arange(0, 11)})\n",
    "\n",
    "# Use mdl_price_vs_conv to predict with explanatory_data, call it price_twd_msq\n",
    "price_twd_msq = mdl_price_vs_conv.predict(explanatory_data)\n",
    "\n",
    "# Create prediction_data\n",
    "prediction_data = explanatory_data.assign(\n",
    "    price_twd_msq = price_twd_msq)\n",
    "\n",
    "# Print the result\n",
    "print(prediction_data)\n",
    "\n",
    "# Create a new figure, fig\n",
    "fig = plt.figure() \n",
    "\n",
    "sns.regplot(x=\"n_convenience\",\n",
    "            y=\"price_twd_msq\",\n",
    "            data=taiwan_real_estate,\n",
    "            ci=None)\n",
    "# Add a scatter plot layer to the regplot\n",
    "sns.scatterplot(x=\"n_convenience\",\n",
    "            y=\"price_twd_msq\",\n",
    "            data=prediction_data,color='red',marker='s')\n",
    "\n",
    "# Show the layered plot\n",
    "plt.show()"
   ]
  },
  {
   "cell_type": "code",
   "execution_count": 8,
   "id": "7af38540-1b70-4687-9a37-fce7e908b6a7",
   "metadata": {},
   "outputs": [
    {
     "data": {
      "text/html": [
       "<div>\n",
       "<style scoped>\n",
       "    .dataframe tbody tr th:only-of-type {\n",
       "        vertical-align: middle;\n",
       "    }\n",
       "\n",
       "    .dataframe tbody tr th {\n",
       "        vertical-align: top;\n",
       "    }\n",
       "\n",
       "    .dataframe thead th {\n",
       "        text-align: right;\n",
       "    }\n",
       "</style>\n",
       "<table border=\"1\" class=\"dataframe\">\n",
       "  <thead>\n",
       "    <tr style=\"text-align: right;\">\n",
       "      <th></th>\n",
       "      <th>n_convenience</th>\n",
       "      <th>ms</th>\n",
       "    </tr>\n",
       "  </thead>\n",
       "  <tbody>\n",
       "    <tr>\n",
       "      <th>0</th>\n",
       "      <td>-1.0</td>\n",
       "      <td>7.426158</td>\n",
       "    </tr>\n",
       "    <tr>\n",
       "      <th>1</th>\n",
       "      <td>2.5</td>\n",
       "      <td>10.219437</td>\n",
       "    </tr>\n",
       "  </tbody>\n",
       "</table>\n",
       "</div>"
      ],
      "text/plain": [
       "   n_convenience         ms\n",
       "0           -1.0   7.426158\n",
       "1            2.5  10.219437"
      ]
     },
     "execution_count": 8,
     "metadata": {},
     "output_type": "execute_result"
    }
   ],
   "source": [
    "# Define a DataFrame impossible\n",
    "impossible = pd.DataFrame({'n_convenience':[-1,2.5]})\n",
    "predict = impossible.assign(ms=mdl_price_vs_conv.predict(impossible))\n",
    "predict"
   ]
  },
  {
   "cell_type": "markdown",
   "id": "91de0a5b-b424-4f39-85b2-f239ce38ca99",
   "metadata": {},
   "source": [
    "# Working with model objects \n",
    "- from statsmodels.formula.api import ols\n",
    "- mdl_mass_vs_length = ols('mass_g~length_cm',data=bream).fit()\n",
    "- print(mdl_mass_vs_length.params)\n",
    "- print( mdl_mass_vs_length.fittedvalues) >> fittedvalues: predictions on the original datasets or equivalently :\n",
    "  - explanatory_data=bream['length_cm']\n",
    "  - print(mdl_mass_vs_lenght.predict(explanatory_data))\n",
    "- print(mdl_mass_vs_length.resid) >> residuals: actual response values minus predicted response values or equivalently:\n",
    "  - print(bream['mass_g']-mdl_mass_vs_length.fittedvalues) \n",
    "- mdl_mass_vs_length.summary() >> shows a more extended printout of the details of the model "
   ]
  },
  {
   "cell_type": "code",
   "execution_count": 9,
   "id": "5fffd6dd-53df-4446-924b-2be2efc150cb",
   "metadata": {},
   "outputs": [
    {
     "name": "stdout",
     "output_type": "stream",
     "text": [
      "Intercept        8.224237\n",
      "n_convenience    0.798080\n",
      "dtype: float64\n"
     ]
    }
   ],
   "source": [
    "# Print the model parameters of mdl_price_vs_conv\n",
    "print(mdl_price_vs_conv.params)"
   ]
  },
  {
   "cell_type": "code",
   "execution_count": 10,
   "id": "f8e39e2a-aa5e-4559-8e32-9c1a5ad736f5",
   "metadata": {},
   "outputs": [
    {
     "name": "stdout",
     "output_type": "stream",
     "text": [
      "0      16.205035\n",
      "1      15.406955\n",
      "2      12.214636\n",
      "3      12.214636\n",
      "4      12.214636\n",
      "         ...    \n",
      "409     8.224237\n",
      "410    15.406955\n",
      "411    13.810795\n",
      "412    12.214636\n",
      "413    15.406955\n",
      "Length: 414, dtype: float64\n"
     ]
    }
   ],
   "source": [
    "# Print the fitted values of mdl_price_vs_conv\n",
    "print(mdl_price_vs_conv.fittedvalues)"
   ]
  },
  {
   "cell_type": "code",
   "execution_count": 11,
   "id": "dc5609f3-4613-4c08-b062-4857ab7e293c",
   "metadata": {},
   "outputs": [
    {
     "name": "stdout",
     "output_type": "stream",
     "text": [
      "0     -4.737561\n",
      "1     -2.638422\n",
      "2      2.097013\n",
      "3      4.366302\n",
      "4      0.826211\n",
      "         ...   \n",
      "409   -3.564631\n",
      "410   -0.278362\n",
      "411   -1.526378\n",
      "412    3.670387\n",
      "413    3.927387\n",
      "Length: 414, dtype: float64\n"
     ]
    }
   ],
   "source": [
    "# Print the residuals of mdl_price_vs_conv\n",
    "print(mdl_price_vs_conv.resid)"
   ]
  },
  {
   "cell_type": "code",
   "execution_count": 12,
   "id": "6f719bd9-8c86-454b-8f2a-033c83248dc0",
   "metadata": {},
   "outputs": [
    {
     "name": "stdout",
     "output_type": "stream",
     "text": [
      "                            OLS Regression Results                            \n",
      "==============================================================================\n",
      "Dep. Variable:          price_twd_msq   R-squared:                       0.326\n",
      "Model:                            OLS   Adj. R-squared:                  0.324\n",
      "Method:                 Least Squares   F-statistic:                     199.3\n",
      "Date:                Sat, 16 Sep 2023   Prob (F-statistic):           3.41e-37\n",
      "Time:                        09:50:27   Log-Likelihood:                -1091.1\n",
      "No. Observations:                 414   AIC:                             2186.\n",
      "Df Residuals:                     412   BIC:                             2194.\n",
      "Df Model:                           1                                         \n",
      "Covariance Type:            nonrobust                                         \n",
      "=================================================================================\n",
      "                    coef    std err          t      P>|t|      [0.025      0.975]\n",
      "---------------------------------------------------------------------------------\n",
      "Intercept         8.2242      0.285     28.857      0.000       7.664       8.784\n",
      "n_convenience     0.7981      0.057     14.118      0.000       0.687       0.909\n",
      "==============================================================================\n",
      "Omnibus:                      171.927   Durbin-Watson:                   1.993\n",
      "Prob(Omnibus):                  0.000   Jarque-Bera (JB):             1417.242\n",
      "Skew:                           1.553   Prob(JB):                    1.78e-308\n",
      "Kurtosis:                      11.516   Cond. No.                         8.87\n",
      "==============================================================================\n",
      "\n",
      "Notes:\n",
      "[1] Standard Errors assume that the covariance matrix of the errors is correctly specified.\n"
     ]
    }
   ],
   "source": [
    "# Print a summary of mdl_price_vs_conv\n",
    "print(mdl_price_vs_conv.summary())"
   ]
  },
  {
   "cell_type": "code",
   "execution_count": 13,
   "id": "d9164a10-69d0-4141-a621-6b12cbe477a1",
   "metadata": {},
   "outputs": [
    {
     "data": {
      "text/plain": [
       "Intercept        8.224237\n",
       "n_convenience    0.798080\n",
       "dtype: float64"
      ]
     },
     "execution_count": 13,
     "metadata": {},
     "output_type": "execute_result"
    }
   ],
   "source": [
    "# Get the coefficients of mdl_price_vs_conv\n",
    "coeffs = mdl_price_vs_conv.params\n",
    "coeffs"
   ]
  },
  {
   "cell_type": "code",
   "execution_count": 14,
   "id": "3a03a60b-cf79-45f5-89b4-b5817212efb7",
   "metadata": {},
   "outputs": [
    {
     "name": "stdout",
     "output_type": "stream",
     "text": [
      "    n_convenience\n",
      "0        8.224237\n",
      "1        9.022317\n",
      "2        9.820397\n",
      "3       10.618477\n",
      "4       11.416556\n",
      "5       12.214636\n",
      "6       13.012716\n",
      "7       13.810795\n",
      "8       14.608875\n",
      "9       15.406955\n",
      "10      16.205035\n",
      "    n_convenience  predictions_auto\n",
      "0        8.224237          8.224237\n",
      "1        9.022317          9.022317\n",
      "2        9.820397          9.820397\n",
      "3       10.618477         10.618477\n",
      "4       11.416556         11.416556\n",
      "5       12.214636         12.214636\n",
      "6       13.012716         13.012716\n",
      "7       13.810795         13.810795\n",
      "8       14.608875         14.608875\n",
      "9       15.406955         15.406955\n",
      "10      16.205035         16.205035\n"
     ]
    }
   ],
   "source": [
    "# Get the coefficients of mdl_price_vs_conv\n",
    "coeffs = mdl_price_vs_conv.params\n",
    "\n",
    "#Get the intercept\n",
    "intercept = coeffs[0]\n",
    "\n",
    "# Get the slope\n",
    "slope = coeffs[1]\n",
    "\n",
    "# Manually calculate the predictions\n",
    "price_twd_msq = intercept+slope*explanatory_data\n",
    "print(price_twd_msq)\n",
    "\n",
    "# Compare to the results from .predict()\n",
    "print(price_twd_msq.assign(predictions_auto=mdl_price_vs_conv.predict(explanatory_data)))"
   ]
  },
  {
   "cell_type": "markdown",
   "id": "4b2e2e7c-5ab1-41bf-aa00-1e18598193e4",
   "metadata": {},
   "source": [
    "# Regression to the mean \n",
    "- The concept:\n",
    "  1. Response value == fitted value + residual\n",
    "  2. The stuff you explained + the stuff you couldn't explain\n",
    "  3. Residuals exist due to problems in the model and fundamental randomness\n",
    "  4. Extreme cases are often due to randomness\n",
    "  5. Regression to the mean means extreme cases don't persist over time\n",
    "- cases : do taller father have taller son?\n",
    "  - visualizing\n",
    "  - fig = plt.figure()\n",
    "  - sns.scatterplot(x='father_height',y='sons_height', data=father_son)\n",
    "  - sns.regplot(x='father_height',y='sons_height', data=father_son, ci=None, line_kws={'color':'black'})\n",
    "  - plt.axline(xy1=(150,150), slope=1, linewidth=2, color='green')\n",
    "  - plt.axis('equal') >> 1 cm in x-axis == y-axis\n",
    "  - plt.show()\n",
    "- running regression\n",
    "- extreme value become less extreme in the next generation "
   ]
  },
  {
   "cell_type": "code",
   "execution_count": 15,
   "id": "f06efff3-e6ba-4b0e-adb0-65835f186d66",
   "metadata": {},
   "outputs": [
    {
     "data": {
      "image/png": "[encoded data removed]",
      "text/plain": [
       "<Figure size 432x288 with 1 Axes>"
      ]
     },
     "metadata": {
      "needs_background": "light"
     },
     "output_type": "display_data"
    }
   ],
   "source": [
    "# Create a new figure, fig\n",
    "fig = plt.figure() \n",
    "\n",
    "# Plot the first layer: y = x\n",
    "plt.axline(xy1=(0,0), slope=1, linewidth=2, color=\"green\")\n",
    "\n",
    "# Add scatter plot with linear regression trend line\n",
    "sns.regplot(data=sp500_yearly_returns,x='return_2018',y='return_2019', ci=None)\n",
    "\n",
    "# Set the axes so that the distances along the x and y axes look the same\n",
    "plt.axis('equal')\n",
    "\n",
    "# Show the plot\n",
    "plt.show()\n"
   ]
  },
  {
   "cell_type": "code",
   "execution_count": 16,
   "id": "61fa6be4-2df9-4d78-9e4b-4f73521150c7",
   "metadata": {},
   "outputs": [
    {
     "name": "stdout",
     "output_type": "stream",
     "text": [
      "   return_2018  return_2019\n",
      "0           -1     0.301251\n",
      "1            0     0.321321\n",
      "2            1     0.341390\n"
     ]
    }
   ],
   "source": [
    "\n",
    "mdl_returns = ols(\"return_2019 ~ return_2018\", data=sp500_yearly_returns).fit()\n",
    "\n",
    "# Create a DataFrame with return_2018 at -1, 0, and 1 \n",
    "explanatory_data = pd.DataFrame({'return_2018':[-1,0,1]})\n",
    "\n",
    "# Use mdl_returns to predict with explanatory_data\n",
    "print(explanatory_data.assign(return_2019=mdl_returns.predict(explanatory_data)))"
   ]
  },
  {
   "cell_type": "markdown",
   "id": "b36ea8d9-19ea-4f79-ab1a-3050bbccd525",
   "metadata": {},
   "source": [
    "# Transforming Variables \n",
    "- Visualizing the data\n",
    "  - Plotting mass vs length cubed\n",
    "  - perch['length_cm_cubbed'] = perch['length_cm']**3\n",
    "  - sns.regplot(x='length_cm_cubed',y='mass_g', data=perch,ci=None)\n",
    "  - plt.show()\n",
    "  - mdl_perch = ols('mass_g ~ length_cm_cubed',data=perch).fit()\n",
    "  - mdl_perch.params\n",
    "  - explanatory_data = pd.DataFrame({'length_cm_cubed':np.arange(10,41,5)**3, 'length_cm':np.arange(10,41,5)})\n",
    "  - prediction = explanatory_data.assign(mms=mdl_perch.predict(explanatory_data)\n",
    "  - fig = plt.figure()\n",
    "  - sns.regplot()\n",
    "  - sns.scatterplot()\n",
    "\n",
    "- another example facebook adv dataset\n",
    "  - visualizing the spent usd to n_impression, plot is cramped into bottom left\n",
    "  - change into square root\n",
    "  - ad_converson['sqrt_spent_usd'] = np.sqrt(ad_conversion['spent_usd'])\n",
    "  - ad_converson['sqrt_n_impressions'] = np.sqrt(ad_conversion['n_impression'])\n",
    "  - sns.regplot(x='sqrt_spent_usd', y='sqrt_n_impression', data=ad_conversion, ci=None)\n",
    "  - mdl_ad = ols('sqrt_n_impressions~sqrt_spent_usd', data=ad_conversion).fit()\n",
    "  - explanatory_data = pd.DataFrame({'sqrt_spent_usd':np.sqrt(np.arange(0,601,100),'spent_usd':np.arange(0,601,100)})\n",
    "  - prediction_data = explanatory_data.assign(sqrt_n_impressions=mdl_ad.predict(explanatory_data), n_impressions = mdl_ad.predict(explanatory_data)**2)\n",
    "  - print(prediction_data)\n",
    " \n",
    "- undoing transformation called back transformations\n",
    "- "
   ]
  },
  {
   "cell_type": "code",
   "execution_count": 17,
   "id": "6e08bc20-7cef-45d7-8685-13e5b2d8900a",
   "metadata": {},
   "outputs": [
    {
     "data": {
      "image/png": "[encoded data removed]",
      "text/plain": [
       "<Figure size 432x288 with 1 Axes>"
      ]
     },
     "metadata": {
      "needs_background": "light"
     },
     "output_type": "display_data"
    }
   ],
   "source": [
    "# Create sqrt_dist_to_mrt_m\n",
    "taiwan_real_estate[\"sqrt_dist_to_mrt_m\"] = np.sqrt(taiwan_real_estate[\"dist_to_mrt_m\"])\n",
    "\n",
    "plt.figure()\n",
    "\n",
    "# Plot using the transformed variable\n",
    "sns.regplot(data=taiwan_real_estate,x='sqrt_dist_to_mrt_m',y='price_twd_msq')\n",
    "plt.show()"
   ]
  },
  {
   "cell_type": "code",
   "execution_count": 18,
   "id": "1a4ebe9e-a009-4b5d-8efc-6e4dc53513f6",
   "metadata": {},
   "outputs": [
    {
     "data": {
      "image/png": "[encoded data removed]",
      "text/plain": [
       "<Figure size 432x288 with 1 Axes>"
      ]
     },
     "metadata": {
      "needs_background": "light"
     },
     "output_type": "display_data"
    }
   ],
   "source": [
    "# Create sqrt_dist_to_mrt_m\n",
    "taiwan_real_estate[\"sqrt_dist_to_mrt_m\"] = np.sqrt(taiwan_real_estate[\"dist_to_mrt_m\"])\n",
    "\n",
    "# Run a linear regression of price_twd_msq vs. sqrt_dist_to_mrt_m\n",
    "mdl_price_vs_dist = ols(\"price_twd_msq ~ sqrt_dist_to_mrt_m\", data=taiwan_real_estate).fit()\n",
    "\n",
    "# Use this explanatory data\n",
    "explanatory_data = pd.DataFrame({\"sqrt_dist_to_mrt_m\": np.sqrt(np.arange(0, 81, 10) ** 2),\n",
    "                                \"dist_to_mrt_m\": np.arange(0, 81, 10) ** 2})\n",
    "\n",
    "# Use mdl_price_vs_dist to predict explanatory_data\n",
    "prediction_data = explanatory_data.assign(\n",
    "    price_twd_msq = mdl_price_vs_dist.predict(explanatory_data)\n",
    ")\n",
    "\n",
    "fig = plt.figure()\n",
    "sns.regplot(x=\"sqrt_dist_to_mrt_m\", y=\"price_twd_msq\", data=taiwan_real_estate, ci=None)\n",
    "\n",
    "# Add a layer of your prediction points\n",
    "sns.scatterplot(data=prediction_data, x='sqrt_dist_to_mrt_m', y='price_twd_msq', color='red')\n",
    "plt.show()\n",
    "\n"
   ]
  },
  {
   "cell_type": "code",
   "execution_count": 19,
   "id": "9d09d470-ca48-4613-bbfa-f3a1aaf1c57b",
   "metadata": {},
   "outputs": [
    {
     "name": "stdout",
     "output_type": "stream",
     "text": [
      "   qdrt_n_impressions  n_impressions  qdrt_n_clicks\n",
      "0            0.000000            0.0       0.071748\n",
      "1           26.591479       500000.0       3.037576\n",
      "2           31.622777      1000000.0       3.598732\n",
      "3           34.996355      1500000.0       3.974998\n",
      "4           37.606031      2000000.0       4.266063\n",
      "5           39.763536      2500000.0       4.506696\n",
      "6           41.617915      3000000.0       4.713520\n"
     ]
    },
    {
     "data": {
      "image/png": "[encoded data removed]",
      "text/plain": [
       "<Figure size 432x288 with 1 Axes>"
      ]
     },
     "metadata": {
      "needs_background": "light"
     },
     "output_type": "display_data"
    }
   ],
   "source": [
    "ad_conversion[\"qdrt_n_impressions\"] = ad_conversion[\"n_impressions\"] ** 0.25\n",
    "ad_conversion[\"qdrt_n_clicks\"] = ad_conversion[\"n_clicks\"] ** 0.25\n",
    "\n",
    "mdl_click_vs_impression = ols(\"qdrt_n_clicks ~ qdrt_n_impressions\", data=ad_conversion).fit()\n",
    "\n",
    "explanatory_data = pd.DataFrame({\"qdrt_n_impressions\": np.arange(0, 3e6+1, 5e5) ** .25,\n",
    "                                 \"n_impressions\": np.arange(0, 3e6+1, 5e5)})\n",
    "\n",
    "# Complete prediction_data\n",
    "prediction_data = explanatory_data.assign(\n",
    "    qdrt_n_clicks = mdl_click_vs_impression.predict(explanatory_data)\n",
    ")\n",
    "\n",
    "# Print the result\n",
    "print(prediction_data)\n",
    "\n",
    "# Back transform qdrt_n_clicks\n",
    "prediction_data[\"n_clicks\"] = prediction_data[\"qdrt_n_clicks\"] ** 4\n",
    "\n",
    "# Plot the transformed variables\n",
    "fig = plt.figure()\n",
    "sns.regplot(x=\"qdrt_n_impressions\", y=\"qdrt_n_clicks\", data=ad_conversion, ci=None)\n",
    "\n",
    "# Add a layer of your prediction points\n",
    "sns.scatterplot(data=prediction_data, x=\"qdrt_n_impressions\", y=\"qdrt_n_clicks\", color='red')\n",
    "plt.show()"
   ]
  },
  {
   "cell_type": "markdown",
   "id": "6e699c1f-50de-47cb-b026-07387baf0ed9",
   "metadata": {},
   "source": [
    "# Quantifying model fit \n",
    "- How strong is the linear relationship?\n",
    "1.  Using coefficient of determination (r-squared if you have 1 explanatory variable or R-squared if you have more than explanatory variable)\n",
    "   - 1 means a perfect fit , 0 means the worst possible fit\n",
    "   - .summary() after fitting the model\n",
    "   - .rsquared to substract r squared\n",
    "     \n",
    "2. Residual standard Error (RSE)\n",
    "   - a 'typical' difference between a prediction and an observed response\n",
    "   - how much a prediction are typically wrong\n",
    "   - MSE = RSE2, MSE : the squared residual standard error\n",
    "   - .mse_resid >> not include in summary\n",
    "   - np.sqrt(mse) == rse\n",
    "   - to calculate RSE yourself :\n",
    "     1. first squared residuals, residuals_sq = mdl_bream.resid ** 2\n",
    "     2. resid_sum_of_sq = sum(residuals_sq)\n",
    "     3. print('resid sum of sq:', resid_sum_of_sq)\n",
    "     4. calculate DF of residuals, degrees of freedom equals the number of observations minus the number of model coefficients\n",
    "     5. deg_freedom = len(bream.index) -2\n",
    "     6. rse = np.sqrt(resid_sum_of_sq/deg_freedom)\n",
    "     7. mdl_bream has an RSE of 74 meaning : the difference between predicted bream masses and observed bream masses is typically about 74 gram\n",
    "   - RSE is a measure of accuracy for regression models \n",
    "    \n",
    "3. Root-mean-square error (RMSE)\n",
    "   - calculate almost the same with RSE only you don't need to calculate the coefficient to get degree of freedom just the length of observations data\n",
    "   - rmse = np.sqrt(resid_sum_of_sq/n_obs) \n"
   ]
  },
  {
   "cell_type": "code",
   "execution_count": 20,
   "id": "c8a3d8fe-2e73-4f30-a7fb-7c6821c9c573",
   "metadata": {},
   "outputs": [
    {
     "name": "stdout",
     "output_type": "stream",
     "text": [
      "                            OLS Regression Results                            \n",
      "==============================================================================\n",
      "Dep. Variable:               n_clicks   R-squared:                       0.892\n",
      "Model:                            OLS   Adj. R-squared:                  0.891\n",
      "Method:                 Least Squares   F-statistic:                     7683.\n",
      "Date:                Sat, 16 Sep 2023   Prob (F-statistic):               0.00\n",
      "Time:                        09:50:28   Log-Likelihood:                -4126.7\n",
      "No. Observations:                 936   AIC:                             8257.\n",
      "Df Residuals:                     934   BIC:                             8267.\n",
      "Df Model:                           1                                         \n",
      "Covariance Type:            nonrobust                                         \n",
      "=================================================================================\n",
      "                    coef    std err          t      P>|t|      [0.025      0.975]\n",
      "---------------------------------------------------------------------------------\n",
      "Intercept         1.6829      0.789      2.133      0.033       0.135       3.231\n",
      "n_impressions     0.0002   1.96e-06     87.654      0.000       0.000       0.000\n",
      "==============================================================================\n",
      "Omnibus:                      247.038   Durbin-Watson:                   0.870\n",
      "Prob(Omnibus):                  0.000   Jarque-Bera (JB):            13215.277\n",
      "Skew:                          -0.258   Prob(JB):                         0.00\n",
      "Kurtosis:                      21.401   Cond. No.                     4.88e+05\n",
      "==============================================================================\n",
      "\n",
      "Notes:\n",
      "[1] Standard Errors assume that the covariance matrix of the errors is correctly specified.\n",
      "[2] The condition number is large, 4.88e+05. This might indicate that there are\n",
      "strong multicollinearity or other numerical problems.\n",
      "                            OLS Regression Results                            \n",
      "==============================================================================\n",
      "Dep. Variable:          qdrt_n_clicks   R-squared:                       0.945\n",
      "Model:                            OLS   Adj. R-squared:                  0.944\n",
      "Method:                 Least Squares   F-statistic:                 1.590e+04\n",
      "Date:                Sat, 16 Sep 2023   Prob (F-statistic):               0.00\n",
      "Time:                        09:50:28   Log-Likelihood:                 193.90\n",
      "No. Observations:                 936   AIC:                            -383.8\n",
      "Df Residuals:                     934   BIC:                            -374.1\n",
      "Df Model:                           1                                         \n",
      "Covariance Type:            nonrobust                                         \n",
      "======================================================================================\n",
      "                         coef    std err          t      P>|t|      [0.025      0.975]\n",
      "--------------------------------------------------------------------------------------\n",
      "Intercept              0.0717      0.017      4.171      0.000       0.038       0.106\n",
      "qdrt_n_impressions     0.1115      0.001    126.108      0.000       0.110       0.113\n",
      "==============================================================================\n",
      "Omnibus:                       11.447   Durbin-Watson:                   0.568\n",
      "Prob(Omnibus):                  0.003   Jarque-Bera (JB):               10.637\n",
      "Skew:                          -0.216   Prob(JB):                      0.00490\n",
      "Kurtosis:                       2.707   Cond. No.                         52.1\n",
      "==============================================================================\n",
      "\n",
      "Notes:\n",
      "[1] Standard Errors assume that the covariance matrix of the errors is correctly specified.\n"
     ]
    }
   ],
   "source": [
    "mdl_click_vs_impression_trans = mdl_click_vs_impression\n",
    "mdl_click_vs_impression_orig = ols(\"n_clicks ~ n_impressions\", data=ad_conversion).fit()\n",
    "\n",
    "# Print a summary of mdl_click_vs_impression_orig\n",
    "print(mdl_click_vs_impression_orig.summary())\n",
    "\n",
    "# Print a summary of mdl_click_vs_impression_trans\n",
    "print(mdl_click_vs_impression_trans.summary())\n"
   ]
  },
  {
   "cell_type": "code",
   "execution_count": 21,
   "id": "fa2c6264-58ef-4176-99b5-3aaef83a288e",
   "metadata": {},
   "outputs": [
    {
     "name": "stdout",
     "output_type": "stream",
     "text": [
      "the number of impressions explains :89.1613497350804% of the variability in the number of clicks \n",
      "the number of impressions explains :94.45272817143905% of the variability in the number of clicks \n"
     ]
    }
   ],
   "source": [
    "# Print the coeff of determination for mdl_click_vs_impression_orig\n",
    "print(\"the number of impressions explains :\" + str(mdl_click_vs_impression_orig.rsquared*100) +\"% of the variability in the number of clicks \")\n",
    "\n",
    "# Print the coeff of determination for mdl_click_vs_impression_trans\n",
    "print(\"the number of impressions explains :\" + str(mdl_click_vs_impression_trans.rsquared*100) +\"% of the variability in the number of clicks \")\n"
   ]
  },
  {
   "cell_type": "code",
   "execution_count": 22,
   "id": "fc7efb4d-01e6-4bd4-a77a-110899b745a6",
   "metadata": {},
   "outputs": [
    {
     "name": "stdout",
     "output_type": "stream",
     "text": [
      "RSE of original model:  19.905838862478138 meaning: the typical difference between observed number of clicks and predicted number of clicks is 20\n",
      "RSE of transformed model:  0.19690640896875722\n"
     ]
    }
   ],
   "source": [
    "# Calculate mse_orig for mdl_click_vs_impression_orig\n",
    "mse_orig = mdl_click_vs_impression_orig.mse_resid\n",
    "\n",
    "# Calculate rse_orig for mdl_click_vs_impression_orig and print it\n",
    "rse_orig = np.sqrt(mse_orig)\n",
    "print(\"RSE of original model: \", rse_orig, \"meaning: the typical difference between observed number of clicks and predicted number of clicks is 20\")\n",
    "\n",
    "# Calculate mse_trans for mdl_click_vs_impression_trans\n",
    "mse_trans =mdl_click_vs_impression_trans.mse_resid\n",
    "\n",
    "# Calculate rse_trans for mdl_click_vs_impression_trans and print it\n",
    "rse_trans = np.sqrt(mse_trans)\n",
    "print(\"RSE of transformed model: \", rse_trans)"
   ]
  },
  {
   "cell_type": "markdown",
   "id": "3d761375-b6e6-41ea-ba2d-de9c59d86530",
   "metadata": {},
   "source": [
    "# Visualizing model fit \n",
    "- if a linear regression model is a good fit, then the residuals are approximately normally distributed with mean zero\n",
    "- Residuals vs fitted plot >>  if residuals met the assumption that they are normally distributed with mean zero then thren line should equal y == 0 in the plot\n",
    "- Q-Q plot >> another way to show whether the residual follow normal distribution\n",
    "- Scale-location plot >> show the square root of the sandardized residuals vs the fitted values, show whether the size of the residuals gets bigger or smaller \n",
    "- To create the residuals vs fitted plot :\n",
    "  - sns.residplot(x='length_cm', y='mass_g', data=bream, lowess= True)>> lowess is smoothing the line \n",
    "  - plt.xlabel('fitted values')\n",
    "  - plt.ylabel('residual')\n",
    "- To draw qqplot :\n",
    "  - from statsmodels.api import qqplot\n",
    "  - qqplot(data=mdl_bream.resid, fit=True, line = '45') >>line 45 degree of plot\n",
    "- Scale-location plot how to create:\n",
    "  - model_norm_residuals_bream = mdl_bream.get_influence().resid_studentized_internal\n",
    "  - model_norm_residuals_abs_sqrt_bream = np.sqrt(np.abs(model_norm_residuals_bream))\n",
    "  - sns.regplot(x=mdl_bream.fittedvalues, y=model_norm_residuals_abs_sqrt_bream, ci=None, lowess=True)\n",
    "  - specify the x and y label "
   ]
  },
  {
   "cell_type": "code",
   "execution_count": 23,
   "id": "5d10dd51-c74a-435c-8f3f-93d3935b6367",
   "metadata": {},
   "outputs": [
    {
     "data": {
      "image/png": "[encoded data removed]",
      "text/plain": [
       "<Figure size 432x288 with 1 Axes>"
      ]
     },
     "metadata": {
      "needs_background": "light"
     },
     "output_type": "display_data"
    }
   ],
   "source": [
    "# Plot the residuals vs. fitted values\n",
    "sns.residplot(x='n_convenience', y='price_twd_msq', data=taiwan_real_estate, lowess=True)\n",
    "plt.xlabel(\"Fitted values\")\n",
    "plt.ylabel(\"Residuals\")\n",
    "\n",
    "# Show the plot\n",
    "plt.show()"
   ]
  },
  {
   "cell_type": "code",
   "execution_count": 24,
   "id": "5c1d582b-b71d-47a5-aefb-4a64c3158a14",
   "metadata": {},
   "outputs": [
    {
     "data": {
      "image/png": "[encoded data removed]",
      "text/plain": [
       "<Figure size 432x288 with 1 Axes>"
      ]
     },
     "metadata": {
      "needs_background": "light"
     },
     "output_type": "display_data"
    }
   ],
   "source": [
    "# Import qqplot\n",
    "from statsmodels.api import qqplot\n",
    "\n",
    "# Create the Q-Q plot of the residuals\n",
    "qqplot(data=mdl_price_vs_conv.resid, fit=True, line=\"45\")\n",
    "\n",
    "# Show the plot\n",
    "plt.show()"
   ]
  },
  {
   "cell_type": "code",
   "execution_count": 25,
   "id": "055caa9b-0fb5-4ca6-b236-113594eca80d",
   "metadata": {},
   "outputs": [
    {
     "data": {
      "image/png": "[encoded data removed]",
      "text/plain": [
       "<Figure size 432x288 with 1 Axes>"
      ]
     },
     "metadata": {
      "needs_background": "light"
     },
     "output_type": "display_data"
    }
   ],
   "source": [
    "# Preprocessing steps\n",
    "model_norm_residuals = mdl_price_vs_conv.get_influence().resid_studentized_internal\n",
    "model_norm_residuals_abs_sqrt = np.sqrt(np.abs(model_norm_residuals))\n",
    "\n",
    "# Create the scale-location plot\n",
    "sns.regplot(x=mdl_price_vs_conv.fittedvalues,y=model_norm_residuals_abs_sqrt, ci=None, lowess=True)\n",
    "plt.xlabel(\"Fitted values\")\n",
    "plt.ylabel(\"Sqrt of abs val of stdized residuals\")\n",
    "\n",
    "# Show the plot\n",
    "plt.show()"
   ]
  },
  {
   "cell_type": "markdown",
   "id": "47fa2c5c-7604-48db-a47a-559fff21d515",
   "metadata": {},
   "source": [
    "# Outliers, Leverage, Influence \n",
    "- how to visualize outlier:\n",
    "  - roach['extreme_l']=((roach['length_cm'] <15)|(roach['length_cm'] >26))\n",
    "  - fig = plt.figure()\n",
    "  - sns.regplot(x='length_cm', y='mass-g', data=roach, ci=None)\n",
    "  - sns.scatterplot(x='length_cm', y='mass_g', hue= 'extreme_l', data=roach)\n",
    "- Leverage : is a measure of how extreme the explanatory variable values are. Leverage measures how unusual or extreme the explanatory variables are for each observation. Very roughly, high leverage means that the explanatory variable has values that are different from other points in the dataset. \n",
    "- Influence : measures how much the model would change if you left the observation out of the dataset when modeling. Influence measures how much a model would change if each observation was left out of the model calculations, one at a time.\n",
    "- how to calculate leverage and influence?\n",
    "  - mdl_roach = ols('mass_g ~length_cm\", data=roach).fit()\n",
    "  - summary_roach = mdl_roach.get_influence().summary_frame()\n",
    "  - roach['leverage']=summary_roach['hat_diag']\n",
    "  - roach['cooks_dist/influence'] = summary_roach['cooks_dist']\n",
    "  - remove the influence and put in visualization to see the effect "
   ]
  },
  {
   "cell_type": "code",
   "execution_count": 31,
   "id": "4a078a8b-a20b-4dcd-9477-76f852268181",
   "metadata": {},
   "outputs": [
    {
     "name": "stdout",
     "output_type": "stream",
     "text": [
      "     dist_to_mrt_m  n_convenience house_age_years  price_twd_msq  \\\n",
      "347      6488.0210              1        15 to 30       3.388805   \n",
      "116      6396.2830              1        30 to 45       3.691377   \n",
      "249      6306.1530              1        15 to 30       4.538578   \n",
      "255      5512.0380              1        30 to 45       5.264750   \n",
      "8        5512.0380              1        30 to 45       5.688351   \n",
      "..             ...            ...             ...            ...   \n",
      "269       837.7233              0        15 to 30       6.959153   \n",
      "126       804.6897              4        30 to 45      19.031770   \n",
      "265       815.9314              4        15 to 30      11.527988   \n",
      "159       815.9314              4        15 to 30      11.316188   \n",
      "157       815.9314              4        15 to 30      10.771558   \n",
      "\n",
      "     sqrt_dist_to_mrt_m  leverage  \n",
      "347           80.548253  0.026665  \n",
      "116           79.976765  0.026135  \n",
      "249           79.411290  0.025617  \n",
      "255           74.243101  0.021142  \n",
      "8             74.243101  0.021142  \n",
      "..                  ...       ...  \n",
      "269           28.943450  0.002417  \n",
      "126           28.367053  0.002416  \n",
      "265           28.564513  0.002415  \n",
      "159           28.564513  0.002415  \n",
      "157           28.564513  0.002415  \n",
      "\n",
      "[414 rows x 6 columns]\n"
     ]
    }
   ],
   "source": [
    "# Create summary_info\n",
    "summary_info = mdl_price_vs_dist.get_influence().summary_frame()\n",
    "\n",
    "# Add the hat_diag column to taiwan_real_estate, name it leverage\n",
    "taiwan_real_estate[\"leverage\"] = summary_info[\"hat_diag\"]\n",
    "\n",
    "# Sort taiwan_real_estate by leverage in descending order and print the head\n",
    "print(taiwan_real_estate.sort_values(by = 'leverage',ascending=False))"
   ]
  },
  {
   "cell_type": "code",
   "execution_count": 32,
   "id": "f067d395-6ae8-4d0c-aa04-30d1674e3480",
   "metadata": {},
   "outputs": [
    {
     "name": "stdout",
     "output_type": "stream",
     "text": [
      "     dist_to_mrt_m  n_convenience house_age_years  price_twd_msq  \\\n",
      "270       252.5822              1         0 to 15      35.552194   \n",
      "148      3780.5900              0        15 to 30      13.645991   \n",
      "228      3171.3290              0         0 to 15      14.099849   \n",
      "220       186.5101              9        30 to 45      23.691377   \n",
      "113       393.2606              6         0 to 15       2.299546   \n",
      "\n",
      "     sqrt_dist_to_mrt_m  leverage  cooks_dist  \n",
      "270           15.892835  0.003849    0.115549  \n",
      "148           61.486503  0.012147    0.052440  \n",
      "228           56.314554  0.009332    0.035384  \n",
      "220           13.656870  0.004401    0.025123  \n",
      "113           19.830799  0.003095    0.022813  \n"
     ]
    }
   ],
   "source": [
    "# Create summary_info\n",
    "summary_info = mdl_price_vs_dist.get_influence().summary_frame()\n",
    "\n",
    "# Add the hat_diag column to taiwan_real_estate, name it leverage\n",
    "taiwan_real_estate[\"leverage\"] = summary_info[\"hat_diag\"]\n",
    "\n",
    "# Add the cooks_d column to taiwan_real_estate, name it cooks_dist\n",
    "taiwan_real_estate['cooks_dist']= summary_info['cooks_d']\n",
    "\n",
    "# Sort taiwan_real_estate by cooks_dist in descending order and print the head.\n",
    "print(taiwan_real_estate.sort_values(by='cooks_dist', ascending=False).head())"
   ]
  },
  {
   "cell_type": "markdown",
   "id": "2d6ae5b5-325b-43cf-9693-e333db7c55de",
   "metadata": {},
   "source": [
    "# Why you need logistic regression \n",
    "- binary response variable\n",
    "- logistic regression is another type of generalized linear model\n",
    "- used when the response variable is logical/binary\n",
    "- for example : churn or not churn customer prediction >> 0 or 1\n",
    "- the responses follow logistic (S-shaped) curve\n",
    "- to run logistic regression:\n",
    "  - from statsmodels.formula.api import logit\n",
    "  - mdl_churn_vs_recency_logit = logit('has_churned ~ time_since_last_purchase', data = churn).fit()\n",
    "  - print(mdl_churn_vs_recency_logit.params(=)\n",
    "  - plotting the data\n",
    "  - sns.regplot(x='time_since_last_purchase', y='has_churned', data=churn, ci=None, logistic=True)\n",
    "  - plt.axline(xy1=(0,intercept), slope=slope, color='black')\n",
    "  - plt.show() "
   ]
  },
  {
   "cell_type": "code",
   "execution_count": 33,
   "id": "54da0b59-bc5d-40c6-89b6-7884ee7aa464",
   "metadata": {},
   "outputs": [
    {
     "name": "stderr",
     "output_type": "stream",
     "text": [
      "/Users/tiatitisari/opt/anaconda3/lib/python3.8/site-packages/seaborn/axisgrid.py:118: UserWarning: The figure layout has changed to tight\n",
      "  self._figure.tight_layout(*args, **kwargs)\n"
     ]
    },
    {
     "data": {
      "image/png": "[encoded data removed]",
      "text/plain": [
       "<Figure size 720x360 with 2 Axes>"
      ]
     },
     "metadata": {
      "needs_background": "light"
     },
     "output_type": "display_data"
    }
   ],
   "source": [
    "# Create the histograms of time_since_last_purchase split by has_churned\n",
    "sns.displot(data=churn, x='time_since_last_purchase',col='has_churned' )\n",
    "\n",
    "plt.show()"
   ]
  },
  {
   "cell_type": "code",
   "execution_count": 34,
   "id": "6ad7243b-f616-4293-b9dc-70ea0b048477",
   "metadata": {},
   "outputs": [
    {
     "name": "stderr",
     "output_type": "stream",
     "text": [
      "/Users/tiatitisari/opt/anaconda3/lib/python3.8/site-packages/seaborn/axisgrid.py:118: UserWarning: The figure layout has changed to tight\n",
      "  self._figure.tight_layout(*args, **kwargs)\n"
     ]
    },
    {
     "data": {
      "image/png": "[encoded data removed]",
      "text/plain": [
       "<Figure size 720x360 with 2 Axes>"
      ]
     },
     "metadata": {
      "needs_background": "light"
     },
     "output_type": "display_data"
    }
   ],
   "source": [
    "# Redraw the plot with time_since_first_purchase\n",
    "sns.displot(data=churn, x='time_since_first_purchase',col='has_churned' )\n",
    "\n",
    "plt.show()"
   ]
  },
  {
   "cell_type": "code",
   "execution_count": 35,
   "id": "867d9343-d0a7-45c1-8ba8-bda867c4f777",
   "metadata": {},
   "outputs": [
    {
     "data": {
      "image/png": "[encoded data removed]",
      "text/plain": [
       "<Figure size 432x288 with 1 Axes>"
      ]
     },
     "metadata": {
      "needs_background": "light"
     },
     "output_type": "display_data"
    }
   ],
   "source": [
    "# Draw a linear regression trend line and a scatter plot of time_since_first_purchase vs. has_churned\n",
    "sns.regplot(x='time_since_first_purchase', y='has_churned',ci=None,  data=churn,\n",
    "            line_kws={\"color\": \"red\"})\n",
    "\n",
    "plt.show()"
   ]
  },
  {
   "cell_type": "code",
   "execution_count": 36,
   "id": "9599df57-e750-4350-941f-3ec6773ae125",
   "metadata": {},
   "outputs": [
    {
     "data": {
      "image/png": "[encoded data removed]",
      "text/plain": [
       "<Figure size 432x288 with 1 Axes>"
      ]
     },
     "metadata": {
      "needs_background": "light"
     },
     "output_type": "display_data"
    }
   ],
   "source": [
    "# Draw a linear regression trend line and a scatter plot of time_since_first_purchase vs. has_churned\n",
    "sns.regplot(x=\"time_since_first_purchase\",\n",
    "            y=\"has_churned\",\n",
    "            data=churn, \n",
    "            ci=None,\n",
    "            line_kws={\"color\": \"red\"})\n",
    "\n",
    "# Draw a logistic regression trend line and a scatter plot of time_since_first_purchase vs. has_churned\n",
    "sns.regplot(x=\"time_since_first_purchase\",\n",
    "            y=\"has_churned\",\n",
    "            data=churn, \n",
    "            ci=None,\n",
    "            line_kws={\"color\": \"blue\"},\n",
    "            logistic=True)\n",
    "\n",
    "plt.show()"
   ]
  },
  {
   "cell_type": "code",
   "execution_count": 39,
   "id": "76361999-32ff-464d-81a8-558645b69417",
   "metadata": {},
   "outputs": [
    {
     "name": "stdout",
     "output_type": "stream",
     "text": [
      "Optimization terminated successfully.\n",
      "         Current function value: 0.679663\n",
      "         Iterations 4\n",
      "Intercept                   -0.015185\n",
      "time_since_first_purchase   -0.354795\n",
      "dtype: float64\n"
     ]
    }
   ],
   "source": [
    "# Import logit\n",
    "from statsmodels.formula.api import logit \n",
    "\n",
    "# Fit a logistic regression of churn vs. length of relationship using the churn dataset\n",
    "mdl_churn_vs_relationship = logit('has_churned~time_since_first_purchase', data=churn).fit()\n",
    "\n",
    "# Print the parameters of the fitted model\n",
    "print(mdl_churn_vs_relationship.params)"
   ]
  },
  {
   "cell_type": "markdown",
   "id": "2ab20d0a-dbd3-4636-91d0-842ff58e290f",
   "metadata": {},
   "source": [
    "# Predictions and odds ratio \n",
    "- making predictions\n",
    "  - mdl_recency=logit('has_churned~time_since_last_purchase\",data=churn).fit()\n",
    "  - explanatory_data =pd.DataFrame({'time_since_last_purchase':np.arange(-1,6.25,0.25)})\n",
    "  - prediction_data = explanatory_data.assign(has_churned=mdl_recency.predict(explanatory_data))\n",
    "  - Adding point predictions\n",
    "    - sns.regplot(x='time_since_last_purchase', y='has_churned', data=churn, ci=None, logistic=True)\n",
    "    - sns.scatterplot(x='time_since_last_purchase', y='has_churned', data=prediction_data, color='red')\n",
    "    - plt.show()\n",
    "- getting the most likely outcome\n",
    "  - if the prediction value <=0.5 most likely not going to churn\n",
    "  - if the prediction value >0.5 most likely will churn\n",
    "  - prediction_data['most_likely_outcome']=np.round(prediction_data['has_churned'])\n",
    "  - visualizing most likely outcome\n",
    "    - sns.regplot(x='time_since_last_purchase', y='has_churned', data=churn, ci=None, logistic=True)\n",
    "    - sns.scatterplot(x='time_since_last_purchase', y='has_churned', data='most_likely_outcome', color='red')\n",
    "    - plt.show()\n",
    "\n",
    "- odds_ratios\n",
    "  - is the probability of something happending divided by the probability that it doesnt\n",
    "  - odds_ratio = probability/(1-probability)\n",
    "  - caculating odds_ratio\n",
    "    - prediction_data['odds_ratio']=prediction_data['has_churned']/(1-prediction_data['has_churned'])\n",
    "    - sns.lineplot(x='time_since_last_purchase',y='odds_ratio', data=prediction_data)\n",
    "    - plt.axhline(y=1. linestyle='dotted')\n",
    "    - plt.show()\n",
    "    - plt.yscale('log') >> the y axis gonna be log\n",
    "  - calculating log odds ratio\n",
    "    - prediction_data['log_odds_ratio']=np.log(prediction_data['odds_ratio'])\n"
   ]
  },
  {
   "cell_type": "code",
   "execution_count": 49,
   "id": "0b7c6a40-c905-4199-8bb7-3a9fbc48d197",
   "metadata": {},
   "outputs": [
    {
     "name": "stdout",
     "output_type": "stream",
     "text": [
      "Optimization terminated successfully.\n",
      "         Current function value: 0.679663\n",
      "         Iterations 4\n",
      "   time_since_first_purchase  has_churned\n",
      "0                      -1.50     0.626448\n",
      "1                      -1.25     0.605470\n",
      "2                      -1.00     0.584096\n",
      "3                      -0.75     0.562401\n",
      "4                      -0.50     0.540465\n"
     ]
    }
   ],
   "source": [
    "# Fit a logistic regression of churn vs. length of relationship using the churn dataset\n",
    "mdl_churn_vs_relationship = logit('has_churned~time_since_first_purchase', data=churn).fit()\n",
    "\n",
    "explanatory_data = pd.DataFrame({'time_since_first_purchase':np.arange(-1.5,4.00,0.25)})\n",
    "# Create prediction_data\n",
    "prediction_data = explanatory_data.assign(\n",
    "  has_churned=mdl_churn_vs_relationship.predict(explanatory_data)\n",
    ")\n",
    "# Print the head\n",
    "print(prediction_data.head())\n"
   ]
  },
  {
   "cell_type": "code",
   "execution_count": 50,
   "id": "00d1f3b3-ac84-404d-a733-b7b2c7c993fc",
   "metadata": {},
   "outputs": [
    {
     "data": {
      "image/png": "[encoded data removed]",
      "text/plain": [
       "<Figure size 432x288 with 1 Axes>"
      ]
     },
     "metadata": {
      "needs_background": "light"
     },
     "output_type": "display_data"
    }
   ],
   "source": [
    "# Create prediction_data\n",
    "prediction_data = explanatory_data.assign(\n",
    "    has_churned = mdl_churn_vs_relationship.predict(explanatory_data)\n",
    ")\n",
    "\n",
    "fig = plt.figure()\n",
    "\n",
    "# Create a scatter plot with logistic trend line\n",
    "sns.regplot(x='time_since_first_purchase',y='has_churned',data=churn,logistic=True,ci=None)\n",
    "\n",
    "# Overlay with prediction_data, colored red\n",
    "sns.scatterplot(x='time_since_first_purchase',y='has_churned',data=prediction_data,color='red')\n",
    "\n",
    "plt.show()"
   ]
  },
  {
   "cell_type": "code",
   "execution_count": 64,
   "id": "94261f56-654f-46a5-bead-d4e0daf02751",
   "metadata": {},
   "outputs": [
    {
     "name": "stdout",
     "output_type": "stream",
     "text": [
      "   time_since_first_purchase  has_churned  most_likely_outcome  \\\n",
      "0                      -1.50     0.626448                  1.0   \n",
      "1                      -1.25     0.605470                  1.0   \n",
      "2                      -1.00     0.584096                  1.0   \n",
      "3                      -0.75     0.562401                  1.0   \n",
      "4                      -0.50     0.540465                  1.0   \n",
      "\n",
      "     churn_category  \n",
      "0  3.about to churn  \n",
      "1  3.about to churn  \n",
      "2  3.about to churn  \n",
      "3  3.about to churn  \n",
      "4  3.about to churn  \n"
     ]
    }
   ],
   "source": [
    "# Update prediction data by adding most_likely_outcome\n",
    "prediction_data[\"most_likely_outcome\"] = np.round(prediction_data['has_churned'])\n",
    "\n",
    "# Update condition \n",
    "labels = ['1.not churn', '2.less possible to churn', '3.about to churn', '4.most likely to churn']\n",
    "range =[0,0.25,0.5,0.75,1]\n",
    "prediction_data['churn_category']=pd.cut(prediction_data['has_churned'],labels=labels,bins = range)\n",
    "\n",
    "# Print the head\n",
    "print(prediction_data.head())\n"
   ]
  },
  {
   "cell_type": "code",
   "execution_count": 65,
   "id": "3659d4b2-391c-4fa9-a108-a6b23c3c1b35",
   "metadata": {},
   "outputs": [
    {
     "data": {
      "image/png": "[encoded data removed]",
      "text/plain": [
       "<Figure size 432x288 with 1 Axes>"
      ]
     },
     "metadata": {
      "needs_background": "light"
     },
     "output_type": "display_data"
    }
   ],
   "source": [
    "# Update prediction data by adding most_likely_outcome\n",
    "prediction_data[\"most_likely_outcome\"] = np.round(prediction_data[\"has_churned\"])\n",
    "\n",
    "fig = plt.figure()\n",
    "\n",
    "# Create a scatter plot with logistic trend line (from previous exercise)\n",
    "sns.regplot(x=\"time_since_first_purchase\",\n",
    "            y=\"has_churned\",\n",
    "            data=churn,\n",
    "            ci=None,\n",
    "            logistic=True)\n",
    "\n",
    "# Overlay with prediction_data, colored red\n",
    "sns.scatterplot(x=\"time_since_first_purchase\",y=\"most_likely_outcome\", \n",
    "data=prediction_data,color = 'red')\n",
    "\n",
    "plt.show()"
   ]
  },
  {
   "cell_type": "code",
   "execution_count": 66,
   "id": "eb333cc9-767e-422e-9a6d-83b456e621cc",
   "metadata": {},
   "outputs": [
    {
     "data": {
      "image/png": "[encoded data removed]",
      "text/plain": [
       "<Figure size 432x288 with 1 Axes>"
      ]
     },
     "metadata": {
      "needs_background": "light"
     },
     "output_type": "display_data"
    }
   ],
   "source": [
    "# Update prediction data with odds_ratio\n",
    "prediction_data[\"odds_ratio\"] = prediction_data[\"has_churned\"] / (1 - prediction_data[\"has_churned\"])\n",
    "\n",
    "fig = plt.figure()\n",
    "\n",
    "# Create a line plot of odds_ratio vs time_since_first_purchase\n",
    "sns.lineplot(data=prediction_data,y='odds_ratio',x='time_since_first_purchase' )\n",
    "\n",
    "# Add a dotted horizontal line at odds_ratio = 1\n",
    "plt.axhline(y=1, linestyle=\"dotted\")\n",
    "\n",
    "plt.show()"
   ]
  },
  {
   "cell_type": "code",
   "execution_count": 67,
   "id": "9d59b5cf-a663-46e1-92b8-6cc340f11484",
   "metadata": {},
   "outputs": [
    {
     "name": "stdout",
     "output_type": "stream",
     "text": [
      "   time_since_first_purchase  has_churned  most_likely_outcome  \\\n",
      "0                      -1.50     0.626448                  1.0   \n",
      "1                      -1.25     0.605470                  1.0   \n",
      "2                      -1.00     0.584096                  1.0   \n",
      "3                      -0.75     0.562401                  1.0   \n",
      "4                      -0.50     0.540465                  1.0   \n",
      "\n",
      "     churn_category  odds_ratio  log_odds_ratio  \n",
      "0  3.about to churn    1.677003        0.517008  \n",
      "1  3.about to churn    1.534661        0.428309  \n",
      "2  3.about to churn    1.404400        0.339610  \n",
      "3  3.about to churn    1.285197        0.250912  \n",
      "4  3.about to churn    1.176111        0.162213  \n"
     ]
    }
   ],
   "source": [
    "# Update prediction data with log_odds_ratio\n",
    "prediction_data['log_odds_ratio']=np.log(prediction_data['odds_ratio'])\n",
    "\n",
    "# Print the head\n",
    "print(prediction_data.head())"
   ]
  },
  {
   "cell_type": "code",
   "execution_count": 68,
   "id": "6f143932-bc85-4abf-bb2c-2a945975e861",
   "metadata": {},
   "outputs": [
    {
     "data": {
      "image/png": "[encoded data removed]",
      "text/plain": [
       "<Figure size 432x288 with 1 Axes>"
      ]
     },
     "metadata": {
      "needs_background": "light"
     },
     "output_type": "display_data"
    }
   ],
   "source": [
    "# Update prediction data with log_odds_ratio\n",
    "prediction_data[\"log_odds_ratio\"] = np.log(prediction_data[\"odds_ratio\"])\n",
    "\n",
    "fig = plt.figure()\n",
    "\n",
    "# Update the line plot: log_odds_ratio vs. time_since_first_purchase\n",
    "sns.lineplot(x=\"time_since_first_purchase\",\n",
    "             y=\"log_odds_ratio\",\n",
    "             data=prediction_data)\n",
    "\n",
    "# Add a dotted horizontal line at log_odds_ratio = 0\n",
    "plt.axhline(y=0, linestyle=\"dotted\")\n",
    "\n",
    "plt.show()"
   ]
  },
  {
   "cell_type": "markdown",
   "id": "40cb75ab-c3a9-4706-814f-1739f64e93f7",
   "metadata": {},
   "source": [
    "# Quantifying logistic regression fit \n",
    "- The four outcomes/confusion matrix \n",
    "  - predicted false = actual false == correct\n",
    "  - predicted false == actual true ==false negative\n",
    "  - predicted true == actual false ==false positive\n",
    "  - predicted true == actual true == correct\n",
    "- confusion matrix : counts of outcomes\n",
    "  - actual_response = churn['has_churned']\n",
    "  - predicted_response = np.round(mdl_recency.predict())\n",
    "  - outcomes = pd.DataFrame({'actual_response':actual_response,'predicted_response':predicted_response})\n",
    "  - print(outcomes.value_counts(sort=False))\n",
    "- visualizing the confusion matrix\n",
    "  - conf_matrix = mdl_recency.pred_table()\n",
    "  - print(conf_matrix)\n",
    "  - from statsmodels.graphic.mosaicplot\n",
    "  - import mosaic\n",
    "  - mosaic(conf_matrix)\n",
    "\n",
    "- Accuracy is the proportion of correct predictions\n",
    "  - accuracy = (# of true negative + # of true positive) /number of observations\n",
    "  - higher accuracy is better\n",
    "\n",
    "- Sensitivity is the proportion of true positive\n",
    "  - sensitivity = # of true positive/ (# of false negative + # of true positive)\n",
    "  - higher sensitivity is better\n",
    " \n",
    "- Specificity\n",
    "  - specificity is the proportion of true negatives\n",
    "  - specificity = # of true positive/(# of true negative + # of false positive)\n",
    "  - higher specificity is better\n",
    "\n",
    "- increasing specificity will decrease sensitivity or otherwise"
   ]
  },
  {
   "cell_type": "code",
   "execution_count": 69,
   "id": "1703e139-51fc-4af7-8ec8-85c5c4de210e",
   "metadata": {},
   "outputs": [
    {
     "name": "stdout",
     "output_type": "stream",
     "text": [
      "actual_response  predicted_response\n",
      "0                0.0                   112\n",
      "                 1.0                    88\n",
      "1                0.0                    76\n",
      "                 1.0                   124\n",
      "Name: count, dtype: int64\n"
     ]
    }
   ],
   "source": [
    "# Get the actual responses\n",
    "actual_response = churn['has_churned']\n",
    "\n",
    "# Get the predicted responses\n",
    "predicted_response = np.round(mdl_churn_vs_relationship.predict())\n",
    "\n",
    "# Create outcomes as a DataFrame of both Series\n",
    "outcomes = pd.DataFrame({'actual_response':actual_response,\n",
    " 'predicted_response':predicted_response})\n",
    "\n",
    "# Print the outcomes\n",
    "print(outcomes.value_counts(sort = False))"
   ]
  },
  {
   "cell_type": "code",
   "execution_count": 70,
   "id": "69614d7b-9aae-4a6f-9b36-dcf441b6ca77",
   "metadata": {},
   "outputs": [
    {
     "name": "stdout",
     "output_type": "stream",
     "text": [
      "[[112.  88.]\n",
      " [ 76. 124.]]\n"
     ]
    },
    {
     "data": {
      "image/png": "[encoded data removed]",
      "text/plain": [
       "<Figure size 432x288 with 3 Axes>"
      ]
     },
     "metadata": {
      "needs_background": "light"
     },
     "output_type": "display_data"
    }
   ],
   "source": [
    "# Import mosaic from statsmodels.graphics.mosaicplot\n",
    "from statsmodels.graphics.mosaicplot import mosaic\n",
    "\n",
    "# Calculate the confusion matrix conf_matrix\n",
    "conf_matrix = mdl_churn_vs_relationship.pred_table()\n",
    "\n",
    "# Print it\n",
    "print(conf_matrix)\n",
    "\n",
    "# Draw a mosaic plot of conf_matrix\n",
    "mosaic(conf_matrix)\n",
    "plt.show()"
   ]
  },
  {
   "cell_type": "code",
   "execution_count": 75,
   "id": "2390c80a-0526-4e8e-b0a5-0e92c456ce20",
   "metadata": {},
   "outputs": [
    {
     "name": "stdout",
     "output_type": "stream",
     "text": [
      "accuracy:  0.59\n",
      "sensitivity:  0.62\n",
      "specificity:  0.56\n"
     ]
    }
   ],
   "source": [
    "# Extract TN, TP, FN and FP from conf_matrix\n",
    "TN = conf_matrix[0,0]\n",
    "TP = conf_matrix[1,1]\n",
    "FN = conf_matrix[1,0]\n",
    "FP = conf_matrix[0,1]\n",
    "\n",
    "# Calculate and print the accuracy\n",
    "accuracy = (TN+TP)/(TN+FN+FP+TP)\n",
    "print(\"accuracy: \", accuracy)\n",
    "\n",
    "# Calculate and print the sensitivity\n",
    "sensitivity = TP/(TP+FN)\n",
    "print(\"sensitivity: \", sensitivity)\n",
    "\n",
    "# Calculate and print the specificity\n",
    "specificity = TN/(TN+FP)\n",
    "print(\"specificity: \", specificity)"
   ]
  }
 ],
 "metadata": {
  "kernelspec": {
   "display_name": "Python 3",
   "language": "python",
   "name": "python3"
  },
  "language_info": {
   "codemirror_mode": {
    "name": "ipython",
    "version": 3
   },
   "file_extension": ".py",
   "mimetype": "text/x-python",
   "name": "python",
   "nbconvert_exporter": "python",
   "pygments_lexer": "ipython3",
   "version": "3.8.3"
  }
 },
 "nbformat": 4,
 "nbformat_minor": 5
}
