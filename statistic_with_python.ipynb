{
 "cells": [
  {
   "cell_type": "markdown",
   "id": "18d59593-f24c-4e23-a089-1a32821b9c29",
   "metadata": {},
   "source": [
    "# Introduction to Statistic in Python \n",
    "What can statistics do? to answer this question \n",
    "1. How likely is someone to purchase a product? Are people more likely to purchase it if they can use a different payment system?\n",
    "2. How many occupants will your hotel have? How can you optimize occupancy?\n",
    "3. How many sizes of jeans need to be manufactured so they can fit 95% of the population? Should the same number of each size be produced?\n",
    "4. A/B tests: which ad is more effective in getting people to purchase a product?\n",
    "   \n",
    "- the Field of statistic : collecting and analyzing data\n",
    "- a summary statistic - a fact about or summary of some data "
   ]
  },
  {
   "cell_type": "markdown",
   "id": "39b46065-8db9-4055-a6fa-93ed12cb00c3",
   "metadata": {},
   "source": [
    "# Type of statistics \n",
    "1. Descriptive statistics\n",
    "   - Describe and summarize data\n",
    "3. Inferential statistics\n",
    "   - Use a sample of data to make inferences about a larger population\n",
    "\n",
    "# Types of Data \n",
    "1. Numeric (Quantitative) >> usually visualize or calculate using mean and plots \n",
    "   - Discrete (Count) >> number of pets\n",
    "   - Continuous (Measured) >> Time, hour\n",
    "3. Categorical (Qualitative) >> usually visualize as bar chart \n",
    "   - Nominal (Unordered) >> married/unmarried, country of residence \n",
    "   - Ordinal (Ordered) >> like agreed or disagreed"
   ]
  },
  {
   "cell_type": "markdown",
   "id": "9de84228-b5f6-4b2e-966c-9f5fe5351b2b",
   "metadata": {},
   "source": [
    "# Measures of Center \n",
    "- Median/Mean/Mode\n",
    "- Mean is more suitable to symmetrical data or normal distribution\n",
    "- Median is more suitable if the data is more skewed to another pole\n",
    "- Mode as additional summary to support the data "
   ]
  },
  {
   "cell_type": "code",
   "execution_count": 4,
   "id": "61afbdc7-da3d-4953-8f76-d4cf2ff5b00d",
   "metadata": {},
   "outputs": [],
   "source": [
    "import pandas as pd\n",
    "# Convert all data to DataFrame \n",
    "food_consumption= pd.read_csv('food_consumption.csv')\n",
    "world_happiness = pd.read_csv('world_happiness.csv')\n",
    "amir_deals=pd.read_csv('amir_deals.csv')"
   ]
  },
  {
   "cell_type": "code",
   "execution_count": 6,
   "id": "d9009b5b-4928-4bcc-9dcb-ae1cb1e240a3",
   "metadata": {},
   "outputs": [
    {
     "name": "stdout",
     "output_type": "stream",
     "text": [
      "42.13272727272727\n",
      "12.59\n",
      "44.650000000000006\n",
      "14.58\n"
     ]
    }
   ],
   "source": [
    "# Import numpy with alias np\n",
    "import numpy as np\n",
    "\n",
    "# Filter for Belgium\n",
    "be_consumption = food_consumption[food_consumption['country']=='Belgium']\n",
    "\n",
    "# Filter for USA\n",
    "usa_consumption = food_consumption[food_consumption['country']=='USA']\n",
    "\n",
    "# Calculate mean and median consumption in Belgium\n",
    "print(np.mean(be_consumption['consumption']))\n",
    "print(np.median(be_consumption['consumption']))\n",
    "\n",
    "# Calculate mean and median consumption in USA\n",
    "print(np.mean(usa_consumption['consumption']))\n",
    "print(np.median(usa_consumption['consumption']))"
   ]
  },
  {
   "cell_type": "code",
   "execution_count": 7,
   "id": "dc3e74e3-e69c-40b7-8085-7f7554349862",
   "metadata": {},
   "outputs": [
    {
     "name": "stdout",
     "output_type": "stream",
     "text": [
      "              mean  median\n",
      "country                   \n",
      "Belgium  42.132727   12.59\n",
      "USA      44.650000   14.58\n"
     ]
    }
   ],
   "source": [
    "# Import numpy as np\n",
    "import numpy as np\n",
    "\n",
    "# Subset for Belgium and USA only\n",
    "be_and_usa = food_consumption[(food_consumption['country']=='Belgium') | (food_consumption['country']=='USA')]\n",
    "\n",
    "# Group by country, select consumption column, and compute mean and median\n",
    "print(be_and_usa.groupby('country')['consumption'].agg([np.mean,np.median]))"
   ]
  },
  {
   "cell_type": "code",
   "execution_count": 8,
   "id": "64227cb4-a755-4c05-b1d9-5c3b823acede",
   "metadata": {},
   "outputs": [
    {
     "data": {
      "image/png": "[encoded data removed]",
      "text/plain": [
       "<Figure size 432x288 with 1 Axes>"
      ]
     },
     "metadata": {
      "needs_background": "light"
     },
     "output_type": "display_data"
    }
   ],
   "source": [
    "# Import matplotlib.pyplot with alias plt\n",
    "import matplotlib.pyplot as plt\n",
    "\n",
    "# Subset for food_category equals rice\n",
    "rice_consumption = food_consumption[food_consumption['food_category']=='rice']\n",
    "\n",
    "# Histogram of co2_emission for rice and show plot\n",
    "rice_consumption['co2_emission'].hist(bins=20)\n",
    "plt.show()"
   ]
  },
  {
   "cell_type": "code",
   "execution_count": 9,
   "id": "da1aea28-f933-4937-bfb5-d5f2aa19e136",
   "metadata": {},
   "outputs": [
    {
     "name": "stdout",
     "output_type": "stream",
     "text": [
      "15.2\n",
      "37.59161538461538\n"
     ]
    }
   ],
   "source": [
    "# Subset for food_category equals rice\n",
    "rice_consumption = food_consumption[food_consumption['food_category'] == 'rice']\n",
    "\n",
    "# Calculate mean and median of co2_emission with .agg()\n",
    "print(np.median(rice_consumption['co2_emission']))\n",
    "\n",
    "print(np.mean(rice_consumption['co2_emission']))"
   ]
  },
  {
   "cell_type": "markdown",
   "id": "e4398c9a-b9c6-4358-8fe9-b3d60fd63477",
   "metadata": {},
   "source": [
    "# Measure of Spread \n",
    "1. Variance = distance all data point to mean\n",
    "  - Substract mean from each data point\n",
    "         - dists = msleep['sleep_total']-np.mean(msleep['sleep_total'])\n",
    "  - Square each distance\n",
    "         - sq_dists = dists ** 2\n",
    "  - Add them all together\n",
    "         - sum_sq_dists = np.sum(sq_dists)\n",
    "  - Divide by number of data points -1\n",
    "         - variance = sum_sq_dists/(83-1)\n",
    "  - The higher the variance, the more spread out the data is\n",
    "  - The unit of variance is square\n",
    "  - OR np.var(ddof = 1) , if we don't specify ddof=1, population variance is calculated instead of sample variance\n",
    "\n",
    "2. Standar Deviation\n",
    " - Standar deviation is square root of np\n",
    "       - np.sqrt(np.var()\n",
    "       - OR np.std(ddof=1) >> sample/population\n",
    " - the unit is not square\n",
    " - Standard deviation squares distance, penalizing longer distances more than shorter ones\n",
    "   \n",
    "3. Mean Absolute Deviation\n",
    " - Mean absolute deviation penalizes each distance equally\n",
    " - SD isn't better than the MAD, but SD is more common than MAD\n",
    " - dists = msleep['sleep_total']-mean(msleep$sleep_total)\n",
    "       np.mean(np.abs(dists))\n",
    "\n",
    "4. Quantiles/Quartiles \n",
    "   - np.quantile(column,0.5) == median\n",
    "   - np.quantile(column, [0,0.25,0.5,0.75,1])\n",
    "   - Boxplots use quartiles >> plt.boxplot()\n",
    "   - OR np.linspace(start,stop,num) to calculate quartiles  >> starting at 0,\n",
    "     \n",
    "6. Interquartile Range(IQR)\n",
    "   - the distance between 75th and 25th percentile == the height of the box in a boxplot\n",
    "   - np.quantile 75 - np.quantile 25 OR\n",
    "   - from scipy.stats import iqr >> iqr()\n",
    "\n",
    "7. Outliers : data point that is substantially different from others\n",
    "   - How do we know what a substantial difference is? A data point is an outlier if data < Q1 -1.5*IQR or\n",
    "   - data > Q3 + 1.5* IQR\n",
    "   - How to find outliers?\n",
    "         - calculate the iqr iqr = iqr(column) \n",
    "         - lower_threshold = np.quantile(column, 0.25)-1.5*iqr\n",
    "         - upper_threshold = np.quantile(column, 0.75)+1.5*iqr\n",
    "\n",
    "8. Many of them can be coverd using .describe()"
   ]
  },
  {
   "cell_type": "code",
   "execution_count": 10,
   "id": "b3a73fbf-ec9b-452d-bb0e-68fc74023d91",
   "metadata": {},
   "outputs": [
    {
     "name": "stdout",
     "output_type": "stream",
     "text": [
      "[   0.        5.21     16.53     62.5975 1712.    ]\n"
     ]
    }
   ],
   "source": [
    "# Calculate the quartiles of co2_emission\n",
    "print(np.quantile(food_consumption['co2_emission'],[0,0.25,0.5,0.75,1]))"
   ]
  },
  {
   "cell_type": "code",
   "execution_count": 11,
   "id": "54db2f96-6887-4bed-83fb-0e6ce64dff55",
   "metadata": {},
   "outputs": [
    {
     "name": "stdout",
     "output_type": "stream",
     "text": [
      "[   0.       3.54    11.026   25.59    99.978 1712.   ]\n"
     ]
    }
   ],
   "source": [
    "# Calculate the quintiles of co2_emission\n",
    "print(np.quantile(food_consumption['co2_emission'],np.linspace(0,1,6)))"
   ]
  },
  {
   "cell_type": "code",
   "execution_count": 12,
   "id": "024b22d6-974d-4733-8c8e-acb523e0ce77",
   "metadata": {},
   "outputs": [
    {
     "name": "stdout",
     "output_type": "stream",
     "text": [
      "[0.00000e+00 6.68000e-01 3.54000e+00 7.04000e+00 1.10260e+01 1.65300e+01\n",
      " 2.55900e+01 4.42710e+01 9.99780e+01 2.03629e+02 1.71200e+03]\n"
     ]
    }
   ],
   "source": [
    "# Calculate the quintiles of co2_emission\n",
    "print(np.quantile(food_consumption['co2_emission'],np.linspace(0,1,11)))"
   ]
  },
  {
   "cell_type": "code",
   "execution_count": 13,
   "id": "ebcf3b47-718e-4bc7-9c1d-3aacc3463b4b",
   "metadata": {},
   "outputs": [
    {
     "name": "stdout",
     "output_type": "stream",
     "text": [
      "                        var         std\n",
      "food_category                          \n",
      "beef           88748.408132  297.906710\n",
      "dairy          17671.891985  132.935669\n",
      "eggs              21.371819    4.622966\n",
      "fish             921.637349   30.358481\n",
      "lamb_goat      16475.518363  128.356996\n",
      "nuts              35.639652    5.969895\n",
      "pork            3094.963537   55.632396\n",
      "poultry          245.026801   15.653332\n",
      "rice            2281.376243   47.763754\n",
      "soybeans           0.879882    0.938020\n",
      "wheat             71.023937    8.427570\n"
     ]
    },
    {
     "data": {
      "image/png": "[encoded data removed]",
      "text/plain": [
       "<Figure size 432x288 with 1 Axes>"
      ]
     },
     "metadata": {
      "needs_background": "light"
     },
     "output_type": "display_data"
    },
    {
     "data": {
      "image/png": "[encoded data removed]",
      "text/plain": [
       "<Figure size 432x288 with 1 Axes>"
      ]
     },
     "metadata": {
      "needs_background": "light"
     },
     "output_type": "display_data"
    }
   ],
   "source": [
    "# Print variance and sd of co2_emission for each food_category\n",
    "print(food_consumption.groupby('food_category')['co2_emission'].agg([np.var,np.std]))\n",
    "\n",
    "# Import matplotlib.pyplot with alias plt\n",
    "import matplotlib.pyplot as plt \n",
    "\n",
    "# Create histogram of co2_emission for food_category 'beef'\n",
    "food_consumption[food_consumption['food_category']=='beef']['co2_emission'].hist()\n",
    "# Show plot\n",
    "plt.show()\n",
    "\n",
    "# Create histogram of co2_emission for food_category 'eggs'\n",
    "food_consumption[food_consumption['food_category']=='eggs']['co2_emission'].hist()\n",
    "# Show plot\n",
    "plt.show()"
   ]
  },
  {
   "cell_type": "code",
   "execution_count": 14,
   "id": "d4c5193a-46f6-43c8-beaa-580832f1c092",
   "metadata": {},
   "outputs": [
    {
     "name": "stdout",
     "output_type": "stream",
     "text": [
      "country\n",
      "Argentina    2172.4\n",
      "Name: co2_emission, dtype: float64\n"
     ]
    }
   ],
   "source": [
    "# Calculate total co2_emission per country: emissions_by_country\n",
    "emissions_by_country = food_consumption.groupby('country')['co2_emission'].sum()\n",
    "\n",
    "# Compute the first and third quantiles and IQR of emissions_by_country\n",
    "q1 = np.quantile(emissions_by_country, 0.25)\n",
    "q3 = np.quantile(emissions_by_country, 0.75)\n",
    "iqr = q3 - q1\n",
    "\n",
    "# Calculate the lower and upper cutoffs for outliers\n",
    "lower = q1 - 1.5 * iqr\n",
    "upper = q3 + 1.5 * iqr\n",
    "\n",
    "# Subset emissions_by_country to find outliers\n",
    "outliers = emissions_by_country[(emissions_by_country<lower)|(emissions_by_country>upper)]\n",
    "print(outliers)"
   ]
  },
  {
   "cell_type": "markdown",
   "id": "8f6dabf3-5373-4065-b347-2ce41c672d16",
   "metadata": {},
   "source": [
    "# Measuring chance \n",
    "1. Probability P(event) = # ways event can happen/total # of possible outcomes\n",
    "2. impossible to most likely\n",
    "3. Sample method >> .sample()\n",
    "    - setting a random seed >> np.random.seed()\n",
    "    - Sample without replacement\n",
    "       - if the sample is 4 you can put .sample(4)\n",
    "    - Sample with replacement\n",
    "       - .sample(5, replace=True)\n",
    "       "
   ]
  },
  {
   "cell_type": "code",
   "execution_count": 15,
   "id": "a3ad3645-e4f7-463d-a7af-5c5831be571a",
   "metadata": {},
   "outputs": [
    {
     "data": {
      "text/html": [
       "<div>\n",
       "<style scoped>\n",
       "    .dataframe tbody tr th:only-of-type {\n",
       "        vertical-align: middle;\n",
       "    }\n",
       "\n",
       "    .dataframe tbody tr th {\n",
       "        vertical-align: top;\n",
       "    }\n",
       "\n",
       "    .dataframe thead th {\n",
       "        text-align: right;\n",
       "    }\n",
       "</style>\n",
       "<table border=\"1\" class=\"dataframe\">\n",
       "  <thead>\n",
       "    <tr style=\"text-align: right;\">\n",
       "      <th></th>\n",
       "      <th>Unnamed: 0</th>\n",
       "      <th>product</th>\n",
       "      <th>client</th>\n",
       "      <th>status</th>\n",
       "      <th>amount</th>\n",
       "      <th>num_users</th>\n",
       "    </tr>\n",
       "  </thead>\n",
       "  <tbody>\n",
       "    <tr>\n",
       "      <th>0</th>\n",
       "      <td>1</td>\n",
       "      <td>Product F</td>\n",
       "      <td>Current</td>\n",
       "      <td>Won</td>\n",
       "      <td>7389.52</td>\n",
       "      <td>19</td>\n",
       "    </tr>\n",
       "    <tr>\n",
       "      <th>1</th>\n",
       "      <td>2</td>\n",
       "      <td>Product C</td>\n",
       "      <td>New</td>\n",
       "      <td>Won</td>\n",
       "      <td>4493.01</td>\n",
       "      <td>43</td>\n",
       "    </tr>\n",
       "    <tr>\n",
       "      <th>2</th>\n",
       "      <td>3</td>\n",
       "      <td>Product B</td>\n",
       "      <td>New</td>\n",
       "      <td>Won</td>\n",
       "      <td>5738.09</td>\n",
       "      <td>87</td>\n",
       "    </tr>\n",
       "    <tr>\n",
       "      <th>3</th>\n",
       "      <td>4</td>\n",
       "      <td>Product I</td>\n",
       "      <td>Current</td>\n",
       "      <td>Won</td>\n",
       "      <td>2591.24</td>\n",
       "      <td>83</td>\n",
       "    </tr>\n",
       "    <tr>\n",
       "      <th>4</th>\n",
       "      <td>5</td>\n",
       "      <td>Product E</td>\n",
       "      <td>Current</td>\n",
       "      <td>Won</td>\n",
       "      <td>6622.97</td>\n",
       "      <td>17</td>\n",
       "    </tr>\n",
       "  </tbody>\n",
       "</table>\n",
       "</div>"
      ],
      "text/plain": [
       "   Unnamed: 0    product   client status   amount  num_users\n",
       "0           1  Product F  Current    Won  7389.52         19\n",
       "1           2  Product C      New    Won  4493.01         43\n",
       "2           3  Product B      New    Won  5738.09         87\n",
       "3           4  Product I  Current    Won  2591.24         83\n",
       "4           5  Product E  Current    Won  6622.97         17"
      ]
     },
     "execution_count": 15,
     "metadata": {},
     "output_type": "execute_result"
    }
   ],
   "source": [
    "amir_deals.head()"
   ]
  },
  {
   "cell_type": "code",
   "execution_count": 16,
   "id": "91b664f9-5503-491e-a5f4-f8fe631e38ba",
   "metadata": {},
   "outputs": [
    {
     "name": "stdout",
     "output_type": "stream",
     "text": [
      "product\n",
      "Product B    0.348315\n",
      "Product D    0.224719\n",
      "Product A    0.129213\n",
      "Product C    0.084270\n",
      "Product F    0.061798\n",
      "Product H    0.044944\n",
      "Product I    0.039326\n",
      "Product E    0.028090\n",
      "Product N    0.016854\n",
      "Product G    0.011236\n",
      "Product J    0.011236\n",
      "Name: count, dtype: float64\n"
     ]
    }
   ],
   "source": [
    "# Count the deals for each product\n",
    "counts = amir_deals['product'].value_counts()\n",
    "\n",
    "# Calculate probability of picking a deal with each product\n",
    "probs = counts/sum(counts)\n",
    "print(probs)"
   ]
  },
  {
   "cell_type": "code",
   "execution_count": 17,
   "id": "65f15db3-f2c3-4eb3-90cc-2658112dbd3f",
   "metadata": {},
   "outputs": [
    {
     "name": "stdout",
     "output_type": "stream",
     "text": [
      "     Unnamed: 0    product   client status   amount  num_users\n",
      "127         128  Product B  Current    Won  2070.25          7\n",
      "148         149  Product D  Current    Won  3485.48         52\n",
      "77           78  Product B  Current    Won  6252.30         27\n",
      "104         105  Product D  Current    Won  4110.98         39\n",
      "166         167  Product C      New   Lost  3779.86         11\n"
     ]
    }
   ],
   "source": [
    "# Set random seed\n",
    "np.random.seed(24)\n",
    "\n",
    "# Sample 5 deals without replacement\n",
    "sample_without_replacement = amir_deals.sample(5)\n",
    "print(sample_without_replacement)"
   ]
  },
  {
   "cell_type": "code",
   "execution_count": 18,
   "id": "f8c35420-35c3-4f95-bd6c-68e17f9b00e3",
   "metadata": {},
   "outputs": [
    {
     "name": "stdout",
     "output_type": "stream",
     "text": [
      "     Unnamed: 0    product   client status   amount  num_users\n",
      "162         163  Product D  Current    Won  6755.66         59\n",
      "131         132  Product B  Current    Won  6872.29         25\n",
      "87           88  Product C  Current    Won  3579.63          3\n",
      "145         146  Product A  Current    Won  4682.94         63\n",
      "145         146  Product A  Current    Won  4682.94         63\n"
     ]
    }
   ],
   "source": [
    "# Set random seed\n",
    "np.random.seed(24)\n",
    "\n",
    "# Sample 5 deals with replacement\n",
    "sample_with_replacement = amir_deals.sample(5, replace =True)\n",
    "print(sample_with_replacement)"
   ]
  },
  {
   "cell_type": "markdown",
   "id": "618f3c26-f64c-4c5f-bb9a-49dc77334f98",
   "metadata": {},
   "source": [
    "# Discrete Distributions \n",
    "- probability distribution : describes the probability of each possible outcome in a scenario\n",
    "- Expected value: mean of a probability distribution\n",
    "- fair die = discrete uniform distribution\n",
    "- Law of large numbers : As the size of your sample increases, the sample mean will approach the expected value. Expected value in here can be considered as normal distribution or discrete uniform distribution in fair die or theoretical mean "
   ]
  },
  {
   "cell_type": "code",
   "execution_count": 22,
   "id": "7630c57d-c3e6-49d3-b798-a610cedf419f",
   "metadata": {},
   "outputs": [
    {
     "data": {
      "image/png": "[encoded data removed]",
      "text/plain": [
       "<Figure size 432x288 with 1 Axes>"
      ]
     },
     "metadata": {
      "needs_background": "light"
     },
     "output_type": "display_data"
    }
   ],
   "source": [
    "# create dataset \n",
    "dict ={'group_id':['A','B','C','D','E','F','G','H','I','J'],'group_size':[2,4,6,2,2,2,3,2,4,2]}\n",
    "restaurant_groups = pd.DataFrame(dict)\n",
    "\n",
    "# Create a histogram of restaurant_groups and show plot\n",
    "restaurant_groups['group_size'].hist(bins =[2,3,4,5,6])\n",
    "plt.show()"
   ]
  },
  {
   "cell_type": "code",
   "execution_count": 23,
   "id": "65ec2b63-f9b2-4630-b611-27546864d1d3",
   "metadata": {},
   "outputs": [
    {
     "name": "stdout",
     "output_type": "stream",
     "text": [
      "   group_size      prob\n",
      "0           0  0.068966\n",
      "1           1  0.137931\n",
      "2           2  0.206897\n",
      "3           3  0.068966\n",
      "4           4  0.068966\n",
      "5           5  0.068966\n",
      "6           6  0.103448\n",
      "7           7  0.068966\n",
      "8           8  0.137931\n",
      "9           9  0.068966\n"
     ]
    }
   ],
   "source": [
    "# Create probability distribution\n",
    "size_dist = restaurant_groups['group_size']/ restaurant_groups['group_size'].sum()\n",
    "\n",
    "\n",
    "# Reset index and rename columns\n",
    "size_dist = size_dist.reset_index()\n",
    "\n",
    "size_dist.columns = ['group_size', 'prob']\n",
    "\n",
    "print(size_dist)"
   ]
  },
  {
   "cell_type": "code",
   "execution_count": 24,
   "id": "65c8ae92-b7d2-477a-a85b-24e805a869a7",
   "metadata": {},
   "outputs": [
    {
     "name": "stdout",
     "output_type": "stream",
     "text": [
      "2.9000000000000004\n"
     ]
    }
   ],
   "source": [
    "# Create probability distribution\n",
    "size_dist = restaurant_groups['group_size'].value_counts() / restaurant_groups.shape[0]\n",
    "# Reset index and rename columns\n",
    "size_dist = size_dist.reset_index()\n",
    "size_dist.columns = ['group_size', 'prob']\n",
    "\n",
    "# Calculate expected value\n",
    "expected_value = sum(size_dist['group_size']*size_dist['prob'])\n",
    "print(expected_value)"
   ]
  },
  {
   "cell_type": "code",
   "execution_count": 25,
   "id": "9b49062a-1f55-41f7-b646-47b05fdd4334",
   "metadata": {},
   "outputs": [
    {
     "name": "stdout",
     "output_type": "stream",
     "text": [
      "0.30000000000000004\n"
     ]
    }
   ],
   "source": [
    "# Create probability distribution\n",
    "size_dist = restaurant_groups['group_size'].value_counts() / restaurant_groups.shape[0]\n",
    "# Reset index and rename columns\n",
    "size_dist = size_dist.reset_index()\n",
    "size_dist.columns = ['group_size', 'prob']\n",
    "\n",
    "# Expected value\n",
    "expected_value = np.sum(size_dist['group_size'] * size_dist['prob'])\n",
    "\n",
    "# Subset groups of size 4 or more\n",
    "groups_4_or_more = size_dist[size_dist['group_size']>=4]\n",
    "\n",
    "# Sum the probabilities of groups_4_or_more\n",
    "prob_4_or_more = groups_4_or_more['prob'].sum()\n",
    "print(prob_4_or_more)"
   ]
  }
 ],
 "metadata": {
  "kernelspec": {
   "display_name": "Python 3",
   "language": "python",
   "name": "python3"
  },
  "language_info": {
   "codemirror_mode": {
    "name": "ipython",
    "version": 3
   },
   "file_extension": ".py",
   "mimetype": "text/x-python",
   "name": "python",
   "nbconvert_exporter": "python",
   "pygments_lexer": "ipython3",
   "version": "3.8.3"
  }
 },
 "nbformat": 4,
 "nbformat_minor": 5
}
