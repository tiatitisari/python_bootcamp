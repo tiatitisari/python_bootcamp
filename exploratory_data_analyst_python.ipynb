{
 "cells": [
  {
   "cell_type": "code",
   "execution_count": 1,
   "id": "5ec9182b-fac2-42b0-bb82-e8759473f0c9",
   "metadata": {},
   "outputs": [
    {
     "name": "stdout",
     "output_type": "stream",
     "text": [
      "Requirement already satisfied: pip in /Users/tiatitisari/opt/anaconda3/lib/python3.8/site-packages (23.2.1)\n",
      "\u001b[33mDEPRECATION: pyodbc 4.0.0-unsupported has a non-standard version number. pip 23.3 will enforce this behaviour change. A possible replacement is to upgrade to a newer version of pyodbc or contact the author to suggest that they release a version with a conforming version number. Discussion can be found at https://github.com/pypa/pip/issues/12063\u001b[0m\u001b[33m\n",
      "\u001b[0m"
     ]
    },
    {
     "name": "stderr",
     "output_type": "stream",
     "text": [
      "/Users/tiatitisari/opt/anaconda3/lib/python3.8/site-packages/pandas/core/computation/expressions.py:20: UserWarning: Pandas requires version '2.7.3' or newer of 'numexpr' (version '2.7.1' currently installed).\n",
      "  from pandas.core.computation.check import NUMEXPR_INSTALLED\n"
     ]
    }
   ],
   "source": [
    "!pip install --upgrade pip\n",
    "import pandas as pd \n",
    "import numpy as np \n",
    "import matplotlib.pyplot as plt \n",
    "import seaborn as sns \n",
    "\n",
    "## generate all data needed ## \n",
    "unemployment = pd.read_csv('clean_unemployment.csv')\n",
    "salaries = pd.read_csv('ds_salaries_clean.csv')\n",
    "books = pd.read_csv('clean_books.csv')\n",
    "divorce = pd.read_csv('divorce.csv')\n",
    "planes = pd.read_csv('planes.csv')"
   ]
  },
  {
   "cell_type": "markdown",
   "id": "5c8e78b6-319b-4e84-8fd1-8fbb913dc77c",
   "metadata": {},
   "source": [
    "# Intial Exploration \n",
    "- Exploratory Data Analysis = EDA\n",
    "  - derive insights\n",
    "  - generate hypotheses\n",
    "  - how?\n",
    "    1. initial look : .head()\n",
    "    2. gathering more : .info()\n",
    "    3. categorical value count : .value_counts()\n",
    "    4. numerical columns info : .describe()\n",
    "  - validating data types\n",
    "    1. .dtypes\n",
    "    2. change data types using .astype\n",
    "    3. str, int, float, dict, list, bool\n",
    "  - validating categorical data\n",
    "    1. .isin\n",
    "    2. ~ >> tilde work as not\n",
    "  - validating numerical data\n",
    "    1. .select_dtypes(\"number\").\n",
    "    2. .min(), .max()\n",
    "  - Data summarization\n",
    "    1. .groupby()\n",
    "    2. aggregating function indicates how to summarize grouped data : .sum(), .min(), .max(), .var(), .std() , .count()\n",
    "    3. .agg([]) >> you can use dictionary here:\n",
    "       - agg({'rating':[\"mean\",\"std\"], \"year\":[\"median\"]})\n",
    "       - you can named summary columns\n",
    "         - books.groupby('genre').agg(mean_rating=('rating','mean'),std_rating=('rating','std'))\n",
    "  - Visualizing categorical data\n",
    "    1. sns.barplot()\n",
    "   \n",
    "# Addressing missing data \n",
    "- why a problem?\n",
    "  1. Affects distributions\n",
    "  2. Less representative of the population\n",
    "  3. Can result in drawing incorrect conclusions\n",
    "      - salaries.isna().sum()\n",
    "- strategies for addressing missing data\n",
    "  1. drop missing values - 5% or less of total values\n",
    "     - threshold = len(salaries) *0.05 >> limit 30\n",
    "     - cols_to_drop = salaries.columns[salaries.isna().sum() <= threshold]\n",
    "     - salaries.dropna(subset= cols_to_drop,inplace = True)\n",
    "  3. input mean, median, mode - depens on distribution and context\n",
    "     - cols_with_missing_values = salaries.columns[salaries.isna().sum() > 0]\n",
    "     - for i in cols_with_missing_values:\n",
    "          - salaries[col].fillna(salaries[col].mode()[0])\n",
    "  5. input by sub-group - e.g different salary based on position\n",
    "     - salaries_dict = salaries.groupby('Experience')['salary'].median().to_dict()\n",
    "     - salaries['salary']=salaries['salary'].fillna(salaries['experience'.map(salaries_dict))"
   ]
  },
  {
   "cell_type": "markdown",
   "id": "76cdf8fe-1d6d-4180-a842-b13abd4e93f5",
   "metadata": {},
   "source": [
    "# Converting and Analyzing Categorical Data \n",
    "- .select_dtypes('number'/'object') >> depend which data you want to check\n",
    "- .nunique() >> to check unique number for each category,, the number not the value if you wanna check the value you need to use .unique()\n",
    "  \n",
    "- Extracting value from categories: \n",
    "  1. pandas.Series.str.contains() -- search a column for a specific string or multiple strings \n",
    "  2. multiple phrases in strings you can use \"|\"\n",
    "     - e.g \"Machine Learning\" or \"AI\": salaries['Designation'].str.contains(\"Machine Learning|AI\")>> please no space between 2 words \n",
    "     - any word start with data then salaries['Designation'].str.contains(\"^Data\")\n",
    "  3. Creating the categorical column\n",
    "     - create the conditon\n",
    "     - np.select(condition, default = \"others\")"
   ]
  },
  {
   "cell_type": "markdown",
   "id": "00d66df5-47ee-4886-b4e1-acf84df8cd30",
   "metadata": {},
   "source": [
    "# Working with Numeric Data \n",
    "- remove comma values in currency\n",
    "- convert the column to float data type\n",
    "- new column converting the currency\n",
    "  - pd.Series.str.replace('characters to replace', 'characters to replace them with')\n",
    "  - pd.Series.astype(float)\n",
    "  - groupby >> mean()\n",
    "- Adding summary statistics into a Dataframe >> not a summary using groupby\n",
    "  - e.g: salaries['std_dev'] = salaries.groupby('Experience')['Salary_USD'].transform(lambda x:x.std())\n",
    "- backslash if you want to enter the code within the same code sentence to avoid long and complicated code "
   ]
  },
  {
   "cell_type": "markdown",
   "id": "b1057127-6667-4b50-b008-f5a96cfb91d7",
   "metadata": {},
   "source": [
    "# Handling an outlier \n",
    "- .describe()\n",
    "- how?\n",
    "  - IQR = 75th - 25th\n",
    "  - Upper Outliers >75th percentile+(1.5*IQR)\n",
    "  - Lower Outliers <25th percentile-(1.5*IQR)\n",
    "  - e.g 75th percentile >> seventy_fifth = salaries['Salary'].quantile(0.75) \n",
    "  - define the threshold\n",
    "    - upper threshold, lower threshold\n",
    "    - subsetting our data\n",
    "- Why look for outliers?\n",
    "  1. Outliers ae extreme values : may not accurately represent our data\n",
    "  2. Can change the mean and standard deviation\n",
    "  3. Statistical tests and machine learning models need normally distributed data\n",
    "- What to do?\n",
    "  1. Why do these outliers exist? dependon geographical or demography, if make sense leave the data in dataset\n",
    "  2. Is the data accurate? could there have been an error, if yes, you can remove the data from dataset"
   ]
  },
  {
   "cell_type": "markdown",
   "id": "ff7e27a1-7d78-4132-a137-ee75f35e6818",
   "metadata": {},
   "source": [
    "# Patterns overtime \n",
    "- datetime in python usually will be read as string/object\n",
    "- you can change it by:\n",
    "  1. pd.read_csv('data',parse_dates=['datetime']\n",
    "  2. pd.to_datetime(df['column'])\n",
    "- Creating datetime data combined several column in df\n",
    "  - pd.to_datetime(df[['month','day','year']])\n",
    "  - extract date using dt.month, dt.day, dt.year\n",
    "- Visualizing using line plot\n",
    "\n",
    "# Correlation \n",
    "- Describes direction and strength of relationship between two variables\n",
    "- Can help us use variables to predict future outcomes\n",
    "- .corr() >> calculate Pearson correlation coefficient, measuring linear relationship \n",
    "- correlation heatmaps\n",
    "  - sns.heatmap(divorce.corr(), annot=True)>> annot =True == labeling inside box \n",
    "  - plt.show()\n",
    "- Should visualizing correlation between all variable! because not all variable will look linear, and correlation coefficient only worked for linear relationship. sometimes it can be quadratic\n",
    "- sns.pairplot(data=divorce) >> glance of relationship between variable in data\n",
    "- sns.pairplot(data=divorce,vars=['income_man','income_woman','marriage_duration']"
   ]
  },
  {
   "cell_type": "markdown",
   "id": "64e3e69b-508a-4c20-abbc-1a292bf5718c",
   "metadata": {},
   "source": [
    "# Factor relationshps and distributions \n",
    "- Kernel Density Estimate(KDE) plots >> much better than histogram, especially to show multiple relationship\n",
    "  - sns.kdeplot(data=divorce, x = 'marriage_duration', hue='education_man', cut=0) >> cut how minimum or maximum data could go , if interested to cumulative we can set cumulative argument to True \n",
    "  - plt.show()"
   ]
  },
  {
   "cell_type": "markdown",
   "id": "a6c5fb13-87f4-498b-8bd5-f068486bdf11",
   "metadata": {},
   "source": [
    "# Can’t onsiderations for categorical data \n",
    "- Why perform EDA?\n",
    "  - detecting patterns and relationships\n",
    "  - Generating questions or hypotheses\n",
    "  - preparing data for machine learning\n",
    "- what to think about the data:\n",
    "  1. data sample must be representative of the whole population\n",
    "     - eg. education vs income in USA can't use France data\n",
    "  2. make sure the class/label not imbalance, let's say you wanna take survey people's attitudes towards marriage then you need to make sample not skewed into divorce people\n",
    "  4. relative class frequency, see the trend of whole population, let's say you know information that 40% of internal indian flights have a destination of Delhi, and you have sample of data and count it turns out it's not represent whole society. you can use >>\n",
    "     - count class frequency using .value_counts(normalize=True) >> in percentage already\n",
    "     - cross-tabulation\n",
    "       pd.crosstab(planes['Source'],planes['Destination'], values=planes['Price'], aggfunc='median')\n",
    "  6. Comparing sample to population using summary statistics median or avg "
   ]
  },
  {
   "cell_type": "code",
   "execution_count": 2,
   "id": "7a482272-b148-4c51-807f-2520443d4c96",
   "metadata": {},
   "outputs": [
    {
     "name": "stdout",
     "output_type": "stream",
     "text": [
      "  country_code          country_name      continent   2010   2011   2012   \n",
      "0          AFG           Afghanistan           Asia  11.35  11.05  11.34  \\\n",
      "1          AGO                Angola         Africa   9.43   7.36   7.35   \n",
      "2          ALB               Albania         Europe  14.09  13.48  13.38   \n",
      "3          ARE  United Arab Emirates           Asia   2.48   2.30   2.18   \n",
      "4          ARG             Argentina  South America   7.71   7.18   7.22   \n",
      "\n",
      "    2013   2014   2015   2016   2017   2018   2019   2020   2021  \n",
      "0  11.19  11.14  11.13  11.16  11.18  11.15  11.22  11.71  13.28  \n",
      "1   7.37   7.37   7.39   7.41   7.41   7.42   7.42   8.33   8.53  \n",
      "2  15.87  18.05  17.19  15.42  13.62  12.30  11.47  13.33  11.82  \n",
      "3   2.04   1.91   1.77   1.64   2.46   2.35   2.23   3.19   3.36  \n",
      "4   7.10   7.27   7.52   8.11   8.35   9.22   9.84  11.46  10.90  \n",
      "<class 'pandas.core.frame.DataFrame'>\n",
      "RangeIndex: 182 entries, 0 to 181\n",
      "Data columns (total 15 columns):\n",
      " #   Column        Non-Null Count  Dtype  \n",
      "---  ------        --------------  -----  \n",
      " 0   country_code  182 non-null    object \n",
      " 1   country_name  182 non-null    object \n",
      " 2   continent     177 non-null    object \n",
      " 3   2010          182 non-null    float64\n",
      " 4   2011          182 non-null    float64\n",
      " 5   2012          182 non-null    float64\n",
      " 6   2013          182 non-null    float64\n",
      " 7   2014          182 non-null    float64\n",
      " 8   2015          182 non-null    float64\n",
      " 9   2016          182 non-null    float64\n",
      " 10  2017          182 non-null    float64\n",
      " 11  2018          182 non-null    float64\n",
      " 12  2019          182 non-null    float64\n",
      " 13  2020          182 non-null    float64\n",
      " 14  2021          182 non-null    float64\n",
      "dtypes: float64(12), object(3)\n",
      "memory usage: 21.5+ KB\n",
      "None\n",
      "             2010        2011        2012        2013        2014        2015   \n",
      "count  182.000000  182.000000  182.000000  182.000000  182.000000  182.000000  \\\n",
      "mean     8.409286    8.315440    8.317967    8.344780    8.179670    8.058901   \n",
      "std      6.248887    6.266795    6.367270    6.416041    6.284241    6.161170   \n",
      "min      0.450000    0.320000    0.480000    0.250000    0.200000    0.170000   \n",
      "25%      4.015000    3.775000    3.742500    3.692500    3.625000    3.662500   \n",
      "50%      6.965000    6.805000    6.690000    6.395000    6.450000    6.170000   \n",
      "75%     10.957500   11.045000   11.285000   11.310000   10.695000   10.215000   \n",
      "max     32.020000   31.380000   31.020000   29.000000   28.030000   27.690000   \n",
      "\n",
      "             2016        2017        2018        2019        2020        2021  \n",
      "count  182.000000  182.000000  182.000000  182.000000  182.000000  182.000000  \n",
      "mean     7.925879    7.668626    7.426429    7.243736    8.420934    8.390879  \n",
      "std      6.045439    5.902152    5.818915    5.696573    6.040915    6.067192  \n",
      "min      0.150000    0.140000    0.110000    0.100000    0.210000    0.260000  \n",
      "25%      3.800000    3.690000    3.625000    3.487500    4.285000    4.335000  \n",
      "50%      5.925000    5.650000    5.375000    5.240000    6.695000    6.425000  \n",
      "75%     10.245000   10.315000    9.257500    9.445000   11.155000   10.840000  \n",
      "max     26.540000   27.040000   26.910000   28.470000   29.220000   33.560000  \n"
     ]
    }
   ],
   "source": [
    "# Print the first five rows of unemployment\n",
    "print(unemployment.head())\n",
    "print(unemployment.info())\n",
    "print(unemployment.describe())"
   ]
  },
  {
   "cell_type": "code",
   "execution_count": 3,
   "id": "169465eb-32d0-46e7-a25c-c3297850ad51",
   "metadata": {},
   "outputs": [
    {
     "name": "stdout",
     "output_type": "stream",
     "text": [
      "continent\n",
      "Africa           53\n",
      "Asia             47\n",
      "Europe           39\n",
      "North America    18\n",
      "South America    12\n",
      "Oceania           8\n",
      "Name: count, dtype: int64\n"
     ]
    }
   ],
   "source": [
    "# Count the values associated with each continent in unemployment\n",
    "print(unemployment['continent'].value_counts())"
   ]
  },
  {
   "cell_type": "code",
   "execution_count": 4,
   "id": "8c37d165-1436-4b61-9b3b-b36256f3fc3d",
   "metadata": {},
   "outputs": [
    {
     "name": "stdout",
     "output_type": "stream",
     "text": [
      "Requirement already satisfied: seaborn in /Users/tiatitisari/opt/anaconda3/lib/python3.8/site-packages (0.12.2)\n",
      "Requirement already satisfied: numpy!=1.24.0,>=1.17 in /Users/tiatitisari/opt/anaconda3/lib/python3.8/site-packages (from seaborn) (1.24.4)\n",
      "Requirement already satisfied: pandas>=0.25 in /Users/tiatitisari/opt/anaconda3/lib/python3.8/site-packages (from seaborn) (2.0.0)\n",
      "Requirement already satisfied: matplotlib!=3.6.1,>=3.1 in /Users/tiatitisari/opt/anaconda3/lib/python3.8/site-packages (from seaborn) (3.7.2)\n",
      "Requirement already satisfied: contourpy>=1.0.1 in /Users/tiatitisari/opt/anaconda3/lib/python3.8/site-packages (from matplotlib!=3.6.1,>=3.1->seaborn) (1.1.0)\n",
      "Requirement already satisfied: cycler>=0.10 in /Users/tiatitisari/opt/anaconda3/lib/python3.8/site-packages (from matplotlib!=3.6.1,>=3.1->seaborn) (0.10.0)\n",
      "Requirement already satisfied: fonttools>=4.22.0 in /Users/tiatitisari/opt/anaconda3/lib/python3.8/site-packages (from matplotlib!=3.6.1,>=3.1->seaborn) (4.42.1)\n",
      "Requirement already satisfied: kiwisolver>=1.0.1 in /Users/tiatitisari/opt/anaconda3/lib/python3.8/site-packages (from matplotlib!=3.6.1,>=3.1->seaborn) (1.2.0)\n",
      "Requirement already satisfied: packaging>=20.0 in /Users/tiatitisari/opt/anaconda3/lib/python3.8/site-packages (from matplotlib!=3.6.1,>=3.1->seaborn) (21.3)\n",
      "Requirement already satisfied: pillow>=6.2.0 in /Users/tiatitisari/opt/anaconda3/lib/python3.8/site-packages (from matplotlib!=3.6.1,>=3.1->seaborn) (7.2.0)\n",
      "Requirement already satisfied: pyparsing<3.1,>=2.3.1 in /Users/tiatitisari/opt/anaconda3/lib/python3.8/site-packages (from matplotlib!=3.6.1,>=3.1->seaborn) (2.4.7)\n",
      "Requirement already satisfied: python-dateutil>=2.7 in /Users/tiatitisari/opt/anaconda3/lib/python3.8/site-packages (from matplotlib!=3.6.1,>=3.1->seaborn) (2.8.2)\n",
      "Requirement already satisfied: importlib-resources>=3.2.0 in /Users/tiatitisari/opt/anaconda3/lib/python3.8/site-packages (from matplotlib!=3.6.1,>=3.1->seaborn) (6.0.0)\n",
      "Requirement already satisfied: pytz>=2020.1 in /Users/tiatitisari/opt/anaconda3/lib/python3.8/site-packages (from pandas>=0.25->seaborn) (2023.3)\n",
      "Requirement already satisfied: tzdata>=2022.1 in /Users/tiatitisari/opt/anaconda3/lib/python3.8/site-packages (from pandas>=0.25->seaborn) (2023.3)\n",
      "Requirement already satisfied: six in /Users/tiatitisari/opt/anaconda3/lib/python3.8/site-packages (from cycler>=0.10->matplotlib!=3.6.1,>=3.1->seaborn) (1.15.0)\n",
      "Requirement already satisfied: zipp>=3.1.0 in /Users/tiatitisari/opt/anaconda3/lib/python3.8/site-packages (from importlib-resources>=3.2.0->matplotlib!=3.6.1,>=3.1->seaborn) (3.1.0)\n",
      "\u001b[33mDEPRECATION: pyodbc 4.0.0-unsupported has a non-standard version number. pip 23.3 will enforce this behaviour change. A possible replacement is to upgrade to a newer version of pyodbc or contact the author to suggest that they release a version with a conforming version number. Discussion can be found at https://github.com/pypa/pip/issues/12063\u001b[0m\u001b[33m\n",
      "\u001b[0m"
     ]
    },
    {
     "data": {
      "image/png": "[encoded data removed]",
      "text/plain": [
       "<Figure size 432x288 with 1 Axes>"
      ]
     },
     "metadata": {
      "needs_background": "light"
     },
     "output_type": "display_data"
    }
   ],
   "source": [
    "# Import the required visualization libraries\n",
    "import seaborn as sns\n",
    "import matplotlib.pyplot as plt\n",
    "!pip3 install seaborn --upgrade\n",
    "\n",
    "# Create a histogram of 2021 unemployment; show a full percent in each bin\n",
    "sns.histplot(x='2021',data=unemployment, binwidth = 1)\n",
    "plt.show()\n"
   ]
  },
  {
   "cell_type": "code",
   "execution_count": 5,
   "id": "f1902eb4-eac3-4f51-a69a-251a1df1b5dd",
   "metadata": {},
   "outputs": [
    {
     "name": "stdout",
     "output_type": "stream",
     "text": [
      "country_code     object\n",
      "country_name     object\n",
      "continent        object\n",
      "2010            float64\n",
      "2011            float64\n",
      "2012            float64\n",
      "2013            float64\n",
      "2014            float64\n",
      "2015            float64\n",
      "2016            float64\n",
      "2017            float64\n",
      "2018            float64\n",
      "2019            float64\n",
      "2020            float64\n",
      "2021            float64\n",
      "dtype: object\n"
     ]
    }
   ],
   "source": [
    "# Update the data type of the 2019 column to a float\n",
    "unemployment[\"2019\"] = unemployment[\"2019\"].astype('float')\n",
    "# Print the dtypes to check your work\n",
    "print(unemployment.dtypes)"
   ]
  },
  {
   "cell_type": "code",
   "execution_count": 6,
   "id": "9a0a5867-8839-43a9-9eab-a6fa450aeb56",
   "metadata": {},
   "outputs": [
    {
     "data": {
      "text/html": [
       "<div>\n",
       "<style scoped>\n",
       "    .dataframe tbody tr th:only-of-type {\n",
       "        vertical-align: middle;\n",
       "    }\n",
       "\n",
       "    .dataframe tbody tr th {\n",
       "        vertical-align: top;\n",
       "    }\n",
       "\n",
       "    .dataframe thead th {\n",
       "        text-align: right;\n",
       "    }\n",
       "</style>\n",
       "<table border=\"1\" class=\"dataframe\">\n",
       "  <thead>\n",
       "    <tr style=\"text-align: right;\">\n",
       "      <th></th>\n",
       "      <th>country_code</th>\n",
       "      <th>country_name</th>\n",
       "      <th>continent</th>\n",
       "      <th>2010</th>\n",
       "      <th>2011</th>\n",
       "      <th>2012</th>\n",
       "      <th>2013</th>\n",
       "      <th>2014</th>\n",
       "      <th>2015</th>\n",
       "      <th>2016</th>\n",
       "      <th>2017</th>\n",
       "      <th>2018</th>\n",
       "      <th>2019</th>\n",
       "      <th>2020</th>\n",
       "      <th>2021</th>\n",
       "    </tr>\n",
       "  </thead>\n",
       "  <tbody>\n",
       "    <tr>\n",
       "      <th>0</th>\n",
       "      <td>AFG</td>\n",
       "      <td>Afghanistan</td>\n",
       "      <td>Asia</td>\n",
       "      <td>11.35</td>\n",
       "      <td>11.05</td>\n",
       "      <td>11.34</td>\n",
       "      <td>11.19</td>\n",
       "      <td>11.14</td>\n",
       "      <td>11.13</td>\n",
       "      <td>11.16</td>\n",
       "      <td>11.18</td>\n",
       "      <td>11.15</td>\n",
       "      <td>11.22</td>\n",
       "      <td>11.71</td>\n",
       "      <td>13.28</td>\n",
       "    </tr>\n",
       "    <tr>\n",
       "      <th>1</th>\n",
       "      <td>AGO</td>\n",
       "      <td>Angola</td>\n",
       "      <td>Africa</td>\n",
       "      <td>9.43</td>\n",
       "      <td>7.36</td>\n",
       "      <td>7.35</td>\n",
       "      <td>7.37</td>\n",
       "      <td>7.37</td>\n",
       "      <td>7.39</td>\n",
       "      <td>7.41</td>\n",
       "      <td>7.41</td>\n",
       "      <td>7.42</td>\n",
       "      <td>7.42</td>\n",
       "      <td>8.33</td>\n",
       "      <td>8.53</td>\n",
       "    </tr>\n",
       "    <tr>\n",
       "      <th>2</th>\n",
       "      <td>ALB</td>\n",
       "      <td>Albania</td>\n",
       "      <td>Europe</td>\n",
       "      <td>14.09</td>\n",
       "      <td>13.48</td>\n",
       "      <td>13.38</td>\n",
       "      <td>15.87</td>\n",
       "      <td>18.05</td>\n",
       "      <td>17.19</td>\n",
       "      <td>15.42</td>\n",
       "      <td>13.62</td>\n",
       "      <td>12.30</td>\n",
       "      <td>11.47</td>\n",
       "      <td>13.33</td>\n",
       "      <td>11.82</td>\n",
       "    </tr>\n",
       "    <tr>\n",
       "      <th>3</th>\n",
       "      <td>ARE</td>\n",
       "      <td>United Arab Emirates</td>\n",
       "      <td>Asia</td>\n",
       "      <td>2.48</td>\n",
       "      <td>2.30</td>\n",
       "      <td>2.18</td>\n",
       "      <td>2.04</td>\n",
       "      <td>1.91</td>\n",
       "      <td>1.77</td>\n",
       "      <td>1.64</td>\n",
       "      <td>2.46</td>\n",
       "      <td>2.35</td>\n",
       "      <td>2.23</td>\n",
       "      <td>3.19</td>\n",
       "      <td>3.36</td>\n",
       "    </tr>\n",
       "    <tr>\n",
       "      <th>4</th>\n",
       "      <td>ARG</td>\n",
       "      <td>Argentina</td>\n",
       "      <td>South America</td>\n",
       "      <td>7.71</td>\n",
       "      <td>7.18</td>\n",
       "      <td>7.22</td>\n",
       "      <td>7.10</td>\n",
       "      <td>7.27</td>\n",
       "      <td>7.52</td>\n",
       "      <td>8.11</td>\n",
       "      <td>8.35</td>\n",
       "      <td>9.22</td>\n",
       "      <td>9.84</td>\n",
       "      <td>11.46</td>\n",
       "      <td>10.90</td>\n",
       "    </tr>\n",
       "    <tr>\n",
       "      <th>...</th>\n",
       "      <td>...</td>\n",
       "      <td>...</td>\n",
       "      <td>...</td>\n",
       "      <td>...</td>\n",
       "      <td>...</td>\n",
       "      <td>...</td>\n",
       "      <td>...</td>\n",
       "      <td>...</td>\n",
       "      <td>...</td>\n",
       "      <td>...</td>\n",
       "      <td>...</td>\n",
       "      <td>...</td>\n",
       "      <td>...</td>\n",
       "      <td>...</td>\n",
       "      <td>...</td>\n",
       "    </tr>\n",
       "    <tr>\n",
       "      <th>175</th>\n",
       "      <td>VNM</td>\n",
       "      <td>Vietnam</td>\n",
       "      <td>Asia</td>\n",
       "      <td>1.11</td>\n",
       "      <td>1.00</td>\n",
       "      <td>1.03</td>\n",
       "      <td>1.32</td>\n",
       "      <td>1.26</td>\n",
       "      <td>1.85</td>\n",
       "      <td>1.85</td>\n",
       "      <td>1.87</td>\n",
       "      <td>1.16</td>\n",
       "      <td>2.04</td>\n",
       "      <td>2.39</td>\n",
       "      <td>2.17</td>\n",
       "    </tr>\n",
       "    <tr>\n",
       "      <th>178</th>\n",
       "      <td>YEM</td>\n",
       "      <td>Yemen, Rep.</td>\n",
       "      <td>Asia</td>\n",
       "      <td>12.83</td>\n",
       "      <td>13.23</td>\n",
       "      <td>13.17</td>\n",
       "      <td>13.27</td>\n",
       "      <td>13.47</td>\n",
       "      <td>13.77</td>\n",
       "      <td>13.43</td>\n",
       "      <td>13.30</td>\n",
       "      <td>13.15</td>\n",
       "      <td>13.06</td>\n",
       "      <td>13.39</td>\n",
       "      <td>13.57</td>\n",
       "    </tr>\n",
       "    <tr>\n",
       "      <th>179</th>\n",
       "      <td>ZAF</td>\n",
       "      <td>South Africa</td>\n",
       "      <td>Africa</td>\n",
       "      <td>24.68</td>\n",
       "      <td>24.64</td>\n",
       "      <td>24.73</td>\n",
       "      <td>24.56</td>\n",
       "      <td>24.89</td>\n",
       "      <td>25.15</td>\n",
       "      <td>26.54</td>\n",
       "      <td>27.04</td>\n",
       "      <td>26.91</td>\n",
       "      <td>28.47</td>\n",
       "      <td>29.22</td>\n",
       "      <td>33.56</td>\n",
       "    </tr>\n",
       "    <tr>\n",
       "      <th>180</th>\n",
       "      <td>ZMB</td>\n",
       "      <td>Zambia</td>\n",
       "      <td>Africa</td>\n",
       "      <td>13.19</td>\n",
       "      <td>10.55</td>\n",
       "      <td>7.85</td>\n",
       "      <td>8.61</td>\n",
       "      <td>9.36</td>\n",
       "      <td>10.13</td>\n",
       "      <td>10.87</td>\n",
       "      <td>11.63</td>\n",
       "      <td>12.01</td>\n",
       "      <td>12.52</td>\n",
       "      <td>12.85</td>\n",
       "      <td>13.03</td>\n",
       "    </tr>\n",
       "    <tr>\n",
       "      <th>181</th>\n",
       "      <td>ZWE</td>\n",
       "      <td>Zimbabwe</td>\n",
       "      <td>Africa</td>\n",
       "      <td>5.21</td>\n",
       "      <td>5.37</td>\n",
       "      <td>5.15</td>\n",
       "      <td>4.98</td>\n",
       "      <td>4.77</td>\n",
       "      <td>4.78</td>\n",
       "      <td>4.79</td>\n",
       "      <td>4.78</td>\n",
       "      <td>4.80</td>\n",
       "      <td>4.83</td>\n",
       "      <td>5.35</td>\n",
       "      <td>5.17</td>\n",
       "    </tr>\n",
       "  </tbody>\n",
       "</table>\n",
       "<p>174 rows × 15 columns</p>\n",
       "</div>"
      ],
      "text/plain": [
       "    country_code          country_name      continent   2010   2011   2012   \n",
       "0            AFG           Afghanistan           Asia  11.35  11.05  11.34  \\\n",
       "1            AGO                Angola         Africa   9.43   7.36   7.35   \n",
       "2            ALB               Albania         Europe  14.09  13.48  13.38   \n",
       "3            ARE  United Arab Emirates           Asia   2.48   2.30   2.18   \n",
       "4            ARG             Argentina  South America   7.71   7.18   7.22   \n",
       "..           ...                   ...            ...    ...    ...    ...   \n",
       "175          VNM               Vietnam           Asia   1.11   1.00   1.03   \n",
       "178          YEM           Yemen, Rep.           Asia  12.83  13.23  13.17   \n",
       "179          ZAF          South Africa         Africa  24.68  24.64  24.73   \n",
       "180          ZMB                Zambia         Africa  13.19  10.55   7.85   \n",
       "181          ZWE              Zimbabwe         Africa   5.21   5.37   5.15   \n",
       "\n",
       "      2013   2014   2015   2016   2017   2018   2019   2020   2021  \n",
       "0    11.19  11.14  11.13  11.16  11.18  11.15  11.22  11.71  13.28  \n",
       "1     7.37   7.37   7.39   7.41   7.41   7.42   7.42   8.33   8.53  \n",
       "2    15.87  18.05  17.19  15.42  13.62  12.30  11.47  13.33  11.82  \n",
       "3     2.04   1.91   1.77   1.64   2.46   2.35   2.23   3.19   3.36  \n",
       "4     7.10   7.27   7.52   8.11   8.35   9.22   9.84  11.46  10.90  \n",
       "..     ...    ...    ...    ...    ...    ...    ...    ...    ...  \n",
       "175   1.32   1.26   1.85   1.85   1.87   1.16   2.04   2.39   2.17  \n",
       "178  13.27  13.47  13.77  13.43  13.30  13.15  13.06  13.39  13.57  \n",
       "179  24.56  24.89  25.15  26.54  27.04  26.91  28.47  29.22  33.56  \n",
       "180   8.61   9.36  10.13  10.87  11.63  12.01  12.52  12.85  13.03  \n",
       "181   4.98   4.77   4.78   4.79   4.78   4.80   4.83   5.35   5.17  \n",
       "\n",
       "[174 rows x 15 columns]"
      ]
     },
     "execution_count": 6,
     "metadata": {},
     "output_type": "execute_result"
    }
   ],
   "source": [
    "# Define a Series describing whether each continent is outside of Oceania\n",
    "not_oceania = ~unemployment['continent'].isin(['Oceania'])\n",
    "# unemployment[unemployment.index !=not_oceania]\n",
    "unemployment[not_oceania]\n"
   ]
  },
  {
   "cell_type": "code",
   "execution_count": 7,
   "id": "d0aeccd3-44e3-4b4a-9b1b-74ec606f27dd",
   "metadata": {},
   "outputs": [
    {
     "name": "stdout",
     "output_type": "stream",
     "text": [
      "    country_code          country_name      continent   2010   2011   2012   \n",
      "0            AFG           Afghanistan           Asia  11.35  11.05  11.34  \\\n",
      "1            AGO                Angola         Africa   9.43   7.36   7.35   \n",
      "2            ALB               Albania         Europe  14.09  13.48  13.38   \n",
      "3            ARE  United Arab Emirates           Asia   2.48   2.30   2.18   \n",
      "4            ARG             Argentina  South America   7.71   7.18   7.22   \n",
      "..           ...                   ...            ...    ...    ...    ...   \n",
      "175          VNM               Vietnam           Asia   1.11   1.00   1.03   \n",
      "178          YEM           Yemen, Rep.           Asia  12.83  13.23  13.17   \n",
      "179          ZAF          South Africa         Africa  24.68  24.64  24.73   \n",
      "180          ZMB                Zambia         Africa  13.19  10.55   7.85   \n",
      "181          ZWE              Zimbabwe         Africa   5.21   5.37   5.15   \n",
      "\n",
      "      2013   2014   2015   2016   2017   2018   2019   2020   2021  \n",
      "0    11.19  11.14  11.13  11.16  11.18  11.15  11.22  11.71  13.28  \n",
      "1     7.37   7.37   7.39   7.41   7.41   7.42   7.42   8.33   8.53  \n",
      "2    15.87  18.05  17.19  15.42  13.62  12.30  11.47  13.33  11.82  \n",
      "3     2.04   1.91   1.77   1.64   2.46   2.35   2.23   3.19   3.36  \n",
      "4     7.10   7.27   7.52   8.11   8.35   9.22   9.84  11.46  10.90  \n",
      "..     ...    ...    ...    ...    ...    ...    ...    ...    ...  \n",
      "175   1.32   1.26   1.85   1.85   1.87   1.16   2.04   2.39   2.17  \n",
      "178  13.27  13.47  13.77  13.43  13.30  13.15  13.06  13.39  13.57  \n",
      "179  24.56  24.89  25.15  26.54  27.04  26.91  28.47  29.22  33.56  \n",
      "180   8.61   9.36  10.13  10.87  11.63  12.01  12.52  12.85  13.03  \n",
      "181   4.98   4.77   4.78   4.79   4.78   4.80   4.83   5.35   5.17  \n",
      "\n",
      "[174 rows x 15 columns]\n"
     ]
    }
   ],
   "source": [
    "# Define a Series describing whether each continent is outside of Oceania\n",
    "not_oceania = ~unemployment[\"continent\"].isin([\"Oceania\"])\n",
    "\n",
    "# Print unemployment without records related to countries in Oceania\n",
    "print(unemployment[not_oceania])\n"
   ]
  },
  {
   "cell_type": "code",
   "execution_count": 8,
   "id": "b4ccd951-1cd0-404e-b19f-d9f80e4e9f93",
   "metadata": {},
   "outputs": [
    {
     "data": {
      "text/html": [
       "<div>\n",
       "<style scoped>\n",
       "    .dataframe tbody tr th:only-of-type {\n",
       "        vertical-align: middle;\n",
       "    }\n",
       "\n",
       "    .dataframe tbody tr th {\n",
       "        vertical-align: top;\n",
       "    }\n",
       "\n",
       "    .dataframe thead th {\n",
       "        text-align: right;\n",
       "    }\n",
       "</style>\n",
       "<table border=\"1\" class=\"dataframe\">\n",
       "  <thead>\n",
       "    <tr style=\"text-align: right;\">\n",
       "      <th></th>\n",
       "      <th>country_code</th>\n",
       "      <th>country_name</th>\n",
       "      <th>continent</th>\n",
       "      <th>2010</th>\n",
       "      <th>2011</th>\n",
       "      <th>2012</th>\n",
       "      <th>2013</th>\n",
       "      <th>2014</th>\n",
       "      <th>2015</th>\n",
       "      <th>2016</th>\n",
       "      <th>2017</th>\n",
       "      <th>2018</th>\n",
       "      <th>2019</th>\n",
       "      <th>2020</th>\n",
       "      <th>2021</th>\n",
       "    </tr>\n",
       "  </thead>\n",
       "  <tbody>\n",
       "    <tr>\n",
       "      <th>0</th>\n",
       "      <td>AFG</td>\n",
       "      <td>Afghanistan</td>\n",
       "      <td>Asia</td>\n",
       "      <td>11.35</td>\n",
       "      <td>11.05</td>\n",
       "      <td>11.34</td>\n",
       "      <td>11.19</td>\n",
       "      <td>11.14</td>\n",
       "      <td>11.13</td>\n",
       "      <td>11.16</td>\n",
       "      <td>11.18</td>\n",
       "      <td>11.15</td>\n",
       "      <td>11.22</td>\n",
       "      <td>11.71</td>\n",
       "      <td>13.28</td>\n",
       "    </tr>\n",
       "    <tr>\n",
       "      <th>1</th>\n",
       "      <td>AGO</td>\n",
       "      <td>Angola</td>\n",
       "      <td>Africa</td>\n",
       "      <td>9.43</td>\n",
       "      <td>7.36</td>\n",
       "      <td>7.35</td>\n",
       "      <td>7.37</td>\n",
       "      <td>7.37</td>\n",
       "      <td>7.39</td>\n",
       "      <td>7.41</td>\n",
       "      <td>7.41</td>\n",
       "      <td>7.42</td>\n",
       "      <td>7.42</td>\n",
       "      <td>8.33</td>\n",
       "      <td>8.53</td>\n",
       "    </tr>\n",
       "    <tr>\n",
       "      <th>2</th>\n",
       "      <td>ALB</td>\n",
       "      <td>Albania</td>\n",
       "      <td>Europe</td>\n",
       "      <td>14.09</td>\n",
       "      <td>13.48</td>\n",
       "      <td>13.38</td>\n",
       "      <td>15.87</td>\n",
       "      <td>18.05</td>\n",
       "      <td>17.19</td>\n",
       "      <td>15.42</td>\n",
       "      <td>13.62</td>\n",
       "      <td>12.30</td>\n",
       "      <td>11.47</td>\n",
       "      <td>13.33</td>\n",
       "      <td>11.82</td>\n",
       "    </tr>\n",
       "    <tr>\n",
       "      <th>3</th>\n",
       "      <td>ARE</td>\n",
       "      <td>United Arab Emirates</td>\n",
       "      <td>Asia</td>\n",
       "      <td>2.48</td>\n",
       "      <td>2.30</td>\n",
       "      <td>2.18</td>\n",
       "      <td>2.04</td>\n",
       "      <td>1.91</td>\n",
       "      <td>1.77</td>\n",
       "      <td>1.64</td>\n",
       "      <td>2.46</td>\n",
       "      <td>2.35</td>\n",
       "      <td>2.23</td>\n",
       "      <td>3.19</td>\n",
       "      <td>3.36</td>\n",
       "    </tr>\n",
       "    <tr>\n",
       "      <th>4</th>\n",
       "      <td>ARG</td>\n",
       "      <td>Argentina</td>\n",
       "      <td>South America</td>\n",
       "      <td>7.71</td>\n",
       "      <td>7.18</td>\n",
       "      <td>7.22</td>\n",
       "      <td>7.10</td>\n",
       "      <td>7.27</td>\n",
       "      <td>7.52</td>\n",
       "      <td>8.11</td>\n",
       "      <td>8.35</td>\n",
       "      <td>9.22</td>\n",
       "      <td>9.84</td>\n",
       "      <td>11.46</td>\n",
       "      <td>10.90</td>\n",
       "    </tr>\n",
       "  </tbody>\n",
       "</table>\n",
       "</div>"
      ],
      "text/plain": [
       "  country_code          country_name      continent   2010   2011   2012   \n",
       "0          AFG           Afghanistan           Asia  11.35  11.05  11.34  \\\n",
       "1          AGO                Angola         Africa   9.43   7.36   7.35   \n",
       "2          ALB               Albania         Europe  14.09  13.48  13.38   \n",
       "3          ARE  United Arab Emirates           Asia   2.48   2.30   2.18   \n",
       "4          ARG             Argentina  South America   7.71   7.18   7.22   \n",
       "\n",
       "    2013   2014   2015   2016   2017   2018   2019   2020   2021  \n",
       "0  11.19  11.14  11.13  11.16  11.18  11.15  11.22  11.71  13.28  \n",
       "1   7.37   7.37   7.39   7.41   7.41   7.42   7.42   8.33   8.53  \n",
       "2  15.87  18.05  17.19  15.42  13.62  12.30  11.47  13.33  11.82  \n",
       "3   2.04   1.91   1.77   1.64   2.46   2.35   2.23   3.19   3.36  \n",
       "4   7.10   7.27   7.52   8.11   8.35   9.22   9.84  11.46  10.90  "
      ]
     },
     "execution_count": 8,
     "metadata": {},
     "output_type": "execute_result"
    }
   ],
   "source": [
    "unemployment.head()\n"
   ]
  },
  {
   "cell_type": "code",
   "execution_count": 9,
   "id": "ea747c48-eeec-49eb-9a33-714bc572d873",
   "metadata": {},
   "outputs": [
    {
     "name": "stdout",
     "output_type": "stream",
     "text": [
      "0.26 33.56\n"
     ]
    },
    {
     "data": {
      "image/png": "[encoded data removed]",
      "text/plain": [
       "<Figure size 432x288 with 1 Axes>"
      ]
     },
     "metadata": {
      "needs_background": "light"
     },
     "output_type": "display_data"
    }
   ],
   "source": [
    "# Print the minimum and maximum unemployment rates during 2021\n",
    "print(unemployment['2021'].min(), unemployment['2021'].max())\n",
    "\n",
    "# Create a boxplot of 2021 unemployment rates, broken down by continent\n",
    "sns.boxplot(x='2021', y = 'continent', data = unemployment)\n",
    "plt.show()"
   ]
  },
  {
   "cell_type": "code",
   "execution_count": 10,
   "id": "fd5ea714-e2b2-4414-a979-8fa1b2c18d94",
   "metadata": {},
   "outputs": [
    {
     "name": "stdout",
     "output_type": "stream",
     "text": [
      "2010    8.409286\n",
      "2011    8.315440\n",
      "2012    8.317967\n",
      "2013    8.344780\n",
      "2014    8.179670\n",
      "2015    8.058901\n",
      "2016    7.925879\n",
      "2017    7.668626\n",
      "2018    7.426429\n",
      "2019    7.243736\n",
      "2020    8.420934\n",
      "2021    8.390879\n",
      "dtype: float64\n",
      "2010    6.248887\n",
      "2011    6.266795\n",
      "2012    6.367270\n",
      "2013    6.416041\n",
      "2014    6.284241\n",
      "2015    6.161170\n",
      "2016    6.045439\n",
      "2017    5.902152\n",
      "2018    5.818915\n",
      "2019    5.696573\n",
      "2020    6.040915\n",
      "2021    6.067192\n",
      "dtype: float64\n"
     ]
    }
   ],
   "source": [
    "# Print the mean and standard deviation of rates by year\n",
    "print(unemployment.mean(numeric_only=True))\n",
    "print(unemployment.std(numeric_only=True))"
   ]
  },
  {
   "cell_type": "code",
   "execution_count": 11,
   "id": "b9b13fc6-43ab-4329-90e0-2a2e2dd0e976",
   "metadata": {},
   "outputs": [
    {
     "name": "stdout",
     "output_type": "stream",
     "text": [
      "                    2010       2011       2012       2013       2014   \n",
      "continent                                                              \n",
      "Africa          9.343585   9.369245   9.240755   9.132453   9.121321  \\\n",
      "Asia            6.240638   5.942128   5.835319   5.852128   5.853191   \n",
      "Europe         11.008205  10.947949  11.325641  11.466667  10.971282   \n",
      "North America   8.663333   8.563333   8.448889   8.840556   8.512222   \n",
      "Oceania         3.622500   3.647500   4.103750   3.980000   3.976250   \n",
      "South America   6.870833   6.518333   6.410833   6.335000   6.347500   \n",
      "\n",
      "                    2015      2016      2017      2018      2019       2020   \n",
      "continent                                                                     \n",
      "Africa          9.222075  9.277547  9.284528  9.237925  9.264340  10.307736  \\\n",
      "Asia            5.967447  6.094894  6.171277  6.090213  5.949149   7.012340   \n",
      "Europe         10.301282  9.394615  8.359744  7.427436  6.764359   7.470513   \n",
      "North America   8.098889  7.941111  7.391111  7.281111  7.095000   9.297778   \n",
      "Oceania         3.985000  3.877500  3.872500  3.851250  3.773750   4.273750   \n",
      "South America   6.610000  7.230833  7.281667  7.496667  7.719167  10.275000   \n",
      "\n",
      "                    2021  \n",
      "continent                 \n",
      "Africa         10.473585  \n",
      "Asia            6.906170  \n",
      "Europe          7.414872  \n",
      "North America   9.155000  \n",
      "Oceania         4.280000  \n",
      "South America   9.924167  \n",
      "                   2010      2011      2012      2013      2014      2015   \n",
      "continent                                                                   \n",
      "Africa         7.411259  7.401556  7.264542  7.309285  7.291359  7.349323  \\\n",
      "Asia           5.146175  4.779575  4.756904  4.668405  4.681301  4.893860   \n",
      "Europe         6.392063  6.539538  7.003527  6.969209  6.759765  6.355756   \n",
      "North America  5.115805  5.377041  5.495819  6.081829  5.801927  5.616448   \n",
      "Oceania        2.054721  2.008466  2.723118  2.640119  2.659205  2.569441   \n",
      "South America  2.807058  2.801577  2.936508  2.808780  2.834332  2.837127   \n",
      "\n",
      "                   2016      2017      2018      2019      2020      2021  \n",
      "continent                                                                  \n",
      "Africa         7.459439  7.407620  7.358425  7.455293  7.928166  8.131636  \n",
      "Asia           5.051796  5.277201  5.409128  5.254008  5.699609  5.414745  \n",
      "Europe         5.822793  5.177845  4.738206  4.124734  4.071218  3.947825  \n",
      "North America  5.503090  5.326446  5.253180  4.770490  4.963045  5.076482  \n",
      "Oceania        2.477866  2.492834  2.455893  2.369068  2.617490  2.671522  \n",
      "South America  3.052309  3.398994  3.408856  3.379845  3.411263  3.611624  \n"
     ]
    }
   ],
   "source": [
    "# Print yearly mean and standard deviation grouped by continent\n",
    "print(unemployment.groupby('continent').mean(numeric_only=True))\n",
    "print(unemployment.groupby('continent').std(numeric_only=True))"
   ]
  },
  {
   "cell_type": "code",
   "execution_count": 12,
   "id": "6bd5ee1c-5988-4250-ab97-4dcdf5da34b6",
   "metadata": {},
   "outputs": [
    {
     "name": "stdout",
     "output_type": "stream",
     "text": [
      "               mean_rate_2021  std_rate_2021\n",
      "continent                                   \n",
      "Africa              10.473585       8.131636\n",
      "Asia                 6.906170       5.414745\n",
      "Europe               7.414872       3.947825\n",
      "North America        9.155000       5.076482\n",
      "Oceania              4.280000       2.671522\n",
      "South America        9.924167       3.611624\n"
     ]
    }
   ],
   "source": [
    "continent_summary = unemployment.groupby(\"continent\").agg(\n",
    "    # Create the mean_rate_2021 column\n",
    "    mean_rate_2021 = ('2021','mean'),\n",
    "    # Create the std_rate_2021 column\n",
    "    std_rate_2021 = ('2021','std') \n",
    ")\n",
    "print(continent_summary)"
   ]
  },
  {
   "cell_type": "code",
   "execution_count": 13,
   "id": "fbf27bf4-19e1-4c64-aa1e-9254892fad85",
   "metadata": {},
   "outputs": [
    {
     "data": {
      "image/png": "[encoded data removed]",
      "text/plain": [
       "<Figure size 432x288 with 1 Axes>"
      ]
     },
     "metadata": {
      "needs_background": "light"
     },
     "output_type": "display_data"
    }
   ],
   "source": [
    "# Create a bar plot of continents and their average unemployment\n",
    "sns.barplot(x='continent', y = '2021', data=unemployment)\n",
    "plt.show()"
   ]
  },
  {
   "cell_type": "code",
   "execution_count": 14,
   "id": "7e004ea8-21f6-469a-87c8-865eeb0f4d3a",
   "metadata": {},
   "outputs": [
    {
     "name": "stdout",
     "output_type": "stream",
     "text": [
      "Airline            427\n",
      "Date_of_Journey    322\n",
      "Source             187\n",
      "Destination        347\n",
      "Route              256\n",
      "Dep_Time           260\n",
      "Arrival_Time       194\n",
      "Duration           214\n",
      "Total_Stops        212\n",
      "Additional_Info    589\n",
      "Price              616\n",
      "dtype: int64\n"
     ]
    }
   ],
   "source": [
    "# Count the number of missing values in each column\n",
    "print(planes.isna().sum())"
   ]
  },
  {
   "cell_type": "code",
   "execution_count": 15,
   "id": "0eca6ac8-a95e-46a3-b101-c87b0d67b8d8",
   "metadata": {},
   "outputs": [
    {
     "name": "stdout",
     "output_type": "stream",
     "text": [
      "Airline            427\n",
      "Date_of_Journey    322\n",
      "Source             187\n",
      "Destination        347\n",
      "Route              256\n",
      "Dep_Time           260\n",
      "Arrival_Time       194\n",
      "Duration           214\n",
      "Total_Stops        212\n",
      "Additional_Info    589\n",
      "Price              616\n",
      "dtype: int64\n",
      "Airline              0\n",
      "Date_of_Journey      0\n",
      "Source               0\n",
      "Destination          0\n",
      "Route                0\n",
      "Dep_Time             0\n",
      "Arrival_Time         0\n",
      "Duration             0\n",
      "Total_Stops          0\n",
      "Additional_Info    300\n",
      "Price              368\n",
      "dtype: int64\n"
     ]
    }
   ],
   "source": [
    "# Count the number of missing values in each column\n",
    "print(planes.isna().sum())\n",
    "\n",
    "# Find the five percent threshold\n",
    "threshold = len(planes) * 0.05\n",
    "\n",
    "# Create a filter\n",
    "cols_to_drop = planes.columns[planes.isna().sum() <= threshold]\n",
    "\n",
    "# Drop missing values for columns below the threshold\n",
    "planes.dropna(subset=cols_to_drop, inplace=True)\n",
    "\n",
    "print(planes.isna().sum())"
   ]
  },
  {
   "cell_type": "code",
   "execution_count": 16,
   "id": "c50472d4-1a69-4d49-91d8-7d866b2821d8",
   "metadata": {},
   "outputs": [
    {
     "data": {
      "text/html": [
       "<div>\n",
       "<style scoped>\n",
       "    .dataframe tbody tr th:only-of-type {\n",
       "        vertical-align: middle;\n",
       "    }\n",
       "\n",
       "    .dataframe tbody tr th {\n",
       "        vertical-align: top;\n",
       "    }\n",
       "\n",
       "    .dataframe thead th {\n",
       "        text-align: right;\n",
       "    }\n",
       "</style>\n",
       "<table border=\"1\" class=\"dataframe\">\n",
       "  <thead>\n",
       "    <tr style=\"text-align: right;\">\n",
       "      <th></th>\n",
       "      <th>Airline</th>\n",
       "      <th>Date_of_Journey</th>\n",
       "      <th>Source</th>\n",
       "      <th>Destination</th>\n",
       "      <th>Route</th>\n",
       "      <th>Dep_Time</th>\n",
       "      <th>Arrival_Time</th>\n",
       "      <th>Duration</th>\n",
       "      <th>Total_Stops</th>\n",
       "      <th>Additional_Info</th>\n",
       "      <th>Price</th>\n",
       "    </tr>\n",
       "  </thead>\n",
       "  <tbody>\n",
       "    <tr>\n",
       "      <th>0</th>\n",
       "      <td>Jet Airways</td>\n",
       "      <td>9/06/2019</td>\n",
       "      <td>Delhi</td>\n",
       "      <td>Cochin</td>\n",
       "      <td>DEL → LKO → BOM → COK</td>\n",
       "      <td>09:25</td>\n",
       "      <td>04:25 10 Jun</td>\n",
       "      <td>19h</td>\n",
       "      <td>2 stops</td>\n",
       "      <td>No info</td>\n",
       "      <td>13882.0</td>\n",
       "    </tr>\n",
       "    <tr>\n",
       "      <th>1</th>\n",
       "      <td>IndiGo</td>\n",
       "      <td>12/05/2019</td>\n",
       "      <td>Kolkata</td>\n",
       "      <td>Banglore</td>\n",
       "      <td>CCU → NAG → BLR</td>\n",
       "      <td>18:05</td>\n",
       "      <td>23:30</td>\n",
       "      <td>5h 25m</td>\n",
       "      <td>1 stop</td>\n",
       "      <td>No info</td>\n",
       "      <td>6218.0</td>\n",
       "    </tr>\n",
       "    <tr>\n",
       "      <th>2</th>\n",
       "      <td>IndiGo</td>\n",
       "      <td>01/03/2019</td>\n",
       "      <td>Banglore</td>\n",
       "      <td>New Delhi</td>\n",
       "      <td>BLR → NAG → DEL</td>\n",
       "      <td>16:50</td>\n",
       "      <td>21:35</td>\n",
       "      <td>4h 45m</td>\n",
       "      <td>1 stop</td>\n",
       "      <td>No info</td>\n",
       "      <td>13302.0</td>\n",
       "    </tr>\n",
       "    <tr>\n",
       "      <th>3</th>\n",
       "      <td>SpiceJet</td>\n",
       "      <td>24/06/2019</td>\n",
       "      <td>Kolkata</td>\n",
       "      <td>Banglore</td>\n",
       "      <td>CCU → BLR</td>\n",
       "      <td>09:00</td>\n",
       "      <td>11:25</td>\n",
       "      <td>2h 25m</td>\n",
       "      <td>non-stop</td>\n",
       "      <td>No info</td>\n",
       "      <td>3873.0</td>\n",
       "    </tr>\n",
       "    <tr>\n",
       "      <th>4</th>\n",
       "      <td>Jet Airways</td>\n",
       "      <td>12/03/2019</td>\n",
       "      <td>Banglore</td>\n",
       "      <td>New Delhi</td>\n",
       "      <td>BLR → BOM → DEL</td>\n",
       "      <td>18:55</td>\n",
       "      <td>10:25 13 Mar</td>\n",
       "      <td>15h 30m</td>\n",
       "      <td>1 stop</td>\n",
       "      <td>In-flight meal not included</td>\n",
       "      <td>11087.0</td>\n",
       "    </tr>\n",
       "  </tbody>\n",
       "</table>\n",
       "</div>"
      ],
      "text/plain": [
       "       Airline Date_of_Journey    Source Destination                  Route   \n",
       "0  Jet Airways       9/06/2019     Delhi      Cochin  DEL → LKO → BOM → COK  \\\n",
       "1       IndiGo      12/05/2019   Kolkata    Banglore        CCU → NAG → BLR   \n",
       "2       IndiGo      01/03/2019  Banglore   New Delhi        BLR → NAG → DEL   \n",
       "3     SpiceJet      24/06/2019   Kolkata    Banglore              CCU → BLR   \n",
       "4  Jet Airways      12/03/2019  Banglore   New Delhi        BLR → BOM → DEL   \n",
       "\n",
       "  Dep_Time  Arrival_Time Duration Total_Stops              Additional_Info   \n",
       "0    09:25  04:25 10 Jun      19h     2 stops                      No info  \\\n",
       "1    18:05         23:30   5h 25m      1 stop                      No info   \n",
       "2    16:50         21:35   4h 45m      1 stop                      No info   \n",
       "3    09:00         11:25   2h 25m    non-stop                      No info   \n",
       "4    18:55  10:25 13 Mar  15h 30m      1 stop  In-flight meal not included   \n",
       "\n",
       "     Price  \n",
       "0  13882.0  \n",
       "1   6218.0  \n",
       "2  13302.0  \n",
       "3   3873.0  \n",
       "4  11087.0  "
      ]
     },
     "execution_count": 16,
     "metadata": {},
     "output_type": "execute_result"
    }
   ],
   "source": [
    "planes.head()"
   ]
  },
  {
   "cell_type": "code",
   "execution_count": 17,
   "id": "99e577f9-c6d2-473a-b2c6-cf4043f39f3e",
   "metadata": {},
   "outputs": [
    {
     "name": "stdout",
     "output_type": "stream",
     "text": [
      "Additional_Info\n",
      "No info                         6399\n",
      "In-flight meal not included     1525\n",
      "No check-in baggage included     258\n",
      "1 Long layover                    14\n",
      "Change airports                    7\n",
      "No Info                            2\n",
      "Business class                     1\n",
      "Red-eye flight                     1\n",
      "2 Long layover                     1\n",
      "Name: count, dtype: int64\n"
     ]
    },
    {
     "data": {
      "image/png": "[encoded data removed]",
      "text/plain": [
       "<Figure size 432x288 with 1 Axes>"
      ]
     },
     "metadata": {
      "needs_background": "light"
     },
     "output_type": "display_data"
    }
   ],
   "source": [
    "# Check the values of the Additional_Info column\n",
    "print(planes[\"Additional_Info\"].value_counts())\n",
    "\n",
    "# Create a box plot of Price by Airline\n",
    "sns.boxplot(data=planes, x='Airline', y='Price')\n",
    "plt.xticks(rotation = 90)\n",
    "\n",
    "plt.show()"
   ]
  },
  {
   "cell_type": "code",
   "execution_count": 18,
   "id": "641736d1-008d-4dfd-9104-af302888fe9b",
   "metadata": {},
   "outputs": [
    {
     "data": {
      "text/plain": [
       "Airline              0\n",
       "Date_of_Journey      0\n",
       "Source               0\n",
       "Destination          0\n",
       "Route                0\n",
       "Dep_Time             0\n",
       "Arrival_Time         0\n",
       "Duration             0\n",
       "Total_Stops          0\n",
       "Additional_Info    300\n",
       "Price              368\n",
       "dtype: int64"
      ]
     },
     "execution_count": 18,
     "metadata": {},
     "output_type": "execute_result"
    }
   ],
   "source": [
    "planes.isna().sum()"
   ]
  },
  {
   "cell_type": "code",
   "execution_count": 19,
   "id": "22bb6989-b24d-4c60-8154-82aadaa9c5e3",
   "metadata": {},
   "outputs": [],
   "source": [
    "planes.drop(['Additional_Info'],axis=1, inplace = True)"
   ]
  },
  {
   "cell_type": "code",
   "execution_count": 20,
   "id": "8bcbc9d5-79b1-48ed-b283-2a46f966b1e2",
   "metadata": {},
   "outputs": [
    {
     "data": {
      "text/plain": [
       "Airline            0\n",
       "Date_of_Journey    0\n",
       "Source             0\n",
       "Destination        0\n",
       "Route              0\n",
       "Dep_Time           0\n",
       "Arrival_Time       0\n",
       "Duration           0\n",
       "Total_Stops        0\n",
       "Price              0\n",
       "dtype: int64"
      ]
     },
     "execution_count": 20,
     "metadata": {},
     "output_type": "execute_result"
    }
   ],
   "source": [
    "airlines_median = planes.groupby('Airline')['Price'].median().to_dict()\n",
    "# map the data \n",
    "planes['Price']=planes['Price'].fillna(planes['Airline'].map(airlines_median))\n",
    "planes.isna().sum()"
   ]
  },
  {
   "cell_type": "code",
   "execution_count": 21,
   "id": "038be47e-fb2a-46bc-8974-63b23973fcac",
   "metadata": {},
   "outputs": [
    {
     "name": "stdout",
     "output_type": "stream",
     "text": [
      "Number of unique values in Airline column:  8\n",
      "Number of unique values in Date_of_Journey column:  44\n",
      "Number of unique values in Source column:  5\n",
      "Number of unique values in Destination column:  6\n",
      "Number of unique values in Route column:  122\n",
      "Number of unique values in Dep_Time column:  218\n",
      "Number of unique values in Arrival_Time column:  1220\n",
      "Number of unique values in Duration column:  362\n",
      "Number of unique values in Total_Stops column:  5\n"
     ]
    }
   ],
   "source": [
    "# Filter the DataFrame for object columns\n",
    "non_numeric = planes.select_dtypes(\"object\")\n",
    "\n",
    "# Loop through columns\n",
    "for i in non_numeric.columns:\n",
    "    # Print the number of unique values\n",
    "    print(f\"Number of unique values in {i} column: \", non_numeric[i].nunique())"
   ]
  },
  {
   "cell_type": "code",
   "execution_count": 22,
   "id": "9295da8c-2ccd-4df6-a184-818d1885119d",
   "metadata": {},
   "outputs": [
    {
     "data": {
      "text/plain": [
       "0        19h\n",
       "1     5h 25m\n",
       "2     4h 45m\n",
       "3     2h 25m\n",
       "4    15h 30m\n",
       "Name: Duration, dtype: object"
      ]
     },
     "execution_count": 22,
     "metadata": {},
     "output_type": "execute_result"
    }
   ],
   "source": [
    "# Create a list of categories\n",
    "flight_categories = ['Short-haul','Medium','Long-haul']\n",
    "\n",
    "planes[\"Duration\"].head()"
   ]
  },
  {
   "cell_type": "code",
   "execution_count": 23,
   "id": "e7eafaa7-1f53-42fb-a82f-457b23e40d53",
   "metadata": {},
   "outputs": [],
   "source": [
    "# Create a list of categories\n",
    "flight_categories = [\"Short-haul\", \"Medium\", \"Long-haul\"]\n",
    "\n",
    "# Create short_flights\n",
    "short_flights = \"^0h|^1h|^2h|^3h|^4h\"\n",
    "\n",
    "# Create medium_flights\n",
    "medium_flights = \"^5h|^6h|^7h|^8h|^9h\"\n",
    "\n",
    "# Create long_flights\n",
    "long_flights = \"10h|11h|12h|13h|14h|15h|16h\""
   ]
  },
  {
   "cell_type": "code",
   "execution_count": 24,
   "id": "13521704-3683-481a-9c26-36613dc6a5c2",
   "metadata": {},
   "outputs": [
    {
     "data": {
      "image/png": "[encoded data removed]",
      "text/plain": [
       "<Figure size 432x288 with 1 Axes>"
      ]
     },
     "metadata": {
      "needs_background": "light"
     },
     "output_type": "display_data"
    }
   ],
   "source": [
    "# Create conditions for values in flight_categories to be created\n",
    "conditions = [\n",
    "    (planes[\"Duration\"].str.contains(short_flights)),\n",
    "    (planes[\"Duration\"].str.contains(medium_flights)),\n",
    "    (planes[\"Duration\"].str.contains(long_flights))\n",
    "]\n",
    "\n",
    "# Apply the conditions list to the flight_categories\n",
    "planes[\"Duration_Category\"] = np.select(conditions, \n",
    "                                        flight_categories,\n",
    "                                        default=\"Extreme duration\")\n",
    "\n",
    "# Plot the counts of each category\n",
    "sns.countplot(data=planes, x=\"Duration_Category\")\n",
    "plt.show()"
   ]
  },
  {
   "cell_type": "code",
   "execution_count": 25,
   "id": "22c5ac4e-af20-4f32-9d58-a943d35c5fdf",
   "metadata": {},
   "outputs": [
    {
     "data": {
      "text/html": [
       "<div>\n",
       "<style scoped>\n",
       "    .dataframe tbody tr th:only-of-type {\n",
       "        vertical-align: middle;\n",
       "    }\n",
       "\n",
       "    .dataframe tbody tr th {\n",
       "        vertical-align: top;\n",
       "    }\n",
       "\n",
       "    .dataframe thead th {\n",
       "        text-align: right;\n",
       "    }\n",
       "</style>\n",
       "<table border=\"1\" class=\"dataframe\">\n",
       "  <thead>\n",
       "    <tr style=\"text-align: right;\">\n",
       "      <th></th>\n",
       "      <th>Airline</th>\n",
       "      <th>Date_of_Journey</th>\n",
       "      <th>Source</th>\n",
       "      <th>Destination</th>\n",
       "      <th>Route</th>\n",
       "      <th>Dep_Time</th>\n",
       "      <th>Arrival_Time</th>\n",
       "      <th>Duration</th>\n",
       "      <th>Total_Stops</th>\n",
       "      <th>Price</th>\n",
       "      <th>Duration_Category</th>\n",
       "      <th>Total_stops_category</th>\n",
       "    </tr>\n",
       "  </thead>\n",
       "  <tbody>\n",
       "    <tr>\n",
       "      <th>0</th>\n",
       "      <td>Jet Airways</td>\n",
       "      <td>9/06/2019</td>\n",
       "      <td>Delhi</td>\n",
       "      <td>Cochin</td>\n",
       "      <td>DEL → LKO → BOM → COK</td>\n",
       "      <td>09:25</td>\n",
       "      <td>04:25 10 Jun</td>\n",
       "      <td>19h</td>\n",
       "      <td>2 stops</td>\n",
       "      <td>13882.0</td>\n",
       "      <td>Extreme duration</td>\n",
       "      <td>1 or 2</td>\n",
       "    </tr>\n",
       "    <tr>\n",
       "      <th>1</th>\n",
       "      <td>IndiGo</td>\n",
       "      <td>12/05/2019</td>\n",
       "      <td>Kolkata</td>\n",
       "      <td>Banglore</td>\n",
       "      <td>CCU → NAG → BLR</td>\n",
       "      <td>18:05</td>\n",
       "      <td>23:30</td>\n",
       "      <td>5h 25m</td>\n",
       "      <td>1 stop</td>\n",
       "      <td>6218.0</td>\n",
       "      <td>Medium</td>\n",
       "      <td>1 or 2</td>\n",
       "    </tr>\n",
       "    <tr>\n",
       "      <th>2</th>\n",
       "      <td>IndiGo</td>\n",
       "      <td>01/03/2019</td>\n",
       "      <td>Banglore</td>\n",
       "      <td>New Delhi</td>\n",
       "      <td>BLR → NAG → DEL</td>\n",
       "      <td>16:50</td>\n",
       "      <td>21:35</td>\n",
       "      <td>4h 45m</td>\n",
       "      <td>1 stop</td>\n",
       "      <td>13302.0</td>\n",
       "      <td>Short-haul</td>\n",
       "      <td>1 or 2</td>\n",
       "    </tr>\n",
       "    <tr>\n",
       "      <th>3</th>\n",
       "      <td>SpiceJet</td>\n",
       "      <td>24/06/2019</td>\n",
       "      <td>Kolkata</td>\n",
       "      <td>Banglore</td>\n",
       "      <td>CCU → BLR</td>\n",
       "      <td>09:00</td>\n",
       "      <td>11:25</td>\n",
       "      <td>2h 25m</td>\n",
       "      <td>non-stop</td>\n",
       "      <td>3873.0</td>\n",
       "      <td>Short-haul</td>\n",
       "      <td>Direct</td>\n",
       "    </tr>\n",
       "    <tr>\n",
       "      <th>4</th>\n",
       "      <td>Jet Airways</td>\n",
       "      <td>12/03/2019</td>\n",
       "      <td>Banglore</td>\n",
       "      <td>New Delhi</td>\n",
       "      <td>BLR → BOM → DEL</td>\n",
       "      <td>18:55</td>\n",
       "      <td>10:25 13 Mar</td>\n",
       "      <td>15h 30m</td>\n",
       "      <td>1 stop</td>\n",
       "      <td>11087.0</td>\n",
       "      <td>Long-haul</td>\n",
       "      <td>1 or 2</td>\n",
       "    </tr>\n",
       "  </tbody>\n",
       "</table>\n",
       "</div>"
      ],
      "text/plain": [
       "       Airline Date_of_Journey    Source Destination                  Route   \n",
       "0  Jet Airways       9/06/2019     Delhi      Cochin  DEL → LKO → BOM → COK  \\\n",
       "1       IndiGo      12/05/2019   Kolkata    Banglore        CCU → NAG → BLR   \n",
       "2       IndiGo      01/03/2019  Banglore   New Delhi        BLR → NAG → DEL   \n",
       "3     SpiceJet      24/06/2019   Kolkata    Banglore              CCU → BLR   \n",
       "4  Jet Airways      12/03/2019  Banglore   New Delhi        BLR → BOM → DEL   \n",
       "\n",
       "  Dep_Time  Arrival_Time Duration Total_Stops    Price Duration_Category   \n",
       "0    09:25  04:25 10 Jun      19h     2 stops  13882.0  Extreme duration  \\\n",
       "1    18:05         23:30   5h 25m      1 stop   6218.0            Medium   \n",
       "2    16:50         21:35   4h 45m      1 stop  13302.0        Short-haul   \n",
       "3    09:00         11:25   2h 25m    non-stop   3873.0        Short-haul   \n",
       "4    18:55  10:25 13 Mar  15h 30m      1 stop  11087.0         Long-haul   \n",
       "\n",
       "  Total_stops_category  \n",
       "0               1 or 2  \n",
       "1               1 or 2  \n",
       "2               1 or 2  \n",
       "3               Direct  \n",
       "4               1 or 2  "
      ]
     },
     "execution_count": 25,
     "metadata": {},
     "output_type": "execute_result"
    }
   ],
   "source": [
    "planes['Total_Stops'].unique()\n",
    "total_stops_category = ['Direct','1 or 2','3 or 4']\n",
    "\n",
    "direct = \"non-stop\"\n",
    "less_2 = \"^1|^2\"\n",
    "less_4 = \"^3|^4\"\n",
    "\n",
    "## condition ## \n",
    "conditions = [\n",
    "    planes['Total_Stops'].str.contains(direct),\n",
    "    planes['Total_Stops'].str.contains(less_2),\n",
    "    planes['Total_Stops'].str.contains(less_4)\n",
    "]\n",
    "## map into new column \n",
    "\n",
    "planes['Total_stops_category']= np.select(conditions,total_stops_category, default = \"Lots of stops\")\n",
    "\n",
    "planes.head()\n"
   ]
  },
  {
   "cell_type": "code",
   "execution_count": 26,
   "id": "e19d9869-7df8-41d5-9eaf-762d8affae6e",
   "metadata": {},
   "outputs": [
    {
     "name": "stdout",
     "output_type": "stream",
     "text": [
      "0        19h\n",
      "1     5h 25m\n",
      "2     4h 45m\n",
      "3     2h 25m\n",
      "4    15h 30m\n",
      "Name: Duration, dtype: object\n"
     ]
    },
    {
     "data": {
      "image/png": "[encoded data removed]",
      "text/plain": [
       "<Figure size 432x288 with 1 Axes>"
      ]
     },
     "metadata": {
      "needs_background": "light"
     },
     "output_type": "display_data"
    }
   ],
   "source": [
    "# Preview the column\n",
    "print(planes[\"Duration\"].head())\n",
    "\n",
    "# Remove the string character\n",
    "planes[\"Duration\"] = planes[\"Duration\"].str.replace(\"h\", \"\")\n",
    "planes[\"Duration\"] = planes[\"Duration\"].str.replace(\"m\", \"\")\n",
    "planes[\"Duration\"] = planes[\"Duration\"].str.replace(\" \", \".\")\n",
    "\n",
    "# Convert to float data type\n",
    "planes[\"Duration\"] = planes[\"Duration\"].astype(float)\n",
    "\n",
    "# Plot a histogram\n",
    "sns.histplot(x='Duration', data=planes)\n",
    "plt.show()"
   ]
  },
  {
   "cell_type": "code",
   "execution_count": 27,
   "id": "54fe6edd-4665-4bb7-b35a-591c6e8b34ad",
   "metadata": {},
   "outputs": [
    {
     "name": "stdout",
     "output_type": "stream",
     "text": [
      "Airline            airline_price_st_dev\n",
      "Jet Airways        4159.846432             3082\n",
      "IndiGo             2245.529140             1632\n",
      "Air India          3692.609285             1399\n",
      "Multiple carriers  3558.323763              959\n",
      "SpiceJet           1798.900648              653\n",
      "Vistara            2888.915498              376\n",
      "Air Asia           1979.826234              260\n",
      "GoAir              2764.926625              147\n",
      "Name: count, dtype: int64\n"
     ]
    }
   ],
   "source": [
    "# Price standard deviation by Airline\n",
    "planes[\"airline_price_st_dev\"] = planes.groupby(\"Airline\")[\"Price\"].transform(lambda x: x.std())\n",
    "\n",
    "print(planes[[\"Airline\", \"airline_price_st_dev\"]].value_counts())"
   ]
  },
  {
   "cell_type": "code",
   "execution_count": 28,
   "id": "6f45cfc7-feb2-4e47-aede-057efb1ab511",
   "metadata": {},
   "outputs": [
    {
     "name": "stdout",
     "output_type": "stream",
     "text": [
      "Airline            airline_median_duration\n",
      "Jet Airways        13.20                      3082\n",
      "IndiGo             2.55                       1632\n",
      "Air India          15.50                      1399\n",
      "Multiple carriers  10.15                       959\n",
      "SpiceJet           2.30                        653\n",
      "Vistara            3.10                        376\n",
      "Air Asia           2.50                        260\n",
      "GoAir              2.55                        147\n",
      "Name: count, dtype: int64\n"
     ]
    }
   ],
   "source": [
    "# Median Duration by Airline\n",
    "planes[\"airline_median_duration\"] = planes.groupby(\"Airline\")[\"Duration\"].transform(lambda x: x.median())\n",
    "\n",
    "print(planes[[\"Airline\",\"airline_median_duration\"]].value_counts())"
   ]
  },
  {
   "cell_type": "code",
   "execution_count": 29,
   "id": "ea3a7d66-a99f-43e0-85b1-ebdaf405c189",
   "metadata": {},
   "outputs": [
    {
     "name": "stdout",
     "output_type": "stream",
     "text": [
      "Destination  price_destination_mean\n",
      "Cochin       10473.585927              3631\n",
      "Banglore     9093.622872               2291\n",
      "Delhi        5248.541082                998\n",
      "New Delhi    11579.306944               720\n",
      "Hyderabad    5190.274021                562\n",
      "Kolkata      4907.156863                306\n",
      "Name: count, dtype: int64\n"
     ]
    }
   ],
   "source": [
    "# Mean Price by Destination\n",
    "planes[\"price_destination_mean\"] = planes.groupby(\"Destination\")[\"Price\"].transform(lambda x: x.mean())\n",
    "\n",
    "print(planes[[\"Destination\",\"price_destination_mean\"]].value_counts())"
   ]
  },
  {
   "cell_type": "code",
   "execution_count": 30,
   "id": "cfc7e0cd-64c4-4ce7-8b22-6a4c769f31c7",
   "metadata": {},
   "outputs": [
    {
     "data": {
      "text/plain": [
       "Destination\n",
       "Banglore      9093.622872\n",
       "Cochin       10473.585927\n",
       "Delhi         5248.541082\n",
       "Hyderabad     5190.274021\n",
       "Kolkata       4907.156863\n",
       "New Delhi    11579.306944\n",
       "Name: Price, dtype: float64"
      ]
     },
     "execution_count": 30,
     "metadata": {},
     "output_type": "execute_result"
    }
   ],
   "source": [
    "planes.groupby(\"Destination\")[\"Price\"].mean()"
   ]
  },
  {
   "cell_type": "code",
   "execution_count": 31,
   "id": "0ea1db02-e2d0-4a1b-8118-133cce622beb",
   "metadata": {},
   "outputs": [
    {
     "data": {
      "text/html": [
       "<div>\n",
       "<style scoped>\n",
       "    .dataframe tbody tr th:only-of-type {\n",
       "        vertical-align: middle;\n",
       "    }\n",
       "\n",
       "    .dataframe tbody tr th {\n",
       "        vertical-align: top;\n",
       "    }\n",
       "\n",
       "    .dataframe thead th {\n",
       "        text-align: right;\n",
       "    }\n",
       "</style>\n",
       "<table border=\"1\" class=\"dataframe\">\n",
       "  <thead>\n",
       "    <tr style=\"text-align: right;\">\n",
       "      <th></th>\n",
       "      <th>Airline</th>\n",
       "      <th>Date_of_Journey</th>\n",
       "    </tr>\n",
       "  </thead>\n",
       "  <tbody>\n",
       "    <tr>\n",
       "      <th>0</th>\n",
       "      <td>Jet Airways</td>\n",
       "      <td>9/06/2019</td>\n",
       "    </tr>\n",
       "    <tr>\n",
       "      <th>1</th>\n",
       "      <td>IndiGo</td>\n",
       "      <td>12/05/2019</td>\n",
       "    </tr>\n",
       "    <tr>\n",
       "      <th>2</th>\n",
       "      <td>IndiGo</td>\n",
       "      <td>01/03/2019</td>\n",
       "    </tr>\n",
       "    <tr>\n",
       "      <th>4</th>\n",
       "      <td>Jet Airways</td>\n",
       "      <td>12/03/2019</td>\n",
       "    </tr>\n",
       "    <tr>\n",
       "      <th>5</th>\n",
       "      <td>Jet Airways</td>\n",
       "      <td>01/03/2019</td>\n",
       "    </tr>\n",
       "    <tr>\n",
       "      <th>...</th>\n",
       "      <td>...</td>\n",
       "      <td>...</td>\n",
       "    </tr>\n",
       "    <tr>\n",
       "      <th>10644</th>\n",
       "      <td>Jet Airways</td>\n",
       "      <td>12/03/2019</td>\n",
       "    </tr>\n",
       "    <tr>\n",
       "      <th>10645</th>\n",
       "      <td>Jet Airways</td>\n",
       "      <td>9/05/2019</td>\n",
       "    </tr>\n",
       "    <tr>\n",
       "      <th>10649</th>\n",
       "      <td>Jet Airways</td>\n",
       "      <td>27/06/2019</td>\n",
       "    </tr>\n",
       "    <tr>\n",
       "      <th>10650</th>\n",
       "      <td>Jet Airways</td>\n",
       "      <td>27/05/2019</td>\n",
       "    </tr>\n",
       "    <tr>\n",
       "      <th>10651</th>\n",
       "      <td>Jet Airways</td>\n",
       "      <td>12/03/2019</td>\n",
       "    </tr>\n",
       "  </tbody>\n",
       "</table>\n",
       "<p>4714 rows × 2 columns</p>\n",
       "</div>"
      ],
      "text/plain": [
       "           Airline Date_of_Journey\n",
       "0      Jet Airways       9/06/2019\n",
       "1           IndiGo      12/05/2019\n",
       "2           IndiGo      01/03/2019\n",
       "4      Jet Airways      12/03/2019\n",
       "5      Jet Airways      01/03/2019\n",
       "...            ...             ...\n",
       "10644  Jet Airways      12/03/2019\n",
       "10645  Jet Airways       9/05/2019\n",
       "10649  Jet Airways      27/06/2019\n",
       "10650  Jet Airways      27/05/2019\n",
       "10651  Jet Airways      12/03/2019\n",
       "\n",
       "[4714 rows x 2 columns]"
      ]
     },
     "execution_count": 31,
     "metadata": {},
     "output_type": "execute_result"
    }
   ],
   "source": [
    "# subsetting data \n",
    "planes[(planes['Airline']=='Jet Airways')|(planes['Airline']=='IndiGo')]\\\n",
    "[['Airline','Date_of_Journey']]\n"
   ]
  },
  {
   "cell_type": "code",
   "execution_count": 32,
   "id": "6b5ac47d-a8ea-49f3-a818-34b9d25102d0",
   "metadata": {},
   "outputs": [
    {
     "data": {
      "image/png": "[encoded data removed]",
      "text/plain": [
       "<Figure size 432x288 with 1 Axes>"
      ]
     },
     "metadata": {
      "needs_background": "light"
     },
     "output_type": "display_data"
    }
   ],
   "source": [
    "# Plot a histogram of flight prices\n",
    "sns.histplot(x='Price', data=planes)\n",
    "plt.show()"
   ]
  },
  {
   "cell_type": "code",
   "execution_count": 33,
   "id": "c2187ed3-70f6-4c88-acad-309f6474a676",
   "metadata": {},
   "outputs": [
    {
     "data": {
      "text/plain": [
       "23018.5"
      ]
     },
     "execution_count": 33,
     "metadata": {},
     "output_type": "execute_result"
    }
   ],
   "source": [
    "# 1.5*(15.500-2.833)\n",
    "12373+1.5*(12373-5276)"
   ]
  },
  {
   "cell_type": "code",
   "execution_count": 34,
   "id": "ab02777b-fd24-42c2-989b-b38d818ce175",
   "metadata": {},
   "outputs": [],
   "source": [
    "# Find the 75th and 25th percentiles\n",
    "price_seventy_fifth = planes[\"Price\"].quantile(0.75)\n",
    "price_twenty_fifth = planes[\"Price\"].quantile(0.25)\n",
    "# Calculate iqr\n",
    "prices_iqr = price_seventy_fifth - price_twenty_fifth\n",
    "\n",
    "# Calculate the thresholds\n",
    "upper = price_seventy_fifth + (1.5 * prices_iqr)\n",
    "lower = price_twenty_fifth - (1.5 * prices_iqr)"
   ]
  },
  {
   "cell_type": "code",
   "execution_count": 35,
   "id": "c9f22ab2-b762-42e8-a170-89b509448cd9",
   "metadata": {},
   "outputs": [
    {
     "name": "stdout",
     "output_type": "stream",
     "text": [
      "count     8438.000000\n",
      "mean      8877.466046\n",
      "std       4001.838236\n",
      "min       1759.000000\n",
      "25%       5224.000000\n",
      "50%       8372.000000\n",
      "75%      12121.000000\n",
      "max      22270.000000\n",
      "Name: Price, dtype: float64\n"
     ]
    }
   ],
   "source": [
    "# Find the 75th and 25th percentiles\n",
    "price_seventy_fifth = planes[\"Price\"].quantile(0.75)\n",
    "price_twenty_fifth = planes[\"Price\"].quantile(0.25)\n",
    "\n",
    "# Calculate iqr\n",
    "prices_iqr = price_seventy_fifth - price_twenty_fifth\n",
    "\n",
    "# Calculate the thresholds\n",
    "upper = price_seventy_fifth + (1.5 * prices_iqr)\n",
    "lower = price_twenty_fifth - (1.5 * prices_iqr)\n",
    "\n",
    "# Subset the data\n",
    "planes = planes[(planes[\"Price\"] > lower) & (planes[\"Price\"] < upper)]\n",
    "\n",
    "print(planes[\"Price\"].describe())"
   ]
  },
  {
   "cell_type": "code",
   "execution_count": 36,
   "id": "2ead4b2c-d275-4497-8d12-9b66cce6e31c",
   "metadata": {},
   "outputs": [
    {
     "name": "stdout",
     "output_type": "stream",
     "text": [
      "divorce_date         datetime64[ns]\n",
      "dob_man              datetime64[ns]\n",
      "education_man                object\n",
      "income_man                  float64\n",
      "dob_woman            datetime64[ns]\n",
      "education_woman              object\n",
      "income_woman                float64\n",
      "marriage_date        datetime64[ns]\n",
      "marriage_duration           float64\n",
      "num_kids                    float64\n",
      "dtype: object\n"
     ]
    }
   ],
   "source": [
    "# Import divorce.csv, parsing the appropriate columns as dates in the import\n",
    "divorce = pd.read_csv('divorce.csv', parse_dates = ['divorce_date','dob_man','dob_woman','marriage_date'])\n",
    "print(divorce.dtypes)"
   ]
  },
  {
   "cell_type": "code",
   "execution_count": 37,
   "id": "548a92d5-aebe-434e-83af-106bff5a9c59",
   "metadata": {},
   "outputs": [],
   "source": [
    "# Define the marriage_year column\n",
    "divorce[\"marriage_year\"] = divorce['marriage_date'].dt.year"
   ]
  },
  {
   "cell_type": "code",
   "execution_count": 38,
   "id": "80d222ca-c9e8-4303-b813-7b349c3b6270",
   "metadata": {},
   "outputs": [
    {
     "data": {
      "image/png": "[encoded data removed]",
      "text/plain": [
       "<Figure size 432x288 with 1 Axes>"
      ]
     },
     "metadata": {
      "needs_background": "light"
     },
     "output_type": "display_data"
    }
   ],
   "source": [
    "# Create a line plot showing the average number of kids by year\n",
    "# !pip install matplotlib --upgrade\n",
    "# Create a line plot showing the average number of kids by year\n",
    "divorce.plot(x='marriage_duration',y='num_kids',kind = 'scatter')\n",
    "plt.show()"
   ]
  },
  {
   "cell_type": "code",
   "execution_count": 39,
   "id": "31ccd777-595e-46eb-bf66-82c71f7d1aa0",
   "metadata": {},
   "outputs": [
    {
     "name": "stderr",
     "output_type": "stream",
     "text": [
      "/Users/tiatitisari/opt/anaconda3/lib/python3.8/site-packages/seaborn/axisgrid.py:118: UserWarning: The figure layout has changed to tight\n",
      "  self._figure.tight_layout(*args, **kwargs)\n"
     ]
    },
    {
     "data": {
      "image/png": "[encoded data removed]",
      "text/plain": [
       "<Figure size 360x360 with 6 Axes>"
      ]
     },
     "metadata": {
      "needs_background": "light"
     },
     "output_type": "display_data"
    },
    {
     "data": {
      "image/png": "[encoded data removed]",
      "text/plain": [
       "<Figure size 432x288 with 2 Axes>"
      ]
     },
     "metadata": {
      "needs_background": "light"
     },
     "output_type": "display_data"
    }
   ],
   "source": [
    "# Create a pairplot for income_woman and marriage_duration\n",
    "sns.pairplot( data=divorce, vars =['income_woman','marriage_duration'])\n",
    "plt.show()\n",
    "\n",
    "sns.heatmap(divorce.select_dtypes('number').corr(), annot=True)\n",
    "plt.show()\n"
   ]
  },
  {
   "cell_type": "code",
   "execution_count": 40,
   "id": "65f7ebda-82bd-4d84-b8ea-11bd0f7be190",
   "metadata": {},
   "outputs": [
    {
     "data": {
      "image/png": "[encoded data removed]",
      "text/plain": [
       "<Figure size 432x288 with 1 Axes>"
      ]
     },
     "metadata": {
      "needs_background": "light"
     },
     "output_type": "display_data"
    }
   ],
   "source": [
    "divorce['woman_age_marriage']=divorce['marriage_date'].dt.year-\\\n",
    "divorce['dob_woman'].dt.year\n",
    "#Create the scatter plot\n",
    "sns.scatterplot(x='woman_age_marriage', y = 'income_woman', data=divorce, hue='education_woman')\n",
    "plt.show()"
   ]
  },
  {
   "cell_type": "code",
   "execution_count": 41,
   "id": "46fea34b-cc1f-48db-a6a4-5bb04c7b2ad6",
   "metadata": {},
   "outputs": [
    {
     "name": "stdout",
     "output_type": "stream",
     "text": [
      "2.0.0\n",
      "0.12.2\n"
     ]
    }
   ],
   "source": [
    "## if you find a problem within IDE then you need to make sure the version for\\\n",
    "# pip you have\n",
    "# check library version \n",
    "print(pd.__version__)\n",
    "print(sns.__version__)\n",
    "\n",
    "# reinstall and install \n",
    "# !pip uninstall pandas \n",
    "# !pip install pandas == 2.0.0 ## - by version "
   ]
  },
  {
   "cell_type": "code",
   "execution_count": 42,
   "id": "80e4fd1a-6201-4a69-9c2c-c18e4b9f5110",
   "metadata": {},
   "outputs": [
    {
     "data": {
      "image/png": "[encoded data removed]",
      "text/plain": [
       "<Figure size 432x288 with 1 Axes>"
      ]
     },
     "metadata": {
      "needs_background": "light"
     },
     "output_type": "display_data"
    }
   ],
   "source": [
    "import matplotlib.pyplot as plt \n",
    "import seaborn as sns \n",
    "# Create the KDE plot\n",
    "sns.kdeplot(x='marriage_duration',data=divorce,hue='num_kids', cut=0, cumulative=True)\n",
    "plt.show()"
   ]
  },
  {
   "cell_type": "code",
   "execution_count": 43,
   "id": "6b21e783-37b6-4aab-abeb-3b2913cd1bce",
   "metadata": {},
   "outputs": [
    {
     "name": "stdout",
     "output_type": "stream",
     "text": [
      "Job_Category\n",
      "Data Engineering    0.388797\n",
      "Data Science        0.261944\n",
      "Data Analytics      0.222405\n",
      "Others              0.115321\n",
      "Machine Learning    0.011532\n",
      "Name: proportion, dtype: float64\n"
     ]
    }
   ],
   "source": [
    "# Print the relative frequency of Job_Category\n",
    "# Making Job Category \n",
    "Job_Category = ['Data Analytics', 'Data Engineering', 'Data Science', 'Machine Learning']\n",
    "\n",
    "Conditions = [\n",
    "    (salaries['Designation'].str.contains('Analytics|Analyst')),\n",
    "    (salaries['Designation'].str.contains('Engineer|ETL|Architect')),\n",
    "    (salaries['Designation'].str.contains('Data Scientist|NLP Engineer')),\n",
    "    (salaries['Designation'].str.contains('Data Learning|^ML|^AI'))\n",
    "]\n",
    "salaries['Job_Category']=np.select(Conditions,Job_Category, default='Others')\n",
    "print(salaries['Job_Category'].value_counts(normalize=True))\n"
   ]
  },
  {
   "cell_type": "code",
   "execution_count": 44,
   "id": "6916bbe6-fc81-4119-8119-354c6b566530",
   "metadata": {},
   "outputs": [
    {
     "name": "stdout",
     "output_type": "stream",
     "text": [
      "Experience    Entry  Executive  Mid  Senior\n",
      "Company_Size                               \n",
      "L                29         11   86      72\n",
      "M                30         12   98     186\n",
      "S                29          3   29      22\n"
     ]
    }
   ],
   "source": [
    "# Cross-tabulate Company_Size and Experience\n",
    "print(pd.crosstab(salaries[\"Company_Size\"], salaries[\"Experience\"]))"
   ]
  },
  {
   "cell_type": "code",
   "execution_count": 45,
   "id": "b59d5366-5fc1-4823-83e4-1a5a47f4fe47",
   "metadata": {},
   "outputs": [
    {
     "data": {
      "text/html": [
       "<div>\n",
       "<style scoped>\n",
       "    .dataframe tbody tr th:only-of-type {\n",
       "        vertical-align: middle;\n",
       "    }\n",
       "\n",
       "    .dataframe tbody tr th {\n",
       "        vertical-align: top;\n",
       "    }\n",
       "\n",
       "    .dataframe thead tr th {\n",
       "        text-align: left;\n",
       "    }\n",
       "\n",
       "    .dataframe thead tr:last-of-type th {\n",
       "        text-align: right;\n",
       "    }\n",
       "</style>\n",
       "<table border=\"1\" class=\"dataframe\">\n",
       "  <thead>\n",
       "    <tr>\n",
       "      <th></th>\n",
       "      <th colspan=\"21\" halign=\"left\">count</th>\n",
       "    </tr>\n",
       "    <tr>\n",
       "      <th></th>\n",
       "      <th colspan=\"4\" halign=\"left\">Designation</th>\n",
       "      <th colspan=\"4\" halign=\"left\">Employee_Location</th>\n",
       "      <th colspan=\"2\" halign=\"left\">Employment_Status</th>\n",
       "      <th>...</th>\n",
       "      <th colspan=\"2\" halign=\"left\">Remote_Working_Ratio</th>\n",
       "      <th colspan=\"4\" halign=\"left\">Salary_USD</th>\n",
       "      <th colspan=\"4\" halign=\"left\">Working_Year</th>\n",
       "    </tr>\n",
       "    <tr>\n",
       "      <th>Experience</th>\n",
       "      <th>Entry</th>\n",
       "      <th>Executive</th>\n",
       "      <th>Mid</th>\n",
       "      <th>Senior</th>\n",
       "      <th>Entry</th>\n",
       "      <th>Executive</th>\n",
       "      <th>Mid</th>\n",
       "      <th>Senior</th>\n",
       "      <th>Entry</th>\n",
       "      <th>Executive</th>\n",
       "      <th>...</th>\n",
       "      <th>Mid</th>\n",
       "      <th>Senior</th>\n",
       "      <th>Entry</th>\n",
       "      <th>Executive</th>\n",
       "      <th>Mid</th>\n",
       "      <th>Senior</th>\n",
       "      <th>Entry</th>\n",
       "      <th>Executive</th>\n",
       "      <th>Mid</th>\n",
       "      <th>Senior</th>\n",
       "    </tr>\n",
       "    <tr>\n",
       "      <th>Company_Size</th>\n",
       "      <th></th>\n",
       "      <th></th>\n",
       "      <th></th>\n",
       "      <th></th>\n",
       "      <th></th>\n",
       "      <th></th>\n",
       "      <th></th>\n",
       "      <th></th>\n",
       "      <th></th>\n",
       "      <th></th>\n",
       "      <th></th>\n",
       "      <th></th>\n",
       "      <th></th>\n",
       "      <th></th>\n",
       "      <th></th>\n",
       "      <th></th>\n",
       "      <th></th>\n",
       "      <th></th>\n",
       "      <th></th>\n",
       "      <th></th>\n",
       "      <th></th>\n",
       "    </tr>\n",
       "  </thead>\n",
       "  <tbody>\n",
       "    <tr>\n",
       "      <th>L</th>\n",
       "      <td>29</td>\n",
       "      <td>11</td>\n",
       "      <td>86</td>\n",
       "      <td>72</td>\n",
       "      <td>29</td>\n",
       "      <td>11</td>\n",
       "      <td>86</td>\n",
       "      <td>72</td>\n",
       "      <td>29</td>\n",
       "      <td>11</td>\n",
       "      <td>...</td>\n",
       "      <td>86</td>\n",
       "      <td>72</td>\n",
       "      <td>29</td>\n",
       "      <td>11</td>\n",
       "      <td>86</td>\n",
       "      <td>72</td>\n",
       "      <td>29</td>\n",
       "      <td>11</td>\n",
       "      <td>86</td>\n",
       "      <td>72</td>\n",
       "    </tr>\n",
       "    <tr>\n",
       "      <th>M</th>\n",
       "      <td>30</td>\n",
       "      <td>12</td>\n",
       "      <td>98</td>\n",
       "      <td>186</td>\n",
       "      <td>30</td>\n",
       "      <td>12</td>\n",
       "      <td>98</td>\n",
       "      <td>186</td>\n",
       "      <td>30</td>\n",
       "      <td>12</td>\n",
       "      <td>...</td>\n",
       "      <td>98</td>\n",
       "      <td>186</td>\n",
       "      <td>30</td>\n",
       "      <td>12</td>\n",
       "      <td>98</td>\n",
       "      <td>186</td>\n",
       "      <td>30</td>\n",
       "      <td>12</td>\n",
       "      <td>98</td>\n",
       "      <td>186</td>\n",
       "    </tr>\n",
       "    <tr>\n",
       "      <th>S</th>\n",
       "      <td>29</td>\n",
       "      <td>3</td>\n",
       "      <td>29</td>\n",
       "      <td>22</td>\n",
       "      <td>29</td>\n",
       "      <td>3</td>\n",
       "      <td>29</td>\n",
       "      <td>22</td>\n",
       "      <td>29</td>\n",
       "      <td>3</td>\n",
       "      <td>...</td>\n",
       "      <td>29</td>\n",
       "      <td>22</td>\n",
       "      <td>29</td>\n",
       "      <td>3</td>\n",
       "      <td>29</td>\n",
       "      <td>22</td>\n",
       "      <td>29</td>\n",
       "      <td>3</td>\n",
       "      <td>29</td>\n",
       "      <td>22</td>\n",
       "    </tr>\n",
       "  </tbody>\n",
       "</table>\n",
       "<p>3 rows × 28 columns</p>\n",
       "</div>"
      ],
      "text/plain": [
       "                   count                                                        \n",
       "             Designation                      Employee_Location                 \n",
       "Experience         Entry Executive Mid Senior             Entry Executive Mid   \n",
       "Company_Size                                                                    \n",
       "L                     29        11  86     72                29        11  86  \\\n",
       "M                     30        12  98    186                30        12  98   \n",
       "S                     29         3  29     22                29         3  29   \n",
       "\n",
       "                                                 ...                        \n",
       "                    Employment_Status            ... Remote_Working_Ratio   \n",
       "Experience   Senior             Entry Executive  ...                  Mid   \n",
       "Company_Size                                     ...                        \n",
       "L                72                29        11  ...                   86  \\\n",
       "M               186                30        12  ...                   98   \n",
       "S                22                29         3  ...                   29   \n",
       "\n",
       "                                                                             \n",
       "                    Salary_USD                      Working_Year             \n",
       "Experience   Senior      Entry Executive Mid Senior        Entry Executive   \n",
       "Company_Size                                                                 \n",
       "L                72         29        11  86     72           29        11  \\\n",
       "M               186         30        12  98    186           30        12   \n",
       "S                22         29         3  29     22           29         3   \n",
       "\n",
       "                         \n",
       "                         \n",
       "Experience   Mid Senior  \n",
       "Company_Size             \n",
       "L             86     72  \n",
       "M             98    186  \n",
       "S             29     22  \n",
       "\n",
       "[3 rows x 28 columns]"
      ]
     },
     "execution_count": 45,
     "metadata": {},
     "output_type": "execute_result"
    }
   ],
   "source": [
    "# compare with pivot \n",
    "salaries.pivot_table(aggfunc=['count'],index='Company_Size', columns='Experience')"
   ]
  },
  {
   "cell_type": "code",
   "execution_count": 46,
   "id": "2738c50a-4c5f-4815-b2f5-b3b4e69cbb0b",
   "metadata": {},
   "outputs": [
    {
     "name": "stdout",
     "output_type": "stream",
     "text": [
      "Company_Size       L    M   S\n",
      "Job_Category                 \n",
      "Data Analytics    32   91  12\n",
      "Data Engineering  72  130  34\n",
      "Data Science      55   81  23\n",
      "Machine Learning   2    2   3\n",
      "Others            37   22  11\n"
     ]
    }
   ],
   "source": [
    "# Cross-tabulate Job_Category and Company_Size\n",
    "print(pd.crosstab(salaries[\"Job_Category\"], salaries[\"Company_Size\"]))"
   ]
  },
  {
   "cell_type": "code",
   "execution_count": 47,
   "id": "83069122-e961-461d-8536-4d998eedea20",
   "metadata": {},
   "outputs": [
    {
     "name": "stdout",
     "output_type": "stream",
     "text": [
      "Company_Size                  L              M             S\n",
      "Job_Category                                                \n",
      "Data Analytics    102997.125000   98125.835165  43074.500000\n",
      "Data Engineering  109196.444444  113682.684615  84123.470588\n",
      "Data Science      109180.054545  121664.888889  70426.869565\n",
      "Machine Learning  121741.500000   63019.000000  24173.000000\n",
      "Others            138846.054054  122761.954545  98459.545455\n"
     ]
    }
   ],
   "source": [
    "# Cross-tabulate Job_Category and Company_Size\n",
    "print(pd.crosstab(salaries[\"Job_Category\"], salaries[\"Company_Size\"],\n",
    "            values=salaries[\"Salary_USD\"], aggfunc=\"mean\"))"
   ]
  },
  {
   "cell_type": "markdown",
   "id": "2ba105a5-c2e8-43e2-9f08-7372f8dceb9c",
   "metadata": {},
   "source": [
    "# Generating new features \n",
    "- Correlation .corr()\n",
    "- Extracting month and weekday >> dt.day, dt.month, dt.year, dt.weekday, dt.hour\n",
    "- Creating category using descriptive statistics\n",
    "  - .quantile(0.25,0.75,0.5)\n",
    "  - .median()\n",
    "  - .mean()\n",
    "  - .max()\n",
    "  - .min()\n",
    "  - using pd.cut()\n",
    "    - e.g planes['Price_Category']=pd.cut(planes['Price'],labels=labels,bins=bins)\n",
    "    - labels =['Economy', 'Premium Economy', 'Business', 'First Class']\n",
    "    - bins = [0,twenty_fifth, median, seventy_fifth, maximum]\n",
    "    - twenty fifth = planes['Price'].quantile(0.25) and so on "
   ]
  },
  {
   "cell_type": "code",
   "execution_count": 48,
   "id": "685fe37e-8161-432d-bf12-8002452a8c50",
   "metadata": {},
   "outputs": [
    {
     "data": {
      "image/png": "[encoded data removed]",
      "text/plain": [
       "<Figure size 432x288 with 2 Axes>"
      ]
     },
     "metadata": {
      "needs_background": "light"
     },
     "output_type": "display_data"
    }
   ],
   "source": [
    "\n",
    "# ## Get the month of the response\n",
    "# salaries[\"month\"] = salaries[\"date_of_response\"].dt.month\n",
    "\n",
    "# ## Extract the weekday of the response\n",
    "# salaries[\"weekday\"] = salaries[\"date_of_response\"].dt.weekday\n",
    "\n",
    "# ## Create a heatmap\n",
    "sns.heatmap(salaries.select_dtypes('number').corr(), annot=True)\n",
    "plt.show()"
   ]
  },
  {
   "cell_type": "code",
   "execution_count": 49,
   "id": "0358bbde-a687-4bff-92f2-24eea16199b1",
   "metadata": {},
   "outputs": [
    {
     "name": "stdout",
     "output_type": "stream",
     "text": [
      "59893.0 96982.0 143225.0\n"
     ]
    },
    {
     "data": {
      "image/png": "[encoded data removed]",
      "text/plain": [
       "<Figure size 432x288 with 1 Axes>"
      ]
     },
     "metadata": {
      "needs_background": "light"
     },
     "output_type": "display_data"
    }
   ],
   "source": [
    "# Find the 25th percentile\n",
    "twenty_fifth = salaries[\"Salary_USD\"].quantile(0.25)\n",
    "\n",
    "# Save the median\n",
    "salaries_median = salaries[\"Salary_USD\"].median()\n",
    "\n",
    "# Gather the 75th percentile\n",
    "seventy_fifth = salaries['Salary_USD'].quantile(0.75)\n",
    "print(twenty_fifth, salaries_median, seventy_fifth)\n",
    "\n",
    "# Create salary labels\n",
    "salary_labels = ['entry','mid','senior','exec']\n",
    "\n",
    "# Create the salary ranges list\n",
    "salary_ranges = [0, twenty_fifth, salaries_median, seventy_fifth, salaries[\"Salary_USD\"].max()]\n",
    "\n",
    "# Create salary_level\n",
    "salaries[\"salary_level\"] = pd.cut(salaries[\"Salary_USD\"],\n",
    "                                  bins=salary_ranges,\n",
    "                                  labels=salary_labels)\n",
    "\n",
    "# Plot the count of salary levels at companies of different sizes\n",
    "sns.countplot(data=salaries, x=\"Company_Size\", hue=\"salary_level\")\n",
    "plt.show()"
   ]
  },
  {
   "cell_type": "markdown",
   "id": "703796b9-ba47-4022-b0c9-43d149993a8a",
   "metadata": {},
   "source": [
    "# Generating Hypotheses \n",
    "- would data from a different time give the same results\n",
    "- detecting relationships, differences, and patterns:\n",
    "  - We use Hypothesis Testing\n",
    "  - Hypothesis testing requires, prior to data collection:\n",
    "    - Generating a hypothesis or question\n",
    "    - A decision on what statistical test to use\n",
    "    - Create a bar plot\n",
    "    - Design our experiments:\n",
    "      - Choosing a sample\n",
    "      - Calculating how many data points we need\n",
    "      - Deciding what statistical test to run "
   ]
  },
  {
   "cell_type": "code",
   "execution_count": 50,
   "id": "feda8619-af52-4b99-8000-1fa2dbea243c",
   "metadata": {},
   "outputs": [
    {
     "name": "stderr",
     "output_type": "stream",
     "text": [
      "<ipython-input-50-eec6e8c4d4d9>:7: FutureWarning: \n",
      "\n",
      "The `ci` parameter is deprecated. Use `errorbar=None` for the same effect.\n",
      "\n",
      "  sns.barplot(data=usa_and_gb, x=\"Employee_Location\", y=\"Salary_USD\", ci=None)\n"
     ]
    },
    {
     "data": {
      "image/png": "[encoded data removed]",
      "text/plain": [
       "<Figure size 432x288 with 1 Axes>"
      ]
     },
     "metadata": {
      "needs_background": "light"
     },
     "output_type": "display_data"
    }
   ],
   "source": [
    "sns.set_context('talk')\n",
    "\n",
    "# Filter for employees in the US or GB\n",
    "usa_and_gb = salaries[salaries[\"Employee_Location\"].isin([\"US\", \"GB\"])]\n",
    "\n",
    "# Create a barplot of salaries by location\n",
    "sns.barplot(data=usa_and_gb, x=\"Employee_Location\", y=\"Salary_USD\", ci=None)\n",
    "plt.yticks(size=12)\n",
    "plt.show()"
   ]
  },
  {
   "cell_type": "code",
   "execution_count": 51,
   "id": "eb75dfe2-57a4-451a-bf44-014be989b4bc",
   "metadata": {},
   "outputs": [
    {
     "data": {
      "image/png": "[encoded data removed]",
      "text/plain": [
       "<Figure size 432x288 with 1 Axes>"
      ]
     },
     "metadata": {
      "needs_background": "light"
     },
     "output_type": "display_data"
    }
   ],
   "source": [
    "# Create a bar plot of salary versus company size, factoring in employment status\n",
    "sns.barplot(data=salaries, y=\"Salary_USD\", x=\"Company_Size\", hue=\"Employment_Status\")\n",
    "plt.show()"
   ]
  },
  {
   "cell_type": "code",
   "execution_count": null,
   "id": "cf94498c-273f-47c1-ad7b-c5366a161f2d",
   "metadata": {},
   "outputs": [],
   "source": []
  }
 ],
 "metadata": {
  "kernelspec": {
   "display_name": "Python 3",
   "language": "python",
   "name": "python3"
  },
  "language_info": {
   "codemirror_mode": {
    "name": "ipython",
    "version": 3
   },
   "file_extension": ".py",
   "mimetype": "text/x-python",
   "name": "python",
   "nbconvert_exporter": "python",
   "pygments_lexer": "ipython3",
   "version": "3.8.3"
  }
 },
 "nbformat": 4,
 "nbformat_minor": 5
}
