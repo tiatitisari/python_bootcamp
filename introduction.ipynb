{
 "cells": [
  {
   "cell_type": "code",
   "execution_count": 1,
   "id": "e4cd6768-1360-45cd-bee7-dff9c4a9d658",
   "metadata": {},
   "outputs": [
    {
     "name": "stdout",
     "output_type": "stream",
     "text": [
      "Requirement already satisfied: jupyterlab in /Users/tiatitisari/opt/anaconda3/lib/python3.8/site-packages (4.0.3)\n",
      "Requirement already satisfied: jupyterlab-git in /Users/tiatitisari/opt/anaconda3/lib/python3.8/site-packages (0.41.0)\n",
      "Requirement already satisfied: packaging in /Users/tiatitisari/opt/anaconda3/lib/python3.8/site-packages (from jupyterlab) (21.3)\n",
      "Requirement already satisfied: jupyter-server<3,>=2.4.0 in /Users/tiatitisari/opt/anaconda3/lib/python3.8/site-packages (from jupyterlab) (2.7.0)\n",
      "Requirement already satisfied: importlib-metadata>=4.8.3 in /Users/tiatitisari/opt/anaconda3/lib/python3.8/site-packages (from jupyterlab) (6.8.0)\n",
      "Requirement already satisfied: jupyter-core in /Users/tiatitisari/opt/anaconda3/lib/python3.8/site-packages (from jupyterlab) (5.3.1)\n",
      "Requirement already satisfied: notebook-shim>=0.2 in /Users/tiatitisari/opt/anaconda3/lib/python3.8/site-packages (from jupyterlab) (0.2.3)\n",
      "Requirement already satisfied: jupyter-lsp>=2.0.0 in /Users/tiatitisari/opt/anaconda3/lib/python3.8/site-packages (from jupyterlab) (2.2.0)\n",
      "Requirement already satisfied: tornado>=6.2.0 in /Users/tiatitisari/opt/anaconda3/lib/python3.8/site-packages (from jupyterlab) (6.3.2)\n",
      "Requirement already satisfied: jupyterlab-server<3,>=2.19.0 in /Users/tiatitisari/opt/anaconda3/lib/python3.8/site-packages (from jupyterlab) (2.23.0)\n",
      "Requirement already satisfied: importlib-resources>=1.4 in /Users/tiatitisari/opt/anaconda3/lib/python3.8/site-packages (from jupyterlab) (6.0.0)\n",
      "Requirement already satisfied: jinja2>=3.0.3 in /Users/tiatitisari/opt/anaconda3/lib/python3.8/site-packages (from jupyterlab) (3.1.2)\n",
      "Requirement already satisfied: tomli in /Users/tiatitisari/opt/anaconda3/lib/python3.8/site-packages (from jupyterlab) (2.0.1)\n",
      "Requirement already satisfied: async-lru>=1.0.0 in /Users/tiatitisari/opt/anaconda3/lib/python3.8/site-packages (from jupyterlab) (2.0.3)\n",
      "Requirement already satisfied: traitlets in /Users/tiatitisari/opt/anaconda3/lib/python3.8/site-packages (from jupyterlab) (5.9.0)\n",
      "Requirement already satisfied: ipykernel in /Users/tiatitisari/opt/anaconda3/lib/python3.8/site-packages (from jupyterlab) (5.3.2)\n",
      "Requirement already satisfied: pexpect in /Users/tiatitisari/opt/anaconda3/lib/python3.8/site-packages (from jupyterlab-git) (4.8.0)\n",
      "Requirement already satisfied: nbdime~=3.1 in /Users/tiatitisari/opt/anaconda3/lib/python3.8/site-packages (from jupyterlab-git) (3.2.1)\n",
      "Requirement already satisfied: nbformat in /Users/tiatitisari/opt/anaconda3/lib/python3.8/site-packages (from jupyterlab-git) (5.9.1)\n",
      "Requirement already satisfied: typing-extensions>=4.0.0 in /Users/tiatitisari/opt/anaconda3/lib/python3.8/site-packages (from async-lru>=1.0.0->jupyterlab) (4.7.1)\n",
      "Requirement already satisfied: zipp>=0.5 in /Users/tiatitisari/opt/anaconda3/lib/python3.8/site-packages (from importlib-metadata>=4.8.3->jupyterlab) (3.1.0)\n",
      "Requirement already satisfied: MarkupSafe>=2.0 in /Users/tiatitisari/opt/anaconda3/lib/python3.8/site-packages (from jinja2>=3.0.3->jupyterlab) (2.1.3)\n",
      "Requirement already satisfied: prometheus-client in /Users/tiatitisari/opt/anaconda3/lib/python3.8/site-packages (from jupyter-server<3,>=2.4.0->jupyterlab) (0.8.0)\n",
      "Requirement already satisfied: jupyter-events>=0.6.0 in /Users/tiatitisari/opt/anaconda3/lib/python3.8/site-packages (from jupyter-server<3,>=2.4.0->jupyterlab) (0.6.3)\n",
      "Requirement already satisfied: anyio>=3.1.0 in /Users/tiatitisari/opt/anaconda3/lib/python3.8/site-packages (from jupyter-server<3,>=2.4.0->jupyterlab) (3.4.0)\n",
      "Requirement already satisfied: websocket-client in /Users/tiatitisari/opt/anaconda3/lib/python3.8/site-packages (from jupyter-server<3,>=2.4.0->jupyterlab) (1.2.3)\n",
      "Requirement already satisfied: jupyter-server-terminals in /Users/tiatitisari/opt/anaconda3/lib/python3.8/site-packages (from jupyter-server<3,>=2.4.0->jupyterlab) (0.4.4)\n",
      "Requirement already satisfied: jupyter-client>=7.4.4 in /Users/tiatitisari/opt/anaconda3/lib/python3.8/site-packages (from jupyter-server<3,>=2.4.0->jupyterlab) (8.3.0)\n",
      "Requirement already satisfied: overrides in /Users/tiatitisari/opt/anaconda3/lib/python3.8/site-packages (from jupyter-server<3,>=2.4.0->jupyterlab) (7.3.1)\n",
      "Requirement already satisfied: pyzmq>=24 in /Users/tiatitisari/opt/anaconda3/lib/python3.8/site-packages (from jupyter-server<3,>=2.4.0->jupyterlab) (25.1.0)\n",
      "Requirement already satisfied: send2trash in /Users/tiatitisari/opt/anaconda3/lib/python3.8/site-packages (from jupyter-server<3,>=2.4.0->jupyterlab) (1.5.0)\n",
      "Requirement already satisfied: argon2-cffi in /Users/tiatitisari/opt/anaconda3/lib/python3.8/site-packages (from jupyter-server<3,>=2.4.0->jupyterlab) (21.1.0)\n",
      "Requirement already satisfied: nbconvert>=6.4.4 in /Users/tiatitisari/opt/anaconda3/lib/python3.8/site-packages (from jupyter-server<3,>=2.4.0->jupyterlab) (7.7.2)\n",
      "Requirement already satisfied: terminado>=0.8.3 in /Users/tiatitisari/opt/anaconda3/lib/python3.8/site-packages (from jupyter-server<3,>=2.4.0->jupyterlab) (0.8.3)\n",
      "Requirement already satisfied: platformdirs>=2.5 in /Users/tiatitisari/opt/anaconda3/lib/python3.8/site-packages (from jupyter-core->jupyterlab) (3.9.1)\n",
      "Requirement already satisfied: requests>=2.28 in /Users/tiatitisari/opt/anaconda3/lib/python3.8/site-packages (from jupyterlab-server<3,>=2.19.0->jupyterlab) (2.31.0)\n",
      "Requirement already satisfied: babel>=2.10 in /Users/tiatitisari/opt/anaconda3/lib/python3.8/site-packages (from jupyterlab-server<3,>=2.19.0->jupyterlab) (2.12.1)\n",
      "Requirement already satisfied: json5>=0.9.0 in /Users/tiatitisari/opt/anaconda3/lib/python3.8/site-packages (from jupyterlab-server<3,>=2.19.0->jupyterlab) (0.9.5)\n",
      "Requirement already satisfied: jsonschema>=4.17.3 in /Users/tiatitisari/opt/anaconda3/lib/python3.8/site-packages (from jupyterlab-server<3,>=2.19.0->jupyterlab) (4.18.4)\n",
      "Requirement already satisfied: colorama in /Users/tiatitisari/opt/anaconda3/lib/python3.8/site-packages (from nbdime~=3.1->jupyterlab-git) (0.4.3)\n",
      "Requirement already satisfied: jupyter-server-mathjax>=0.2.2 in /Users/tiatitisari/opt/anaconda3/lib/python3.8/site-packages (from nbdime~=3.1->jupyterlab-git) (0.2.6)\n",
      "Requirement already satisfied: pygments in /Users/tiatitisari/opt/anaconda3/lib/python3.8/site-packages (from nbdime~=3.1->jupyterlab-git) (2.6.1)\n",
      "Requirement already satisfied: GitPython!=2.1.4,!=2.1.5,!=2.1.6 in /Users/tiatitisari/opt/anaconda3/lib/python3.8/site-packages (from nbdime~=3.1->jupyterlab-git) (3.1.32)\n",
      "Requirement already satisfied: fastjsonschema in /Users/tiatitisari/opt/anaconda3/lib/python3.8/site-packages (from nbformat->jupyterlab-git) (2.17.1)\n",
      "Requirement already satisfied: pyparsing!=3.0.5,>=2.0.2 in /Users/tiatitisari/opt/anaconda3/lib/python3.8/site-packages (from packaging->jupyterlab) (2.4.7)\n",
      "Requirement already satisfied: ipython>=5.0.0 in /Users/tiatitisari/opt/anaconda3/lib/python3.8/site-packages (from ipykernel->jupyterlab) (7.16.1)\n",
      "Requirement already satisfied: appnope in /Users/tiatitisari/opt/anaconda3/lib/python3.8/site-packages (from ipykernel->jupyterlab) (0.1.0)\n",
      "Requirement already satisfied: ptyprocess>=0.5 in /Users/tiatitisari/opt/anaconda3/lib/python3.8/site-packages (from pexpect->jupyterlab-git) (0.6.0)\n",
      "Requirement already satisfied: sniffio>=1.1 in /Users/tiatitisari/opt/anaconda3/lib/python3.8/site-packages (from anyio>=3.1.0->jupyter-server<3,>=2.4.0->jupyterlab) (1.2.0)\n",
      "Requirement already satisfied: idna>=2.8 in /Users/tiatitisari/opt/anaconda3/lib/python3.8/site-packages (from anyio>=3.1.0->jupyter-server<3,>=2.4.0->jupyterlab) (2.10)\n",
      "Requirement already satisfied: pytz>=2015.7 in /Users/tiatitisari/opt/anaconda3/lib/python3.8/site-packages (from babel>=2.10->jupyterlab-server<3,>=2.19.0->jupyterlab) (2020.1)\n",
      "Requirement already satisfied: gitdb<5,>=4.0.1 in /Users/tiatitisari/opt/anaconda3/lib/python3.8/site-packages (from GitPython!=2.1.4,!=2.1.5,!=2.1.6->nbdime~=3.1->jupyterlab-git) (4.0.10)\n",
      "Requirement already satisfied: jedi>=0.10 in /Users/tiatitisari/opt/anaconda3/lib/python3.8/site-packages (from ipython>=5.0.0->ipykernel->jupyterlab) (0.17.1)\n",
      "Requirement already satisfied: backcall in /Users/tiatitisari/opt/anaconda3/lib/python3.8/site-packages (from ipython>=5.0.0->ipykernel->jupyterlab) (0.2.0)\n",
      "Requirement already satisfied: setuptools>=18.5 in /Users/tiatitisari/opt/anaconda3/lib/python3.8/site-packages (from ipython>=5.0.0->ipykernel->jupyterlab) (49.2.0.post20200714)\n",
      "Requirement already satisfied: prompt-toolkit!=3.0.0,!=3.0.1,<3.1.0,>=2.0.0 in /Users/tiatitisari/opt/anaconda3/lib/python3.8/site-packages (from ipython>=5.0.0->ipykernel->jupyterlab) (3.0.5)\n",
      "Requirement already satisfied: decorator in /Users/tiatitisari/opt/anaconda3/lib/python3.8/site-packages (from ipython>=5.0.0->ipykernel->jupyterlab) (4.4.2)\n",
      "Requirement already satisfied: pickleshare in /Users/tiatitisari/opt/anaconda3/lib/python3.8/site-packages (from ipython>=5.0.0->ipykernel->jupyterlab) (0.7.5)\n",
      "Requirement already satisfied: pkgutil-resolve-name>=1.3.10 in /Users/tiatitisari/opt/anaconda3/lib/python3.8/site-packages (from jsonschema>=4.17.3->jupyterlab-server<3,>=2.19.0->jupyterlab) (1.3.10)\n",
      "Requirement already satisfied: jsonschema-specifications>=2023.03.6 in /Users/tiatitisari/opt/anaconda3/lib/python3.8/site-packages (from jsonschema>=4.17.3->jupyterlab-server<3,>=2.19.0->jupyterlab) (2023.7.1)\n",
      "Requirement already satisfied: rpds-py>=0.7.1 in /Users/tiatitisari/opt/anaconda3/lib/python3.8/site-packages (from jsonschema>=4.17.3->jupyterlab-server<3,>=2.19.0->jupyterlab) (0.9.2)\n",
      "Requirement already satisfied: attrs>=22.2.0 in /Users/tiatitisari/opt/anaconda3/lib/python3.8/site-packages (from jsonschema>=4.17.3->jupyterlab-server<3,>=2.19.0->jupyterlab) (23.1.0)\n",
      "Requirement already satisfied: referencing>=0.28.4 in /Users/tiatitisari/opt/anaconda3/lib/python3.8/site-packages (from jsonschema>=4.17.3->jupyterlab-server<3,>=2.19.0->jupyterlab) (0.30.0)\n",
      "Requirement already satisfied: python-dateutil>=2.8.2 in /Users/tiatitisari/opt/anaconda3/lib/python3.8/site-packages (from jupyter-client>=7.4.4->jupyter-server<3,>=2.4.0->jupyterlab) (2.8.2)\n",
      "Requirement already satisfied: rfc3339-validator in /Users/tiatitisari/opt/anaconda3/lib/python3.8/site-packages (from jupyter-events>=0.6.0->jupyter-server<3,>=2.4.0->jupyterlab) (0.1.4)\n",
      "Requirement already satisfied: rfc3986-validator>=0.1.1 in /Users/tiatitisari/opt/anaconda3/lib/python3.8/site-packages (from jupyter-events>=0.6.0->jupyter-server<3,>=2.4.0->jupyterlab) (0.1.1)\n",
      "Requirement already satisfied: python-json-logger>=2.0.4 in /Users/tiatitisari/opt/anaconda3/lib/python3.8/site-packages (from jupyter-events>=0.6.0->jupyter-server<3,>=2.4.0->jupyterlab) (2.0.7)\n",
      "Requirement already satisfied: pyyaml>=5.3 in /Users/tiatitisari/opt/anaconda3/lib/python3.8/site-packages (from jupyter-events>=0.6.0->jupyter-server<3,>=2.4.0->jupyterlab) (5.3.1)\n",
      "Requirement already satisfied: pandocfilters>=1.4.1 in /Users/tiatitisari/opt/anaconda3/lib/python3.8/site-packages (from nbconvert>=6.4.4->jupyter-server<3,>=2.4.0->jupyterlab) (1.4.2)\n",
      "Requirement already satisfied: mistune<4,>=2.0.3 in /Users/tiatitisari/opt/anaconda3/lib/python3.8/site-packages (from nbconvert>=6.4.4->jupyter-server<3,>=2.4.0->jupyterlab) (3.0.1)\n",
      "Requirement already satisfied: jupyterlab-pygments in /Users/tiatitisari/opt/anaconda3/lib/python3.8/site-packages (from nbconvert>=6.4.4->jupyter-server<3,>=2.4.0->jupyterlab) (0.2.2)\n",
      "Requirement already satisfied: defusedxml in /Users/tiatitisari/opt/anaconda3/lib/python3.8/site-packages (from nbconvert>=6.4.4->jupyter-server<3,>=2.4.0->jupyterlab) (0.6.0)\n",
      "Requirement already satisfied: tinycss2 in /Users/tiatitisari/opt/anaconda3/lib/python3.8/site-packages (from nbconvert>=6.4.4->jupyter-server<3,>=2.4.0->jupyterlab) (1.2.1)\n",
      "Requirement already satisfied: nbclient>=0.5.0 in /Users/tiatitisari/opt/anaconda3/lib/python3.8/site-packages (from nbconvert>=6.4.4->jupyter-server<3,>=2.4.0->jupyterlab) (0.8.0)\n",
      "Requirement already satisfied: beautifulsoup4 in /Users/tiatitisari/opt/anaconda3/lib/python3.8/site-packages (from nbconvert>=6.4.4->jupyter-server<3,>=2.4.0->jupyterlab) (4.9.1)\n",
      "Requirement already satisfied: bleach!=5.0.0 in /Users/tiatitisari/opt/anaconda3/lib/python3.8/site-packages (from nbconvert>=6.4.4->jupyter-server<3,>=2.4.0->jupyterlab) (3.1.5)\n",
      "Requirement already satisfied: certifi>=2017.4.17 in /Users/tiatitisari/opt/anaconda3/lib/python3.8/site-packages (from requests>=2.28->jupyterlab-server<3,>=2.19.0->jupyterlab) (2020.12.5)\n",
      "Requirement already satisfied: charset-normalizer<4,>=2 in /Users/tiatitisari/opt/anaconda3/lib/python3.8/site-packages (from requests>=2.28->jupyterlab-server<3,>=2.19.0->jupyterlab) (2.0.9)\n",
      "Requirement already satisfied: urllib3<3,>=1.21.1 in /Users/tiatitisari/opt/anaconda3/lib/python3.8/site-packages (from requests>=2.28->jupyterlab-server<3,>=2.19.0->jupyterlab) (1.25.9)\n",
      "Requirement already satisfied: cffi>=1.0.0 in /Users/tiatitisari/opt/anaconda3/lib/python3.8/site-packages (from argon2-cffi->jupyter-server<3,>=2.4.0->jupyterlab) (1.14.0)\n",
      "Requirement already satisfied: webencodings in /Users/tiatitisari/opt/anaconda3/lib/python3.8/site-packages (from bleach!=5.0.0->nbconvert>=6.4.4->jupyter-server<3,>=2.4.0->jupyterlab) (0.5.1)\n",
      "Requirement already satisfied: six>=1.9.0 in /Users/tiatitisari/opt/anaconda3/lib/python3.8/site-packages (from bleach!=5.0.0->nbconvert>=6.4.4->jupyter-server<3,>=2.4.0->jupyterlab) (1.15.0)\n",
      "Requirement already satisfied: pycparser in /Users/tiatitisari/opt/anaconda3/lib/python3.8/site-packages (from cffi>=1.0.0->argon2-cffi->jupyter-server<3,>=2.4.0->jupyterlab) (2.20)\n",
      "Requirement already satisfied: smmap<6,>=3.0.1 in /Users/tiatitisari/opt/anaconda3/lib/python3.8/site-packages (from gitdb<5,>=4.0.1->GitPython!=2.1.4,!=2.1.5,!=2.1.6->nbdime~=3.1->jupyterlab-git) (5.0.0)\n",
      "Requirement already satisfied: parso<0.8.0,>=0.7.0 in /Users/tiatitisari/opt/anaconda3/lib/python3.8/site-packages (from jedi>=0.10->ipython>=5.0.0->ipykernel->jupyterlab) (0.7.0)\n",
      "Requirement already satisfied: jsonpointer>1.13 in /Users/tiatitisari/opt/anaconda3/lib/python3.8/site-packages (from jsonschema>=4.17.3->jupyterlab-server<3,>=2.19.0->jupyterlab) (2.4)\n",
      "Requirement already satisfied: uri-template in /Users/tiatitisari/opt/anaconda3/lib/python3.8/site-packages (from jsonschema>=4.17.3->jupyterlab-server<3,>=2.19.0->jupyterlab) (1.3.0)\n",
      "Requirement already satisfied: isoduration in /Users/tiatitisari/opt/anaconda3/lib/python3.8/site-packages (from jsonschema>=4.17.3->jupyterlab-server<3,>=2.19.0->jupyterlab) (20.11.0)\n",
      "Requirement already satisfied: fqdn in /Users/tiatitisari/opt/anaconda3/lib/python3.8/site-packages (from jsonschema>=4.17.3->jupyterlab-server<3,>=2.19.0->jupyterlab) (1.5.1)\n",
      "Requirement already satisfied: webcolors>=1.11 in /Users/tiatitisari/opt/anaconda3/lib/python3.8/site-packages (from jsonschema>=4.17.3->jupyterlab-server<3,>=2.19.0->jupyterlab) (1.13)\n",
      "Requirement already satisfied: wcwidth in /Users/tiatitisari/opt/anaconda3/lib/python3.8/site-packages (from prompt-toolkit!=3.0.0,!=3.0.1,<3.1.0,>=2.0.0->ipython>=5.0.0->ipykernel->jupyterlab) (0.2.5)\n",
      "Requirement already satisfied: soupsieve>1.2 in /Users/tiatitisari/opt/anaconda3/lib/python3.8/site-packages (from beautifulsoup4->nbconvert>=6.4.4->jupyter-server<3,>=2.4.0->jupyterlab) (2.0.1)\n",
      "Requirement already satisfied: arrow>=0.15.0 in /Users/tiatitisari/opt/anaconda3/lib/python3.8/site-packages (from isoduration->jsonschema>=4.17.3->jupyterlab-server<3,>=2.19.0->jupyterlab) (1.2.3)\n",
      "\u001b[33mWARNING: You are using pip version 21.3.1; however, version 23.2 is available.\n",
      "You should consider upgrading via the '/Users/tiatitisari/opt/anaconda3/bin/python -m pip install --upgrade pip' command.\u001b[0m\n",
      "Note: you may need to restart the kernel to use updated packages.\n"
     ]
    }
   ],
   "source": [
    "## installing jupyerlab and git \n",
    "pip install --upgrade jupyterlab jupyterlab-git"
   ]
  },
  {
   "cell_type": "markdown",
   "id": "524e998a-8c19-4d7a-b8af-0d3389ba7130",
   "metadata": {},
   "source": [
    "</n><head><b> INTRODUCTION:</b> </head> </n>\n",
    "1. Simple Calculation in Python \n",
    "2. List : Create, Subsetting, Manipulating"
   ]
  },
  {
   "cell_type": "code",
   "execution_count": 1,
   "id": "0af7f269-eea6-407e-a505-5ebcd78c2fdc",
   "metadata": {},
   "outputs": [
    {
     "name": "stdout",
     "output_type": "stream",
     "text": [
      "100\n"
     ]
    }
   ],
   "source": [
    "# Variables and Types \n",
    "# Create a variable savings\n",
    "savings = 100\n",
    "\n",
    "# Print out savings\n",
    "print(savings )"
   ]
  },
  {
   "cell_type": "code",
   "execution_count": 2,
   "id": "4740e449-4961-4c2e-865f-c204973aba8f",
   "metadata": {},
   "outputs": [
    {
     "name": "stdout",
     "output_type": "stream",
     "text": [
      "140\n"
     ]
    }
   ],
   "source": [
    "# Create the variables monthly_savings and num_months\n",
    "monthly_savings = 10\n",
    "num_months = 4\n",
    "\n",
    "\n",
    "# Multiply monthly_savings and num_months\n",
    "new_savings = monthly_savings * num_months\n",
    "\n",
    "# Add new_savings to your savings\n",
    "total_savings = new_savings +savings \n",
    "\n",
    "# Print total_savings\n",
    "print(total_savings)"
   ]
  },
  {
   "cell_type": "code",
   "execution_count": 3,
   "id": "5fcb92ac-f1d2-4269-9cfe-f3d083f1f723",
   "metadata": {},
   "outputs": [],
   "source": [
    "# Create a variable half\n",
    "half = 0.5\n",
    "\n",
    "# Create a variable intro\n",
    "intro = \"Hello! How are you?\"\n",
    "\n",
    "# Create a variable is_good\n",
    "is_good = True"
   ]
  },
  {
   "cell_type": "code",
   "execution_count": 4,
   "id": "7e3d0c3f-1dbb-4866-9bf2-fd194c3ae835",
   "metadata": {},
   "outputs": [
    {
     "data": {
      "text/plain": [
       "bool"
      ]
     },
     "execution_count": 4,
     "metadata": {},
     "output_type": "execute_result"
    }
   ],
   "source": [
    "type(is_good)"
   ]
  },
  {
   "cell_type": "code",
   "execution_count": 5,
   "id": "628b86ae-3170-4d44-826b-4938feb48742",
   "metadata": {},
   "outputs": [
    {
     "name": "stdout",
     "output_type": "stream",
     "text": [
      "<class 'int'>\n",
      "Hello! How are you?Hello! How are you?\n"
     ]
    }
   ],
   "source": [
    "monthly_savings = 10\n",
    "num_months = 12\n",
    "intro = \"Hello! How are you?\"\n",
    "\n",
    "# Calculate year_savings using monthly_savings and num_months\n",
    "year_savings = monthly_savings * num_months\n",
    "\n",
    "# Print the type of year_savings\n",
    "print(type(year_savings))\n",
    "\n",
    "# Assign sum of intro and intro to doubleintro\n",
    "doubleintro = intro + intro \n",
    "\n",
    "# Print out doubleintro\n",
    "print(doubleintro)"
   ]
  },
  {
   "cell_type": "code",
   "execution_count": 6,
   "id": "0e75032b-f57d-4a83-841b-b067b52ef42d",
   "metadata": {},
   "outputs": [
    {
     "name": "stdout",
     "output_type": "stream",
     "text": [
      "I started with $100 and now have $150. Awesome!\n"
     ]
    }
   ],
   "source": [
    "# Definition of savings and total_savings\n",
    "savings = 100\n",
    "total_savings = 150\n",
    "\n",
    "# Fix the printout\n",
    "print(\"I started with $\" + str(savings) + \" and now have $\" + str(total_savings) + \". Awesome!\")\n",
    "\n",
    "# Definition of pi_string\n",
    "pi_string = \"3.1415926\"\n",
    "\n",
    "# Convert pi_string into float: pi_float\n",
    "pi_float = float(pi_string)\n"
   ]
  },
  {
   "cell_type": "markdown",
   "id": "b8a14e07-e126-4f04-b885-1236101036ee",
   "metadata": {},
   "source": [
    "Python data Types \n",
    "1. Float : real numbers\n",
    "2. Int : integer numbers\n",
    "3. str : string,text\n",
    "4. bool: True, False\n",
    "\n",
    "Python List \n",
    "1. [a,b,c]\n",
    "2. [[a,b],[b,c]]\n",
    "3. list can contain various type of data\n",
    "   "
   ]
  },
  {
   "cell_type": "code",
   "execution_count": 7,
   "id": "15363a1c-dad0-43c0-a206-40e2eba291d8",
   "metadata": {},
   "outputs": [
    {
     "name": "stdout",
     "output_type": "stream",
     "text": [
      "[11.25, 18.0, 20.0, 10.75, 9.5]\n"
     ]
    }
   ],
   "source": [
    "# area variables (in square meters)\n",
    "hall = 11.25\n",
    "kit = 18.0\n",
    "liv = 20.0\n",
    "bed = 10.75\n",
    "bath = 9.50\n",
    "\n",
    "# Create list areas\n",
    "areas = [hall, kit, liv,bed,bath]\n",
    "\n",
    "# Print areas\n",
    "print(areas)"
   ]
  },
  {
   "cell_type": "code",
   "execution_count": 8,
   "id": "f6429e44-f23f-4815-bce9-e67ec9c6906a",
   "metadata": {},
   "outputs": [
    {
     "name": "stdout",
     "output_type": "stream",
     "text": [
      "['hallway', 11.25, 'kitchen', 18.0, 'living room', 20.0, 'bedroom', 10.75, 'bathroom', 9.5]\n"
     ]
    }
   ],
   "source": [
    "# area variables (in square meters)\n",
    "hall = 11.25\n",
    "kit = 18.0\n",
    "liv = 20.0\n",
    "bed = 10.75\n",
    "bath = 9.50\n",
    "\n",
    "# Adapt list areas\n",
    "areas = [\"hallway\",hall, \"kitchen\",kit, \"living room\", liv, \"bedroom\",bed, \"bathroom\", bath, ]\n",
    "\n",
    "# Print areas\n",
    "print(areas)"
   ]
  },
  {
   "cell_type": "code",
   "execution_count": 9,
   "id": "b403bd6c-87fc-4efa-8df1-57f437db864b",
   "metadata": {},
   "outputs": [
    {
     "name": "stdout",
     "output_type": "stream",
     "text": [
      "[['hallway', 11.25], ['kitchen', 18.0], ['living room', 20.0], ['bedroom', 10.75], ['bathroom', 9.5]]\n",
      "<class 'list'>\n"
     ]
    }
   ],
   "source": [
    "# area variables (in square meters)\n",
    "hall = 11.25\n",
    "kit = 18.0\n",
    "liv = 20.0\n",
    "bed = 10.75\n",
    "bath = 9.50\n",
    "\n",
    "# house information as list of lists\n",
    "house = [[\"hallway\", hall],\n",
    "         [\"kitchen\", kit],\n",
    "         [\"living room\", liv],\n",
    "         [\"bedroom\", bed],\n",
    "         [\"bathroom\", bath]]\n",
    "\n",
    "# Print out house\n",
    "print(house)\n",
    "\n",
    "# Print out the type of house\n",
    "print(type(house))"
   ]
  },
  {
   "cell_type": "markdown",
   "id": "550a697a-30e1-4052-bf03-d32d4b932a24",
   "metadata": {},
   "source": [
    "Subsetting lists \n",
    "1. Zero Indexing\n",
    "2. Negative Indexing\n",
    "3. Slicing using colon [start:end] > start inclusive, end exclusive\n",
    "4. Slicing without start [:end] > you tell python to start from index zero\n",
    "5. If you have lists of a lists to subsetting you need to use this [var][var] to subset\n",
    "\n",
    "x = [[\"a\", \"b\", \"c\"],\n",
    "       [\"d\", \"e\", \"f\"],\n",
    "       [\"g\", \"h\", \"i\"]]\n",
    "       \n",
    "x[2][0]\n",
    "\n",
    "x[2][:2]"
   ]
  },
  {
   "cell_type": "code",
   "execution_count": 10,
   "id": "ad26d8ec-fecc-4ac3-a9a3-ba6e25288b9c",
   "metadata": {},
   "outputs": [
    {
     "name": "stdout",
     "output_type": "stream",
     "text": [
      "11.25\n",
      "9.5\n",
      "20.0\n"
     ]
    }
   ],
   "source": [
    "# Create the areas list\n",
    "areas = [\"hallway\", 11.25, \"kitchen\", 18.0, \"living room\", 20.0, \"bedroom\", 10.75, \"bathroom\", 9.50]\n",
    "\n",
    "# Print out second element from areas\n",
    "print(areas[1])\n",
    "\n",
    "# Print out last element from areas\n",
    "print(areas[-1])\n",
    "\n",
    "# Print out the area of the living room\n",
    "print(areas[5])"
   ]
  },
  {
   "cell_type": "code",
   "execution_count": 11,
   "id": "99b3671d-e173-486f-a07a-c7fa4851d4b4",
   "metadata": {},
   "outputs": [
    {
     "name": "stdout",
     "output_type": "stream",
     "text": [
      "28.75\n"
     ]
    }
   ],
   "source": [
    "# Create the areas list\n",
    "areas = [\"hallway\", 11.25, \"kitchen\", 18.0, \"living room\", 20.0, \"bedroom\", 10.75, \"bathroom\", 9.50]\n",
    "\n",
    "# Sum of kitchen and bedroom area: eat_sleep_area\n",
    "eat_sleep_area = areas[3]+areas[-3]\n",
    "\n",
    "# Print the variable eat_sleep_area\n",
    "print(eat_sleep_area)"
   ]
  },
  {
   "cell_type": "code",
   "execution_count": 12,
   "id": "d4db4ef4-2d8a-4830-a1d7-5c06e10c6bc9",
   "metadata": {},
   "outputs": [
    {
     "name": "stdout",
     "output_type": "stream",
     "text": [
      "['hallway', 11.25, 'kitchen', 18.0, 'living room', 20.0]\n",
      "['bedroom', 10.75, 'bathroom', 9.5]\n"
     ]
    }
   ],
   "source": [
    "# Create the areas list\n",
    "areas = [\"hallway\", 11.25, \"kitchen\", 18.0, \"living room\", 20.0, \"bedroom\", 10.75, \"bathroom\", 9.50]\n",
    "\n",
    "# Use slicing to create downstairs\n",
    "downstairs =areas[:6]\n",
    "\n",
    "# Use slicing to create upstairs\n",
    "upstairs =areas[-4:]\n",
    "\n",
    "# Print out downstairs and upstairs\n",
    "print(downstairs)\n",
    "print(upstairs)"
   ]
  },
  {
   "cell_type": "code",
   "execution_count": 17,
   "id": "96b2fb14-7782-4d5a-9e7d-18e300184e91",
   "metadata": {},
   "outputs": [
    {
     "data": {
      "text/plain": [
       "['g', 'h', 'i', 'd', 'e', 'f']"
      ]
     },
     "execution_count": 17,
     "metadata": {},
     "output_type": "execute_result"
    }
   ],
   "source": [
    "x = [[\"a\", \"b\", \"c\"],\n",
    "     [\"d\", \"e\", \"f\"],\n",
    "     [\"g\", \"h\", \"i\"]]\n",
    "\n",
    "x[2][:4] + x[1][:3]"
   ]
  },
  {
   "cell_type": "markdown",
   "id": "49461ce4-3f92-4a96-b748-fcf7574d3d07",
   "metadata": {},
   "source": [
    "List Manipulation\n"
   ]
  }
 ],
 "metadata": {
  "kernelspec": {
   "display_name": "Python 3",
   "language": "python",
   "name": "python3"
  },
  "language_info": {
   "codemirror_mode": {
    "name": "ipython",
    "version": 3
   },
   "file_extension": ".py",
   "mimetype": "text/x-python",
   "name": "python",
   "nbconvert_exporter": "python",
   "pygments_lexer": "ipython3",
   "version": "3.8.3"
  }
 },
 "nbformat": 4,
 "nbformat_minor": 5
}
