{
 "cells": [
  {
   "cell_type": "code",
   "execution_count": 1,
   "id": "e4cd6768-1360-45cd-bee7-dff9c4a9d658",
   "metadata": {},
   "outputs": [
    {
     "name": "stdout",
     "output_type": "stream",
     "text": [
      "Requirement already satisfied: jupyterlab in /Users/tiatitisari/opt/anaconda3/lib/python3.8/site-packages (4.0.3)\n",
      "Requirement already satisfied: jupyterlab-git in /Users/tiatitisari/opt/anaconda3/lib/python3.8/site-packages (0.41.0)\n",
      "Requirement already satisfied: packaging in /Users/tiatitisari/opt/anaconda3/lib/python3.8/site-packages (from jupyterlab) (21.3)\n",
      "Requirement already satisfied: jupyter-server<3,>=2.4.0 in /Users/tiatitisari/opt/anaconda3/lib/python3.8/site-packages (from jupyterlab) (2.7.0)\n",
      "Requirement already satisfied: importlib-metadata>=4.8.3 in /Users/tiatitisari/opt/anaconda3/lib/python3.8/site-packages (from jupyterlab) (6.8.0)\n",
      "Requirement already satisfied: jupyter-core in /Users/tiatitisari/opt/anaconda3/lib/python3.8/site-packages (from jupyterlab) (5.3.1)\n",
      "Requirement already satisfied: notebook-shim>=0.2 in /Users/tiatitisari/opt/anaconda3/lib/python3.8/site-packages (from jupyterlab) (0.2.3)\n",
      "Requirement already satisfied: jupyter-lsp>=2.0.0 in /Users/tiatitisari/opt/anaconda3/lib/python3.8/site-packages (from jupyterlab) (2.2.0)\n",
      "Requirement already satisfied: tornado>=6.2.0 in /Users/tiatitisari/opt/anaconda3/lib/python3.8/site-packages (from jupyterlab) (6.3.2)\n",
      "Requirement already satisfied: jupyterlab-server<3,>=2.19.0 in /Users/tiatitisari/opt/anaconda3/lib/python3.8/site-packages (from jupyterlab) (2.23.0)\n",
      "Requirement already satisfied: importlib-resources>=1.4 in /Users/tiatitisari/opt/anaconda3/lib/python3.8/site-packages (from jupyterlab) (6.0.0)\n",
      "Requirement already satisfied: jinja2>=3.0.3 in /Users/tiatitisari/opt/anaconda3/lib/python3.8/site-packages (from jupyterlab) (3.1.2)\n",
      "Requirement already satisfied: tomli in /Users/tiatitisari/opt/anaconda3/lib/python3.8/site-packages (from jupyterlab) (2.0.1)\n",
      "Requirement already satisfied: async-lru>=1.0.0 in /Users/tiatitisari/opt/anaconda3/lib/python3.8/site-packages (from jupyterlab) (2.0.3)\n",
      "Requirement already satisfied: traitlets in /Users/tiatitisari/opt/anaconda3/lib/python3.8/site-packages (from jupyterlab) (5.9.0)\n",
      "Requirement already satisfied: ipykernel in /Users/tiatitisari/opt/anaconda3/lib/python3.8/site-packages (from jupyterlab) (5.3.2)\n",
      "Requirement already satisfied: pexpect in /Users/tiatitisari/opt/anaconda3/lib/python3.8/site-packages (from jupyterlab-git) (4.8.0)\n",
      "Requirement already satisfied: nbdime~=3.1 in /Users/tiatitisari/opt/anaconda3/lib/python3.8/site-packages (from jupyterlab-git) (3.2.1)\n",
      "Requirement already satisfied: nbformat in /Users/tiatitisari/opt/anaconda3/lib/python3.8/site-packages (from jupyterlab-git) (5.9.1)\n",
      "Requirement already satisfied: typing-extensions>=4.0.0 in /Users/tiatitisari/opt/anaconda3/lib/python3.8/site-packages (from async-lru>=1.0.0->jupyterlab) (4.7.1)\n",
      "Requirement already satisfied: zipp>=0.5 in /Users/tiatitisari/opt/anaconda3/lib/python3.8/site-packages (from importlib-metadata>=4.8.3->jupyterlab) (3.1.0)\n",
      "Requirement already satisfied: MarkupSafe>=2.0 in /Users/tiatitisari/opt/anaconda3/lib/python3.8/site-packages (from jinja2>=3.0.3->jupyterlab) (2.1.3)\n",
      "Requirement already satisfied: prometheus-client in /Users/tiatitisari/opt/anaconda3/lib/python3.8/site-packages (from jupyter-server<3,>=2.4.0->jupyterlab) (0.8.0)\n",
      "Requirement already satisfied: jupyter-events>=0.6.0 in /Users/tiatitisari/opt/anaconda3/lib/python3.8/site-packages (from jupyter-server<3,>=2.4.0->jupyterlab) (0.6.3)\n",
      "Requirement already satisfied: anyio>=3.1.0 in /Users/tiatitisari/opt/anaconda3/lib/python3.8/site-packages (from jupyter-server<3,>=2.4.0->jupyterlab) (3.4.0)\n",
      "Requirement already satisfied: websocket-client in /Users/tiatitisari/opt/anaconda3/lib/python3.8/site-packages (from jupyter-server<3,>=2.4.0->jupyterlab) (1.2.3)\n",
      "Requirement already satisfied: jupyter-server-terminals in /Users/tiatitisari/opt/anaconda3/lib/python3.8/site-packages (from jupyter-server<3,>=2.4.0->jupyterlab) (0.4.4)\n",
      "Requirement already satisfied: jupyter-client>=7.4.4 in /Users/tiatitisari/opt/anaconda3/lib/python3.8/site-packages (from jupyter-server<3,>=2.4.0->jupyterlab) (8.3.0)\n",
      "Requirement already satisfied: overrides in /Users/tiatitisari/opt/anaconda3/lib/python3.8/site-packages (from jupyter-server<3,>=2.4.0->jupyterlab) (7.3.1)\n",
      "Requirement already satisfied: pyzmq>=24 in /Users/tiatitisari/opt/anaconda3/lib/python3.8/site-packages (from jupyter-server<3,>=2.4.0->jupyterlab) (25.1.0)\n",
      "Requirement already satisfied: send2trash in /Users/tiatitisari/opt/anaconda3/lib/python3.8/site-packages (from jupyter-server<3,>=2.4.0->jupyterlab) (1.5.0)\n",
      "Requirement already satisfied: argon2-cffi in /Users/tiatitisari/opt/anaconda3/lib/python3.8/site-packages (from jupyter-server<3,>=2.4.0->jupyterlab) (21.1.0)\n",
      "Requirement already satisfied: nbconvert>=6.4.4 in /Users/tiatitisari/opt/anaconda3/lib/python3.8/site-packages (from jupyter-server<3,>=2.4.0->jupyterlab) (7.7.2)\n",
      "Requirement already satisfied: terminado>=0.8.3 in /Users/tiatitisari/opt/anaconda3/lib/python3.8/site-packages (from jupyter-server<3,>=2.4.0->jupyterlab) (0.8.3)\n",
      "Requirement already satisfied: platformdirs>=2.5 in /Users/tiatitisari/opt/anaconda3/lib/python3.8/site-packages (from jupyter-core->jupyterlab) (3.9.1)\n",
      "Requirement already satisfied: requests>=2.28 in /Users/tiatitisari/opt/anaconda3/lib/python3.8/site-packages (from jupyterlab-server<3,>=2.19.0->jupyterlab) (2.31.0)\n",
      "Requirement already satisfied: babel>=2.10 in /Users/tiatitisari/opt/anaconda3/lib/python3.8/site-packages (from jupyterlab-server<3,>=2.19.0->jupyterlab) (2.12.1)\n",
      "Requirement already satisfied: json5>=0.9.0 in /Users/tiatitisari/opt/anaconda3/lib/python3.8/site-packages (from jupyterlab-server<3,>=2.19.0->jupyterlab) (0.9.5)\n",
      "Requirement already satisfied: jsonschema>=4.17.3 in /Users/tiatitisari/opt/anaconda3/lib/python3.8/site-packages (from jupyterlab-server<3,>=2.19.0->jupyterlab) (4.18.4)\n",
      "Requirement already satisfied: colorama in /Users/tiatitisari/opt/anaconda3/lib/python3.8/site-packages (from nbdime~=3.1->jupyterlab-git) (0.4.3)\n",
      "Requirement already satisfied: jupyter-server-mathjax>=0.2.2 in /Users/tiatitisari/opt/anaconda3/lib/python3.8/site-packages (from nbdime~=3.1->jupyterlab-git) (0.2.6)\n",
      "Requirement already satisfied: pygments in /Users/tiatitisari/opt/anaconda3/lib/python3.8/site-packages (from nbdime~=3.1->jupyterlab-git) (2.6.1)\n",
      "Requirement already satisfied: GitPython!=2.1.4,!=2.1.5,!=2.1.6 in /Users/tiatitisari/opt/anaconda3/lib/python3.8/site-packages (from nbdime~=3.1->jupyterlab-git) (3.1.32)\n",
      "Requirement already satisfied: fastjsonschema in /Users/tiatitisari/opt/anaconda3/lib/python3.8/site-packages (from nbformat->jupyterlab-git) (2.17.1)\n",
      "Requirement already satisfied: pyparsing!=3.0.5,>=2.0.2 in /Users/tiatitisari/opt/anaconda3/lib/python3.8/site-packages (from packaging->jupyterlab) (2.4.7)\n",
      "Requirement already satisfied: ipython>=5.0.0 in /Users/tiatitisari/opt/anaconda3/lib/python3.8/site-packages (from ipykernel->jupyterlab) (7.16.1)\n",
      "Requirement already satisfied: appnope in /Users/tiatitisari/opt/anaconda3/lib/python3.8/site-packages (from ipykernel->jupyterlab) (0.1.0)\n",
      "Requirement already satisfied: ptyprocess>=0.5 in /Users/tiatitisari/opt/anaconda3/lib/python3.8/site-packages (from pexpect->jupyterlab-git) (0.6.0)\n",
      "Requirement already satisfied: sniffio>=1.1 in /Users/tiatitisari/opt/anaconda3/lib/python3.8/site-packages (from anyio>=3.1.0->jupyter-server<3,>=2.4.0->jupyterlab) (1.2.0)\n",
      "Requirement already satisfied: idna>=2.8 in /Users/tiatitisari/opt/anaconda3/lib/python3.8/site-packages (from anyio>=3.1.0->jupyter-server<3,>=2.4.0->jupyterlab) (2.10)\n",
      "Requirement already satisfied: pytz>=2015.7 in /Users/tiatitisari/opt/anaconda3/lib/python3.8/site-packages (from babel>=2.10->jupyterlab-server<3,>=2.19.0->jupyterlab) (2020.1)\n",
      "Requirement already satisfied: gitdb<5,>=4.0.1 in /Users/tiatitisari/opt/anaconda3/lib/python3.8/site-packages (from GitPython!=2.1.4,!=2.1.5,!=2.1.6->nbdime~=3.1->jupyterlab-git) (4.0.10)\n",
      "Requirement already satisfied: jedi>=0.10 in /Users/tiatitisari/opt/anaconda3/lib/python3.8/site-packages (from ipython>=5.0.0->ipykernel->jupyterlab) (0.17.1)\n",
      "Requirement already satisfied: backcall in /Users/tiatitisari/opt/anaconda3/lib/python3.8/site-packages (from ipython>=5.0.0->ipykernel->jupyterlab) (0.2.0)\n",
      "Requirement already satisfied: setuptools>=18.5 in /Users/tiatitisari/opt/anaconda3/lib/python3.8/site-packages (from ipython>=5.0.0->ipykernel->jupyterlab) (49.2.0.post20200714)\n",
      "Requirement already satisfied: prompt-toolkit!=3.0.0,!=3.0.1,<3.1.0,>=2.0.0 in /Users/tiatitisari/opt/anaconda3/lib/python3.8/site-packages (from ipython>=5.0.0->ipykernel->jupyterlab) (3.0.5)\n",
      "Requirement already satisfied: decorator in /Users/tiatitisari/opt/anaconda3/lib/python3.8/site-packages (from ipython>=5.0.0->ipykernel->jupyterlab) (4.4.2)\n",
      "Requirement already satisfied: pickleshare in /Users/tiatitisari/opt/anaconda3/lib/python3.8/site-packages (from ipython>=5.0.0->ipykernel->jupyterlab) (0.7.5)\n",
      "Requirement already satisfied: pkgutil-resolve-name>=1.3.10 in /Users/tiatitisari/opt/anaconda3/lib/python3.8/site-packages (from jsonschema>=4.17.3->jupyterlab-server<3,>=2.19.0->jupyterlab) (1.3.10)\n",
      "Requirement already satisfied: jsonschema-specifications>=2023.03.6 in /Users/tiatitisari/opt/anaconda3/lib/python3.8/site-packages (from jsonschema>=4.17.3->jupyterlab-server<3,>=2.19.0->jupyterlab) (2023.7.1)\n",
      "Requirement already satisfied: rpds-py>=0.7.1 in /Users/tiatitisari/opt/anaconda3/lib/python3.8/site-packages (from jsonschema>=4.17.3->jupyterlab-server<3,>=2.19.0->jupyterlab) (0.9.2)\n",
      "Requirement already satisfied: attrs>=22.2.0 in /Users/tiatitisari/opt/anaconda3/lib/python3.8/site-packages (from jsonschema>=4.17.3->jupyterlab-server<3,>=2.19.0->jupyterlab) (23.1.0)\n",
      "Requirement already satisfied: referencing>=0.28.4 in /Users/tiatitisari/opt/anaconda3/lib/python3.8/site-packages (from jsonschema>=4.17.3->jupyterlab-server<3,>=2.19.0->jupyterlab) (0.30.0)\n",
      "Requirement already satisfied: python-dateutil>=2.8.2 in /Users/tiatitisari/opt/anaconda3/lib/python3.8/site-packages (from jupyter-client>=7.4.4->jupyter-server<3,>=2.4.0->jupyterlab) (2.8.2)\n",
      "Requirement already satisfied: rfc3339-validator in /Users/tiatitisari/opt/anaconda3/lib/python3.8/site-packages (from jupyter-events>=0.6.0->jupyter-server<3,>=2.4.0->jupyterlab) (0.1.4)\n",
      "Requirement already satisfied: rfc3986-validator>=0.1.1 in /Users/tiatitisari/opt/anaconda3/lib/python3.8/site-packages (from jupyter-events>=0.6.0->jupyter-server<3,>=2.4.0->jupyterlab) (0.1.1)\n",
      "Requirement already satisfied: python-json-logger>=2.0.4 in /Users/tiatitisari/opt/anaconda3/lib/python3.8/site-packages (from jupyter-events>=0.6.0->jupyter-server<3,>=2.4.0->jupyterlab) (2.0.7)\n",
      "Requirement already satisfied: pyyaml>=5.3 in /Users/tiatitisari/opt/anaconda3/lib/python3.8/site-packages (from jupyter-events>=0.6.0->jupyter-server<3,>=2.4.0->jupyterlab) (5.3.1)\n",
      "Requirement already satisfied: pandocfilters>=1.4.1 in /Users/tiatitisari/opt/anaconda3/lib/python3.8/site-packages (from nbconvert>=6.4.4->jupyter-server<3,>=2.4.0->jupyterlab) (1.4.2)\n",
      "Requirement already satisfied: mistune<4,>=2.0.3 in /Users/tiatitisari/opt/anaconda3/lib/python3.8/site-packages (from nbconvert>=6.4.4->jupyter-server<3,>=2.4.0->jupyterlab) (3.0.1)\n",
      "Requirement already satisfied: jupyterlab-pygments in /Users/tiatitisari/opt/anaconda3/lib/python3.8/site-packages (from nbconvert>=6.4.4->jupyter-server<3,>=2.4.0->jupyterlab) (0.2.2)\n",
      "Requirement already satisfied: defusedxml in /Users/tiatitisari/opt/anaconda3/lib/python3.8/site-packages (from nbconvert>=6.4.4->jupyter-server<3,>=2.4.0->jupyterlab) (0.6.0)\n",
      "Requirement already satisfied: tinycss2 in /Users/tiatitisari/opt/anaconda3/lib/python3.8/site-packages (from nbconvert>=6.4.4->jupyter-server<3,>=2.4.0->jupyterlab) (1.2.1)\n",
      "Requirement already satisfied: nbclient>=0.5.0 in /Users/tiatitisari/opt/anaconda3/lib/python3.8/site-packages (from nbconvert>=6.4.4->jupyter-server<3,>=2.4.0->jupyterlab) (0.8.0)\n",
      "Requirement already satisfied: beautifulsoup4 in /Users/tiatitisari/opt/anaconda3/lib/python3.8/site-packages (from nbconvert>=6.4.4->jupyter-server<3,>=2.4.0->jupyterlab) (4.9.1)\n",
      "Requirement already satisfied: bleach!=5.0.0 in /Users/tiatitisari/opt/anaconda3/lib/python3.8/site-packages (from nbconvert>=6.4.4->jupyter-server<3,>=2.4.0->jupyterlab) (3.1.5)\n",
      "Requirement already satisfied: certifi>=2017.4.17 in /Users/tiatitisari/opt/anaconda3/lib/python3.8/site-packages (from requests>=2.28->jupyterlab-server<3,>=2.19.0->jupyterlab) (2020.12.5)\n",
      "Requirement already satisfied: charset-normalizer<4,>=2 in /Users/tiatitisari/opt/anaconda3/lib/python3.8/site-packages (from requests>=2.28->jupyterlab-server<3,>=2.19.0->jupyterlab) (2.0.9)\n",
      "Requirement already satisfied: urllib3<3,>=1.21.1 in /Users/tiatitisari/opt/anaconda3/lib/python3.8/site-packages (from requests>=2.28->jupyterlab-server<3,>=2.19.0->jupyterlab) (1.25.9)\n",
      "Requirement already satisfied: cffi>=1.0.0 in /Users/tiatitisari/opt/anaconda3/lib/python3.8/site-packages (from argon2-cffi->jupyter-server<3,>=2.4.0->jupyterlab) (1.14.0)\n",
      "Requirement already satisfied: webencodings in /Users/tiatitisari/opt/anaconda3/lib/python3.8/site-packages (from bleach!=5.0.0->nbconvert>=6.4.4->jupyter-server<3,>=2.4.0->jupyterlab) (0.5.1)\n",
      "Requirement already satisfied: six>=1.9.0 in /Users/tiatitisari/opt/anaconda3/lib/python3.8/site-packages (from bleach!=5.0.0->nbconvert>=6.4.4->jupyter-server<3,>=2.4.0->jupyterlab) (1.15.0)\n",
      "Requirement already satisfied: pycparser in /Users/tiatitisari/opt/anaconda3/lib/python3.8/site-packages (from cffi>=1.0.0->argon2-cffi->jupyter-server<3,>=2.4.0->jupyterlab) (2.20)\n",
      "Requirement already satisfied: smmap<6,>=3.0.1 in /Users/tiatitisari/opt/anaconda3/lib/python3.8/site-packages (from gitdb<5,>=4.0.1->GitPython!=2.1.4,!=2.1.5,!=2.1.6->nbdime~=3.1->jupyterlab-git) (5.0.0)\n",
      "Requirement already satisfied: parso<0.8.0,>=0.7.0 in /Users/tiatitisari/opt/anaconda3/lib/python3.8/site-packages (from jedi>=0.10->ipython>=5.0.0->ipykernel->jupyterlab) (0.7.0)\n",
      "Requirement already satisfied: jsonpointer>1.13 in /Users/tiatitisari/opt/anaconda3/lib/python3.8/site-packages (from jsonschema>=4.17.3->jupyterlab-server<3,>=2.19.0->jupyterlab) (2.4)\n",
      "Requirement already satisfied: uri-template in /Users/tiatitisari/opt/anaconda3/lib/python3.8/site-packages (from jsonschema>=4.17.3->jupyterlab-server<3,>=2.19.0->jupyterlab) (1.3.0)\n",
      "Requirement already satisfied: isoduration in /Users/tiatitisari/opt/anaconda3/lib/python3.8/site-packages (from jsonschema>=4.17.3->jupyterlab-server<3,>=2.19.0->jupyterlab) (20.11.0)\n",
      "Requirement already satisfied: fqdn in /Users/tiatitisari/opt/anaconda3/lib/python3.8/site-packages (from jsonschema>=4.17.3->jupyterlab-server<3,>=2.19.0->jupyterlab) (1.5.1)\n",
      "Requirement already satisfied: webcolors>=1.11 in /Users/tiatitisari/opt/anaconda3/lib/python3.8/site-packages (from jsonschema>=4.17.3->jupyterlab-server<3,>=2.19.0->jupyterlab) (1.13)\n",
      "Requirement already satisfied: wcwidth in /Users/tiatitisari/opt/anaconda3/lib/python3.8/site-packages (from prompt-toolkit!=3.0.0,!=3.0.1,<3.1.0,>=2.0.0->ipython>=5.0.0->ipykernel->jupyterlab) (0.2.5)\n",
      "Requirement already satisfied: soupsieve>1.2 in /Users/tiatitisari/opt/anaconda3/lib/python3.8/site-packages (from beautifulsoup4->nbconvert>=6.4.4->jupyter-server<3,>=2.4.0->jupyterlab) (2.0.1)\n",
      "Requirement already satisfied: arrow>=0.15.0 in /Users/tiatitisari/opt/anaconda3/lib/python3.8/site-packages (from isoduration->jsonschema>=4.17.3->jupyterlab-server<3,>=2.19.0->jupyterlab) (1.2.3)\n",
      "\u001b[33mWARNING: You are using pip version 21.3.1; however, version 23.2 is available.\n",
      "You should consider upgrading via the '/Users/tiatitisari/opt/anaconda3/bin/python -m pip install --upgrade pip' command.\u001b[0m\n",
      "Note: you may need to restart the kernel to use updated packages.\n"
     ]
    }
   ],
   "source": [
    "pip install --upgrade jupyterlab jupyterlab-git"
   ]
  },
  {
   "cell_type": "code",
   "execution_count": 2,
   "id": "9d1c4029-bb4b-4632-bb6a-058ce9cdd270",
   "metadata": {},
   "outputs": [
    {
     "ename": "SyntaxError",
     "evalue": "invalid syntax (<ipython-input-2-14f55121cff0>, line 1)",
     "output_type": "error",
     "traceback": [
      "\u001b[0;36m  File \u001b[0;32m\"<ipython-input-2-14f55121cff0>\"\u001b[0;36m, line \u001b[0;32m1\u001b[0m\n\u001b[0;31m    jupyter lab build\u001b[0m\n\u001b[0m            ^\u001b[0m\n\u001b[0;31mSyntaxError\u001b[0m\u001b[0;31m:\u001b[0m invalid syntax\n"
     ]
    }
   ],
   "source": [
    "jupyter lab build\n"
   ]
  },
  {
   "cell_type": "code",
   "execution_count": 3,
   "id": "af7214f7-b07c-4c31-a8b8-2aae467f3b51",
   "metadata": {},
   "outputs": [
    {
     "ename": "SyntaxError",
     "evalue": "invalid syntax (<ipython-input-3-14f55121cff0>, line 1)",
     "output_type": "error",
     "traceback": [
      "\u001b[0;36m  File \u001b[0;32m\"<ipython-input-3-14f55121cff0>\"\u001b[0;36m, line \u001b[0;32m1\u001b[0m\n\u001b[0;31m    jupyter lab build\u001b[0m\n\u001b[0m            ^\u001b[0m\n\u001b[0;31mSyntaxError\u001b[0m\u001b[0;31m:\u001b[0m invalid syntax\n"
     ]
    }
   ],
   "source": [
    "jupyter lab build"
   ]
  },
  {
   "cell_type": "code",
   "execution_count": null,
   "id": "9c74b83f-75bf-4104-910c-addd9a88ed6b",
   "metadata": {},
   "outputs": [],
   "source": []
  }
 ],
 "metadata": {
  "kernelspec": {
   "display_name": "Python 3",
   "language": "python",
   "name": "python3"
  },
  "language_info": {
   "codemirror_mode": {
    "name": "ipython",
    "version": 3
   },
   "file_extension": ".py",
   "mimetype": "text/x-python",
   "name": "python",
   "nbconvert_exporter": "python",
   "pygments_lexer": "ipython3",
   "version": "3.8.3"
  }
 },
 "nbformat": 4,
 "nbformat_minor": 5
}
